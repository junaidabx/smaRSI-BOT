{
 "cells": [
  {
   "cell_type": "code",
   "execution_count": 1,
   "id": "b4c9246e",
   "metadata": {
    "id": "b4c9246e"
   },
   "outputs": [],
   "source": [
    "# import pandas_ta as ta\n",
    "import ta\n",
    "import pandas as pd\n",
    "import numpy as np\n",
    "from datetime import datetime\n",
    "import main_functions\n",
    "import plotly.graph_objects as go\n",
    "import warnings\n",
    "\n",
    "warnings.filterwarnings(\"ignore\", category=FutureWarning)"
   ]
  },
  {
   "cell_type": "code",
   "execution_count": 2,
   "id": "eecdfd20",
   "metadata": {},
   "outputs": [],
   "source": [
    "import importlib\n",
    "# If you want to update the module:\n",
    "importlib.reload(main_functions)\n",
    "from main_functions import *"
   ]
  },
  {
   "cell_type": "code",
   "execution_count": 3,
   "id": "d0aa1537",
   "metadata": {},
   "outputs": [],
   "source": [
    "pd.set_option('display.max_rows', 400)  # Set the maximum number of rows to display"
   ]
  },
  {
   "cell_type": "markdown",
   "id": "17ae3a14",
   "metadata": {},
   "source": [
    "# Defining the variables"
   ]
  },
  {
   "cell_type": "code",
   "execution_count": 101,
   "id": "4b64dea7",
   "metadata": {},
   "outputs": [],
   "source": [
    "ticker = \"BTCUSDT\"\n",
    "# timeframe = \"1h\"\n",
    "# start = \"2023-01-01\"\n",
    "timeframe = \"1d\"\n",
    "start = \"2019-09-08\"\n",
    "start_date = datetime.strptime(start, \"%Y-%m-%d\")\n",
    "end = str(datetime.now())\n",
    "# Calculate the difference in days\n",
    "day = (datetime.now() - start_date).days\n",
    "\n",
    "# OTHER PARAMETERS\n",
    "fast_ma_period=18\n",
    "slow_ma_period=75\n",
    "rsi_period=14\n",
    "\n",
    "sl_perc= 5 * 0.01\n",
    "tp_perc= 8 * 0.01"
   ]
  },
  {
   "cell_type": "code",
   "execution_count": 102,
   "id": "5f33644c",
   "metadata": {},
   "outputs": [
    {
     "data": {
      "text/html": [
       "<div>\n",
       "<style scoped>\n",
       "    .dataframe tbody tr th:only-of-type {\n",
       "        vertical-align: middle;\n",
       "    }\n",
       "\n",
       "    .dataframe tbody tr th {\n",
       "        vertical-align: top;\n",
       "    }\n",
       "\n",
       "    .dataframe thead th {\n",
       "        text-align: right;\n",
       "    }\n",
       "</style>\n",
       "<table border=\"1\" class=\"dataframe\">\n",
       "  <thead>\n",
       "    <tr style=\"text-align: right;\">\n",
       "      <th></th>\n",
       "      <th>Open</th>\n",
       "      <th>High</th>\n",
       "      <th>Low</th>\n",
       "      <th>Close</th>\n",
       "      <th>Volume</th>\n",
       "    </tr>\n",
       "    <tr>\n",
       "      <th>timestamp</th>\n",
       "      <th></th>\n",
       "      <th></th>\n",
       "      <th></th>\n",
       "      <th></th>\n",
       "      <th></th>\n",
       "    </tr>\n",
       "  </thead>\n",
       "  <tbody>\n",
       "    <tr>\n",
       "      <th>2019-09-08</th>\n",
       "      <td>10000.00</td>\n",
       "      <td>10412.65</td>\n",
       "      <td>10000.00</td>\n",
       "      <td>10391.63</td>\n",
       "      <td>3096.291</td>\n",
       "    </tr>\n",
       "    <tr>\n",
       "      <th>2019-09-09</th>\n",
       "      <td>10316.62</td>\n",
       "      <td>10475.54</td>\n",
       "      <td>10077.22</td>\n",
       "      <td>10307.00</td>\n",
       "      <td>14824.373</td>\n",
       "    </tr>\n",
       "    <tr>\n",
       "      <th>2019-09-10</th>\n",
       "      <td>10307.00</td>\n",
       "      <td>10382.97</td>\n",
       "      <td>9940.87</td>\n",
       "      <td>10102.02</td>\n",
       "      <td>9068.955</td>\n",
       "    </tr>\n",
       "    <tr>\n",
       "      <th>2019-09-11</th>\n",
       "      <td>10094.27</td>\n",
       "      <td>10293.11</td>\n",
       "      <td>9884.31</td>\n",
       "      <td>10159.55</td>\n",
       "      <td>10897.922</td>\n",
       "    </tr>\n",
       "    <tr>\n",
       "      <th>2019-09-12</th>\n",
       "      <td>10163.06</td>\n",
       "      <td>10450.13</td>\n",
       "      <td>10042.12</td>\n",
       "      <td>10415.13</td>\n",
       "      <td>15609.634</td>\n",
       "    </tr>\n",
       "    <tr>\n",
       "      <th>...</th>\n",
       "      <td>...</td>\n",
       "      <td>...</td>\n",
       "      <td>...</td>\n",
       "      <td>...</td>\n",
       "      <td>...</td>\n",
       "    </tr>\n",
       "    <tr>\n",
       "      <th>2023-10-22</th>\n",
       "      <td>29895.40</td>\n",
       "      <td>30229.70</td>\n",
       "      <td>29606.60</td>\n",
       "      <td>29981.50</td>\n",
       "      <td>198602.758</td>\n",
       "    </tr>\n",
       "    <tr>\n",
       "      <th>2023-10-23</th>\n",
       "      <td>29981.40</td>\n",
       "      <td>35981.90</td>\n",
       "      <td>29869.40</td>\n",
       "      <td>33074.00</td>\n",
       "      <td>987741.536</td>\n",
       "    </tr>\n",
       "    <tr>\n",
       "      <th>2023-10-24</th>\n",
       "      <td>33074.00</td>\n",
       "      <td>35300.00</td>\n",
       "      <td>32833.50</td>\n",
       "      <td>33917.00</td>\n",
       "      <td>921993.063</td>\n",
       "    </tr>\n",
       "    <tr>\n",
       "      <th>2023-10-25</th>\n",
       "      <td>33917.00</td>\n",
       "      <td>35154.30</td>\n",
       "      <td>33660.60</td>\n",
       "      <td>34487.70</td>\n",
       "      <td>465367.144</td>\n",
       "    </tr>\n",
       "    <tr>\n",
       "      <th>2023-10-26</th>\n",
       "      <td>34487.80</td>\n",
       "      <td>34828.70</td>\n",
       "      <td>33750.00</td>\n",
       "      <td>34090.00</td>\n",
       "      <td>325945.252</td>\n",
       "    </tr>\n",
       "  </tbody>\n",
       "</table>\n",
       "<p>1510 rows × 5 columns</p>\n",
       "</div>"
      ],
      "text/plain": [
       "                Open      High       Low     Close      Volume\n",
       "timestamp                                                     \n",
       "2019-09-08  10000.00  10412.65  10000.00  10391.63    3096.291\n",
       "2019-09-09  10316.62  10475.54  10077.22  10307.00   14824.373\n",
       "2019-09-10  10307.00  10382.97   9940.87  10102.02    9068.955\n",
       "2019-09-11  10094.27  10293.11   9884.31  10159.55   10897.922\n",
       "2019-09-12  10163.06  10450.13  10042.12  10415.13   15609.634\n",
       "...              ...       ...       ...       ...         ...\n",
       "2023-10-22  29895.40  30229.70  29606.60  29981.50  198602.758\n",
       "2023-10-23  29981.40  35981.90  29869.40  33074.00  987741.536\n",
       "2023-10-24  33074.00  35300.00  32833.50  33917.00  921993.063\n",
       "2023-10-25  33917.00  35154.30  33660.60  34487.70  465367.144\n",
       "2023-10-26  34487.80  34828.70  33750.00  34090.00  325945.252\n",
       "\n",
       "[1510 rows x 5 columns]"
      ]
     },
     "execution_count": 102,
     "metadata": {},
     "output_type": "execute_result"
    }
   ],
   "source": [
    "df = getdata(ticker, timeframe, day)\n",
    "df"
   ]
  },
  {
   "cell_type": "code",
   "execution_count": 95,
   "id": "a1ff197e",
   "metadata": {},
   "outputs": [],
   "source": [
    "# Define the function for the trading strategy\n",
    "def getSignals(df, fast_ma_period=20, slow_ma_period=50, rsi_period=14):\n",
    "    # df = getdata(ticker, timeframe)  # Assuming you have a getdata function that fetches the data\n",
    "\n",
    "    # Calculate the moving averages\n",
    "    df['shifted_open'] = df.Open.shift(-1)\n",
    "    df['Fast_MA'] = ta.trend.sma_indicator(df['Close'], window=fast_ma_period)\n",
    "    df['Slow_MA'] = ta.trend.sma_indicator(df['Close'], window=slow_ma_period)\n",
    "    # Calculate the RSI\n",
    "    rsi = ta.momentum.RSIIndicator(df['Close'], window=rsi_period)\n",
    "    df['RSI'] = rsi.rsi()\n",
    "\n",
    "    df['buySignal'] = np.where(\n",
    "        (df['Fast_MA'] > df['Slow_MA']) &\n",
    "        (df['Fast_MA'].shift(1) <= df['Slow_MA'].shift(1)) &\n",
    "        (df['RSI'] > 50),\n",
    "        1,\n",
    "        0\n",
    "    )\n",
    "    \n",
    "    return df"
   ]
  },
  {
   "cell_type": "code",
   "execution_count": 103,
   "id": "c4e3c62c",
   "metadata": {},
   "outputs": [
    {
     "data": {
      "text/html": [
       "<div>\n",
       "<style scoped>\n",
       "    .dataframe tbody tr th:only-of-type {\n",
       "        vertical-align: middle;\n",
       "    }\n",
       "\n",
       "    .dataframe tbody tr th {\n",
       "        vertical-align: top;\n",
       "    }\n",
       "\n",
       "    .dataframe thead th {\n",
       "        text-align: right;\n",
       "    }\n",
       "</style>\n",
       "<table border=\"1\" class=\"dataframe\">\n",
       "  <thead>\n",
       "    <tr style=\"text-align: right;\">\n",
       "      <th></th>\n",
       "      <th>Open</th>\n",
       "      <th>High</th>\n",
       "      <th>Low</th>\n",
       "      <th>Close</th>\n",
       "      <th>Volume</th>\n",
       "      <th>shifted_open</th>\n",
       "      <th>Fast_MA</th>\n",
       "      <th>Slow_MA</th>\n",
       "      <th>RSI</th>\n",
       "      <th>buySignal</th>\n",
       "    </tr>\n",
       "    <tr>\n",
       "      <th>timestamp</th>\n",
       "      <th></th>\n",
       "      <th></th>\n",
       "      <th></th>\n",
       "      <th></th>\n",
       "      <th></th>\n",
       "      <th></th>\n",
       "      <th></th>\n",
       "      <th></th>\n",
       "      <th></th>\n",
       "      <th></th>\n",
       "    </tr>\n",
       "  </thead>\n",
       "  <tbody>\n",
       "    <tr>\n",
       "      <th>2019-09-08</th>\n",
       "      <td>10000.00</td>\n",
       "      <td>10412.65</td>\n",
       "      <td>10000.00</td>\n",
       "      <td>10391.63</td>\n",
       "      <td>3096.291</td>\n",
       "      <td>10316.62</td>\n",
       "      <td>NaN</td>\n",
       "      <td>NaN</td>\n",
       "      <td>NaN</td>\n",
       "      <td>0</td>\n",
       "    </tr>\n",
       "    <tr>\n",
       "      <th>2019-09-09</th>\n",
       "      <td>10316.62</td>\n",
       "      <td>10475.54</td>\n",
       "      <td>10077.22</td>\n",
       "      <td>10307.00</td>\n",
       "      <td>14824.373</td>\n",
       "      <td>10307.00</td>\n",
       "      <td>NaN</td>\n",
       "      <td>NaN</td>\n",
       "      <td>NaN</td>\n",
       "      <td>0</td>\n",
       "    </tr>\n",
       "    <tr>\n",
       "      <th>2019-09-10</th>\n",
       "      <td>10307.00</td>\n",
       "      <td>10382.97</td>\n",
       "      <td>9940.87</td>\n",
       "      <td>10102.02</td>\n",
       "      <td>9068.955</td>\n",
       "      <td>10094.27</td>\n",
       "      <td>NaN</td>\n",
       "      <td>NaN</td>\n",
       "      <td>NaN</td>\n",
       "      <td>0</td>\n",
       "    </tr>\n",
       "    <tr>\n",
       "      <th>2019-09-11</th>\n",
       "      <td>10094.27</td>\n",
       "      <td>10293.11</td>\n",
       "      <td>9884.31</td>\n",
       "      <td>10159.55</td>\n",
       "      <td>10897.922</td>\n",
       "      <td>10163.06</td>\n",
       "      <td>NaN</td>\n",
       "      <td>NaN</td>\n",
       "      <td>NaN</td>\n",
       "      <td>0</td>\n",
       "    </tr>\n",
       "    <tr>\n",
       "      <th>2019-09-12</th>\n",
       "      <td>10163.06</td>\n",
       "      <td>10450.13</td>\n",
       "      <td>10042.12</td>\n",
       "      <td>10415.13</td>\n",
       "      <td>15609.634</td>\n",
       "      <td>10414.96</td>\n",
       "      <td>NaN</td>\n",
       "      <td>NaN</td>\n",
       "      <td>NaN</td>\n",
       "      <td>0</td>\n",
       "    </tr>\n",
       "    <tr>\n",
       "      <th>...</th>\n",
       "      <td>...</td>\n",
       "      <td>...</td>\n",
       "      <td>...</td>\n",
       "      <td>...</td>\n",
       "      <td>...</td>\n",
       "      <td>...</td>\n",
       "      <td>...</td>\n",
       "      <td>...</td>\n",
       "      <td>...</td>\n",
       "      <td>...</td>\n",
       "    </tr>\n",
       "    <tr>\n",
       "      <th>2023-10-22</th>\n",
       "      <td>29895.40</td>\n",
       "      <td>30229.70</td>\n",
       "      <td>29606.60</td>\n",
       "      <td>29981.50</td>\n",
       "      <td>198602.758</td>\n",
       "      <td>29981.40</td>\n",
       "      <td>27997.494444</td>\n",
       "      <td>27103.044000</td>\n",
       "      <td>74.553491</td>\n",
       "      <td>0</td>\n",
       "    </tr>\n",
       "    <tr>\n",
       "      <th>2023-10-23</th>\n",
       "      <td>29981.40</td>\n",
       "      <td>35981.90</td>\n",
       "      <td>29869.40</td>\n",
       "      <td>33074.00</td>\n",
       "      <td>987741.536</td>\n",
       "      <td>33074.00</td>\n",
       "      <td>28312.805556</td>\n",
       "      <td>27149.726667</td>\n",
       "      <td>85.330772</td>\n",
       "      <td>0</td>\n",
       "    </tr>\n",
       "    <tr>\n",
       "      <th>2023-10-24</th>\n",
       "      <td>33074.00</td>\n",
       "      <td>35300.00</td>\n",
       "      <td>32833.50</td>\n",
       "      <td>33917.00</td>\n",
       "      <td>921993.063</td>\n",
       "      <td>33917.00</td>\n",
       "      <td>28646.177778</td>\n",
       "      <td>27209.370667</td>\n",
       "      <td>86.952942</td>\n",
       "      <td>0</td>\n",
       "    </tr>\n",
       "    <tr>\n",
       "      <th>2023-10-25</th>\n",
       "      <td>33917.00</td>\n",
       "      <td>35154.30</td>\n",
       "      <td>33660.60</td>\n",
       "      <td>34487.70</td>\n",
       "      <td>465367.144</td>\n",
       "      <td>34487.80</td>\n",
       "      <td>29009.772222</td>\n",
       "      <td>27277.000000</td>\n",
       "      <td>87.926345</td>\n",
       "      <td>0</td>\n",
       "    </tr>\n",
       "    <tr>\n",
       "      <th>2023-10-26</th>\n",
       "      <td>34487.80</td>\n",
       "      <td>34828.70</td>\n",
       "      <td>33750.00</td>\n",
       "      <td>34090.00</td>\n",
       "      <td>325945.252</td>\n",
       "      <td>NaN</td>\n",
       "      <td>29353.594444</td>\n",
       "      <td>27339.257333</td>\n",
       "      <td>83.264352</td>\n",
       "      <td>0</td>\n",
       "    </tr>\n",
       "  </tbody>\n",
       "</table>\n",
       "<p>1510 rows × 10 columns</p>\n",
       "</div>"
      ],
      "text/plain": [
       "                Open      High       Low     Close      Volume  shifted_open  \\\n",
       "timestamp                                                                      \n",
       "2019-09-08  10000.00  10412.65  10000.00  10391.63    3096.291      10316.62   \n",
       "2019-09-09  10316.62  10475.54  10077.22  10307.00   14824.373      10307.00   \n",
       "2019-09-10  10307.00  10382.97   9940.87  10102.02    9068.955      10094.27   \n",
       "2019-09-11  10094.27  10293.11   9884.31  10159.55   10897.922      10163.06   \n",
       "2019-09-12  10163.06  10450.13  10042.12  10415.13   15609.634      10414.96   \n",
       "...              ...       ...       ...       ...         ...           ...   \n",
       "2023-10-22  29895.40  30229.70  29606.60  29981.50  198602.758      29981.40   \n",
       "2023-10-23  29981.40  35981.90  29869.40  33074.00  987741.536      33074.00   \n",
       "2023-10-24  33074.00  35300.00  32833.50  33917.00  921993.063      33917.00   \n",
       "2023-10-25  33917.00  35154.30  33660.60  34487.70  465367.144      34487.80   \n",
       "2023-10-26  34487.80  34828.70  33750.00  34090.00  325945.252           NaN   \n",
       "\n",
       "                 Fast_MA       Slow_MA        RSI  buySignal  \n",
       "timestamp                                                     \n",
       "2019-09-08           NaN           NaN        NaN          0  \n",
       "2019-09-09           NaN           NaN        NaN          0  \n",
       "2019-09-10           NaN           NaN        NaN          0  \n",
       "2019-09-11           NaN           NaN        NaN          0  \n",
       "2019-09-12           NaN           NaN        NaN          0  \n",
       "...                  ...           ...        ...        ...  \n",
       "2023-10-22  27997.494444  27103.044000  74.553491          0  \n",
       "2023-10-23  28312.805556  27149.726667  85.330772          0  \n",
       "2023-10-24  28646.177778  27209.370667  86.952942          0  \n",
       "2023-10-25  29009.772222  27277.000000  87.926345          0  \n",
       "2023-10-26  29353.594444  27339.257333  83.264352          0  \n",
       "\n",
       "[1510 rows x 10 columns]"
      ]
     },
     "execution_count": 103,
     "metadata": {},
     "output_type": "execute_result"
    }
   ],
   "source": [
    "df = getSignals(df, fast_ma_period=fast_ma_period, slow_ma_period=slow_ma_period, rsi_period=rsi_period)\n",
    "df"
   ]
  },
  {
   "cell_type": "code",
   "execution_count": 104,
   "id": "77b79cae",
   "metadata": {},
   "outputs": [
    {
     "data": {
      "text/html": [
       "<div>\n",
       "<style scoped>\n",
       "    .dataframe tbody tr th:only-of-type {\n",
       "        vertical-align: middle;\n",
       "    }\n",
       "\n",
       "    .dataframe tbody tr th {\n",
       "        vertical-align: top;\n",
       "    }\n",
       "\n",
       "    .dataframe thead th {\n",
       "        text-align: right;\n",
       "    }\n",
       "</style>\n",
       "<table border=\"1\" class=\"dataframe\">\n",
       "  <thead>\n",
       "    <tr style=\"text-align: right;\">\n",
       "      <th></th>\n",
       "      <th>Open</th>\n",
       "      <th>High</th>\n",
       "      <th>Low</th>\n",
       "      <th>Close</th>\n",
       "      <th>Volume</th>\n",
       "      <th>shifted_open</th>\n",
       "      <th>Fast_MA</th>\n",
       "      <th>Slow_MA</th>\n",
       "      <th>RSI</th>\n",
       "      <th>buySignal</th>\n",
       "    </tr>\n",
       "    <tr>\n",
       "      <th>timestamp</th>\n",
       "      <th></th>\n",
       "      <th></th>\n",
       "      <th></th>\n",
       "      <th></th>\n",
       "      <th></th>\n",
       "      <th></th>\n",
       "      <th></th>\n",
       "      <th></th>\n",
       "      <th></th>\n",
       "      <th></th>\n",
       "    </tr>\n",
       "  </thead>\n",
       "  <tbody>\n",
       "    <tr>\n",
       "      <th>2020-01-16</th>\n",
       "      <td>8825.35</td>\n",
       "      <td>8868.21</td>\n",
       "      <td>8596.25</td>\n",
       "      <td>8725.08</td>\n",
       "      <td>167958.963</td>\n",
       "      <td>8724.99</td>\n",
       "      <td>7851.492778</td>\n",
       "      <td>7772.243067</td>\n",
       "      <td>67.624017</td>\n",
       "      <td>1</td>\n",
       "    </tr>\n",
       "    <tr>\n",
       "      <th>2020-05-01</th>\n",
       "      <td>8623.61</td>\n",
       "      <td>9065.00</td>\n",
       "      <td>8619.84</td>\n",
       "      <td>8830.52</td>\n",
       "      <td>417820.386</td>\n",
       "      <td>8830.52</td>\n",
       "      <td>7483.903333</td>\n",
       "      <td>7466.957067</td>\n",
       "      <td>72.718856</td>\n",
       "      <td>1</td>\n",
       "    </tr>\n",
       "    <tr>\n",
       "      <th>2020-07-27</th>\n",
       "      <td>9939.68</td>\n",
       "      <td>11488.00</td>\n",
       "      <td>9928.61</td>\n",
       "      <td>11047.58</td>\n",
       "      <td>744752.400</td>\n",
       "      <td>11047.58</td>\n",
       "      <td>9448.972778</td>\n",
       "      <td>9409.279333</td>\n",
       "      <td>82.893621</td>\n",
       "      <td>1</td>\n",
       "    </tr>\n",
       "    <tr>\n",
       "      <th>2020-10-19</th>\n",
       "      <td>11501.50</td>\n",
       "      <td>11830.00</td>\n",
       "      <td>11404.01</td>\n",
       "      <td>11745.00</td>\n",
       "      <td>230161.648</td>\n",
       "      <td>11744.99</td>\n",
       "      <td>11123.616111</td>\n",
       "      <td>11120.301067</td>\n",
       "      <td>67.246454</td>\n",
       "      <td>1</td>\n",
       "    </tr>\n",
       "    <tr>\n",
       "      <th>2021-08-02</th>\n",
       "      <td>39846.78</td>\n",
       "      <td>40450.00</td>\n",
       "      <td>38658.00</td>\n",
       "      <td>39147.48</td>\n",
       "      <td>451872.128</td>\n",
       "      <td>39147.47</td>\n",
       "      <td>35677.298333</td>\n",
       "      <td>35579.588667</td>\n",
       "      <td>60.327125</td>\n",
       "      <td>1</td>\n",
       "    </tr>\n",
       "    <tr>\n",
       "      <th>2021-10-07</th>\n",
       "      <td>55327.45</td>\n",
       "      <td>55337.80</td>\n",
       "      <td>53374.34</td>\n",
       "      <td>53814.99</td>\n",
       "      <td>262974.545</td>\n",
       "      <td>53814.99</td>\n",
       "      <td>45714.118333</td>\n",
       "      <td>45648.791733</td>\n",
       "      <td>65.912212</td>\n",
       "      <td>1</td>\n",
       "    </tr>\n",
       "    <tr>\n",
       "      <th>2022-03-24</th>\n",
       "      <td>42867.80</td>\n",
       "      <td>44200.00</td>\n",
       "      <td>42525.00</td>\n",
       "      <td>43973.40</td>\n",
       "      <td>331440.057</td>\n",
       "      <td>43973.20</td>\n",
       "      <td>40531.677778</td>\n",
       "      <td>40445.852800</td>\n",
       "      <td>61.206800</td>\n",
       "      <td>1</td>\n",
       "    </tr>\n",
       "    <tr>\n",
       "      <th>2022-08-12</th>\n",
       "      <td>23917.30</td>\n",
       "      <td>24438.80</td>\n",
       "      <td>23560.00</td>\n",
       "      <td>24387.50</td>\n",
       "      <td>477734.045</td>\n",
       "      <td>24387.50</td>\n",
       "      <td>23275.105556</td>\n",
       "      <td>23227.738667</td>\n",
       "      <td>61.628800</td>\n",
       "      <td>1</td>\n",
       "    </tr>\n",
       "    <tr>\n",
       "      <th>2022-11-03</th>\n",
       "      <td>20140.20</td>\n",
       "      <td>20400.00</td>\n",
       "      <td>20026.00</td>\n",
       "      <td>20199.70</td>\n",
       "      <td>372121.061</td>\n",
       "      <td>20199.80</td>\n",
       "      <td>19924.377778</td>\n",
       "      <td>19871.110667</td>\n",
       "      <td>53.969863</td>\n",
       "      <td>1</td>\n",
       "    </tr>\n",
       "    <tr>\n",
       "      <th>2023-01-14</th>\n",
       "      <td>19924.30</td>\n",
       "      <td>21544.00</td>\n",
       "      <td>19882.60</td>\n",
       "      <td>20962.80</td>\n",
       "      <td>1010666.683</td>\n",
       "      <td>20962.80</td>\n",
       "      <td>17398.983333</td>\n",
       "      <td>17328.472000</td>\n",
       "      <td>89.418613</td>\n",
       "      <td>1</td>\n",
       "    </tr>\n",
       "    <tr>\n",
       "      <th>2023-06-27</th>\n",
       "      <td>30260.10</td>\n",
       "      <td>30998.50</td>\n",
       "      <td>30213.00</td>\n",
       "      <td>30683.20</td>\n",
       "      <td>406073.348</td>\n",
       "      <td>30683.20</td>\n",
       "      <td>27833.744444</td>\n",
       "      <td>27798.789333</td>\n",
       "      <td>70.431783</td>\n",
       "      <td>1</td>\n",
       "    </tr>\n",
       "  </tbody>\n",
       "</table>\n",
       "</div>"
      ],
      "text/plain": [
       "                Open      High       Low     Close       Volume  shifted_open  \\\n",
       "timestamp                                                                       \n",
       "2020-01-16   8825.35   8868.21   8596.25   8725.08   167958.963       8724.99   \n",
       "2020-05-01   8623.61   9065.00   8619.84   8830.52   417820.386       8830.52   \n",
       "2020-07-27   9939.68  11488.00   9928.61  11047.58   744752.400      11047.58   \n",
       "2020-10-19  11501.50  11830.00  11404.01  11745.00   230161.648      11744.99   \n",
       "2021-08-02  39846.78  40450.00  38658.00  39147.48   451872.128      39147.47   \n",
       "2021-10-07  55327.45  55337.80  53374.34  53814.99   262974.545      53814.99   \n",
       "2022-03-24  42867.80  44200.00  42525.00  43973.40   331440.057      43973.20   \n",
       "2022-08-12  23917.30  24438.80  23560.00  24387.50   477734.045      24387.50   \n",
       "2022-11-03  20140.20  20400.00  20026.00  20199.70   372121.061      20199.80   \n",
       "2023-01-14  19924.30  21544.00  19882.60  20962.80  1010666.683      20962.80   \n",
       "2023-06-27  30260.10  30998.50  30213.00  30683.20   406073.348      30683.20   \n",
       "\n",
       "                 Fast_MA       Slow_MA        RSI  buySignal  \n",
       "timestamp                                                     \n",
       "2020-01-16   7851.492778   7772.243067  67.624017          1  \n",
       "2020-05-01   7483.903333   7466.957067  72.718856          1  \n",
       "2020-07-27   9448.972778   9409.279333  82.893621          1  \n",
       "2020-10-19  11123.616111  11120.301067  67.246454          1  \n",
       "2021-08-02  35677.298333  35579.588667  60.327125          1  \n",
       "2021-10-07  45714.118333  45648.791733  65.912212          1  \n",
       "2022-03-24  40531.677778  40445.852800  61.206800          1  \n",
       "2022-08-12  23275.105556  23227.738667  61.628800          1  \n",
       "2022-11-03  19924.377778  19871.110667  53.969863          1  \n",
       "2023-01-14  17398.983333  17328.472000  89.418613          1  \n",
       "2023-06-27  27833.744444  27798.789333  70.431783          1  "
      ]
     },
     "execution_count": 104,
     "metadata": {},
     "output_type": "execute_result"
    }
   ],
   "source": [
    "# Assuming you have a DataFrame 'df' and want to find rows where 'buySignal' is equal to 1\n",
    "buy_signal_rows = df[df['buySignal'] == 1]\n",
    "buy_signal_rows"
   ]
  },
  {
   "cell_type": "markdown",
   "id": "ef57dd85",
   "metadata": {},
   "source": [
    "# Backtest"
   ]
  },
  {
   "cell_type": "code",
   "execution_count": 112,
   "id": "1ec692db",
   "metadata": {},
   "outputs": [],
   "source": [
    "def backtest(df,fast_ma_period=20, slow_ma_period=50, rsi_period=14, sl_perc=(5*0.01), tp_perc=(10*0.01)):\n",
    "    df = getSignals(df, fast_ma_period, slow_ma_period, rsi_period)  # Use the trading_strategy function to get signals\n",
    "\n",
    "    in_position = False\n",
    "    buy_pos = False\n",
    "    sell_pos = False\n",
    "\n",
    "    results_df = pd.DataFrame(columns=['ticker', 'returns', 'winrate', 'trades', 'buy&hold_ret%'])\n",
    "    buydates, buyprices = [], []\n",
    "    selldates, sellprices = [], []\n",
    "    profits = []\n",
    "\n",
    "    for index, row in df.iterrows():\n",
    "        # long position block\n",
    "        if not in_position and row['buySignal'] == 1:\n",
    "            buyprice = row['Close']\n",
    "            buydates.append(index)\n",
    "            buyprices.append(buyprice)\n",
    "            in_position = True\n",
    "            buy_pos = True\n",
    "            stop_loss = buyprice * (1 - sl_perc)\n",
    "            target_price = buyprice * (1 + tp_perc)\n",
    "\n",
    "        elif in_position and buy_pos:\n",
    "            if row['Low'] <= stop_loss:\n",
    "                selldates.append(index)\n",
    "                sellprice = stop_loss\n",
    "                sellprices.append(sellprice)\n",
    "                in_position = False\n",
    "                buy_pos = False\n",
    "                profits.append((sellprice - buyprice) / buyprice - 0.001)  # Account for a small commission fee (0.1%)\n",
    "\n",
    "            elif row['High'] >= target_price:\n",
    "                selldates.append(index)\n",
    "                sellprice = target_price\n",
    "                sellprices.append(sellprice)\n",
    "                in_position = False\n",
    "                buy_pos = False\n",
    "                profits.append((sellprice - buyprice) / buyprice - 0.001)  # Account for a small commission fee (0.1%)\n",
    "\n",
    "    try:\n",
    "        if len(buydates) == 0:\n",
    "            print(\"No trades were made.\")\n",
    "        else:\n",
    "            returns = (pd.Series(profits, dtype=float) + 1).prod() - 1\n",
    "            returns = round(returns * 100, 2)\n",
    "\n",
    "            wins = sum(1 for i in profits if i > 0)\n",
    "            winrate = round((wins / len(buydates)) * 100, 2)\n",
    "            ct = min(len(buydates), len(selldates))\n",
    "            buy_hold_ret = (df['Close'][-1] - df['Open'][0]) / df['Open'][0] * 100\n",
    "            \n",
    "            results_df.loc[len(results_df)] = [ticker, returns, winrate, ct, buy_hold_ret]\n",
    "            print(f'{ticker}, winrate={winrate}%, returns={returns}%, no. of trades = {ct}, buy&hold_ret = {buy_hold_ret}%')\n",
    "    except:\n",
    "        print('Invalid input')\n",
    "\n",
    "    return {\n",
    "        'buydates': buydates,\n",
    "        'buyprices': buyprices,\n",
    "        'selldates': selldates,\n",
    "        'sellprices': sellprices,\n",
    "        'profits': profits,\n",
    "        # Other results...\n",
    "    }, results_df\n",
    "\n",
    "def displayTrades(**kwargs):\n",
    "    # Access the trade data and other results from kwargs\n",
    "    buydates = kwargs['buydates']\n",
    "    buyprices = kwargs['buyprices']\n",
    "    selldates = kwargs['selldates']\n",
    "    sellprices = kwargs['sellprices']\n",
    "    profits = kwargs['profits']\n",
    "    \n",
    "    ct = min(len(buydates),len(selldates))\n",
    "    dfr =pd.DataFrame()\n",
    "    dfr['buydates']= buydates[:ct]\n",
    "    dfr['buyprice']= buyprices[:ct]\n",
    "    dfr['selldates'] = selldates[:ct]\n",
    "    dfr['sellprice'] = sellprices[:ct]\n",
    "    dfr['profits'] = (profits[:ct])\n",
    "    dfr['commulative_returns'] = ((pd.Series(profits) + 1).cumprod())\n",
    "    dfr['tradeSide'] = np.where(dfr['buydates'] < dfr['selldates'], 'Long', 'Short')\n",
    "    return dfr"
   ]
  },
  {
   "cell_type": "code",
   "execution_count": 106,
   "id": "0a71d857",
   "metadata": {},
   "outputs": [
    {
     "name": "stdout",
     "output_type": "stream",
     "text": [
      "BTCUSDT, winrate=54.55%, returns=21.47%, no. of trades = 11, buy&hold_ret = 240.89999999999998%\n"
     ]
    }
   ],
   "source": [
    "results_data, results_df = backtest(df, fast_ma_period, slow_ma_period, rsi_period, sl_perc, tp_perc)"
   ]
  },
  {
   "cell_type": "code",
   "execution_count": 107,
   "id": "3e70ef8c",
   "metadata": {},
   "outputs": [
    {
     "data": {
      "text/html": [
       "<div>\n",
       "<style scoped>\n",
       "    .dataframe tbody tr th:only-of-type {\n",
       "        vertical-align: middle;\n",
       "    }\n",
       "\n",
       "    .dataframe tbody tr th {\n",
       "        vertical-align: top;\n",
       "    }\n",
       "\n",
       "    .dataframe thead th {\n",
       "        text-align: right;\n",
       "    }\n",
       "</style>\n",
       "<table border=\"1\" class=\"dataframe\">\n",
       "  <thead>\n",
       "    <tr style=\"text-align: right;\">\n",
       "      <th></th>\n",
       "      <th>ticker</th>\n",
       "      <th>returns</th>\n",
       "      <th>winrate</th>\n",
       "      <th>trades</th>\n",
       "      <th>buy&amp;hold_ret%</th>\n",
       "    </tr>\n",
       "  </thead>\n",
       "  <tbody>\n",
       "    <tr>\n",
       "      <th>0</th>\n",
       "      <td>BTCUSDT</td>\n",
       "      <td>21.47</td>\n",
       "      <td>54.55</td>\n",
       "      <td>11</td>\n",
       "      <td>240.9</td>\n",
       "    </tr>\n",
       "  </tbody>\n",
       "</table>\n",
       "</div>"
      ],
      "text/plain": [
       "    ticker  returns  winrate  trades  buy&hold_ret%\n",
       "0  BTCUSDT    21.47    54.55      11          240.9"
      ]
     },
     "execution_count": 107,
     "metadata": {},
     "output_type": "execute_result"
    }
   ],
   "source": [
    "results_df"
   ]
  },
  {
   "cell_type": "code",
   "execution_count": 108,
   "id": "9647e0e4",
   "metadata": {},
   "outputs": [
    {
     "data": {
      "text/html": [
       "<div>\n",
       "<style scoped>\n",
       "    .dataframe tbody tr th:only-of-type {\n",
       "        vertical-align: middle;\n",
       "    }\n",
       "\n",
       "    .dataframe tbody tr th {\n",
       "        vertical-align: top;\n",
       "    }\n",
       "\n",
       "    .dataframe thead th {\n",
       "        text-align: right;\n",
       "    }\n",
       "</style>\n",
       "<table border=\"1\" class=\"dataframe\">\n",
       "  <thead>\n",
       "    <tr style=\"text-align: right;\">\n",
       "      <th></th>\n",
       "      <th>buydates</th>\n",
       "      <th>buyprice</th>\n",
       "      <th>selldates</th>\n",
       "      <th>sellprice</th>\n",
       "      <th>profits</th>\n",
       "      <th>commulative_returns</th>\n",
       "      <th>tradeSide</th>\n",
       "    </tr>\n",
       "  </thead>\n",
       "  <tbody>\n",
       "    <tr>\n",
       "      <th>0</th>\n",
       "      <td>2020-01-16</td>\n",
       "      <td>8725.08</td>\n",
       "      <td>2020-01-24</td>\n",
       "      <td>8288.8260</td>\n",
       "      <td>-0.051</td>\n",
       "      <td>0.949000</td>\n",
       "      <td>Long</td>\n",
       "    </tr>\n",
       "    <tr>\n",
       "      <th>1</th>\n",
       "      <td>2020-05-01</td>\n",
       "      <td>8830.52</td>\n",
       "      <td>2020-05-07</td>\n",
       "      <td>9536.9616</td>\n",
       "      <td>0.079</td>\n",
       "      <td>1.023971</td>\n",
       "      <td>Long</td>\n",
       "    </tr>\n",
       "    <tr>\n",
       "      <th>2</th>\n",
       "      <td>2020-07-27</td>\n",
       "      <td>11047.58</td>\n",
       "      <td>2020-08-02</td>\n",
       "      <td>10495.2010</td>\n",
       "      <td>-0.051</td>\n",
       "      <td>0.971748</td>\n",
       "      <td>Long</td>\n",
       "    </tr>\n",
       "    <tr>\n",
       "      <th>3</th>\n",
       "      <td>2020-10-19</td>\n",
       "      <td>11745.00</td>\n",
       "      <td>2020-10-21</td>\n",
       "      <td>12684.6000</td>\n",
       "      <td>0.079</td>\n",
       "      <td>1.048517</td>\n",
       "      <td>Long</td>\n",
       "    </tr>\n",
       "    <tr>\n",
       "      <th>4</th>\n",
       "      <td>2021-08-02</td>\n",
       "      <td>39147.48</td>\n",
       "      <td>2021-08-06</td>\n",
       "      <td>42279.2784</td>\n",
       "      <td>0.079</td>\n",
       "      <td>1.131349</td>\n",
       "      <td>Long</td>\n",
       "    </tr>\n",
       "    <tr>\n",
       "      <th>5</th>\n",
       "      <td>2021-10-07</td>\n",
       "      <td>53814.99</td>\n",
       "      <td>2021-10-14</td>\n",
       "      <td>58120.1892</td>\n",
       "      <td>0.079</td>\n",
       "      <td>1.220726</td>\n",
       "      <td>Long</td>\n",
       "    </tr>\n",
       "    <tr>\n",
       "      <th>6</th>\n",
       "      <td>2022-03-24</td>\n",
       "      <td>43973.40</td>\n",
       "      <td>2022-03-28</td>\n",
       "      <td>47491.2720</td>\n",
       "      <td>0.079</td>\n",
       "      <td>1.317163</td>\n",
       "      <td>Long</td>\n",
       "    </tr>\n",
       "    <tr>\n",
       "      <th>7</th>\n",
       "      <td>2022-08-12</td>\n",
       "      <td>24387.50</td>\n",
       "      <td>2022-08-18</td>\n",
       "      <td>23168.1250</td>\n",
       "      <td>-0.051</td>\n",
       "      <td>1.249988</td>\n",
       "      <td>Long</td>\n",
       "    </tr>\n",
       "    <tr>\n",
       "      <th>8</th>\n",
       "      <td>2022-11-03</td>\n",
       "      <td>20199.70</td>\n",
       "      <td>2022-11-08</td>\n",
       "      <td>19189.7150</td>\n",
       "      <td>-0.051</td>\n",
       "      <td>1.186239</td>\n",
       "      <td>Long</td>\n",
       "    </tr>\n",
       "    <tr>\n",
       "      <th>9</th>\n",
       "      <td>2023-01-14</td>\n",
       "      <td>20962.80</td>\n",
       "      <td>2023-01-20</td>\n",
       "      <td>22639.8240</td>\n",
       "      <td>0.079</td>\n",
       "      <td>1.279952</td>\n",
       "      <td>Long</td>\n",
       "    </tr>\n",
       "    <tr>\n",
       "      <th>10</th>\n",
       "      <td>2023-06-27</td>\n",
       "      <td>30683.20</td>\n",
       "      <td>2023-07-24</td>\n",
       "      <td>29149.0400</td>\n",
       "      <td>-0.051</td>\n",
       "      <td>1.214674</td>\n",
       "      <td>Long</td>\n",
       "    </tr>\n",
       "  </tbody>\n",
       "</table>\n",
       "</div>"
      ],
      "text/plain": [
       "     buydates  buyprice  selldates   sellprice  profits  commulative_returns  \\\n",
       "0  2020-01-16   8725.08 2020-01-24   8288.8260   -0.051             0.949000   \n",
       "1  2020-05-01   8830.52 2020-05-07   9536.9616    0.079             1.023971   \n",
       "2  2020-07-27  11047.58 2020-08-02  10495.2010   -0.051             0.971748   \n",
       "3  2020-10-19  11745.00 2020-10-21  12684.6000    0.079             1.048517   \n",
       "4  2021-08-02  39147.48 2021-08-06  42279.2784    0.079             1.131349   \n",
       "5  2021-10-07  53814.99 2021-10-14  58120.1892    0.079             1.220726   \n",
       "6  2022-03-24  43973.40 2022-03-28  47491.2720    0.079             1.317163   \n",
       "7  2022-08-12  24387.50 2022-08-18  23168.1250   -0.051             1.249988   \n",
       "8  2022-11-03  20199.70 2022-11-08  19189.7150   -0.051             1.186239   \n",
       "9  2023-01-14  20962.80 2023-01-20  22639.8240    0.079             1.279952   \n",
       "10 2023-06-27  30683.20 2023-07-24  29149.0400   -0.051             1.214674   \n",
       "\n",
       "   tradeSide  \n",
       "0       Long  \n",
       "1       Long  \n",
       "2       Long  \n",
       "3       Long  \n",
       "4       Long  \n",
       "5       Long  \n",
       "6       Long  \n",
       "7       Long  \n",
       "8       Long  \n",
       "9       Long  \n",
       "10      Long  "
      ]
     },
     "execution_count": 108,
     "metadata": {},
     "output_type": "execute_result"
    }
   ],
   "source": [
    "dfr = displayTrades(**results_data)\n",
    "dfr"
   ]
  },
  {
   "cell_type": "code",
   "execution_count": 109,
   "id": "d690dcc2",
   "metadata": {
    "colab": {
     "base_uri": "https://localhost:8080/",
     "height": 564
    },
    "id": "d690dcc2",
    "outputId": "f100cb67-6646-42b1-d571-e7c3bca2251b",
    "scrolled": true
   },
   "outputs": [
    {
     "data": {
      "image/png": "[encoded data removed]",
      "text/plain": [
       "<Figure size 1000x600 with 1 Axes>"
      ]
     },
     "metadata": {},
     "output_type": "display_data"
    }
   ],
   "source": [
    "import matplotlib.pyplot as plt\n",
    "\n",
    "# Set the plot size\n",
    "plt.figure(figsize=(10,6))\n",
    "\n",
    "# Plot the account balance column\n",
    "plt.plot(dfr.buydates, dfr.commulative_returns)\n",
    "\n",
    "# Add labels to the plot\n",
    "plt.title('Account Returns Over Time')\n",
    "plt.xlabel('Time')\n",
    "plt.ylabel('Returns')\n",
    "\n",
    "# Display the plot\n",
    "plt.show()"
   ]
  },
  {
   "cell_type": "code",
   "execution_count": null,
   "id": "21aa1a43",
   "metadata": {},
   "outputs": [],
   "source": []
  },
  {
   "cell_type": "code",
   "execution_count": null,
   "id": "e0e2126e",
   "metadata": {},
   "outputs": [],
   "source": []
  },
  {
   "cell_type": "markdown",
   "id": "5d4f86cd",
   "metadata": {},
   "source": [
    "# Set Final Bot Parameters"
   ]
  },
  {
   "cell_type": "code",
   "execution_count": 20,
   "id": "9502b0ca",
   "metadata": {},
   "outputs": [],
   "source": [
    "ticker = \"BTCUSDT\"\n",
    "timeframe = \"1d\"\n",
    "usdt_amount = 15\n",
    "\n",
    "\n",
    "fast_ma_period=18          # ----> TO BE OPTIMIZED\n",
    "slow_ma_period=75          # ----> TO BE OPTIMIZED\n",
    "rsi_period=14              # ----> TO BE OPTIMIZED\n",
    "sl_perc=5\n",
    "tp_perc=10"
   ]
  },
  {
   "cell_type": "markdown",
   "id": "cde93448",
   "metadata": {},
   "source": [
    "# Optuna Hyperparameter Optimization"
   ]
  },
  {
   "cell_type": "code",
   "execution_count": 113,
   "id": "8c14d663",
   "metadata": {},
   "outputs": [
    {
     "name": "stderr",
     "output_type": "stream",
     "text": [
      "[I 2023-10-27 02:48:02,297] A new study created in memory with name: no-name-bad6e6ad-d6b7-482c-97a4-5848de1a69ec\n",
      "[W 2023-10-27 02:48:02,532] Trial 0 failed with parameters: {'fast_ma_period': 21, 'slow_ma_period': 59, 'rsi_period': 20, 'sl_perc': 5.03194342899141, 'tp_perc': 6.769265514638461} because of the following error: The value {'buydates': [Timestamp('2020-01-11 00:00:00'), Timestamp('2020-04-24 00:00:00'), Timestamp('2020-07-28 00:00:00'), Timestamp('2020-10-16 00:00:00'), Timestamp('2021-08-02 00:00:00'), Timestamp('2021-10-11 00:00:00'), Timestamp('2022-03-01 00:00:00'), Timestamp('2022-03-16 00:00:00'), Timestamp('2022-03-25 00:00:00'), Timestamp('2022-08-03 00:00:00'), Timestamp('2022-11-01 00:00:00'), Timestamp('2023-01-09 00:00:00'), Timestamp('2023-03-18 00:00:00'), Timestamp('2023-06-27 00:00:00'), Timestamp('2023-10-06 00:00:00')], 'buyprices': [8020.56, 7504.11, 10919.94, 11318.92, 39147.48, 57500.01, 44394.1, 41105.8, 44290.6, 22801.5, 20472.1, 17169.7, 26907.0, 30683.2, 27916.3], 'selldates': [Timestamp('2020-01-14 00:00:00'), Timestamp('2020-04-29 00:00:00'), Timestamp('2020-08-01 00:00:00'), Timestamp('2020-10-21 00:00:00'), Timestamp('2021-08-06 00:00:00'), Timestamp('2021-10-12 00:00:00'), Timestamp('2022-03-03 00:00:00'), Timestamp('2022-03-24 00:00:00'), Timestamp('2022-03-28 00:00:00'), Timestamp('2022-08-11 00:00:00'), Timestamp('2022-11-08 00:00:00'), Timestamp('2023-01-12 00:00:00'), Timestamp('2023-03-22 00:00:00'), Timestamp('2023-07-24 00:00:00'), Timestamp('2023-10-16 00:00:00')], 'sellprices': [8563.493002160887, 8012.083130410536, 11659.13973263921, 12085.127748189516, 41797.47686348999, 54606.642025135596, 42160.21400219012, 43888.36074391626, 47288.74831202646, 24344.994076320287, 19441.955509273448, 18331.96258106688, 28728.40627202377, 29139.238733795708, 29806.028468863016], 'profits': [0.06669265514638462, 0.06669265514638462, 0.06669265514638452, 0.06669265514638462, 0.06669265514638452, -0.051319434289914145, -0.05131943428991414, 0.06669265514638459, 0.06669265514638456, 0.06669265514638452, -0.051319434289914104, 0.06669265514638459, 0.06669265514638462, -0.05131943428991412, 0.06669265514638463]} could not be cast to float.\n",
      "[W 2023-10-27 02:48:02,538] Trial 0 failed with value ({'buydates': [Timestamp('2020-01-11 00:00:00'), Timestamp('2020-04-24 00:00:00'), Timestamp('2020-07-28 00:00:00'), Timestamp('2020-10-16 00:00:00'), Timestamp('2021-08-02 00:00:00'), Timestamp('2021-10-11 00:00:00'), Timestamp('2022-03-01 00:00:00'), Timestamp('2022-03-16 00:00:00'), Timestamp('2022-03-25 00:00:00'), Timestamp('2022-08-03 00:00:00'), Timestamp('2022-11-01 00:00:00'), Timestamp('2023-01-09 00:00:00'), Timestamp('2023-03-18 00:00:00'), Timestamp('2023-06-27 00:00:00'), Timestamp('2023-10-06 00:00:00')], 'buyprices': [8020.56, 7504.11, 10919.94, 11318.92, 39147.48, 57500.01, 44394.1, 41105.8, 44290.6, 22801.5, 20472.1, 17169.7, 26907.0, 30683.2, 27916.3], 'selldates': [Timestamp('2020-01-14 00:00:00'), Timestamp('2020-04-29 00:00:00'), Timestamp('2020-08-01 00:00:00'), Timestamp('2020-10-21 00:00:00'), Timestamp('2021-08-06 00:00:00'), Timestamp('2021-10-12 00:00:00'), Timestamp('2022-03-03 00:00:00'), Timestamp('2022-03-24 00:00:00'), Timestamp('2022-03-28 00:00:00'), Timestamp('2022-08-11 00:00:00'), Timestamp('2022-11-08 00:00:00'), Timestamp('2023-01-12 00:00:00'), Timestamp('2023-03-22 00:00:00'), Timestamp('2023-07-24 00:00:00'), Timestamp('2023-10-16 00:00:00')], 'sellprices': [8563.493002160887, 8012.083130410536, 11659.13973263921, 12085.127748189516, 41797.47686348999, 54606.642025135596, 42160.21400219012, 43888.36074391626, 47288.74831202646, 24344.994076320287, 19441.955509273448, 18331.96258106688, 28728.40627202377, 29139.238733795708, 29806.028468863016], 'profits': [0.06669265514638462, 0.06669265514638462, 0.06669265514638452, 0.06669265514638462, 0.06669265514638452, -0.051319434289914145, -0.05131943428991414, 0.06669265514638459, 0.06669265514638456, 0.06669265514638452, -0.051319434289914104, 0.06669265514638459, 0.06669265514638462, -0.05131943428991412, 0.06669265514638463]},     ticker  returns  winrate  trades  buy&hold_ret%\n",
      "0  BTCUSDT    64.78    73.33      15          240.9).\n"
     ]
    },
    {
     "name": "stdout",
     "output_type": "stream",
     "text": [
      "BTCUSDT, winrate=73.33%, returns=64.78%, no. of trades = 15, buy&hold_ret = 240.89999999999998%\n"
     ]
    },
    {
     "name": "stderr",
     "output_type": "stream",
     "text": [
      "[W 2023-10-27 02:48:02,769] Trial 1 failed with parameters: {'fast_ma_period': 23, 'slow_ma_period': 60, 'rsi_period': 13, 'sl_perc': 5.113428658641226, 'tp_perc': 7.327519611642483} because of the following error: The value {'buydates': [Timestamp('2020-01-12 00:00:00'), Timestamp('2020-04-25 00:00:00'), Timestamp('2020-07-28 00:00:00'), Timestamp('2020-10-17 00:00:00'), Timestamp('2021-08-03 00:00:00'), Timestamp('2021-10-12 00:00:00'), Timestamp('2022-02-28 00:00:00'), Timestamp('2022-03-18 00:00:00'), Timestamp('2022-08-04 00:00:00'), Timestamp('2022-11-03 00:00:00'), Timestamp('2023-01-10 00:00:00'), Timestamp('2023-03-17 00:00:00'), Timestamp('2023-06-27 00:00:00'), Timestamp('2023-10-06 00:00:00')], 'buyprices': [8186.7, 7534.01, 10919.94, 11356.25, 38203.26, 56011.84, 43155.0, 41751.5, 22608.9, 20199.7, 17428.8, 27384.0, 30683.2, 27916.3], 'selldates': [Timestamp('2020-01-14 00:00:00'), Timestamp('2020-04-29 00:00:00'), Timestamp('2020-08-01 00:00:00'), Timestamp('2020-10-21 00:00:00'), Timestamp('2021-08-05 00:00:00'), Timestamp('2021-10-15 00:00:00'), Timestamp('2022-03-04 00:00:00'), Timestamp('2022-03-25 00:00:00'), Timestamp('2022-08-11 00:00:00'), Timestamp('2022-11-08 00:00:00'), Timestamp('2023-01-12 00:00:00'), Timestamp('2023-04-10 00:00:00'), Timestamp('2023-07-24 00:00:00'), Timestamp('2023-10-16 00:00:00')], 'sellprices': [8786.582048046335, 8086.066060293107, 11720.100745079593, 12188.38144589715, 41002.61136878677, 60116.11856084181, 40948.299862363376, 44810.84935065491, 24265.57158147664, 19166.802751240448, 18705.898738073945, 29390.56797045218, 29114.236457811796, 29961.87235734495], 'profits': [0.07227519611642487, 0.0722751961164249, 0.07227519611642488, 0.07227519611642488, 0.0722751961164248, 0.0722751961164249, -0.05213428658641234, 0.07227519611642487, 0.07227519611642491, -0.052134286586412316, 0.0722751961164249, 0.07227519611642488, -0.05213428658641227, 0.07227519611642483]} could not be cast to float.\n",
      "[W 2023-10-27 02:48:02,774] Trial 1 failed with value ({'buydates': [Timestamp('2020-01-12 00:00:00'), Timestamp('2020-04-25 00:00:00'), Timestamp('2020-07-28 00:00:00'), Timestamp('2020-10-17 00:00:00'), Timestamp('2021-08-03 00:00:00'), Timestamp('2021-10-12 00:00:00'), Timestamp('2022-02-28 00:00:00'), Timestamp('2022-03-18 00:00:00'), Timestamp('2022-08-04 00:00:00'), Timestamp('2022-11-03 00:00:00'), Timestamp('2023-01-10 00:00:00'), Timestamp('2023-03-17 00:00:00'), Timestamp('2023-06-27 00:00:00'), Timestamp('2023-10-06 00:00:00')], 'buyprices': [8186.7, 7534.01, 10919.94, 11356.25, 38203.26, 56011.84, 43155.0, 41751.5, 22608.9, 20199.7, 17428.8, 27384.0, 30683.2, 27916.3], 'selldates': [Timestamp('2020-01-14 00:00:00'), Timestamp('2020-04-29 00:00:00'), Timestamp('2020-08-01 00:00:00'), Timestamp('2020-10-21 00:00:00'), Timestamp('2021-08-05 00:00:00'), Timestamp('2021-10-15 00:00:00'), Timestamp('2022-03-04 00:00:00'), Timestamp('2022-03-25 00:00:00'), Timestamp('2022-08-11 00:00:00'), Timestamp('2022-11-08 00:00:00'), Timestamp('2023-01-12 00:00:00'), Timestamp('2023-04-10 00:00:00'), Timestamp('2023-07-24 00:00:00'), Timestamp('2023-10-16 00:00:00')], 'sellprices': [8786.582048046335, 8086.066060293107, 11720.100745079593, 12188.38144589715, 41002.61136878677, 60116.11856084181, 40948.299862363376, 44810.84935065491, 24265.57158147664, 19166.802751240448, 18705.898738073945, 29390.56797045218, 29114.236457811796, 29961.87235734495], 'profits': [0.07227519611642487, 0.0722751961164249, 0.07227519611642488, 0.07227519611642488, 0.0722751961164248, 0.0722751961164249, -0.05213428658641234, 0.07227519611642487, 0.07227519611642491, -0.052134286586412316, 0.0722751961164249, 0.07227519611642488, -0.05213428658641227, 0.07227519611642483]},     ticker  returns  winrate  trades  buy&hold_ret%\n",
      "0  BTCUSDT    83.49    78.57      14          240.9).\n"
     ]
    },
    {
     "name": "stdout",
     "output_type": "stream",
     "text": [
      "BTCUSDT, winrate=78.57%, returns=83.49%, no. of trades = 14, buy&hold_ret = 240.89999999999998%\n"
     ]
    },
    {
     "name": "stderr",
     "output_type": "stream",
     "text": [
      "[W 2023-10-27 02:48:03,016] Trial 2 failed with parameters: {'fast_ma_period': 18, 'slow_ma_period': 59, 'rsi_period': 23, 'sl_perc': 4.316921634270111, 'tp_perc': 8.3146073001438} because of the following error: The value {'buydates': [Timestamp('2019-11-07 00:00:00'), Timestamp('2020-01-11 00:00:00'), Timestamp('2020-04-24 00:00:00'), Timestamp('2020-07-27 00:00:00'), Timestamp('2020-10-16 00:00:00'), Timestamp('2021-08-01 00:00:00'), Timestamp('2021-10-10 00:00:00'), Timestamp('2022-03-23 00:00:00'), Timestamp('2022-08-02 00:00:00'), Timestamp('2022-10-31 00:00:00'), Timestamp('2023-01-10 00:00:00'), Timestamp('2023-03-19 00:00:00'), Timestamp('2023-06-26 00:00:00'), Timestamp('2023-10-05 00:00:00')], 'buyprices': [9219.64, 8020.56, 7504.11, 11047.58, 11318.92, 39846.78, 54700.0, 42867.9, 22975.1, 20482.0, 17428.8, 27955.7, 30260.1, 27398.4], 'selldates': [Timestamp('2019-11-08 00:00:00'), Timestamp('2020-01-14 00:00:00'), Timestamp('2020-04-29 00:00:00'), Timestamp('2020-08-02 00:00:00'), Timestamp('2020-10-21 00:00:00'), Timestamp('2021-08-03 00:00:00'), Timestamp('2021-10-15 00:00:00'), Timestamp('2022-03-27 00:00:00'), Timestamp('2022-08-11 00:00:00'), Timestamp('2022-11-08 00:00:00'), Timestamp('2023-01-12 00:00:00'), Timestamp('2023-03-22 00:00:00'), Timestamp('2023-07-24 00:00:00'), Timestamp('2023-10-16 00:00:00')], 'sellprices': [8821.635366238179, 8687.438067272413, 8128.04727787082, 10570.664628916702, 12260.043748617436, 38126.625733619985, 59248.09019317866, 46432.19754281834, 24885.389341815335, 19597.808110868795, 18877.93627712746, 26748.87433868835, 28953.795196548228, 29676.4693665226], 'profits': [-0.04416921634270107, 0.08214607300143785, 0.08214607300143792, -0.044169216342701115, 0.08214607300143793, -0.04416921634270106, 0.08214607300143797, 0.08214607300143795, 0.08214607300143792, -0.04416921634270116, 0.08214607300143795, -0.04416921634270113, -0.044169216342701136, 0.082146073001438]} could not be cast to float.\n",
      "[W 2023-10-27 02:48:03,021] Trial 2 failed with value ({'buydates': [Timestamp('2019-11-07 00:00:00'), Timestamp('2020-01-11 00:00:00'), Timestamp('2020-04-24 00:00:00'), Timestamp('2020-07-27 00:00:00'), Timestamp('2020-10-16 00:00:00'), Timestamp('2021-08-01 00:00:00'), Timestamp('2021-10-10 00:00:00'), Timestamp('2022-03-23 00:00:00'), Timestamp('2022-08-02 00:00:00'), Timestamp('2022-10-31 00:00:00'), Timestamp('2023-01-10 00:00:00'), Timestamp('2023-03-19 00:00:00'), Timestamp('2023-06-26 00:00:00'), Timestamp('2023-10-05 00:00:00')], 'buyprices': [9219.64, 8020.56, 7504.11, 11047.58, 11318.92, 39846.78, 54700.0, 42867.9, 22975.1, 20482.0, 17428.8, 27955.7, 30260.1, 27398.4], 'selldates': [Timestamp('2019-11-08 00:00:00'), Timestamp('2020-01-14 00:00:00'), Timestamp('2020-04-29 00:00:00'), Timestamp('2020-08-02 00:00:00'), Timestamp('2020-10-21 00:00:00'), Timestamp('2021-08-03 00:00:00'), Timestamp('2021-10-15 00:00:00'), Timestamp('2022-03-27 00:00:00'), Timestamp('2022-08-11 00:00:00'), Timestamp('2022-11-08 00:00:00'), Timestamp('2023-01-12 00:00:00'), Timestamp('2023-03-22 00:00:00'), Timestamp('2023-07-24 00:00:00'), Timestamp('2023-10-16 00:00:00')], 'sellprices': [8821.635366238179, 8687.438067272413, 8128.04727787082, 10570.664628916702, 12260.043748617436, 38126.625733619985, 59248.09019317866, 46432.19754281834, 24885.389341815335, 19597.808110868795, 18877.93627712746, 26748.87433868835, 28953.795196548228, 29676.4693665226], 'profits': [-0.04416921634270107, 0.08214607300143785, 0.08214607300143792, -0.044169216342701115, 0.08214607300143793, -0.04416921634270106, 0.08214607300143797, 0.08214607300143795, 0.08214607300143792, -0.04416921634270116, 0.08214607300143795, -0.04416921634270113, -0.044169216342701136, 0.082146073001438]},     ticker  returns  winrate  trades  buy&hold_ret%\n",
      "0  BTCUSDT    43.41    57.14      14          240.9).\n"
     ]
    },
    {
     "name": "stdout",
     "output_type": "stream",
     "text": [
      "BTCUSDT, winrate=57.14%, returns=43.41%, no. of trades = 14, buy&hold_ret = 240.89999999999998%\n",
      "BTCUSDT, winrate=57.14%, returns=57.26%, no. of trades = 14, buy&hold_ret = 240.89999999999998%\n"
     ]
    },
    {
     "name": "stderr",
     "output_type": "stream",
     "text": [
      "[W 2023-10-27 02:48:03,221] Trial 3 failed with parameters: {'fast_ma_period': 17, 'slow_ma_period': 57, 'rsi_period': 18, 'sl_perc': 5.578431656047169, 'tp_perc': 10.665061071422397} because of the following error: The value {'buydates': [Timestamp('2019-11-06 00:00:00'), Timestamp('2020-01-10 00:00:00'), Timestamp('2020-04-23 00:00:00'), Timestamp('2020-07-27 00:00:00'), Timestamp('2020-10-15 00:00:00'), Timestamp('2021-07-31 00:00:00'), Timestamp('2021-10-10 00:00:00'), Timestamp('2022-03-24 00:00:00'), Timestamp('2022-07-31 00:00:00'), Timestamp('2022-10-30 00:00:00'), Timestamp('2023-01-10 00:00:00'), Timestamp('2023-03-19 00:00:00'), Timestamp('2023-06-25 00:00:00'), Timestamp('2023-10-04 00:00:00')], 'buyprices': [9343.6, 8207.09, 7483.35, 11047.58, 11502.0, 41448.11, 54700.0, 43973.4, 23290.1, 20615.6, 17428.8, 27955.7, 30458.0, 27759.8], 'selldates': [Timestamp('2019-11-08 00:00:00'), Timestamp('2020-01-19 00:00:00'), Timestamp('2020-04-29 00:00:00'), Timestamp('2020-08-17 00:00:00'), Timestamp('2020-10-21 00:00:00'), Timestamp('2021-08-02 00:00:00'), Timestamp('2021-10-15 00:00:00'), Timestamp('2022-04-11 00:00:00'), Timestamp('2022-08-19 00:00:00'), Timestamp('2022-11-08 00:00:00'), Timestamp('2023-01-13 00:00:00'), Timestamp('2023-04-14 00:00:00'), Timestamp('2023-08-01 00:00:00'), Timestamp('2023-10-23 00:00:00')], 'sellprices': [8822.373659785577, 9082.3811606866, 8281.453847688288, 12225.811153914246, 12728.695324435004, 39135.955510926746, 60533.78840606805, 41520.373934159754, 21990.877688874956, 19465.57284351594, 19287.592164016067, 30937.192477943634, 28758.921286201155, 30720.399623304715], 'profits': [-0.05678431656047172, 0.10565061071422392, 0.10565061071422394, 0.10565061071422398, 0.10565061071422399, -0.056784316560471754, 0.10565061071422398, -0.05678431656047173, -0.05678431656047172, -0.05678431656047162, 0.10565061071422402, 0.10565061071422405, -0.05678431656047162, 0.105650610714224]} could not be cast to float.\n",
      "[W 2023-10-27 02:48:03,228] Trial 3 failed with value ({'buydates': [Timestamp('2019-11-06 00:00:00'), Timestamp('2020-01-10 00:00:00'), Timestamp('2020-04-23 00:00:00'), Timestamp('2020-07-27 00:00:00'), Timestamp('2020-10-15 00:00:00'), Timestamp('2021-07-31 00:00:00'), Timestamp('2021-10-10 00:00:00'), Timestamp('2022-03-24 00:00:00'), Timestamp('2022-07-31 00:00:00'), Timestamp('2022-10-30 00:00:00'), Timestamp('2023-01-10 00:00:00'), Timestamp('2023-03-19 00:00:00'), Timestamp('2023-06-25 00:00:00'), Timestamp('2023-10-04 00:00:00')], 'buyprices': [9343.6, 8207.09, 7483.35, 11047.58, 11502.0, 41448.11, 54700.0, 43973.4, 23290.1, 20615.6, 17428.8, 27955.7, 30458.0, 27759.8], 'selldates': [Timestamp('2019-11-08 00:00:00'), Timestamp('2020-01-19 00:00:00'), Timestamp('2020-04-29 00:00:00'), Timestamp('2020-08-17 00:00:00'), Timestamp('2020-10-21 00:00:00'), Timestamp('2021-08-02 00:00:00'), Timestamp('2021-10-15 00:00:00'), Timestamp('2022-04-11 00:00:00'), Timestamp('2022-08-19 00:00:00'), Timestamp('2022-11-08 00:00:00'), Timestamp('2023-01-13 00:00:00'), Timestamp('2023-04-14 00:00:00'), Timestamp('2023-08-01 00:00:00'), Timestamp('2023-10-23 00:00:00')], 'sellprices': [8822.373659785577, 9082.3811606866, 8281.453847688288, 12225.811153914246, 12728.695324435004, 39135.955510926746, 60533.78840606805, 41520.373934159754, 21990.877688874956, 19465.57284351594, 19287.592164016067, 30937.192477943634, 28758.921286201155, 30720.399623304715], 'profits': [-0.05678431656047172, 0.10565061071422392, 0.10565061071422394, 0.10565061071422398, 0.10565061071422399, -0.056784316560471754, 0.10565061071422398, -0.05678431656047173, -0.05678431656047172, -0.05678431656047162, 0.10565061071422402, 0.10565061071422405, -0.05678431656047162, 0.105650610714224]},     ticker  returns  winrate  trades  buy&hold_ret%\n",
      "0  BTCUSDT    57.26    57.14      14          240.9).\n",
      "[W 2023-10-27 02:48:03,510] Trial 4 failed with parameters: {'fast_ma_period': 19, 'slow_ma_period': 74, 'rsi_period': 22, 'sl_perc': 6.481194306889337, 'tp_perc': 9.061544974302109} because of the following error: The value {'buydates': [Timestamp('2020-01-16 00:00:00'), Timestamp('2020-05-01 00:00:00'), Timestamp('2020-07-27 00:00:00'), Timestamp('2020-10-20 00:00:00'), Timestamp('2021-08-03 00:00:00'), Timestamp('2021-10-07 00:00:00'), Timestamp('2022-03-25 00:00:00'), Timestamp('2022-08-12 00:00:00'), Timestamp('2022-11-03 00:00:00'), Timestamp('2023-01-14 00:00:00'), Timestamp('2023-06-28 00:00:00')], 'buyprices': [8725.08, 8830.52, 11047.58, 11900.03, 38203.26, 53814.99, 44290.6, 24387.5, 20199.7, 20962.8, 30066.3], 'selldates': [Timestamp('2020-01-30 00:00:00'), Timestamp('2020-05-07 00:00:00'), Timestamp('2020-08-02 00:00:00'), Timestamp('2020-10-21 00:00:00'), Timestamp('2021-08-06 00:00:00'), Timestamp('2021-10-15 00:00:00'), Timestamp('2022-04-11 00:00:00'), Timestamp('2022-08-19 00:00:00'), Timestamp('2022-11-08 00:00:00'), Timestamp('2023-01-21 00:00:00'), Timestamp('2023-08-17 00:00:00')], 'sellprices': [9515.70704824384, 9630.701541264743, 12048.661430272006, 12978.356570405445, 41665.06558654957, 58691.459521766184, 41420.04015431287, 22806.898738407363, 18890.518193591277, 22862.353549873, 28117.64467610773], 'profits': [0.0896154497430212, 0.08961544974302112, 0.08961544974302123, 0.08961544974302121, 0.08961544974302113, 0.08961544974302117, -0.0658119430688934, -0.06581194306889339, -0.06581194306889329, 0.08961544974302109, -0.06581194306889335]} could not be cast to float.\n",
      "[W 2023-10-27 02:48:03,536] Trial 4 failed with value ({'buydates': [Timestamp('2020-01-16 00:00:00'), Timestamp('2020-05-01 00:00:00'), Timestamp('2020-07-27 00:00:00'), Timestamp('2020-10-20 00:00:00'), Timestamp('2021-08-03 00:00:00'), Timestamp('2021-10-07 00:00:00'), Timestamp('2022-03-25 00:00:00'), Timestamp('2022-08-12 00:00:00'), Timestamp('2022-11-03 00:00:00'), Timestamp('2023-01-14 00:00:00'), Timestamp('2023-06-28 00:00:00')], 'buyprices': [8725.08, 8830.52, 11047.58, 11900.03, 38203.26, 53814.99, 44290.6, 24387.5, 20199.7, 20962.8, 30066.3], 'selldates': [Timestamp('2020-01-30 00:00:00'), Timestamp('2020-05-07 00:00:00'), Timestamp('2020-08-02 00:00:00'), Timestamp('2020-10-21 00:00:00'), Timestamp('2021-08-06 00:00:00'), Timestamp('2021-10-15 00:00:00'), Timestamp('2022-04-11 00:00:00'), Timestamp('2022-08-19 00:00:00'), Timestamp('2022-11-08 00:00:00'), Timestamp('2023-01-21 00:00:00'), Timestamp('2023-08-17 00:00:00')], 'sellprices': [9515.70704824384, 9630.701541264743, 12048.661430272006, 12978.356570405445, 41665.06558654957, 58691.459521766184, 41420.04015431287, 22806.898738407363, 18890.518193591277, 22862.353549873, 28117.64467610773], 'profits': [0.0896154497430212, 0.08961544974302112, 0.08961544974302123, 0.08961544974302121, 0.08961544974302113, 0.08961544974302117, -0.0658119430688934, -0.06581194306889339, -0.06581194306889329, 0.08961544974302109, -0.06581194306889335]},     ticker  returns  winrate  trades  buy&hold_ret%\n",
      "0  BTCUSDT    38.88    63.64      11          240.9).\n"
     ]
    },
    {
     "name": "stdout",
     "output_type": "stream",
     "text": [
      "BTCUSDT, winrate=63.64%, returns=38.88%, no. of trades = 11, buy&hold_ret = 240.89999999999998%\n"
     ]
    },
    {
     "name": "stderr",
     "output_type": "stream",
     "text": [
      "[W 2023-10-27 02:48:03,982] Trial 5 failed with parameters: {'fast_ma_period': 25, 'slow_ma_period': 50, 'rsi_period': 12, 'sl_perc': 7.356765145160431, 'tp_perc': 6.448272345770785} because of the following error: The value {'buydates': [Timestamp('2019-11-07 00:00:00'), Timestamp('2020-01-09 00:00:00'), Timestamp('2020-07-27 00:00:00'), Timestamp('2020-10-15 00:00:00'), Timestamp('2021-08-02 00:00:00'), Timestamp('2021-10-13 00:00:00'), Timestamp('2022-03-29 00:00:00'), Timestamp('2022-07-29 00:00:00'), Timestamp('2022-10-31 00:00:00'), Timestamp('2023-01-13 00:00:00'), Timestamp('2023-03-18 00:00:00'), Timestamp('2023-06-25 00:00:00'), Timestamp('2023-10-03 00:00:00')], 'buyprices': [9219.64, 7818.59, 11047.58, 11502.0, 39147.48, 57393.65, 47418.5, 23771.1, 20482.0, 19924.2, 26907.0, 30458.0, 27412.0], 'selldates': [Timestamp('2019-11-15 00:00:00'), Timestamp('2020-01-14 00:00:00'), Timestamp('2020-08-01 00:00:00'), Timestamp('2020-10-21 00:00:00'), Timestamp('2021-08-06 00:00:00'), Timestamp('2021-10-15 00:00:00'), Timestamp('2022-04-06 00:00:00'), Timestamp('2022-08-19 00:00:00'), Timestamp('2022-11-08 00:00:00'), Timestamp('2023-01-14 00:00:00'), Timestamp('2023-03-22 00:00:00'), Timestamp('2023-08-17 00:00:00'), Timestamp('2023-10-16 00:00:00')], 'sellprices': [8541.37273797073, 8322.7539767992, 11759.958046016904, 12243.680285210556, 41671.81612690615, 61094.548861178475, 43930.0323196421, 22022.31600057877, 18975.18736296824, 21208.966678716064, 28642.036640076545, 28217.276472087036, 29179.60041542269], 'profits': [-0.07456765145160427, 0.06348272345770786, 0.06348272345770781, 0.06348272345770785, 0.06348272345770786, 0.06348272345770783, -0.07456765145160431, -0.07456765145160427, -0.07456765145160427, 0.06348272345770788, 0.06348272345770785, -0.0745676514516043, 0.06348272345770795]} could not be cast to float.\n",
      "[W 2023-10-27 02:48:03,987] Trial 5 failed with value ({'buydates': [Timestamp('2019-11-07 00:00:00'), Timestamp('2020-01-09 00:00:00'), Timestamp('2020-07-27 00:00:00'), Timestamp('2020-10-15 00:00:00'), Timestamp('2021-08-02 00:00:00'), Timestamp('2021-10-13 00:00:00'), Timestamp('2022-03-29 00:00:00'), Timestamp('2022-07-29 00:00:00'), Timestamp('2022-10-31 00:00:00'), Timestamp('2023-01-13 00:00:00'), Timestamp('2023-03-18 00:00:00'), Timestamp('2023-06-25 00:00:00'), Timestamp('2023-10-03 00:00:00')], 'buyprices': [9219.64, 7818.59, 11047.58, 11502.0, 39147.48, 57393.65, 47418.5, 23771.1, 20482.0, 19924.2, 26907.0, 30458.0, 27412.0], 'selldates': [Timestamp('2019-11-15 00:00:00'), Timestamp('2020-01-14 00:00:00'), Timestamp('2020-08-01 00:00:00'), Timestamp('2020-10-21 00:00:00'), Timestamp('2021-08-06 00:00:00'), Timestamp('2021-10-15 00:00:00'), Timestamp('2022-04-06 00:00:00'), Timestamp('2022-08-19 00:00:00'), Timestamp('2022-11-08 00:00:00'), Timestamp('2023-01-14 00:00:00'), Timestamp('2023-03-22 00:00:00'), Timestamp('2023-08-17 00:00:00'), Timestamp('2023-10-16 00:00:00')], 'sellprices': [8541.37273797073, 8322.7539767992, 11759.958046016904, 12243.680285210556, 41671.81612690615, 61094.548861178475, 43930.0323196421, 22022.31600057877, 18975.18736296824, 21208.966678716064, 28642.036640076545, 28217.276472087036, 29179.60041542269], 'profits': [-0.07456765145160427, 0.06348272345770786, 0.06348272345770781, 0.06348272345770785, 0.06348272345770786, 0.06348272345770783, -0.07456765145160431, -0.07456765145160427, -0.07456765145160427, 0.06348272345770788, 0.06348272345770785, -0.0745676514516043, 0.06348272345770795]},     ticker  returns  winrate  trades  buy&hold_ret%\n",
      "0  BTCUSDT    11.06    61.54      13          240.9).\n"
     ]
    },
    {
     "name": "stdout",
     "output_type": "stream",
     "text": [
      "BTCUSDT, winrate=61.54%, returns=11.06%, no. of trades = 13, buy&hold_ret = 240.89999999999998%\n",
      "BTCUSDT, winrate=72.73%, returns=39.86%, no. of trades = 11, buy&hold_ret = 240.89999999999998%\n"
     ]
    },
    {
     "name": "stderr",
     "output_type": "stream",
     "text": [
      "[W 2023-10-27 02:48:04,160] Trial 6 failed with parameters: {'fast_ma_period': 20, 'slow_ma_period': 73, 'rsi_period': 23, 'sl_perc': 7.0669776465116545, 'tp_perc': 7.331257738056055} because of the following error: The value {'buydates': [Timestamp('2020-01-16 00:00:00'), Timestamp('2020-05-01 00:00:00'), Timestamp('2020-07-27 00:00:00'), Timestamp('2020-10-20 00:00:00'), Timestamp('2021-08-03 00:00:00'), Timestamp('2021-10-07 00:00:00'), Timestamp('2022-03-19 00:00:00'), Timestamp('2022-08-12 00:00:00'), Timestamp('2022-11-03 00:00:00'), Timestamp('2023-01-14 00:00:00'), Timestamp('2023-06-28 00:00:00')], 'buyprices': [8725.08, 8830.52, 11047.58, 11900.03, 38203.26, 53814.99, 42188.2, 24387.5, 20199.7, 20962.8, 30066.3], 'selldates': [Timestamp('2020-01-28 00:00:00'), Timestamp('2020-05-07 00:00:00'), Timestamp('2020-08-01 00:00:00'), Timestamp('2020-10-21 00:00:00'), Timestamp('2021-08-05 00:00:00'), Timestamp('2021-10-11 00:00:00'), Timestamp('2022-03-27 00:00:00'), Timestamp('2022-08-19 00:00:00'), Timestamp('2022-11-08 00:00:00'), Timestamp('2023-01-20 00:00:00'), Timestamp('2023-08-17 00:00:00')], 'sellprices': [9364.738102651581, 9477.908180810588, 11857.506563617933, 12772.451870205992, 41004.03945493967, 57760.30561860909, 45281.12567704656, 22664.04082645697, 18772.191716337587, 22499.636897113214, 27941.521299866865], 'profits': [0.07231257738056057, 0.07231257738056049, 0.07231257738056057, 0.07231257738056052, 0.07231257738056049, 0.07231257738056056, 0.07231257738056057, -0.07166977646511653, -0.07166977646511648, 0.07231257738056056, -0.07166977646511657]} could not be cast to float.\n",
      "[W 2023-10-27 02:48:04,165] Trial 6 failed with value ({'buydates': [Timestamp('2020-01-16 00:00:00'), Timestamp('2020-05-01 00:00:00'), Timestamp('2020-07-27 00:00:00'), Timestamp('2020-10-20 00:00:00'), Timestamp('2021-08-03 00:00:00'), Timestamp('2021-10-07 00:00:00'), Timestamp('2022-03-19 00:00:00'), Timestamp('2022-08-12 00:00:00'), Timestamp('2022-11-03 00:00:00'), Timestamp('2023-01-14 00:00:00'), Timestamp('2023-06-28 00:00:00')], 'buyprices': [8725.08, 8830.52, 11047.58, 11900.03, 38203.26, 53814.99, 42188.2, 24387.5, 20199.7, 20962.8, 30066.3], 'selldates': [Timestamp('2020-01-28 00:00:00'), Timestamp('2020-05-07 00:00:00'), Timestamp('2020-08-01 00:00:00'), Timestamp('2020-10-21 00:00:00'), Timestamp('2021-08-05 00:00:00'), Timestamp('2021-10-11 00:00:00'), Timestamp('2022-03-27 00:00:00'), Timestamp('2022-08-19 00:00:00'), Timestamp('2022-11-08 00:00:00'), Timestamp('2023-01-20 00:00:00'), Timestamp('2023-08-17 00:00:00')], 'sellprices': [9364.738102651581, 9477.908180810588, 11857.506563617933, 12772.451870205992, 41004.03945493967, 57760.30561860909, 45281.12567704656, 22664.04082645697, 18772.191716337587, 22499.636897113214, 27941.521299866865], 'profits': [0.07231257738056057, 0.07231257738056049, 0.07231257738056057, 0.07231257738056052, 0.07231257738056049, 0.07231257738056056, 0.07231257738056057, -0.07166977646511653, -0.07166977646511648, 0.07231257738056056, -0.07166977646511657]},     ticker  returns  winrate  trades  buy&hold_ret%\n",
      "0  BTCUSDT    39.86    72.73      11          240.9).\n",
      "[W 2023-10-27 02:48:04,396] Trial 7 failed with parameters: {'fast_ma_period': 14, 'slow_ma_period': 62, 'rsi_period': 23, 'sl_perc': 4.8228567010588, 'tp_perc': 9.27795202355535} because of the following error: The value {'buydates': [Timestamp('2020-01-11 00:00:00'), Timestamp('2020-04-26 00:00:00'), Timestamp('2020-07-27 00:00:00'), Timestamp('2020-10-15 00:00:00'), Timestamp('2021-07-31 00:00:00'), Timestamp('2021-10-08 00:00:00'), Timestamp('2022-03-21 00:00:00'), Timestamp('2022-08-02 00:00:00'), Timestamp('2022-10-29 00:00:00'), Timestamp('2023-01-10 00:00:00'), Timestamp('2023-03-18 00:00:00'), Timestamp('2023-06-25 00:00:00'), Timestamp('2023-10-06 00:00:00')], 'buyprices': [8020.56, 7694.17, 11047.58, 11502.0, 41448.11, 53975.0, 40982.0, 22975.1, 20796.7, 17428.8, 26907.0, 30458.0, 27916.3], 'selldates': [Timestamp('2020-01-14 00:00:00'), Timestamp('2020-04-29 00:00:00'), Timestamp('2020-08-02 00:00:00'), Timestamp('2020-10-21 00:00:00'), Timestamp('2021-08-01 00:00:00'), Timestamp('2021-10-15 00:00:00'), Timestamp('2022-03-25 00:00:00'), Timestamp('2022-08-15 00:00:00'), Timestamp('2022-11-08 00:00:00'), Timestamp('2023-01-12 00:00:00'), Timestamp('2023-04-10 00:00:00'), Timestamp('2023-07-24 00:00:00'), Timestamp('2023-10-11 00:00:00')], 'sellprices': [8764.70370882047, 8408.031401210788, 10514.771047665168, 12569.150041749335, 39449.12704940278, 58982.774604713995, 44784.290298293454, 25106.71875536386, 19793.704960450905, 19045.835702281413, 29403.418550978036, 28989.05430599151, 26569.936854762323], 'profits': [0.0917795202355534, 0.09177952023555344, -0.049228567010588, 0.0917795202355534, -0.04922856701058801, 0.09177952023555341, 0.09177952023555351, 0.0917795202355534, -0.049228567010588024, 0.09177952023555341, 0.09177952023555344, -0.049228567010588, -0.04922856701058793]} could not be cast to float.\n",
      "[W 2023-10-27 02:48:04,400] Trial 7 failed with value ({'buydates': [Timestamp('2020-01-11 00:00:00'), Timestamp('2020-04-26 00:00:00'), Timestamp('2020-07-27 00:00:00'), Timestamp('2020-10-15 00:00:00'), Timestamp('2021-07-31 00:00:00'), Timestamp('2021-10-08 00:00:00'), Timestamp('2022-03-21 00:00:00'), Timestamp('2022-08-02 00:00:00'), Timestamp('2022-10-29 00:00:00'), Timestamp('2023-01-10 00:00:00'), Timestamp('2023-03-18 00:00:00'), Timestamp('2023-06-25 00:00:00'), Timestamp('2023-10-06 00:00:00')], 'buyprices': [8020.56, 7694.17, 11047.58, 11502.0, 41448.11, 53975.0, 40982.0, 22975.1, 20796.7, 17428.8, 26907.0, 30458.0, 27916.3], 'selldates': [Timestamp('2020-01-14 00:00:00'), Timestamp('2020-04-29 00:00:00'), Timestamp('2020-08-02 00:00:00'), Timestamp('2020-10-21 00:00:00'), Timestamp('2021-08-01 00:00:00'), Timestamp('2021-10-15 00:00:00'), Timestamp('2022-03-25 00:00:00'), Timestamp('2022-08-15 00:00:00'), Timestamp('2022-11-08 00:00:00'), Timestamp('2023-01-12 00:00:00'), Timestamp('2023-04-10 00:00:00'), Timestamp('2023-07-24 00:00:00'), Timestamp('2023-10-11 00:00:00')], 'sellprices': [8764.70370882047, 8408.031401210788, 10514.771047665168, 12569.150041749335, 39449.12704940278, 58982.774604713995, 44784.290298293454, 25106.71875536386, 19793.704960450905, 19045.835702281413, 29403.418550978036, 28989.05430599151, 26569.936854762323], 'profits': [0.0917795202355534, 0.09177952023555344, -0.049228567010588, 0.0917795202355534, -0.04922856701058801, 0.09177952023555341, 0.09177952023555351, 0.0917795202355534, -0.049228567010588024, 0.09177952023555341, 0.09177952023555344, -0.049228567010588, -0.04922856701058793]},     ticker  returns  winrate  trades  buy&hold_ret%\n",
      "0  BTCUSDT    56.84    61.54      13          240.9).\n"
     ]
    },
    {
     "name": "stdout",
     "output_type": "stream",
     "text": [
      "BTCUSDT, winrate=61.54%, returns=56.84%, no. of trades = 13, buy&hold_ret = 240.89999999999998%\n",
      "BTCUSDT, winrate=60.0%, returns=69.31%, no. of trades = 15, buy&hold_ret = 240.89999999999998%\n"
     ]
    },
    {
     "name": "stderr",
     "output_type": "stream",
     "text": [
      "[W 2023-10-27 02:48:04,590] Trial 8 failed with parameters: {'fast_ma_period': 10, 'slow_ma_period': 57, 'rsi_period': 11, 'sl_perc': 4.132890101081419, 'tp_perc': 9.226600199391418} because of the following error: The value {'buydates': [Timestamp('2020-01-09 00:00:00'), Timestamp('2020-04-23 00:00:00'), Timestamp('2020-07-26 00:00:00'), Timestamp('2020-10-13 00:00:00'), Timestamp('2021-05-09 00:00:00'), Timestamp('2021-07-29 00:00:00'), Timestamp('2021-10-07 00:00:00'), Timestamp('2022-02-14 00:00:00'), Timestamp('2022-03-18 00:00:00'), Timestamp('2022-07-29 00:00:00'), Timestamp('2022-10-28 00:00:00'), Timestamp('2023-01-09 00:00:00'), Timestamp('2023-03-18 00:00:00'), Timestamp('2023-06-23 00:00:00'), Timestamp('2023-10-03 00:00:00')], 'buyprices': [7818.59, 7483.35, 9939.69, 11419.36, 58292.53, 40012.9, 53814.99, 42525.14, 41751.5, 23771.1, 20582.8, 17169.7, 26907.0, 30673.4, 27412.0], 'selldates': [Timestamp('2020-01-14 00:00:00'), Timestamp('2020-04-29 00:00:00'), Timestamp('2020-07-27 00:00:00'), Timestamp('2020-10-21 00:00:00'), Timestamp('2021-05-10 00:00:00'), Timestamp('2021-07-30 00:00:00'), Timestamp('2021-10-15 00:00:00'), Timestamp('2022-02-17 00:00:00'), Timestamp('2022-03-27 00:00:00'), Timestamp('2022-08-02 00:00:00'), Timestamp('2022-11-08 00:00:00'), Timestamp('2023-01-12 00:00:00'), Timestamp('2023-04-10 00:00:00'), Timestamp('2023-07-18 00:00:00'), Timestamp('2023-10-16 00:00:00')], 'sellprices': [8539.980040529597, 8173.808786021157, 10856.785457358888, 12472.978692529223, 55883.36379796008, 38359.210816744395, 58780.283974642465, 40767.622698468986, 45603.7439822489, 22788.66656118183, 19732.13549627461, 18753.879574434908, 29389.60131565025, 29405.70208773489, 29941.195646657172], 'profits': [0.09126600199391414, 0.09126600199391406, 0.09126600199391408, 0.09126600199391403, -0.042328901010814185, -0.04232890101081418, 0.0912660019939141, -0.042328901010814164, 0.09126600199391406, -0.04232890101081427, -0.04232890101081425, 0.09126600199391412, 0.09126600199391417, -0.042328901010814254, 0.09126600199391405]} could not be cast to float.\n",
      "[W 2023-10-27 02:48:04,595] Trial 8 failed with value ({'buydates': [Timestamp('2020-01-09 00:00:00'), Timestamp('2020-04-23 00:00:00'), Timestamp('2020-07-26 00:00:00'), Timestamp('2020-10-13 00:00:00'), Timestamp('2021-05-09 00:00:00'), Timestamp('2021-07-29 00:00:00'), Timestamp('2021-10-07 00:00:00'), Timestamp('2022-02-14 00:00:00'), Timestamp('2022-03-18 00:00:00'), Timestamp('2022-07-29 00:00:00'), Timestamp('2022-10-28 00:00:00'), Timestamp('2023-01-09 00:00:00'), Timestamp('2023-03-18 00:00:00'), Timestamp('2023-06-23 00:00:00'), Timestamp('2023-10-03 00:00:00')], 'buyprices': [7818.59, 7483.35, 9939.69, 11419.36, 58292.53, 40012.9, 53814.99, 42525.14, 41751.5, 23771.1, 20582.8, 17169.7, 26907.0, 30673.4, 27412.0], 'selldates': [Timestamp('2020-01-14 00:00:00'), Timestamp('2020-04-29 00:00:00'), Timestamp('2020-07-27 00:00:00'), Timestamp('2020-10-21 00:00:00'), Timestamp('2021-05-10 00:00:00'), Timestamp('2021-07-30 00:00:00'), Timestamp('2021-10-15 00:00:00'), Timestamp('2022-02-17 00:00:00'), Timestamp('2022-03-27 00:00:00'), Timestamp('2022-08-02 00:00:00'), Timestamp('2022-11-08 00:00:00'), Timestamp('2023-01-12 00:00:00'), Timestamp('2023-04-10 00:00:00'), Timestamp('2023-07-18 00:00:00'), Timestamp('2023-10-16 00:00:00')], 'sellprices': [8539.980040529597, 8173.808786021157, 10856.785457358888, 12472.978692529223, 55883.36379796008, 38359.210816744395, 58780.283974642465, 40767.622698468986, 45603.7439822489, 22788.66656118183, 19732.13549627461, 18753.879574434908, 29389.60131565025, 29405.70208773489, 29941.195646657172], 'profits': [0.09126600199391414, 0.09126600199391406, 0.09126600199391408, 0.09126600199391403, -0.042328901010814185, -0.04232890101081418, 0.0912660019939141, -0.042328901010814164, 0.09126600199391406, -0.04232890101081427, -0.04232890101081425, 0.09126600199391412, 0.09126600199391417, -0.042328901010814254, 0.09126600199391405]},     ticker  returns  winrate  trades  buy&hold_ret%\n",
      "0  BTCUSDT    69.31     60.0      15          240.9).\n",
      "[W 2023-10-27 02:48:04,977] Trial 9 failed with parameters: {'fast_ma_period': 22, 'slow_ma_period': 59, 'rsi_period': 20, 'sl_perc': 3.9772529013939115, 'tp_perc': 7.546086725476741} because of the following error: The value {'buydates': [Timestamp('2019-11-10 00:00:00'), Timestamp('2020-01-12 00:00:00'), Timestamp('2020-04-25 00:00:00'), Timestamp('2020-07-28 00:00:00'), Timestamp('2020-10-17 00:00:00'), Timestamp('2021-08-02 00:00:00'), Timestamp('2021-10-12 00:00:00'), Timestamp('2022-03-17 00:00:00'), Timestamp('2022-08-03 00:00:00'), Timestamp('2022-11-02 00:00:00'), Timestamp('2023-01-10 00:00:00'), Timestamp('2023-03-18 00:00:00'), Timestamp('2023-06-27 00:00:00'), Timestamp('2023-10-06 00:00:00')], 'buyprices': [9041.31, 8186.7, 7534.01, 10919.94, 11356.25, 39147.48, 56011.84, 40898.1, 22801.5, 20140.1, 17428.8, 26907.0, 30683.2, 27916.3], 'selldates': [Timestamp('2019-11-11 00:00:00'), Timestamp('2020-01-14 00:00:00'), Timestamp('2020-04-29 00:00:00'), Timestamp('2020-08-01 00:00:00'), Timestamp('2020-10-21 00:00:00'), Timestamp('2021-08-04 00:00:00'), Timestamp('2021-10-15 00:00:00'), Timestamp('2022-03-24 00:00:00'), Timestamp('2022-08-11 00:00:00'), Timestamp('2022-11-08 00:00:00'), Timestamp('2023-01-12 00:00:00'), Timestamp('2023-03-30 00:00:00'), Timestamp('2023-07-18 00:00:00'), Timestamp('2023-10-11 00:00:00')], 'sellprices': [8681.714235700982, 8804.475481954603, 8102.532928506091, 11743.968142770025, 12213.202473761952, 37590.4857158774, 60238.54202293527, 43984.3060950722, 24522.12096470958, 19339.077288406363, 18743.99236320989, 28937.42555522403, 29462.851537759503, 26805.99814828817], 'profits': [-0.04077252901393912, 0.0744608672547673, 0.07446086725476744, 0.0744608672547674, 0.07446086725476739, -0.04077252901393909, 0.0744608672547674, 0.07446086725476736, 0.07446086725476737, -0.04077252901393916, 0.07446086725476748, 0.07446086725476747, -0.04077252901393914, -0.04077252901393913]} could not be cast to float.\n",
      "[W 2023-10-27 02:48:04,984] Trial 9 failed with value ({'buydates': [Timestamp('2019-11-10 00:00:00'), Timestamp('2020-01-12 00:00:00'), Timestamp('2020-04-25 00:00:00'), Timestamp('2020-07-28 00:00:00'), Timestamp('2020-10-17 00:00:00'), Timestamp('2021-08-02 00:00:00'), Timestamp('2021-10-12 00:00:00'), Timestamp('2022-03-17 00:00:00'), Timestamp('2022-08-03 00:00:00'), Timestamp('2022-11-02 00:00:00'), Timestamp('2023-01-10 00:00:00'), Timestamp('2023-03-18 00:00:00'), Timestamp('2023-06-27 00:00:00'), Timestamp('2023-10-06 00:00:00')], 'buyprices': [9041.31, 8186.7, 7534.01, 10919.94, 11356.25, 39147.48, 56011.84, 40898.1, 22801.5, 20140.1, 17428.8, 26907.0, 30683.2, 27916.3], 'selldates': [Timestamp('2019-11-11 00:00:00'), Timestamp('2020-01-14 00:00:00'), Timestamp('2020-04-29 00:00:00'), Timestamp('2020-08-01 00:00:00'), Timestamp('2020-10-21 00:00:00'), Timestamp('2021-08-04 00:00:00'), Timestamp('2021-10-15 00:00:00'), Timestamp('2022-03-24 00:00:00'), Timestamp('2022-08-11 00:00:00'), Timestamp('2022-11-08 00:00:00'), Timestamp('2023-01-12 00:00:00'), Timestamp('2023-03-30 00:00:00'), Timestamp('2023-07-18 00:00:00'), Timestamp('2023-10-11 00:00:00')], 'sellprices': [8681.714235700982, 8804.475481954603, 8102.532928506091, 11743.968142770025, 12213.202473761952, 37590.4857158774, 60238.54202293527, 43984.3060950722, 24522.12096470958, 19339.077288406363, 18743.99236320989, 28937.42555522403, 29462.851537759503, 26805.99814828817], 'profits': [-0.04077252901393912, 0.0744608672547673, 0.07446086725476744, 0.0744608672547674, 0.07446086725476739, -0.04077252901393909, 0.0744608672547674, 0.07446086725476736, 0.07446086725476737, -0.04077252901393916, 0.07446086725476748, 0.07446086725476747, -0.04077252901393914, -0.04077252901393913]},     ticker  returns  winrate  trades  buy&hold_ret%\n",
      "0  BTCUSDT     55.0    64.29      14          240.9).\n"
     ]
    },
    {
     "name": "stdout",
     "output_type": "stream",
     "text": [
      "BTCUSDT, winrate=64.29%, returns=55.0%, no. of trades = 14, buy&hold_ret = 240.89999999999998%\n",
      "BTCUSDT, winrate=83.33%, returns=49.74%, no. of trades = 12, buy&hold_ret = 240.89999999999998%\n"
     ]
    },
    {
     "name": "stderr",
     "output_type": "stream",
     "text": [
      "[W 2023-10-27 02:48:05,211] Trial 10 failed with parameters: {'fast_ma_period': 16, 'slow_ma_period': 66, 'rsi_period': 11, 'sl_perc': 6.79142332186913, 'tp_perc': 5.717667810354919} because of the following error: The value {'buydates': [Timestamp('2020-01-13 00:00:00'), Timestamp('2020-04-28 00:00:00'), Timestamp('2020-07-27 00:00:00'), Timestamp('2020-10-17 00:00:00'), Timestamp('2021-08-01 00:00:00'), Timestamp('2021-10-08 00:00:00'), Timestamp('2022-03-22 00:00:00'), Timestamp('2022-08-06 00:00:00'), Timestamp('2022-10-30 00:00:00'), Timestamp('2023-01-12 00:00:00'), Timestamp('2023-06-26 00:00:00'), Timestamp('2023-10-08 00:00:00')], 'buyprices': [8113.0, 7735.75, 11047.58, 11356.25, 39846.78, 53975.0, 42349.8, 22943.3, 20615.6, 18838.0, 30260.1, 27901.2], 'selldates': [Timestamp('2020-01-14 00:00:00'), Timestamp('2020-04-29 00:00:00'), Timestamp('2020-08-01 00:00:00'), Timestamp('2020-10-20 00:00:00'), Timestamp('2021-08-06 00:00:00'), Timestamp('2021-10-11 00:00:00'), Timestamp('2022-03-25 00:00:00'), Timestamp('2022-08-11 00:00:00'), Timestamp('2022-11-08 00:00:00'), Timestamp('2023-01-13 00:00:00'), Timestamp('2023-08-17 00:00:00'), Timestamp('2023-10-16 00:00:00')], 'sellprices': [8576.874389454095, 8178.054487639531, 11679.243925483208, 12005.562650713431, 42125.08651352294, 57061.11120063907, 44771.22088234969, 24255.12167873316, 19215.507333656748, 19915.09426211466, 28205.008511379077, 29496.49793110275], 'profits': [0.056176678103549225, 0.05617667810354919, 0.05617667810354919, 0.056176678103549246, 0.05617667810354916, 0.056176678103549205, 0.056176678103549205, 0.056176678103549274, -0.06891423321869124, 0.05617667810354924, -0.06891423321869132, 0.05617667810354925]} could not be cast to float.\n",
      "[W 2023-10-27 02:48:05,216] Trial 10 failed with value ({'buydates': [Timestamp('2020-01-13 00:00:00'), Timestamp('2020-04-28 00:00:00'), Timestamp('2020-07-27 00:00:00'), Timestamp('2020-10-17 00:00:00'), Timestamp('2021-08-01 00:00:00'), Timestamp('2021-10-08 00:00:00'), Timestamp('2022-03-22 00:00:00'), Timestamp('2022-08-06 00:00:00'), Timestamp('2022-10-30 00:00:00'), Timestamp('2023-01-12 00:00:00'), Timestamp('2023-06-26 00:00:00'), Timestamp('2023-10-08 00:00:00')], 'buyprices': [8113.0, 7735.75, 11047.58, 11356.25, 39846.78, 53975.0, 42349.8, 22943.3, 20615.6, 18838.0, 30260.1, 27901.2], 'selldates': [Timestamp('2020-01-14 00:00:00'), Timestamp('2020-04-29 00:00:00'), Timestamp('2020-08-01 00:00:00'), Timestamp('2020-10-20 00:00:00'), Timestamp('2021-08-06 00:00:00'), Timestamp('2021-10-11 00:00:00'), Timestamp('2022-03-25 00:00:00'), Timestamp('2022-08-11 00:00:00'), Timestamp('2022-11-08 00:00:00'), Timestamp('2023-01-13 00:00:00'), Timestamp('2023-08-17 00:00:00'), Timestamp('2023-10-16 00:00:00')], 'sellprices': [8576.874389454095, 8178.054487639531, 11679.243925483208, 12005.562650713431, 42125.08651352294, 57061.11120063907, 44771.22088234969, 24255.12167873316, 19215.507333656748, 19915.09426211466, 28205.008511379077, 29496.49793110275], 'profits': [0.056176678103549225, 0.05617667810354919, 0.05617667810354919, 0.056176678103549246, 0.05617667810354916, 0.056176678103549205, 0.056176678103549205, 0.056176678103549274, -0.06891423321869124, 0.05617667810354924, -0.06891423321869132, 0.05617667810354925]},     ticker  returns  winrate  trades  buy&hold_ret%\n",
      "0  BTCUSDT    49.74    83.33      12          240.9).\n",
      "[W 2023-10-27 02:48:05,479] Trial 11 failed with parameters: {'fast_ma_period': 23, 'slow_ma_period': 64, 'rsi_period': 22, 'sl_perc': 7.222261277566166, 'tp_perc': 10.763739540865323} because of the following error: The value {'buydates': [Timestamp('2020-01-14 00:00:00'), Timestamp('2020-04-28 00:00:00'), Timestamp('2020-07-28 00:00:00'), Timestamp('2020-10-19 00:00:00'), Timestamp('2021-08-04 00:00:00'), Timestamp('2021-10-12 00:00:00'), Timestamp('2022-03-19 00:00:00'), Timestamp('2022-08-06 00:00:00'), Timestamp('2022-11-03 00:00:00'), Timestamp('2023-01-11 00:00:00'), Timestamp('2023-06-28 00:00:00'), Timestamp('2023-10-08 00:00:00')], 'buyprices': [8825.0, 7735.75, 10919.94, 11745.0, 39731.31, 56011.84, 42188.2, 22943.3, 20199.7, 17935.7, 30066.3, 27901.2], 'selldates': [Timestamp('2020-02-05 00:00:00'), Timestamp('2020-04-29 00:00:00'), Timestamp('2020-08-02 00:00:00'), Timestamp('2020-10-21 00:00:00'), Timestamp('2021-08-07 00:00:00'), Timestamp('2021-10-15 00:00:00'), Timestamp('2022-03-27 00:00:00'), Timestamp('2022-08-19 00:00:00'), Timestamp('2022-11-08 00:00:00'), Timestamp('2023-01-13 00:00:00'), Timestamp('2023-08-17 00:00:00'), Timestamp('2023-10-23 00:00:00')], 'sellprices': [9774.900014481364, 8568.405981532489, 12095.333899618769, 13009.20120907463, 44007.88472457377, 62040.80856964621, 46729.227964979335, 21286.27492830416, 18740.824888715466, 19866.25203283098, 27894.833257503124, 30904.412496775913], 'profits': [0.1066373954086531, 0.1066373954086532, 0.10663739540865316, 0.10663739540865307, 0.10663739540865311, 0.1066373954086531, 0.10663739540865308, -0.07322261277566174, -0.07322261277566175, 0.1066373954086531, -0.07322261277566165, 0.1066373954086531]} could not be cast to float.\n",
      "[W 2023-10-27 02:48:05,484] Trial 11 failed with value ({'buydates': [Timestamp('2020-01-14 00:00:00'), Timestamp('2020-04-28 00:00:00'), Timestamp('2020-07-28 00:00:00'), Timestamp('2020-10-19 00:00:00'), Timestamp('2021-08-04 00:00:00'), Timestamp('2021-10-12 00:00:00'), Timestamp('2022-03-19 00:00:00'), Timestamp('2022-08-06 00:00:00'), Timestamp('2022-11-03 00:00:00'), Timestamp('2023-01-11 00:00:00'), Timestamp('2023-06-28 00:00:00'), Timestamp('2023-10-08 00:00:00')], 'buyprices': [8825.0, 7735.75, 10919.94, 11745.0, 39731.31, 56011.84, 42188.2, 22943.3, 20199.7, 17935.7, 30066.3, 27901.2], 'selldates': [Timestamp('2020-02-05 00:00:00'), Timestamp('2020-04-29 00:00:00'), Timestamp('2020-08-02 00:00:00'), Timestamp('2020-10-21 00:00:00'), Timestamp('2021-08-07 00:00:00'), Timestamp('2021-10-15 00:00:00'), Timestamp('2022-03-27 00:00:00'), Timestamp('2022-08-19 00:00:00'), Timestamp('2022-11-08 00:00:00'), Timestamp('2023-01-13 00:00:00'), Timestamp('2023-08-17 00:00:00'), Timestamp('2023-10-23 00:00:00')], 'sellprices': [9774.900014481364, 8568.405981532489, 12095.333899618769, 13009.20120907463, 44007.88472457377, 62040.80856964621, 46729.227964979335, 21286.27492830416, 18740.824888715466, 19866.25203283098, 27894.833257503124, 30904.412496775913], 'profits': [0.1066373954086531, 0.1066373954086532, 0.10663739540865316, 0.10663739540865307, 0.10663739540865311, 0.1066373954086531, 0.10663739540865308, -0.07322261277566174, -0.07322261277566175, 0.1066373954086531, -0.07322261277566165, 0.1066373954086531]},     ticker  returns  winrate  trades  buy&hold_ret%\n",
      "0  BTCUSDT    98.14     75.0      12          240.9).\n"
     ]
    },
    {
     "name": "stdout",
     "output_type": "stream",
     "text": [
      "BTCUSDT, winrate=75.0%, returns=98.14%, no. of trades = 12, buy&hold_ret = 240.89999999999998%\n",
      "BTCUSDT, winrate=33.33%, returns=5.95%, no. of trades = 12, buy&hold_ret = 240.89999999999998%\n"
     ]
    },
    {
     "name": "stderr",
     "output_type": "stream",
     "text": [
      "[W 2023-10-27 02:48:05,664] Trial 12 failed with parameters: {'fast_ma_period': 20, 'slow_ma_period': 74, 'rsi_period': 16, 'sl_perc': 3.044629175963947, 'tp_perc': 8.250443803989388} because of the following error: The value {'buydates': [Timestamp('2020-01-16 00:00:00'), Timestamp('2020-05-02 00:00:00'), Timestamp('2020-07-27 00:00:00'), Timestamp('2020-10-20 00:00:00'), Timestamp('2021-08-03 00:00:00'), Timestamp('2021-10-06 00:00:00'), Timestamp('2022-03-19 00:00:00'), Timestamp('2022-03-25 00:00:00'), Timestamp('2022-08-12 00:00:00'), Timestamp('2022-11-04 00:00:00'), Timestamp('2023-01-14 00:00:00'), Timestamp('2023-06-28 00:00:00')], 'buyprices': [8725.08, 8975.18, 11047.58, 11900.03, 38203.26, 55321.6, 42188.2, 44290.6, 24387.5, 21137.6, 20962.8, 30066.3], 'selldates': [Timestamp('2020-01-19 00:00:00'), Timestamp('2020-05-04 00:00:00'), Timestamp('2020-07-28 00:00:00'), Timestamp('2020-10-21 00:00:00'), Timestamp('2021-08-06 00:00:00'), Timestamp('2021-10-07 00:00:00'), Timestamp('2022-03-20 00:00:00'), Timestamp('2022-03-28 00:00:00'), Timestamp('2022-08-17 00:00:00'), Timestamp('2022-11-07 00:00:00'), Timestamp('2023-01-20 00:00:00'), Timestamp('2023-07-24 00:00:00')], 'sellprices': [8459.433668693806, 8701.91905112472, 10711.222156082044, 12881.835287807879, 41355.198497591955, 53637.26242578993, 40903.72575398598, 47944.77106344972, 23644.991059711792, 20494.038463301444, 22692.324033742687, 29150.892658067154], 'profits': [-0.031446291759639346, -0.031446291759639415, -0.031446291759639346, 0.08150443803989384, 0.08150443803989378, -0.031446291759639436, -0.031446291759639394, 0.08150443803989382, -0.03144629175963947, -0.03144629175963945, 0.08150443803989389, -0.031446291759639367]} could not be cast to float.\n",
      "[W 2023-10-27 02:48:05,669] Trial 12 failed with value ({'buydates': [Timestamp('2020-01-16 00:00:00'), Timestamp('2020-05-02 00:00:00'), Timestamp('2020-07-27 00:00:00'), Timestamp('2020-10-20 00:00:00'), Timestamp('2021-08-03 00:00:00'), Timestamp('2021-10-06 00:00:00'), Timestamp('2022-03-19 00:00:00'), Timestamp('2022-03-25 00:00:00'), Timestamp('2022-08-12 00:00:00'), Timestamp('2022-11-04 00:00:00'), Timestamp('2023-01-14 00:00:00'), Timestamp('2023-06-28 00:00:00')], 'buyprices': [8725.08, 8975.18, 11047.58, 11900.03, 38203.26, 55321.6, 42188.2, 44290.6, 24387.5, 21137.6, 20962.8, 30066.3], 'selldates': [Timestamp('2020-01-19 00:00:00'), Timestamp('2020-05-04 00:00:00'), Timestamp('2020-07-28 00:00:00'), Timestamp('2020-10-21 00:00:00'), Timestamp('2021-08-06 00:00:00'), Timestamp('2021-10-07 00:00:00'), Timestamp('2022-03-20 00:00:00'), Timestamp('2022-03-28 00:00:00'), Timestamp('2022-08-17 00:00:00'), Timestamp('2022-11-07 00:00:00'), Timestamp('2023-01-20 00:00:00'), Timestamp('2023-07-24 00:00:00')], 'sellprices': [8459.433668693806, 8701.91905112472, 10711.222156082044, 12881.835287807879, 41355.198497591955, 53637.26242578993, 40903.72575398598, 47944.77106344972, 23644.991059711792, 20494.038463301444, 22692.324033742687, 29150.892658067154], 'profits': [-0.031446291759639346, -0.031446291759639415, -0.031446291759639346, 0.08150443803989384, 0.08150443803989378, -0.031446291759639436, -0.031446291759639394, 0.08150443803989382, -0.03144629175963947, -0.03144629175963945, 0.08150443803989389, -0.031446291759639367]},     ticker  returns  winrate  trades  buy&hold_ret%\n",
      "0  BTCUSDT     5.95    33.33      12          240.9).\n",
      "[W 2023-10-27 02:48:05,997] Trial 13 failed with parameters: {'fast_ma_period': 13, 'slow_ma_period': 51, 'rsi_period': 13, 'sl_perc': 6.688213096567992, 'tp_perc': 11.786001392859319} because of the following error: The value {'buydates': [Timestamp('2019-11-03 00:00:00'), Timestamp('2020-01-07 00:00:00'), Timestamp('2020-04-17 00:00:00'), Timestamp('2020-07-26 00:00:00'), Timestamp('2020-10-12 00:00:00'), Timestamp('2021-07-30 00:00:00'), Timestamp('2021-10-08 00:00:00'), Timestamp('2022-02-15 00:00:00'), Timestamp('2022-03-24 00:00:00'), Timestamp('2022-07-27 00:00:00'), Timestamp('2022-10-29 00:00:00'), Timestamp('2023-01-10 00:00:00'), Timestamp('2023-03-19 00:00:00'), Timestamp('2023-06-23 00:00:00'), Timestamp('2023-09-30 00:00:00')], 'buyprices': [9197.88, 8152.49, 7022.44, 9939.69, 11530.36, 42203.25, 53975.0, 44529.6, 43973.4, 22941.1, 20796.7, 17428.8, 27955.7, 30673.4, 26950.9], 'selldates': [Timestamp('2019-11-12 00:00:00'), Timestamp('2020-01-19 00:00:00'), Timestamp('2020-04-29 00:00:00'), Timestamp('2020-07-27 00:00:00'), Timestamp('2020-10-21 00:00:00'), Timestamp('2021-08-01 00:00:00'), Timestamp('2021-10-15 00:00:00'), Timestamp('2022-02-17 00:00:00'), Timestamp('2022-04-11 00:00:00'), Timestamp('2022-08-19 00:00:00'), Timestamp('2022-11-08 00:00:00'), Timestamp('2023-01-13 00:00:00'), Timestamp('2023-05-12 00:00:00'), Timestamp('2023-08-01 00:00:00'), Timestamp('2023-10-16 00:00:00')], 'sellprices': [8582.70618523339, 9113.342584952718, 7850.10487621271, 11111.1820018459, 12889.328390201696, 39380.606706322666, 60336.49425179582, 41551.365460950656, 41032.36530219377, 21406.750345303237, 19405.772386946042, 19482.958610758666, 26085.96321136274, 28621.897644037315, 30127.333449388127], 'profits': [-0.06788213096568006, 0.11686001392859333, 0.11686001392859328, 0.11686001392859331, 0.11686001392859328, -0.06788213096568001, 0.11686001392859321, -0.06788213096567998, -0.06788213096567992, -0.06788213096568002, -0.06788213096568005, 0.11686001392859327, -0.06788213096567997, -0.06788213096567991, 0.1168600139285933]} could not be cast to float.\n",
      "[W 2023-10-27 02:48:06,006] Trial 13 failed with value ({'buydates': [Timestamp('2019-11-03 00:00:00'), Timestamp('2020-01-07 00:00:00'), Timestamp('2020-04-17 00:00:00'), Timestamp('2020-07-26 00:00:00'), Timestamp('2020-10-12 00:00:00'), Timestamp('2021-07-30 00:00:00'), Timestamp('2021-10-08 00:00:00'), Timestamp('2022-02-15 00:00:00'), Timestamp('2022-03-24 00:00:00'), Timestamp('2022-07-27 00:00:00'), Timestamp('2022-10-29 00:00:00'), Timestamp('2023-01-10 00:00:00'), Timestamp('2023-03-19 00:00:00'), Timestamp('2023-06-23 00:00:00'), Timestamp('2023-09-30 00:00:00')], 'buyprices': [9197.88, 8152.49, 7022.44, 9939.69, 11530.36, 42203.25, 53975.0, 44529.6, 43973.4, 22941.1, 20796.7, 17428.8, 27955.7, 30673.4, 26950.9], 'selldates': [Timestamp('2019-11-12 00:00:00'), Timestamp('2020-01-19 00:00:00'), Timestamp('2020-04-29 00:00:00'), Timestamp('2020-07-27 00:00:00'), Timestamp('2020-10-21 00:00:00'), Timestamp('2021-08-01 00:00:00'), Timestamp('2021-10-15 00:00:00'), Timestamp('2022-02-17 00:00:00'), Timestamp('2022-04-11 00:00:00'), Timestamp('2022-08-19 00:00:00'), Timestamp('2022-11-08 00:00:00'), Timestamp('2023-01-13 00:00:00'), Timestamp('2023-05-12 00:00:00'), Timestamp('2023-08-01 00:00:00'), Timestamp('2023-10-16 00:00:00')], 'sellprices': [8582.70618523339, 9113.342584952718, 7850.10487621271, 11111.1820018459, 12889.328390201696, 39380.606706322666, 60336.49425179582, 41551.365460950656, 41032.36530219377, 21406.750345303237, 19405.772386946042, 19482.958610758666, 26085.96321136274, 28621.897644037315, 30127.333449388127], 'profits': [-0.06788213096568006, 0.11686001392859333, 0.11686001392859328, 0.11686001392859331, 0.11686001392859328, -0.06788213096568001, 0.11686001392859321, -0.06788213096567998, -0.06788213096567992, -0.06788213096568002, -0.06788213096568005, 0.11686001392859327, -0.06788213096567997, -0.06788213096567991, 0.1168600139285933]},     ticker  returns  winrate  trades  buy&hold_ret%\n",
      "0  BTCUSDT    23.53    46.67      15          240.9).\n"
     ]
    },
    {
     "name": "stdout",
     "output_type": "stream",
     "text": [
      "BTCUSDT, winrate=46.67%, returns=23.53%, no. of trades = 15, buy&hold_ret = 240.89999999999998%\n",
      "BTCUSDT, winrate=38.46%, returns=3.86%, no. of trades = 13, buy&hold_ret = 240.89999999999998%\n"
     ]
    },
    {
     "name": "stderr",
     "output_type": "stream",
     "text": [
      "[W 2023-10-27 02:48:06,221] Trial 14 failed with parameters: {'fast_ma_period': 15, 'slow_ma_period': 69, 'rsi_period': 19, 'sl_perc': 3.009480568959217, 'tp_perc': 6.0848301139042595} because of the following error: The value {'buydates': [Timestamp('2020-01-13 00:00:00'), Timestamp('2020-04-29 00:00:00'), Timestamp('2020-07-27 00:00:00'), Timestamp('2020-10-17 00:00:00'), Timestamp('2021-05-11 00:00:00'), Timestamp('2021-07-31 00:00:00'), Timestamp('2021-10-07 00:00:00'), Timestamp('2022-03-22 00:00:00'), Timestamp('2022-08-08 00:00:00'), Timestamp('2022-10-31 00:00:00'), Timestamp('2023-01-13 00:00:00'), Timestamp('2023-06-25 00:00:00'), Timestamp('2023-10-08 00:00:00')], 'buyprices': [8113.0, 8784.2, 11047.58, 11356.25, 56710.43, 41448.11, 53814.99, 42349.8, 23804.4, 20482.0, 19924.2, 30458.0, 27901.2], 'selldates': [Timestamp('2020-01-14 00:00:00'), Timestamp('2020-04-30 00:00:00'), Timestamp('2020-07-28 00:00:00'), Timestamp('2020-10-21 00:00:00'), Timestamp('2021-05-12 00:00:00'), Timestamp('2021-08-01 00:00:00'), Timestamp('2021-10-11 00:00:00'), Timestamp('2022-03-25 00:00:00'), Timestamp('2022-08-09 00:00:00'), Timestamp('2022-11-08 00:00:00'), Timestamp('2023-01-14 00:00:00'), Timestamp('2023-06-30 00:00:00'), Timestamp('2023-10-11 00:00:00')], 'sellprices': [8606.662267141053, 8519.841207861486, 10715.105226559775, 12047.258519810253, 55003.74062857678, 40200.737183349156, 57089.540717314565, 44926.71338357823, 23088.011207442672, 19865.598189865774, 21136.553721554512, 29541.3724083064, 27061.51880749355], 'profits': [0.05984830113904267, -0.031094805689592123, -0.03109480568959215, 0.05984830113904267, -0.031094805689592216, -0.031094805689592227, 0.05984830113904262, 0.0598483011390426, -0.031094805689592216, -0.031094805689592143, 0.05984830113904253, -0.031094805689592202, -0.031094805689592216]} could not be cast to float.\n",
      "[W 2023-10-27 02:48:06,227] Trial 14 failed with value ({'buydates': [Timestamp('2020-01-13 00:00:00'), Timestamp('2020-04-29 00:00:00'), Timestamp('2020-07-27 00:00:00'), Timestamp('2020-10-17 00:00:00'), Timestamp('2021-05-11 00:00:00'), Timestamp('2021-07-31 00:00:00'), Timestamp('2021-10-07 00:00:00'), Timestamp('2022-03-22 00:00:00'), Timestamp('2022-08-08 00:00:00'), Timestamp('2022-10-31 00:00:00'), Timestamp('2023-01-13 00:00:00'), Timestamp('2023-06-25 00:00:00'), Timestamp('2023-10-08 00:00:00')], 'buyprices': [8113.0, 8784.2, 11047.58, 11356.25, 56710.43, 41448.11, 53814.99, 42349.8, 23804.4, 20482.0, 19924.2, 30458.0, 27901.2], 'selldates': [Timestamp('2020-01-14 00:00:00'), Timestamp('2020-04-30 00:00:00'), Timestamp('2020-07-28 00:00:00'), Timestamp('2020-10-21 00:00:00'), Timestamp('2021-05-12 00:00:00'), Timestamp('2021-08-01 00:00:00'), Timestamp('2021-10-11 00:00:00'), Timestamp('2022-03-25 00:00:00'), Timestamp('2022-08-09 00:00:00'), Timestamp('2022-11-08 00:00:00'), Timestamp('2023-01-14 00:00:00'), Timestamp('2023-06-30 00:00:00'), Timestamp('2023-10-11 00:00:00')], 'sellprices': [8606.662267141053, 8519.841207861486, 10715.105226559775, 12047.258519810253, 55003.74062857678, 40200.737183349156, 57089.540717314565, 44926.71338357823, 23088.011207442672, 19865.598189865774, 21136.553721554512, 29541.3724083064, 27061.51880749355], 'profits': [0.05984830113904267, -0.031094805689592123, -0.03109480568959215, 0.05984830113904267, -0.031094805689592216, -0.031094805689592227, 0.05984830113904262, 0.0598483011390426, -0.031094805689592216, -0.031094805689592143, 0.05984830113904253, -0.031094805689592202, -0.031094805689592216]},     ticker  returns  winrate  trades  buy&hold_ret%\n",
      "0  BTCUSDT     3.86    38.46      13          240.9).\n",
      "[W 2023-10-27 02:48:06,462] Trial 15 failed with parameters: {'fast_ma_period': 10, 'slow_ma_period': 52, 'rsi_period': 23, 'sl_perc': 3.635950257854878, 'tp_perc': 10.865669930260939} because of the following error: The value {'buydates': [Timestamp('2019-11-01 00:00:00'), Timestamp('2020-01-07 00:00:00'), Timestamp('2020-07-26 00:00:00'), Timestamp('2020-10-12 00:00:00'), Timestamp('2021-05-09 00:00:00'), Timestamp('2021-07-29 00:00:00'), Timestamp('2021-10-07 00:00:00'), Timestamp('2022-03-22 00:00:00'), Timestamp('2022-07-27 00:00:00'), Timestamp('2022-10-28 00:00:00'), Timestamp('2023-01-09 00:00:00'), Timestamp('2023-03-18 00:00:00'), Timestamp('2023-06-23 00:00:00'), Timestamp('2023-10-01 00:00:00')], 'buyprices': [9231.01, 8152.49, 9939.69, 11530.36, 58292.53, 40012.9, 53814.99, 42349.8, 22941.1, 20582.8, 17169.7, 26907.0, 30673.4, 27981.4], 'selldates': [Timestamp('2019-11-08 00:00:00'), Timestamp('2020-01-09 00:00:00'), Timestamp('2020-07-27 00:00:00'), Timestamp('2020-10-21 00:00:00'), Timestamp('2021-05-10 00:00:00'), Timestamp('2021-07-30 00:00:00'), Timestamp('2021-10-15 00:00:00'), Timestamp('2022-03-27 00:00:00'), Timestamp('2022-08-19 00:00:00'), Timestamp('2022-11-08 00:00:00'), Timestamp('2023-01-12 00:00:00'), Timestamp('2023-04-10 00:00:00'), Timestamp('2023-06-30 00:00:00'), Timestamp('2023-10-11 00:00:00')], 'sellprices': [8895.37506810239, 7856.069518823407, 11019.703907491155, 12783.210859370836, 56173.042605154864, 38558.05085927479, 59662.349186402935, 46951.389484125655, 22106.97301539525, 19834.419630326243, 19035.302930016016, 29830.62580813531, 29558.13043360714, 26964.010214548594], 'profits': [-0.037359502578548816, -0.037359502578548774, 0.10765669930260952, 0.10765669930260942, -0.03735950257854883, -0.037359502578548795, 0.1076566993026095, 0.1076566993026095, -0.03735950257854886, -0.037359502578548885, 0.10765669930260956, 0.10765669930260942, -0.037359502578548864, -0.03735950257854886]} could not be cast to float.\n",
      "[W 2023-10-27 02:48:06,469] Trial 15 failed with value ({'buydates': [Timestamp('2019-11-01 00:00:00'), Timestamp('2020-01-07 00:00:00'), Timestamp('2020-07-26 00:00:00'), Timestamp('2020-10-12 00:00:00'), Timestamp('2021-05-09 00:00:00'), Timestamp('2021-07-29 00:00:00'), Timestamp('2021-10-07 00:00:00'), Timestamp('2022-03-22 00:00:00'), Timestamp('2022-07-27 00:00:00'), Timestamp('2022-10-28 00:00:00'), Timestamp('2023-01-09 00:00:00'), Timestamp('2023-03-18 00:00:00'), Timestamp('2023-06-23 00:00:00'), Timestamp('2023-10-01 00:00:00')], 'buyprices': [9231.01, 8152.49, 9939.69, 11530.36, 58292.53, 40012.9, 53814.99, 42349.8, 22941.1, 20582.8, 17169.7, 26907.0, 30673.4, 27981.4], 'selldates': [Timestamp('2019-11-08 00:00:00'), Timestamp('2020-01-09 00:00:00'), Timestamp('2020-07-27 00:00:00'), Timestamp('2020-10-21 00:00:00'), Timestamp('2021-05-10 00:00:00'), Timestamp('2021-07-30 00:00:00'), Timestamp('2021-10-15 00:00:00'), Timestamp('2022-03-27 00:00:00'), Timestamp('2022-08-19 00:00:00'), Timestamp('2022-11-08 00:00:00'), Timestamp('2023-01-12 00:00:00'), Timestamp('2023-04-10 00:00:00'), Timestamp('2023-06-30 00:00:00'), Timestamp('2023-10-11 00:00:00')], 'sellprices': [8895.37506810239, 7856.069518823407, 11019.703907491155, 12783.210859370836, 56173.042605154864, 38558.05085927479, 59662.349186402935, 46951.389484125655, 22106.97301539525, 19834.419630326243, 19035.302930016016, 29830.62580813531, 29558.13043360714, 26964.010214548594], 'profits': [-0.037359502578548816, -0.037359502578548774, 0.10765669930260952, 0.10765669930260942, -0.03735950257854883, -0.037359502578548795, 0.1076566993026095, 0.1076566993026095, -0.03735950257854886, -0.037359502578548885, 0.10765669930260956, 0.10765669930260942, -0.037359502578548864, -0.03735950257854886]},     ticker  returns  winrate  trades  buy&hold_ret%\n",
      "0  BTCUSDT    36.19    42.86      14          240.9).\n"
     ]
    },
    {
     "name": "stdout",
     "output_type": "stream",
     "text": [
      "BTCUSDT, winrate=42.86%, returns=36.19%, no. of trades = 14, buy&hold_ret = 240.89999999999998%\n",
      "BTCUSDT, winrate=45.45%, returns=23.31%, no. of trades = 11, buy&hold_ret = 240.89999999999998%\n"
     ]
    },
    {
     "name": "stderr",
     "output_type": "stream",
     "text": [
      "[W 2023-10-27 02:48:06,668] Trial 16 failed with parameters: {'fast_ma_period': 23, 'slow_ma_period': 71, 'rsi_period': 24, 'sl_perc': 3.976171647539142, 'tp_perc': 9.719730040440439} because of the following error: The value {'buydates': [Timestamp('2020-01-16 00:00:00'), Timestamp('2020-05-01 00:00:00'), Timestamp('2020-07-27 00:00:00'), Timestamp('2020-10-20 00:00:00'), Timestamp('2021-08-04 00:00:00'), Timestamp('2021-10-07 00:00:00'), Timestamp('2022-03-21 00:00:00'), Timestamp('2022-08-10 00:00:00'), Timestamp('2022-11-04 00:00:00'), Timestamp('2023-01-14 00:00:00'), Timestamp('2023-06-28 00:00:00')], 'buyprices': [8725.08, 8830.52, 11047.58, 11900.03, 39731.31, 53814.99, 40982.0, 23940.9, 21137.6, 20962.8, 30066.3], 'selldates': [Timestamp('2020-01-23 00:00:00'), Timestamp('2020-05-07 00:00:00'), Timestamp('2020-07-28 00:00:00'), Timestamp('2020-10-21 00:00:00'), Timestamp('2021-08-05 00:00:00'), Timestamp('2021-10-15 00:00:00'), Timestamp('2022-03-25 00:00:00'), Timestamp('2022-08-19 00:00:00'), Timestamp('2022-11-08 00:00:00'), Timestamp('2023-01-21 00:00:00'), Timestamp('2023-07-24 00:00:00')], 'sellprices': [8378.155842814893, 9688.822705167102, 10608.309256300796, 13056.680790731425, 38151.524916584116, 59045.66174929002, 44965.3397651733, 22988.968722034304, 20297.132741829766, 23000.327568917448, 28870.812303935938], 'profits': [-0.0407617164753913, 0.09619730040440444, -0.04076171647539136, 0.09619730040440438, -0.04076171647539137, 0.09619730040440444, 0.09619730040440444, -0.04076171647539138, -0.04076171647539137, 0.09619730040440441, -0.04076171647539143]} could not be cast to float.\n",
      "[W 2023-10-27 02:48:06,673] Trial 16 failed with value ({'buydates': [Timestamp('2020-01-16 00:00:00'), Timestamp('2020-05-01 00:00:00'), Timestamp('2020-07-27 00:00:00'), Timestamp('2020-10-20 00:00:00'), Timestamp('2021-08-04 00:00:00'), Timestamp('2021-10-07 00:00:00'), Timestamp('2022-03-21 00:00:00'), Timestamp('2022-08-10 00:00:00'), Timestamp('2022-11-04 00:00:00'), Timestamp('2023-01-14 00:00:00'), Timestamp('2023-06-28 00:00:00')], 'buyprices': [8725.08, 8830.52, 11047.58, 11900.03, 39731.31, 53814.99, 40982.0, 23940.9, 21137.6, 20962.8, 30066.3], 'selldates': [Timestamp('2020-01-23 00:00:00'), Timestamp('2020-05-07 00:00:00'), Timestamp('2020-07-28 00:00:00'), Timestamp('2020-10-21 00:00:00'), Timestamp('2021-08-05 00:00:00'), Timestamp('2021-10-15 00:00:00'), Timestamp('2022-03-25 00:00:00'), Timestamp('2022-08-19 00:00:00'), Timestamp('2022-11-08 00:00:00'), Timestamp('2023-01-21 00:00:00'), Timestamp('2023-07-24 00:00:00')], 'sellprices': [8378.155842814893, 9688.822705167102, 10608.309256300796, 13056.680790731425, 38151.524916584116, 59045.66174929002, 44965.3397651733, 22988.968722034304, 20297.132741829766, 23000.327568917448, 28870.812303935938], 'profits': [-0.0407617164753913, 0.09619730040440444, -0.04076171647539136, 0.09619730040440438, -0.04076171647539137, 0.09619730040440444, 0.09619730040440444, -0.04076171647539138, -0.04076171647539137, 0.09619730040440441, -0.04076171647539143]},     ticker  returns  winrate  trades  buy&hold_ret%\n",
      "0  BTCUSDT    23.31    45.45      11          240.9).\n",
      "[W 2023-10-27 02:48:06,987] Trial 17 failed with parameters: {'fast_ma_period': 15, 'slow_ma_period': 55, 'rsi_period': 17, 'sl_perc': 6.878433562445205, 'tp_perc': 6.580097549715574} because of the following error: The value {'buydates': [Timestamp('2019-11-05 00:00:00'), Timestamp('2020-01-09 00:00:00'), Timestamp('2020-04-22 00:00:00'), Timestamp('2020-07-27 00:00:00'), Timestamp('2020-10-14 00:00:00'), Timestamp('2021-07-31 00:00:00'), Timestamp('2021-10-09 00:00:00'), Timestamp('2022-03-23 00:00:00'), Timestamp('2022-07-30 00:00:00'), Timestamp('2022-10-29 00:00:00'), Timestamp('2023-01-11 00:00:00'), Timestamp('2023-03-19 00:00:00'), Timestamp('2023-06-24 00:00:00'), Timestamp('2023-10-02 00:00:00')], 'buyprices': [9313.2, 7818.59, 7120.06, 11047.58, 11417.13, 41448.11, 54960.77, 42867.9, 23629.9, 20796.7, 17935.7, 27955.7, 30524.2, 27477.6], 'selldates': [Timestamp('2019-11-08 00:00:00'), Timestamp('2020-01-14 00:00:00'), Timestamp('2020-04-23 00:00:00'), Timestamp('2020-08-01 00:00:00'), Timestamp('2020-10-21 00:00:00'), Timestamp('2021-08-03 00:00:00'), Timestamp('2021-10-14 00:00:00'), Timestamp('2022-03-27 00:00:00'), Timestamp('2022-08-15 00:00:00'), Timestamp('2022-11-08 00:00:00'), Timestamp('2023-01-12 00:00:00'), Timestamp('2023-04-10 00:00:00'), Timestamp('2023-08-17 00:00:00'), Timestamp('2023-10-16 00:00:00')], 'sellprices': [8672.597725462354, 8333.060849012307, 7588.566893598279, 11774.521540882868, 12168.388291377842, 38597.12929076079, 58577.24228007481, 45688.64963751453, 25184.770470900243, 19366.21280731896, 19115.886556224337, 29795.21233070584, 28424.6131825321, 29285.652884320647], 'profits': [-0.06978433562445203, 0.0648009754971557, 0.06480097549715579, 0.06480097549715577, 0.0648009754971558, -0.06978433562445206, 0.06480097549715576, 0.06480097549715585, 0.06480097549715577, -0.069784335624452, 0.06480097549715576, 0.0648009754971558, -0.06978433562445213, 0.06480097549715581]} could not be cast to float.\n",
      "[W 2023-10-27 02:48:07,017] Trial 17 failed with value ({'buydates': [Timestamp('2019-11-05 00:00:00'), Timestamp('2020-01-09 00:00:00'), Timestamp('2020-04-22 00:00:00'), Timestamp('2020-07-27 00:00:00'), Timestamp('2020-10-14 00:00:00'), Timestamp('2021-07-31 00:00:00'), Timestamp('2021-10-09 00:00:00'), Timestamp('2022-03-23 00:00:00'), Timestamp('2022-07-30 00:00:00'), Timestamp('2022-10-29 00:00:00'), Timestamp('2023-01-11 00:00:00'), Timestamp('2023-03-19 00:00:00'), Timestamp('2023-06-24 00:00:00'), Timestamp('2023-10-02 00:00:00')], 'buyprices': [9313.2, 7818.59, 7120.06, 11047.58, 11417.13, 41448.11, 54960.77, 42867.9, 23629.9, 20796.7, 17935.7, 27955.7, 30524.2, 27477.6], 'selldates': [Timestamp('2019-11-08 00:00:00'), Timestamp('2020-01-14 00:00:00'), Timestamp('2020-04-23 00:00:00'), Timestamp('2020-08-01 00:00:00'), Timestamp('2020-10-21 00:00:00'), Timestamp('2021-08-03 00:00:00'), Timestamp('2021-10-14 00:00:00'), Timestamp('2022-03-27 00:00:00'), Timestamp('2022-08-15 00:00:00'), Timestamp('2022-11-08 00:00:00'), Timestamp('2023-01-12 00:00:00'), Timestamp('2023-04-10 00:00:00'), Timestamp('2023-08-17 00:00:00'), Timestamp('2023-10-16 00:00:00')], 'sellprices': [8672.597725462354, 8333.060849012307, 7588.566893598279, 11774.521540882868, 12168.388291377842, 38597.12929076079, 58577.24228007481, 45688.64963751453, 25184.770470900243, 19366.21280731896, 19115.886556224337, 29795.21233070584, 28424.6131825321, 29285.652884320647], 'profits': [-0.06978433562445203, 0.0648009754971557, 0.06480097549715579, 0.06480097549715577, 0.0648009754971558, -0.06978433562445206, 0.06480097549715576, 0.06480097549715585, 0.06480097549715577, -0.069784335624452, 0.06480097549715576, 0.0648009754971558, -0.06978433562445213, 0.06480097549715581]},     ticker  returns  winrate  trades  buy&hold_ret%\n",
      "0  BTCUSDT    40.29    71.43      14          240.9).\n"
     ]
    },
    {
     "name": "stdout",
     "output_type": "stream",
     "text": [
      "BTCUSDT, winrate=71.43%, returns=40.29%, no. of trades = 14, buy&hold_ret = 240.89999999999998%\n"
     ]
    },
    {
     "name": "stderr",
     "output_type": "stream",
     "text": [
      "[W 2023-10-27 02:48:07,292] Trial 18 failed with parameters: {'fast_ma_period': 13, 'slow_ma_period': 73, 'rsi_period': 11, 'sl_perc': 4.392468569950731, 'tp_perc': 9.48040913675013} because of the following error: The value {'buydates': [Timestamp('2020-01-14 00:00:00'), Timestamp('2020-04-29 00:00:00'), Timestamp('2020-07-26 00:00:00'), Timestamp('2020-10-16 00:00:00'), Timestamp('2021-05-07 00:00:00'), Timestamp('2021-07-31 00:00:00'), Timestamp('2021-10-06 00:00:00'), Timestamp('2022-03-23 00:00:00'), Timestamp('2022-08-10 00:00:00'), Timestamp('2022-10-31 00:00:00'), Timestamp('2023-01-13 00:00:00'), Timestamp('2023-06-25 00:00:00'), Timestamp('2023-10-08 00:00:00')], 'buyprices': [8825.0, 8784.2, 9939.69, 11318.92, 57350.88, 41448.11, 55321.6, 42867.9, 23940.9, 20482.0, 19924.2, 30458.0, 27901.2], 'selldates': [Timestamp('2020-01-23 00:00:00'), Timestamp('2020-05-07 00:00:00'), Timestamp('2020-07-27 00:00:00'), Timestamp('2020-10-21 00:00:00'), Timestamp('2021-05-10 00:00:00'), Timestamp('2021-08-01 00:00:00'), Timestamp('2021-10-15 00:00:00'), Timestamp('2022-03-27 00:00:00'), Timestamp('2022-08-19 00:00:00'), Timestamp('2022-11-08 00:00:00'), Timestamp('2023-01-20 00:00:00'), Timestamp('2023-07-24 00:00:00'), Timestamp('2023-10-11 00:00:00')], 'sellprices': [8437.364648701847, 9616.978099390406, 10882.013278924638, 12391.999925861437, 54831.760621409834, 39627.51479541139, 60566.31402099635, 46931.952308332904, 22889.303492136667, 19582.33458750269, 21813.09567722437, 29120.141922964405, 26675.648559360907], 'profits': [-0.044924685699507444, 0.09380409136750133, 0.09380409136750116, 0.09380409136750123, -0.044924685699507375, -0.04492468569950736, 0.0938040913675012, 0.09380409136750115, -0.044924685699507305, -0.04492468569950738, 0.09380409136750129, -0.04492468569950735, -0.04492468569950733]} could not be cast to float.\n",
      "[W 2023-10-27 02:48:07,297] Trial 18 failed with value ({'buydates': [Timestamp('2020-01-14 00:00:00'), Timestamp('2020-04-29 00:00:00'), Timestamp('2020-07-26 00:00:00'), Timestamp('2020-10-16 00:00:00'), Timestamp('2021-05-07 00:00:00'), Timestamp('2021-07-31 00:00:00'), Timestamp('2021-10-06 00:00:00'), Timestamp('2022-03-23 00:00:00'), Timestamp('2022-08-10 00:00:00'), Timestamp('2022-10-31 00:00:00'), Timestamp('2023-01-13 00:00:00'), Timestamp('2023-06-25 00:00:00'), Timestamp('2023-10-08 00:00:00')], 'buyprices': [8825.0, 8784.2, 9939.69, 11318.92, 57350.88, 41448.11, 55321.6, 42867.9, 23940.9, 20482.0, 19924.2, 30458.0, 27901.2], 'selldates': [Timestamp('2020-01-23 00:00:00'), Timestamp('2020-05-07 00:00:00'), Timestamp('2020-07-27 00:00:00'), Timestamp('2020-10-21 00:00:00'), Timestamp('2021-05-10 00:00:00'), Timestamp('2021-08-01 00:00:00'), Timestamp('2021-10-15 00:00:00'), Timestamp('2022-03-27 00:00:00'), Timestamp('2022-08-19 00:00:00'), Timestamp('2022-11-08 00:00:00'), Timestamp('2023-01-20 00:00:00'), Timestamp('2023-07-24 00:00:00'), Timestamp('2023-10-11 00:00:00')], 'sellprices': [8437.364648701847, 9616.978099390406, 10882.013278924638, 12391.999925861437, 54831.760621409834, 39627.51479541139, 60566.31402099635, 46931.952308332904, 22889.303492136667, 19582.33458750269, 21813.09567722437, 29120.141922964405, 26675.648559360907], 'profits': [-0.044924685699507444, 0.09380409136750133, 0.09380409136750116, 0.09380409136750123, -0.044924685699507375, -0.04492468569950736, 0.0938040913675012, 0.09380409136750115, -0.044924685699507305, -0.04492468569950738, 0.09380409136750129, -0.04492468569950735, -0.04492468569950733]},     ticker  returns  winrate  trades  buy&hold_ret%\n",
      "0  BTCUSDT    24.14    46.15      13          240.9).\n"
     ]
    },
    {
     "name": "stdout",
     "output_type": "stream",
     "text": [
      "BTCUSDT, winrate=46.15%, returns=24.14%, no. of trades = 13, buy&hold_ret = 240.89999999999998%\n"
     ]
    },
    {
     "name": "stderr",
     "output_type": "stream",
     "text": [
      "[W 2023-10-27 02:48:07,550] Trial 19 failed with parameters: {'fast_ma_period': 13, 'slow_ma_period': 62, 'rsi_period': 22, 'sl_perc': 5.927534902368896, 'tp_perc': 8.374526323593525} because of the following error: The value {'buydates': [Timestamp('2020-01-11 00:00:00'), Timestamp('2020-04-26 00:00:00'), Timestamp('2020-07-27 00:00:00'), Timestamp('2020-10-15 00:00:00'), Timestamp('2021-07-30 00:00:00'), Timestamp('2021-10-08 00:00:00'), Timestamp('2022-03-20 00:00:00'), Timestamp('2022-08-02 00:00:00'), Timestamp('2022-10-29 00:00:00'), Timestamp('2023-01-10 00:00:00'), Timestamp('2023-03-18 00:00:00'), Timestamp('2023-06-24 00:00:00'), Timestamp('2023-10-06 00:00:00')], 'buyprices': [8020.56, 7694.17, 11047.58, 11502.0, 42203.25, 53975.0, 41261.0, 22975.1, 20796.7, 17428.8, 26907.0, 30524.2, 27916.3], 'selldates': [Timestamp('2020-01-14 00:00:00'), Timestamp('2020-04-29 00:00:00'), Timestamp('2020-08-02 00:00:00'), Timestamp('2020-10-21 00:00:00'), Timestamp('2021-08-01 00:00:00'), Timestamp('2021-10-14 00:00:00'), Timestamp('2022-03-25 00:00:00'), Timestamp('2022-08-11 00:00:00'), Timestamp('2022-11-08 00:00:00'), Timestamp('2023-01-12 00:00:00'), Timestamp('2023-03-30 00:00:00'), Timestamp('2023-08-01 00:00:00'), Timestamp('2023-10-16 00:00:00')], 'sellprices': [8692.243908499613, 8338.520292032035, 11972.762495220053, 12465.238017739726, 39701.637626316, 58495.1505831596, 44716.41330637792, 24899.155797371935, 19563.96834895905, 18888.379443886468, 29160.33379788931, 28714.867391331114, 30254.157892073337], 'profits': [0.08274526323593523, 0.08274526323593516, 0.08274526323593522, 0.08274526323593516, -0.06027534902368898, 0.08274526323593516, 0.08274526323593522, 0.0827452632359353, -0.0602753490236889, 0.08274526323593527, 0.08274526323593527, -0.060275349023688966, 0.0827452632359352]} could not be cast to float.\n",
      "[W 2023-10-27 02:48:07,560] Trial 19 failed with value ({'buydates': [Timestamp('2020-01-11 00:00:00'), Timestamp('2020-04-26 00:00:00'), Timestamp('2020-07-27 00:00:00'), Timestamp('2020-10-15 00:00:00'), Timestamp('2021-07-30 00:00:00'), Timestamp('2021-10-08 00:00:00'), Timestamp('2022-03-20 00:00:00'), Timestamp('2022-08-02 00:00:00'), Timestamp('2022-10-29 00:00:00'), Timestamp('2023-01-10 00:00:00'), Timestamp('2023-03-18 00:00:00'), Timestamp('2023-06-24 00:00:00'), Timestamp('2023-10-06 00:00:00')], 'buyprices': [8020.56, 7694.17, 11047.58, 11502.0, 42203.25, 53975.0, 41261.0, 22975.1, 20796.7, 17428.8, 26907.0, 30524.2, 27916.3], 'selldates': [Timestamp('2020-01-14 00:00:00'), Timestamp('2020-04-29 00:00:00'), Timestamp('2020-08-02 00:00:00'), Timestamp('2020-10-21 00:00:00'), Timestamp('2021-08-01 00:00:00'), Timestamp('2021-10-14 00:00:00'), Timestamp('2022-03-25 00:00:00'), Timestamp('2022-08-11 00:00:00'), Timestamp('2022-11-08 00:00:00'), Timestamp('2023-01-12 00:00:00'), Timestamp('2023-03-30 00:00:00'), Timestamp('2023-08-01 00:00:00'), Timestamp('2023-10-16 00:00:00')], 'sellprices': [8692.243908499613, 8338.520292032035, 11972.762495220053, 12465.238017739726, 39701.637626316, 58495.1505831596, 44716.41330637792, 24899.155797371935, 19563.96834895905, 18888.379443886468, 29160.33379788931, 28714.867391331114, 30254.157892073337], 'profits': [0.08274526323593523, 0.08274526323593516, 0.08274526323593522, 0.08274526323593516, -0.06027534902368898, 0.08274526323593516, 0.08274526323593522, 0.0827452632359353, -0.0602753490236889, 0.08274526323593527, 0.08274526323593527, -0.060275349023688966, 0.0827452632359352]},     ticker  returns  winrate  trades  buy&hold_ret%\n",
      "0  BTCUSDT    83.77    76.92      13          240.9).\n"
     ]
    },
    {
     "name": "stdout",
     "output_type": "stream",
     "text": [
      "BTCUSDT, winrate=76.92%, returns=83.77%, no. of trades = 13, buy&hold_ret = 240.89999999999998%\n"
     ]
    },
    {
     "name": "stderr",
     "output_type": "stream",
     "text": [
      "[W 2023-10-27 02:48:08,023] Trial 20 failed with parameters: {'fast_ma_period': 18, 'slow_ma_period': 52, 'rsi_period': 11, 'sl_perc': 5.3336743706971905, 'tp_perc': 8.292007781423866} because of the following error: The value {'buydates': [Timestamp('2019-11-05 00:00:00'), Timestamp('2020-01-08 00:00:00'), Timestamp('2020-04-19 00:00:00'), Timestamp('2020-07-27 00:00:00'), Timestamp('2020-10-13 00:00:00'), Timestamp('2021-08-01 00:00:00'), Timestamp('2021-10-10 00:00:00'), Timestamp('2022-03-25 00:00:00'), Timestamp('2022-07-29 00:00:00'), Timestamp('2022-10-31 00:00:00'), Timestamp('2023-01-11 00:00:00'), Timestamp('2023-03-19 00:00:00'), Timestamp('2023-06-25 00:00:00'), Timestamp('2023-10-01 00:00:00')], 'buyprices': [9313.2, 8059.84, 7118.03, 11047.58, 11419.36, 39846.78, 54700.0, 44290.6, 23771.1, 20482.0, 17935.7, 27955.7, 30458.0, 27981.4], 'selldates': [Timestamp('2019-11-08 00:00:00'), Timestamp('2020-01-14 00:00:00'), Timestamp('2020-04-20 00:00:00'), Timestamp('2020-08-02 00:00:00'), Timestamp('2020-10-21 00:00:00'), Timestamp('2021-08-03 00:00:00'), Timestamp('2021-10-15 00:00:00'), Timestamp('2022-03-28 00:00:00'), Timestamp('2022-08-04 00:00:00'), Timestamp('2022-11-08 00:00:00'), Timestamp('2023-01-13 00:00:00'), Timestamp('2023-04-11 00:00:00'), Timestamp('2023-07-24 00:00:00'), Timestamp('2023-10-16 00:00:00')], 'sellprices': [8816.46423850823, 8728.162559970315, 6738.377458191462, 11963.646193259026, 12366.254219788805, 37721.4825075919, 59235.72825643886, 47963.17999843932, 22503.2269316672, 19389.5568153938, 19422.92963965284, 30273.788819351514, 28833.469460173048, 30301.619865351342], 'profits': [-0.054336743706971925, 0.08192007781423882, -0.05433674370697195, 0.08192007781423864, 0.08192007781423867, -0.054336743706972036, 0.08192007781423874, 0.08192007781423877, -0.05433674370697189, -0.05433674370697197, 0.08192007781423864, 0.0819200778142387, -0.05433674370697196, 0.08192007781423875]} could not be cast to float.\n",
      "[W 2023-10-27 02:48:08,030] Trial 20 failed with value ({'buydates': [Timestamp('2019-11-05 00:00:00'), Timestamp('2020-01-08 00:00:00'), Timestamp('2020-04-19 00:00:00'), Timestamp('2020-07-27 00:00:00'), Timestamp('2020-10-13 00:00:00'), Timestamp('2021-08-01 00:00:00'), Timestamp('2021-10-10 00:00:00'), Timestamp('2022-03-25 00:00:00'), Timestamp('2022-07-29 00:00:00'), Timestamp('2022-10-31 00:00:00'), Timestamp('2023-01-11 00:00:00'), Timestamp('2023-03-19 00:00:00'), Timestamp('2023-06-25 00:00:00'), Timestamp('2023-10-01 00:00:00')], 'buyprices': [9313.2, 8059.84, 7118.03, 11047.58, 11419.36, 39846.78, 54700.0, 44290.6, 23771.1, 20482.0, 17935.7, 27955.7, 30458.0, 27981.4], 'selldates': [Timestamp('2019-11-08 00:00:00'), Timestamp('2020-01-14 00:00:00'), Timestamp('2020-04-20 00:00:00'), Timestamp('2020-08-02 00:00:00'), Timestamp('2020-10-21 00:00:00'), Timestamp('2021-08-03 00:00:00'), Timestamp('2021-10-15 00:00:00'), Timestamp('2022-03-28 00:00:00'), Timestamp('2022-08-04 00:00:00'), Timestamp('2022-11-08 00:00:00'), Timestamp('2023-01-13 00:00:00'), Timestamp('2023-04-11 00:00:00'), Timestamp('2023-07-24 00:00:00'), Timestamp('2023-10-16 00:00:00')], 'sellprices': [8816.46423850823, 8728.162559970315, 6738.377458191462, 11963.646193259026, 12366.254219788805, 37721.4825075919, 59235.72825643886, 47963.17999843932, 22503.2269316672, 19389.5568153938, 19422.92963965284, 30273.788819351514, 28833.469460173048, 30301.619865351342], 'profits': [-0.054336743706971925, 0.08192007781423882, -0.05433674370697195, 0.08192007781423864, 0.08192007781423867, -0.054336743706972036, 0.08192007781423874, 0.08192007781423877, -0.05433674370697189, -0.05433674370697197, 0.08192007781423864, 0.0819200778142387, -0.05433674370697196, 0.08192007781423875]},     ticker  returns  winrate  trades  buy&hold_ret%\n",
      "0  BTCUSDT    34.27    57.14      14          240.9).\n"
     ]
    },
    {
     "name": "stdout",
     "output_type": "stream",
     "text": [
      "BTCUSDT, winrate=57.14%, returns=34.27%, no. of trades = 14, buy&hold_ret = 240.89999999999998%\n"
     ]
    },
    {
     "name": "stderr",
     "output_type": "stream",
     "text": [
      "[W 2023-10-27 02:48:08,336] Trial 21 failed with parameters: {'fast_ma_period': 22, 'slow_ma_period': 73, 'rsi_period': 23, 'sl_perc': 3.4487449412019897, 'tp_perc': 6.760830185030434} because of the following error: The value {'buydates': [Timestamp('2020-01-16 00:00:00'), Timestamp('2020-05-02 00:00:00'), Timestamp('2020-07-27 00:00:00'), Timestamp('2020-10-21 00:00:00'), Timestamp('2021-08-04 00:00:00'), Timestamp('2021-10-05 00:00:00'), Timestamp('2022-03-21 00:00:00'), Timestamp('2022-03-25 00:00:00'), Timestamp('2022-08-12 00:00:00'), Timestamp('2022-11-04 00:00:00'), Timestamp('2023-01-14 00:00:00'), Timestamp('2023-06-28 00:00:00')], 'buyprices': [8725.08, 8975.18, 11047.58, 12796.07, 39731.31, 51455.12, 40982.0, 44290.6, 24387.5, 21137.6, 20962.8, 30066.3], 'selldates': [Timestamp('2020-01-23 00:00:00'), Timestamp('2020-05-04 00:00:00'), Timestamp('2020-07-28 00:00:00'), Timestamp('2020-10-27 00:00:00'), Timestamp('2021-08-05 00:00:00'), Timestamp('2021-10-06 00:00:00'), Timestamp('2022-03-24 00:00:00'), Timestamp('2022-03-28 00:00:00'), Timestamp('2022-08-17 00:00:00'), Timestamp('2022-11-07 00:00:00'), Timestamp('2023-01-20 00:00:00'), Timestamp('2023-07-24 00:00:00')], 'sellprices': [8424.174244884174, 8665.648933786228, 10666.577143624758, 13661.190563057624, 38361.07845630172, 54933.91328470364, 43752.72342642918, 47285.01225393109, 23546.437327464366, 20408.61808930849, 22380.059310027562, 29029.389999743387], 'profits': [-0.035487449412019804, -0.03548744941201989, -0.03548744941201984, 0.06660830185030436, -0.03548744941201978, 0.0666083018503044, 0.06660830185030443, 0.0666083018503044, -0.03548744941201985, -0.035487449412019784, 0.06660830185030447, -0.03548744941201984]} could not be cast to float.\n",
      "[W 2023-10-27 02:48:08,342] Trial 21 failed with value ({'buydates': [Timestamp('2020-01-16 00:00:00'), Timestamp('2020-05-02 00:00:00'), Timestamp('2020-07-27 00:00:00'), Timestamp('2020-10-21 00:00:00'), Timestamp('2021-08-04 00:00:00'), Timestamp('2021-10-05 00:00:00'), Timestamp('2022-03-21 00:00:00'), Timestamp('2022-03-25 00:00:00'), Timestamp('2022-08-12 00:00:00'), Timestamp('2022-11-04 00:00:00'), Timestamp('2023-01-14 00:00:00'), Timestamp('2023-06-28 00:00:00')], 'buyprices': [8725.08, 8975.18, 11047.58, 12796.07, 39731.31, 51455.12, 40982.0, 44290.6, 24387.5, 21137.6, 20962.8, 30066.3], 'selldates': [Timestamp('2020-01-23 00:00:00'), Timestamp('2020-05-04 00:00:00'), Timestamp('2020-07-28 00:00:00'), Timestamp('2020-10-27 00:00:00'), Timestamp('2021-08-05 00:00:00'), Timestamp('2021-10-06 00:00:00'), Timestamp('2022-03-24 00:00:00'), Timestamp('2022-03-28 00:00:00'), Timestamp('2022-08-17 00:00:00'), Timestamp('2022-11-07 00:00:00'), Timestamp('2023-01-20 00:00:00'), Timestamp('2023-07-24 00:00:00')], 'sellprices': [8424.174244884174, 8665.648933786228, 10666.577143624758, 13661.190563057624, 38361.07845630172, 54933.91328470364, 43752.72342642918, 47285.01225393109, 23546.437327464366, 20408.61808930849, 22380.059310027562, 29029.389999743387], 'profits': [-0.035487449412019804, -0.03548744941201989, -0.03548744941201984, 0.06660830185030436, -0.03548744941201978, 0.0666083018503044, 0.06660830185030443, 0.0666083018503044, -0.03548744941201985, -0.035487449412019784, 0.06660830185030447, -0.03548744941201984]},     ticker  returns  winrate  trades  buy&hold_ret%\n",
      "0  BTCUSDT      7.2    41.67      12          240.9).\n"
     ]
    },
    {
     "name": "stdout",
     "output_type": "stream",
     "text": [
      "BTCUSDT, winrate=41.67%, returns=7.2%, no. of trades = 12, buy&hold_ret = 240.89999999999998%\n"
     ]
    },
    {
     "name": "stderr",
     "output_type": "stream",
     "text": [
      "[W 2023-10-27 02:48:08,804] Trial 22 failed with parameters: {'fast_ma_period': 16, 'slow_ma_period': 74, 'rsi_period': 21, 'sl_perc': 7.903480732859773, 'tp_perc': 8.075050506177464} because of the following error: The value {'buydates': [Timestamp('2020-01-15 00:00:00'), Timestamp('2020-05-01 00:00:00'), Timestamp('2020-07-27 00:00:00'), Timestamp('2020-10-18 00:00:00'), Timestamp('2021-08-01 00:00:00'), Timestamp('2021-10-07 00:00:00'), Timestamp('2022-03-23 00:00:00'), Timestamp('2022-08-11 00:00:00'), Timestamp('2022-11-01 00:00:00'), Timestamp('2023-01-14 00:00:00'), Timestamp('2023-06-26 00:00:00'), Timestamp('2023-10-10 00:00:00')], 'buyprices': [8825.3, 8830.52, 11047.58, 11501.1, 39846.78, 53814.99, 42867.9, 23917.2, 20472.1, 20962.8, 30260.1, 27381.2], 'selldates': [Timestamp('2020-01-30 00:00:00'), Timestamp('2020-05-07 00:00:00'), Timestamp('2020-08-02 00:00:00'), Timestamp('2020-10-21 00:00:00'), Timestamp('2021-08-06 00:00:00'), Timestamp('2021-10-14 00:00:00'), Timestamp('2022-03-27 00:00:00'), Timestamp('2022-08-19 00:00:00'), Timestamp('2022-11-08 00:00:00'), Timestamp('2023-01-20 00:00:00'), Timestamp('2023-08-17 00:00:00'), Timestamp('2023-10-16 00:00:00')], 'sellprices': [9537.94743232168, 9543.588949958103, 11939.677664710362, 12429.819633765977, 43064.427610085426, 58160.577622394354, 46329.50457593765, 22026.908706160462, 18854.091520888214, 22655.55668750897, 27868.4988267559, 29592.245729197468], 'profits': [0.07975050506177477, 0.07975050506177463, 0.07975050506177477, 0.0797505050617747, 0.0797505050617748, 0.07975050506177472, 0.07975050506177467, -0.08003480732859776, -0.08003480732859768, 0.07975050506177478, -0.08003480732859773, 0.07975050506177477]} could not be cast to float.\n",
      "[W 2023-10-27 02:48:08,809] Trial 22 failed with value ({'buydates': [Timestamp('2020-01-15 00:00:00'), Timestamp('2020-05-01 00:00:00'), Timestamp('2020-07-27 00:00:00'), Timestamp('2020-10-18 00:00:00'), Timestamp('2021-08-01 00:00:00'), Timestamp('2021-10-07 00:00:00'), Timestamp('2022-03-23 00:00:00'), Timestamp('2022-08-11 00:00:00'), Timestamp('2022-11-01 00:00:00'), Timestamp('2023-01-14 00:00:00'), Timestamp('2023-06-26 00:00:00'), Timestamp('2023-10-10 00:00:00')], 'buyprices': [8825.3, 8830.52, 11047.58, 11501.1, 39846.78, 53814.99, 42867.9, 23917.2, 20472.1, 20962.8, 30260.1, 27381.2], 'selldates': [Timestamp('2020-01-30 00:00:00'), Timestamp('2020-05-07 00:00:00'), Timestamp('2020-08-02 00:00:00'), Timestamp('2020-10-21 00:00:00'), Timestamp('2021-08-06 00:00:00'), Timestamp('2021-10-14 00:00:00'), Timestamp('2022-03-27 00:00:00'), Timestamp('2022-08-19 00:00:00'), Timestamp('2022-11-08 00:00:00'), Timestamp('2023-01-20 00:00:00'), Timestamp('2023-08-17 00:00:00'), Timestamp('2023-10-16 00:00:00')], 'sellprices': [9537.94743232168, 9543.588949958103, 11939.677664710362, 12429.819633765977, 43064.427610085426, 58160.577622394354, 46329.50457593765, 22026.908706160462, 18854.091520888214, 22655.55668750897, 27868.4988267559, 29592.245729197468], 'profits': [0.07975050506177477, 0.07975050506177463, 0.07975050506177477, 0.0797505050617747, 0.0797505050617748, 0.07975050506177472, 0.07975050506177467, -0.08003480732859776, -0.08003480732859768, 0.07975050506177478, -0.08003480732859773, 0.07975050506177477]},     ticker  returns  winrate  trades  buy&hold_ret%\n",
      "0  BTCUSDT    55.32     75.0      12          240.9).\n"
     ]
    },
    {
     "name": "stdout",
     "output_type": "stream",
     "text": [
      "BTCUSDT, winrate=75.0%, returns=55.32%, no. of trades = 12, buy&hold_ret = 240.89999999999998%\n",
      "BTCUSDT, winrate=18.75%, returns=-15.3%, no. of trades = 16, buy&hold_ret = 240.89999999999998%\n"
     ]
    },
    {
     "name": "stderr",
     "output_type": "stream",
     "text": [
      "[W 2023-10-27 02:48:09,007] Trial 23 failed with parameters: {'fast_ma_period': 14, 'slow_ma_period': 53, 'rsi_period': 13, 'sl_perc': 3.3047171180788153, 'tp_perc': 10.03857814876236} because of the following error: The value {'buydates': [Timestamp('2019-11-04 00:00:00'), Timestamp('2020-01-08 00:00:00'), Timestamp('2020-04-19 00:00:00'), Timestamp('2020-07-27 00:00:00'), Timestamp('2020-10-13 00:00:00'), Timestamp('2021-07-30 00:00:00'), Timestamp('2021-10-08 00:00:00'), Timestamp('2022-02-16 00:00:00'), Timestamp('2022-03-09 00:00:00'), Timestamp('2022-03-24 00:00:00'), Timestamp('2022-07-28 00:00:00'), Timestamp('2022-10-29 00:00:00'), Timestamp('2023-01-10 00:00:00'), Timestamp('2023-03-19 00:00:00'), Timestamp('2023-06-24 00:00:00'), Timestamp('2023-10-01 00:00:00')], 'buyprices': [9395.46, 8059.84, 7118.03, 11047.58, 11419.36, 42203.25, 53975.0, 43860.7, 41937.5, 43973.4, 23836.2, 20796.7, 17428.8, 27955.7, 30524.2, 27981.4], 'selldates': [Timestamp('2019-11-08 00:00:00'), Timestamp('2020-01-09 00:00:00'), Timestamp('2020-04-20 00:00:00'), Timestamp('2020-07-28 00:00:00'), Timestamp('2020-10-21 00:00:00'), Timestamp('2021-08-01 00:00:00'), Timestamp('2021-10-15 00:00:00'), Timestamp('2022-02-17 00:00:00'), Timestamp('2022-03-10 00:00:00'), Timestamp('2022-04-08 00:00:00'), Timestamp('2022-08-01 00:00:00'), Timestamp('2022-11-02 00:00:00'), Timestamp('2023-01-13 00:00:00'), Timestamp('2023-03-22 00:00:00'), Timestamp('2023-06-30 00:00:00'), Timestamp('2023-10-11 00:00:00')], 'sellprices': [9084.966625057752, 7793.485087830237, 6882.799244120014, 10682.48873260655, 12565.70137768851, 40808.5519728644, 59393.32255579449, 42411.2279389908, 40551.5842586057, 42520.20352279873, 23048.4810183005, 20109.427895104505, 19178.403708391495, 27031.84319662124, 29515.46153744339, 27056.693884321896], 'profits': [-0.03404717118078807, -0.03404717118078812, -0.03404717118078819, -0.03404717118078809, 0.09938578148762364, -0.034047171180788226, 0.09938578148762371, -0.034047171180788205, -0.03404717118078815, -0.03404717118078821, -0.03404717118078811, -0.03404717118078808, 0.09938578148762371, -0.03404717118078816, -0.034047171180788094, -0.03404717118078815]} could not be cast to float.\n",
      "[W 2023-10-27 02:48:09,012] Trial 23 failed with value ({'buydates': [Timestamp('2019-11-04 00:00:00'), Timestamp('2020-01-08 00:00:00'), Timestamp('2020-04-19 00:00:00'), Timestamp('2020-07-27 00:00:00'), Timestamp('2020-10-13 00:00:00'), Timestamp('2021-07-30 00:00:00'), Timestamp('2021-10-08 00:00:00'), Timestamp('2022-02-16 00:00:00'), Timestamp('2022-03-09 00:00:00'), Timestamp('2022-03-24 00:00:00'), Timestamp('2022-07-28 00:00:00'), Timestamp('2022-10-29 00:00:00'), Timestamp('2023-01-10 00:00:00'), Timestamp('2023-03-19 00:00:00'), Timestamp('2023-06-24 00:00:00'), Timestamp('2023-10-01 00:00:00')], 'buyprices': [9395.46, 8059.84, 7118.03, 11047.58, 11419.36, 42203.25, 53975.0, 43860.7, 41937.5, 43973.4, 23836.2, 20796.7, 17428.8, 27955.7, 30524.2, 27981.4], 'selldates': [Timestamp('2019-11-08 00:00:00'), Timestamp('2020-01-09 00:00:00'), Timestamp('2020-04-20 00:00:00'), Timestamp('2020-07-28 00:00:00'), Timestamp('2020-10-21 00:00:00'), Timestamp('2021-08-01 00:00:00'), Timestamp('2021-10-15 00:00:00'), Timestamp('2022-02-17 00:00:00'), Timestamp('2022-03-10 00:00:00'), Timestamp('2022-04-08 00:00:00'), Timestamp('2022-08-01 00:00:00'), Timestamp('2022-11-02 00:00:00'), Timestamp('2023-01-13 00:00:00'), Timestamp('2023-03-22 00:00:00'), Timestamp('2023-06-30 00:00:00'), Timestamp('2023-10-11 00:00:00')], 'sellprices': [9084.966625057752, 7793.485087830237, 6882.799244120014, 10682.48873260655, 12565.70137768851, 40808.5519728644, 59393.32255579449, 42411.2279389908, 40551.5842586057, 42520.20352279873, 23048.4810183005, 20109.427895104505, 19178.403708391495, 27031.84319662124, 29515.46153744339, 27056.693884321896], 'profits': [-0.03404717118078807, -0.03404717118078812, -0.03404717118078819, -0.03404717118078809, 0.09938578148762364, -0.034047171180788226, 0.09938578148762371, -0.034047171180788205, -0.03404717118078815, -0.03404717118078821, -0.03404717118078811, -0.03404717118078808, 0.09938578148762371, -0.03404717118078816, -0.034047171180788094, -0.03404717118078815]},     ticker  returns  winrate  trades  buy&hold_ret%\n",
      "0  BTCUSDT    -15.3    18.75      16          240.9).\n",
      "[W 2023-10-27 02:48:09,296] Trial 24 failed with parameters: {'fast_ma_period': 23, 'slow_ma_period': 63, 'rsi_period': 21, 'sl_perc': 3.0895947386707894, 'tp_perc': 9.30323307029785} because of the following error: The value {'buydates': [Timestamp('2020-01-13 00:00:00'), Timestamp('2020-04-27 00:00:00'), Timestamp('2020-07-28 00:00:00'), Timestamp('2020-10-19 00:00:00'), Timestamp('2021-08-04 00:00:00'), Timestamp('2021-10-12 00:00:00'), Timestamp('2022-03-19 00:00:00'), Timestamp('2022-08-06 00:00:00'), Timestamp('2022-11-03 00:00:00'), Timestamp('2023-01-11 00:00:00'), Timestamp('2023-06-28 00:00:00'), Timestamp('2023-10-08 00:00:00')], 'buyprices': [8113.0, 7774.0, 10919.94, 11745.0, 39731.31, 56011.84, 42188.2, 22943.3, 20199.7, 17935.7, 30066.3, 27901.2], 'selldates': [Timestamp('2020-01-14 00:00:00'), Timestamp('2020-04-29 00:00:00'), Timestamp('2020-08-02 00:00:00'), Timestamp('2020-10-21 00:00:00'), Timestamp('2021-08-05 00:00:00'), Timestamp('2021-10-13 00:00:00'), Timestamp('2022-03-21 00:00:00'), Timestamp('2022-08-15 00:00:00'), Timestamp('2022-11-08 00:00:00'), Timestamp('2023-01-13 00:00:00'), Timestamp('2023-07-24 00:00:00'), Timestamp('2023-10-11 00:00:00')], 'sellprices': [8867.771298993264, 8497.233338884955, 10582.558108293993, 12837.664724106484, 38503.77353663502, 54281.3011383273, 40884.75559246009, 25077.768673017647, 19575.611131572718, 19604.299973789413, 29137.373177087025, 27039.165992773986], 'profits': [0.09203233070297846, 0.09203233070297848, -0.031895947386707896, 0.09203233070297862, -0.03189594738670788, -0.031895947386707875, -0.03189594738670785, 0.09203233070297853, -0.031895947386707875, 0.09203233070297856, -0.03189594738670784, -0.031895947386707924]} could not be cast to float.\n",
      "[W 2023-10-27 02:48:09,303] Trial 24 failed with value ({'buydates': [Timestamp('2020-01-13 00:00:00'), Timestamp('2020-04-27 00:00:00'), Timestamp('2020-07-28 00:00:00'), Timestamp('2020-10-19 00:00:00'), Timestamp('2021-08-04 00:00:00'), Timestamp('2021-10-12 00:00:00'), Timestamp('2022-03-19 00:00:00'), Timestamp('2022-08-06 00:00:00'), Timestamp('2022-11-03 00:00:00'), Timestamp('2023-01-11 00:00:00'), Timestamp('2023-06-28 00:00:00'), Timestamp('2023-10-08 00:00:00')], 'buyprices': [8113.0, 7774.0, 10919.94, 11745.0, 39731.31, 56011.84, 42188.2, 22943.3, 20199.7, 17935.7, 30066.3, 27901.2], 'selldates': [Timestamp('2020-01-14 00:00:00'), Timestamp('2020-04-29 00:00:00'), Timestamp('2020-08-02 00:00:00'), Timestamp('2020-10-21 00:00:00'), Timestamp('2021-08-05 00:00:00'), Timestamp('2021-10-13 00:00:00'), Timestamp('2022-03-21 00:00:00'), Timestamp('2022-08-15 00:00:00'), Timestamp('2022-11-08 00:00:00'), Timestamp('2023-01-13 00:00:00'), Timestamp('2023-07-24 00:00:00'), Timestamp('2023-10-11 00:00:00')], 'sellprices': [8867.771298993264, 8497.233338884955, 10582.558108293993, 12837.664724106484, 38503.77353663502, 54281.3011383273, 40884.75559246009, 25077.768673017647, 19575.611131572718, 19604.299973789413, 29137.373177087025, 27039.165992773986], 'profits': [0.09203233070297846, 0.09203233070297848, -0.031895947386707896, 0.09203233070297862, -0.03189594738670788, -0.031895947386707875, -0.03189594738670785, 0.09203233070297853, -0.031895947386707875, 0.09203233070297856, -0.03189594738670784, -0.031895947386707924]},     ticker  returns  winrate  trades  buy&hold_ret%\n",
      "0  BTCUSDT    23.77    41.67      12          240.9).\n"
     ]
    },
    {
     "name": "stdout",
     "output_type": "stream",
     "text": [
      "BTCUSDT, winrate=41.67%, returns=23.77%, no. of trades = 12, buy&hold_ret = 240.89999999999998%\n",
      "BTCUSDT, winrate=53.33%, returns=63.63%, no. of trades = 15, buy&hold_ret = 240.89999999999998%\n"
     ]
    },
    {
     "name": "stderr",
     "output_type": "stream",
     "text": [
      "[W 2023-10-27 02:48:09,510] Trial 25 failed with parameters: {'fast_ma_period': 11, 'slow_ma_period': 65, 'rsi_period': 15, 'sl_perc': 4.723420488463454, 'tp_perc': 11.150010527107373} because of the following error: The value {'buydates': [Timestamp('2020-01-11 00:00:00'), Timestamp('2020-04-26 00:00:00'), Timestamp('2020-07-26 00:00:00'), Timestamp('2020-10-14 00:00:00'), Timestamp('2021-05-09 00:00:00'), Timestamp('2021-07-30 00:00:00'), Timestamp('2021-10-06 00:00:00'), Timestamp('2022-03-09 00:00:00'), Timestamp('2022-03-21 00:00:00'), Timestamp('2022-08-05 00:00:00'), Timestamp('2022-10-29 00:00:00'), Timestamp('2023-01-11 00:00:00'), Timestamp('2023-03-17 00:00:00'), Timestamp('2023-06-24 00:00:00'), Timestamp('2023-10-06 00:00:00')], 'buyprices': [8020.56, 7694.17, 9939.69, 11417.13, 58292.53, 42203.25, 55321.6, 41937.5, 40982.0, 23298.1, 20796.7, 17935.7, 27384.0, 30524.2, 27916.3], 'selldates': [Timestamp('2020-01-15 00:00:00'), Timestamp('2020-04-29 00:00:00'), Timestamp('2020-07-27 00:00:00'), Timestamp('2020-10-21 00:00:00'), Timestamp('2021-05-10 00:00:00'), Timestamp('2021-08-01 00:00:00'), Timestamp('2021-10-15 00:00:00'), Timestamp('2022-03-10 00:00:00'), Timestamp('2022-03-27 00:00:00'), Timestamp('2022-08-19 00:00:00'), Timestamp('2022-11-08 00:00:00'), Timestamp('2023-01-13 00:00:00'), Timestamp('2023-04-11 00:00:00'), Timestamp('2023-07-24 00:00:00'), Timestamp('2023-10-11 00:00:00')], 'sellprices': [8914.853284332965, 8552.070764973538, 11047.96648136184, 12690.141196893534, 55539.12869473629, 40209.813042702546, 61489.96422376423, 39956.615532650634, 45551.497314219145, 22197.632771177294, 19814.38441127572, 19935.5324381104, 30437.318882743086, 29082.413683260438, 26597.695766179073], 'profits': [0.1105001052710739, 0.11050010527107376, 0.1105001052710738, 0.11050010527107376, -0.048234204884634604, -0.04823420488463457, 0.11050010527107376, -0.04823420488463466, 0.11050010527107376, -0.04823420488463458, -0.04823420488463454, 0.11050010527107385, 0.11050010527107383, -0.04823420488463457, -0.04823420488463465]} could not be cast to float.\n",
      "[W 2023-10-27 02:48:09,515] Trial 25 failed with value ({'buydates': [Timestamp('2020-01-11 00:00:00'), Timestamp('2020-04-26 00:00:00'), Timestamp('2020-07-26 00:00:00'), Timestamp('2020-10-14 00:00:00'), Timestamp('2021-05-09 00:00:00'), Timestamp('2021-07-30 00:00:00'), Timestamp('2021-10-06 00:00:00'), Timestamp('2022-03-09 00:00:00'), Timestamp('2022-03-21 00:00:00'), Timestamp('2022-08-05 00:00:00'), Timestamp('2022-10-29 00:00:00'), Timestamp('2023-01-11 00:00:00'), Timestamp('2023-03-17 00:00:00'), Timestamp('2023-06-24 00:00:00'), Timestamp('2023-10-06 00:00:00')], 'buyprices': [8020.56, 7694.17, 9939.69, 11417.13, 58292.53, 42203.25, 55321.6, 41937.5, 40982.0, 23298.1, 20796.7, 17935.7, 27384.0, 30524.2, 27916.3], 'selldates': [Timestamp('2020-01-15 00:00:00'), Timestamp('2020-04-29 00:00:00'), Timestamp('2020-07-27 00:00:00'), Timestamp('2020-10-21 00:00:00'), Timestamp('2021-05-10 00:00:00'), Timestamp('2021-08-01 00:00:00'), Timestamp('2021-10-15 00:00:00'), Timestamp('2022-03-10 00:00:00'), Timestamp('2022-03-27 00:00:00'), Timestamp('2022-08-19 00:00:00'), Timestamp('2022-11-08 00:00:00'), Timestamp('2023-01-13 00:00:00'), Timestamp('2023-04-11 00:00:00'), Timestamp('2023-07-24 00:00:00'), Timestamp('2023-10-11 00:00:00')], 'sellprices': [8914.853284332965, 8552.070764973538, 11047.96648136184, 12690.141196893534, 55539.12869473629, 40209.813042702546, 61489.96422376423, 39956.615532650634, 45551.497314219145, 22197.632771177294, 19814.38441127572, 19935.5324381104, 30437.318882743086, 29082.413683260438, 26597.695766179073], 'profits': [0.1105001052710739, 0.11050010527107376, 0.1105001052710738, 0.11050010527107376, -0.048234204884634604, -0.04823420488463457, 0.11050010527107376, -0.04823420488463466, 0.11050010527107376, -0.04823420488463458, -0.04823420488463454, 0.11050010527107385, 0.11050010527107383, -0.04823420488463457, -0.04823420488463465]},     ticker  returns  winrate  trades  buy&hold_ret%\n",
      "0  BTCUSDT    63.63    53.33      15          240.9).\n",
      "[W 2023-10-27 02:48:09,854] Trial 26 failed with parameters: {'fast_ma_period': 18, 'slow_ma_period': 72, 'rsi_period': 17, 'sl_perc': 7.618332198728249, 'tp_perc': 11.164161637600134} because of the following error: The value {'buydates': [Timestamp('2020-01-15 00:00:00'), Timestamp('2020-05-01 00:00:00'), Timestamp('2020-07-27 00:00:00'), Timestamp('2020-10-19 00:00:00'), Timestamp('2021-08-02 00:00:00'), Timestamp('2021-10-08 00:00:00'), Timestamp('2022-03-24 00:00:00'), Timestamp('2022-08-11 00:00:00'), Timestamp('2022-11-02 00:00:00'), Timestamp('2023-01-14 00:00:00'), Timestamp('2023-06-27 00:00:00')], 'buyprices': [8825.3, 8830.52, 11047.58, 11745.0, 39147.48, 53975.0, 43973.4, 23917.2, 20140.1, 20962.8, 30683.2], 'selldates': [Timestamp('2020-02-06 00:00:00'), Timestamp('2020-05-07 00:00:00'), Timestamp('2020-08-17 00:00:00'), Timestamp('2020-10-21 00:00:00'), Timestamp('2021-08-07 00:00:00'), Timestamp('2021-10-15 00:00:00'), Timestamp('2022-04-11 00:00:00'), Timestamp('2022-08-19 00:00:00'), Timestamp('2022-11-08 00:00:00'), Timestamp('2023-01-21 00:00:00'), Timestamp('2023-08-17 00:00:00')], 'sellprices': [9810.570757003125, 9816.373526240608, 12280.949688243187, 13056.230784336138, 43517.96794424719, 60000.856243894676, 40623.360308924435, 22095.108251365768, 18605.760276843932, 23303.120875766843, 28345.651894799816], 'profits': [0.11064161637600142, 0.11064161637600137, 0.11064161637600152, 0.1106416163760015, 0.11064161637600137, 0.1106416163760014, -0.07718332198728245, -0.0771833219872825, -0.07718332198728242, 0.11064161637600146, -0.07718332198728245]} could not be cast to float.\n",
      "[W 2023-10-27 02:48:09,859] Trial 26 failed with value ({'buydates': [Timestamp('2020-01-15 00:00:00'), Timestamp('2020-05-01 00:00:00'), Timestamp('2020-07-27 00:00:00'), Timestamp('2020-10-19 00:00:00'), Timestamp('2021-08-02 00:00:00'), Timestamp('2021-10-08 00:00:00'), Timestamp('2022-03-24 00:00:00'), Timestamp('2022-08-11 00:00:00'), Timestamp('2022-11-02 00:00:00'), Timestamp('2023-01-14 00:00:00'), Timestamp('2023-06-27 00:00:00')], 'buyprices': [8825.3, 8830.52, 11047.58, 11745.0, 39147.48, 53975.0, 43973.4, 23917.2, 20140.1, 20962.8, 30683.2], 'selldates': [Timestamp('2020-02-06 00:00:00'), Timestamp('2020-05-07 00:00:00'), Timestamp('2020-08-17 00:00:00'), Timestamp('2020-10-21 00:00:00'), Timestamp('2021-08-07 00:00:00'), Timestamp('2021-10-15 00:00:00'), Timestamp('2022-04-11 00:00:00'), Timestamp('2022-08-19 00:00:00'), Timestamp('2022-11-08 00:00:00'), Timestamp('2023-01-21 00:00:00'), Timestamp('2023-08-17 00:00:00')], 'sellprices': [9810.570757003125, 9816.373526240608, 12280.949688243187, 13056.230784336138, 43517.96794424719, 60000.856243894676, 40623.360308924435, 22095.108251365768, 18605.760276843932, 23303.120875766843, 28345.651894799816], 'profits': [0.11064161637600142, 0.11064161637600137, 0.11064161637600152, 0.1106416163760015, 0.11064161637600137, 0.1106416163760014, -0.07718332198728245, -0.0771833219872825, -0.07718332198728242, 0.11064161637600146, -0.07718332198728245]},     ticker  returns  winrate  trades  buy&hold_ret%\n",
      "0  BTCUSDT    51.17    63.64      11          240.9).\n"
     ]
    },
    {
     "name": "stdout",
     "output_type": "stream",
     "text": [
      "BTCUSDT, winrate=63.64%, returns=51.17%, no. of trades = 11, buy&hold_ret = 240.89999999999998%\n"
     ]
    },
    {
     "name": "stderr",
     "output_type": "stream",
     "text": [
      "[W 2023-10-27 02:48:10,140] Trial 27 failed with parameters: {'fast_ma_period': 25, 'slow_ma_period': 61, 'rsi_period': 12, 'sl_perc': 5.513336521964865, 'tp_perc': 8.092629635215626} because of the following error: The value {'buydates': [Timestamp('2020-01-13 00:00:00'), Timestamp('2020-04-26 00:00:00'), Timestamp('2020-07-28 00:00:00'), Timestamp('2020-10-18 00:00:00'), Timestamp('2021-08-04 00:00:00'), Timestamp('2021-10-12 00:00:00'), Timestamp('2022-03-01 00:00:00'), Timestamp('2022-03-19 00:00:00'), Timestamp('2022-08-06 00:00:00'), Timestamp('2022-11-04 00:00:00'), Timestamp('2023-01-11 00:00:00'), Timestamp('2023-06-28 00:00:00'), Timestamp('2023-10-07 00:00:00')], 'buyprices': [8113.0, 7694.17, 10919.94, 11501.1, 39731.31, 56011.84, 44394.1, 42188.2, 22943.3, 21137.6, 17935.7, 30066.3, 27943.0], 'selldates': [Timestamp('2020-01-14 00:00:00'), Timestamp('2020-04-29 00:00:00'), Timestamp('2020-08-01 00:00:00'), Timestamp('2020-10-21 00:00:00'), Timestamp('2021-08-05 00:00:00'), Timestamp('2021-10-15 00:00:00'), Timestamp('2022-03-03 00:00:00'), Timestamp('2022-03-27 00:00:00'), Timestamp('2022-08-11 00:00:00'), Timestamp('2022-11-08 00:00:00'), Timestamp('2023-01-13 00:00:00'), Timestamp('2023-08-17 00:00:00'), Timestamp('2023-10-16 00:00:00')], 'sellprices': [8769.555042305043, 8316.83068160387, 11803.650300587766, 12431.841426975783, 37540.78917511492, 60544.67076306955, 41946.503871102395, 45602.33477576404, 24800.016295096426, 19972.212979333155, 19387.16977348337, 28408.643701296478, 30204.3234989683], 'profits': [0.07992629635215613, 0.07992629635215615, 0.07992629635215626, 0.07992629635215612, -0.05613336521964858, 0.0799262963521562, -0.05613336521964863, 0.07992629635215628, 0.07992629635215626, -0.05613336521964857, 0.0799262963521562, -0.05613336521964862, 0.0799262963521562]} could not be cast to float.\n",
      "[W 2023-10-27 02:48:10,150] Trial 27 failed with value ({'buydates': [Timestamp('2020-01-13 00:00:00'), Timestamp('2020-04-26 00:00:00'), Timestamp('2020-07-28 00:00:00'), Timestamp('2020-10-18 00:00:00'), Timestamp('2021-08-04 00:00:00'), Timestamp('2021-10-12 00:00:00'), Timestamp('2022-03-01 00:00:00'), Timestamp('2022-03-19 00:00:00'), Timestamp('2022-08-06 00:00:00'), Timestamp('2022-11-04 00:00:00'), Timestamp('2023-01-11 00:00:00'), Timestamp('2023-06-28 00:00:00'), Timestamp('2023-10-07 00:00:00')], 'buyprices': [8113.0, 7694.17, 10919.94, 11501.1, 39731.31, 56011.84, 44394.1, 42188.2, 22943.3, 21137.6, 17935.7, 30066.3, 27943.0], 'selldates': [Timestamp('2020-01-14 00:00:00'), Timestamp('2020-04-29 00:00:00'), Timestamp('2020-08-01 00:00:00'), Timestamp('2020-10-21 00:00:00'), Timestamp('2021-08-05 00:00:00'), Timestamp('2021-10-15 00:00:00'), Timestamp('2022-03-03 00:00:00'), Timestamp('2022-03-27 00:00:00'), Timestamp('2022-08-11 00:00:00'), Timestamp('2022-11-08 00:00:00'), Timestamp('2023-01-13 00:00:00'), Timestamp('2023-08-17 00:00:00'), Timestamp('2023-10-16 00:00:00')], 'sellprices': [8769.555042305043, 8316.83068160387, 11803.650300587766, 12431.841426975783, 37540.78917511492, 60544.67076306955, 41946.503871102395, 45602.33477576404, 24800.016295096426, 19972.212979333155, 19387.16977348337, 28408.643701296478, 30204.3234989683], 'profits': [0.07992629635215613, 0.07992629635215615, 0.07992629635215626, 0.07992629635215612, -0.05613336521964858, 0.0799262963521562, -0.05613336521964863, 0.07992629635215628, 0.07992629635215626, -0.05613336521964857, 0.0799262963521562, -0.05613336521964862, 0.0799262963521562]},     ticker  returns  winrate  trades  buy&hold_ret%\n",
      "0  BTCUSDT    58.56    69.23      13          240.9).\n"
     ]
    },
    {
     "name": "stdout",
     "output_type": "stream",
     "text": [
      "BTCUSDT, winrate=69.23%, returns=58.56%, no. of trades = 13, buy&hold_ret = 240.89999999999998%\n"
     ]
    },
    {
     "name": "stderr",
     "output_type": "stream",
     "text": [
      "[W 2023-10-27 02:48:10,586] Trial 28 failed with parameters: {'fast_ma_period': 11, 'slow_ma_period': 58, 'rsi_period': 24, 'sl_perc': 5.181516562983805, 'tp_perc': 8.192820460903883} because of the following error: The value {'buydates': [Timestamp('2020-01-09 00:00:00'), Timestamp('2020-04-24 00:00:00'), Timestamp('2020-07-26 00:00:00'), Timestamp('2020-10-13 00:00:00'), Timestamp('2021-05-10 00:00:00'), Timestamp('2021-07-29 00:00:00'), Timestamp('2021-10-07 00:00:00'), Timestamp('2022-02-15 00:00:00'), Timestamp('2022-03-19 00:00:00'), Timestamp('2022-07-30 00:00:00'), Timestamp('2022-10-28 00:00:00'), Timestamp('2023-01-09 00:00:00'), Timestamp('2023-03-18 00:00:00'), Timestamp('2023-06-23 00:00:00'), Timestamp('2023-10-04 00:00:00')], 'buyprices': [7818.59, 7504.11, 9939.69, 11419.36, 55869.67, 40012.9, 53814.99, 44529.6, 42188.2, 23629.9, 20582.8, 17169.7, 26907.0, 30673.4, 27759.8], 'selldates': [Timestamp('2020-01-14 00:00:00'), Timestamp('2020-04-29 00:00:00'), Timestamp('2020-07-27 00:00:00'), Timestamp('2020-10-21 00:00:00'), Timestamp('2021-05-12 00:00:00'), Timestamp('2021-08-03 00:00:00'), Timestamp('2021-10-14 00:00:00'), Timestamp('2022-02-17 00:00:00'), Timestamp('2022-03-27 00:00:00'), Timestamp('2022-08-04 00:00:00'), Timestamp('2022-11-08 00:00:00'), Timestamp('2023-01-12 00:00:00'), Timestamp('2023-03-30 00:00:00'), Timestamp('2023-07-24 00:00:00'), Timestamp('2023-10-16 00:00:00')], 'sellprices': [8459.153041274185, 8118.908259488734, 10754.030956070417, 12354.927662584274, 52974.77379526561, 37939.62495916986, 58223.955511753375, 42222.291400569564, 45644.603481687045, 22405.51281768349, 19516.29880887417, 18576.382694675816, 29111.442201415408, 29084.05269856973, 30034.110574305996], 'profits': [0.08092820460903881, 0.08092820460903884, 0.08092820460903878, 0.08092820460903881, -0.05281516562983795, -0.052815165629837964, 0.0809282046090388, -0.05281516562983801, 0.08092820460903874, -0.05281516562983804, -0.05281516562983801, 0.08092820460903892, 0.08092820460903884, -0.05281516562983799, 0.08092820460903886]} could not be cast to float.\n",
      "[W 2023-10-27 02:48:10,596] Trial 28 failed with value ({'buydates': [Timestamp('2020-01-09 00:00:00'), Timestamp('2020-04-24 00:00:00'), Timestamp('2020-07-26 00:00:00'), Timestamp('2020-10-13 00:00:00'), Timestamp('2021-05-10 00:00:00'), Timestamp('2021-07-29 00:00:00'), Timestamp('2021-10-07 00:00:00'), Timestamp('2022-02-15 00:00:00'), Timestamp('2022-03-19 00:00:00'), Timestamp('2022-07-30 00:00:00'), Timestamp('2022-10-28 00:00:00'), Timestamp('2023-01-09 00:00:00'), Timestamp('2023-03-18 00:00:00'), Timestamp('2023-06-23 00:00:00'), Timestamp('2023-10-04 00:00:00')], 'buyprices': [7818.59, 7504.11, 9939.69, 11419.36, 55869.67, 40012.9, 53814.99, 44529.6, 42188.2, 23629.9, 20582.8, 17169.7, 26907.0, 30673.4, 27759.8], 'selldates': [Timestamp('2020-01-14 00:00:00'), Timestamp('2020-04-29 00:00:00'), Timestamp('2020-07-27 00:00:00'), Timestamp('2020-10-21 00:00:00'), Timestamp('2021-05-12 00:00:00'), Timestamp('2021-08-03 00:00:00'), Timestamp('2021-10-14 00:00:00'), Timestamp('2022-02-17 00:00:00'), Timestamp('2022-03-27 00:00:00'), Timestamp('2022-08-04 00:00:00'), Timestamp('2022-11-08 00:00:00'), Timestamp('2023-01-12 00:00:00'), Timestamp('2023-03-30 00:00:00'), Timestamp('2023-07-24 00:00:00'), Timestamp('2023-10-16 00:00:00')], 'sellprices': [8459.153041274185, 8118.908259488734, 10754.030956070417, 12354.927662584274, 52974.77379526561, 37939.62495916986, 58223.955511753375, 42222.291400569564, 45644.603481687045, 22405.51281768349, 19516.29880887417, 18576.382694675816, 29111.442201415408, 29084.05269856973, 30034.110574305996], 'profits': [0.08092820460903881, 0.08092820460903884, 0.08092820460903878, 0.08092820460903881, -0.05281516562983795, -0.052815165629837964, 0.0809282046090388, -0.05281516562983801, 0.08092820460903874, -0.05281516562983804, -0.05281516562983801, 0.08092820460903892, 0.08092820460903884, -0.05281516562983799, 0.08092820460903886]},     ticker  returns  winrate  trades  buy&hold_ret%\n",
      "0  BTCUSDT    45.47     60.0      15          240.9).\n"
     ]
    },
    {
     "name": "stdout",
     "output_type": "stream",
     "text": [
      "BTCUSDT, winrate=60.0%, returns=45.47%, no. of trades = 15, buy&hold_ret = 240.89999999999998%\n"
     ]
    },
    {
     "name": "stderr",
     "output_type": "stream",
     "text": [
      "[W 2023-10-27 02:48:10,905] Trial 29 failed with parameters: {'fast_ma_period': 11, 'slow_ma_period': 74, 'rsi_period': 23, 'sl_perc': 5.18823149283628, 'tp_perc': 9.330150054268085} because of the following error: The value {'buydates': [Timestamp('2020-01-13 00:00:00'), Timestamp('2020-04-29 00:00:00'), Timestamp('2020-07-26 00:00:00'), Timestamp('2020-10-15 00:00:00'), Timestamp('2021-05-06 00:00:00'), Timestamp('2021-07-30 00:00:00'), Timestamp('2021-10-05 00:00:00'), Timestamp('2022-03-22 00:00:00'), Timestamp('2022-08-11 00:00:00'), Timestamp('2022-10-30 00:00:00'), Timestamp('2023-01-13 00:00:00'), Timestamp('2023-06-24 00:00:00'), Timestamp('2023-10-07 00:00:00')], 'buyprices': [8113.0, 8784.2, 9939.69, 11502.0, 56435.35, 42203.25, 51455.12, 42349.8, 23917.2, 20615.6, 19924.2, 30524.2, 27943.0], 'selldates': [Timestamp('2020-01-14 00:00:00'), Timestamp('2020-05-07 00:00:00'), Timestamp('2020-07-27 00:00:00'), Timestamp('2020-10-21 00:00:00'), Timestamp('2021-05-10 00:00:00'), Timestamp('2021-08-01 00:00:00'), Timestamp('2021-10-06 00:00:00'), Timestamp('2022-03-27 00:00:00'), Timestamp('2022-08-19 00:00:00'), Timestamp('2022-11-08 00:00:00'), Timestamp('2023-01-20 00:00:00'), Timestamp('2023-07-24 00:00:00'), Timestamp('2023-10-16 00:00:00')], 'sellprices': [8869.95507390277, 9603.779041067019, 10867.077991929082, 12575.153859241917, 53507.35339820762, 40013.64769249957, 56255.95990660372, 46301.09988768243, 22676.320297395363, 19546.01494836284, 21783.157757112484, 28940.53384266367, 30550.123829664135], 'profits': [0.09230150054268099, 0.09230150054268092, 0.09230150054268102, 0.09230150054268096, -0.05288231492836281, -0.05288231492836279, 0.092301500542681, 0.0923015005426809, -0.052882314928362754, -0.052882314928362865, 0.0923015005426809, -0.05288231492836277, 0.09230150054268099]} could not be cast to float.\n",
      "[W 2023-10-27 02:48:10,916] Trial 29 failed with value ({'buydates': [Timestamp('2020-01-13 00:00:00'), Timestamp('2020-04-29 00:00:00'), Timestamp('2020-07-26 00:00:00'), Timestamp('2020-10-15 00:00:00'), Timestamp('2021-05-06 00:00:00'), Timestamp('2021-07-30 00:00:00'), Timestamp('2021-10-05 00:00:00'), Timestamp('2022-03-22 00:00:00'), Timestamp('2022-08-11 00:00:00'), Timestamp('2022-10-30 00:00:00'), Timestamp('2023-01-13 00:00:00'), Timestamp('2023-06-24 00:00:00'), Timestamp('2023-10-07 00:00:00')], 'buyprices': [8113.0, 8784.2, 9939.69, 11502.0, 56435.35, 42203.25, 51455.12, 42349.8, 23917.2, 20615.6, 19924.2, 30524.2, 27943.0], 'selldates': [Timestamp('2020-01-14 00:00:00'), Timestamp('2020-05-07 00:00:00'), Timestamp('2020-07-27 00:00:00'), Timestamp('2020-10-21 00:00:00'), Timestamp('2021-05-10 00:00:00'), Timestamp('2021-08-01 00:00:00'), Timestamp('2021-10-06 00:00:00'), Timestamp('2022-03-27 00:00:00'), Timestamp('2022-08-19 00:00:00'), Timestamp('2022-11-08 00:00:00'), Timestamp('2023-01-20 00:00:00'), Timestamp('2023-07-24 00:00:00'), Timestamp('2023-10-16 00:00:00')], 'sellprices': [8869.95507390277, 9603.779041067019, 10867.077991929082, 12575.153859241917, 53507.35339820762, 40013.64769249957, 56255.95990660372, 46301.09988768243, 22676.320297395363, 19546.01494836284, 21783.157757112484, 28940.53384266367, 30550.123829664135], 'profits': [0.09230150054268099, 0.09230150054268092, 0.09230150054268102, 0.09230150054268096, -0.05288231492836281, -0.05288231492836279, 0.092301500542681, 0.0923015005426809, -0.052882314928362754, -0.052882314928362865, 0.0923015005426809, -0.05288231492836277, 0.09230150054268099]},     ticker  returns  winrate  trades  buy&hold_ret%\n",
      "0  BTCUSDT    54.44    61.54      13          240.9).\n"
     ]
    },
    {
     "name": "stdout",
     "output_type": "stream",
     "text": [
      "BTCUSDT, winrate=61.54%, returns=54.44%, no. of trades = 13, buy&hold_ret = 240.89999999999998%\n"
     ]
    },
    {
     "name": "stderr",
     "output_type": "stream",
     "text": [
      "[W 2023-10-27 02:48:11,318] Trial 30 failed with parameters: {'fast_ma_period': 12, 'slow_ma_period': 73, 'rsi_period': 15, 'sl_perc': 5.75231110546862, 'tp_perc': 10.198709928919396} because of the following error: The value {'buydates': [Timestamp('2020-01-13 00:00:00'), Timestamp('2020-04-29 00:00:00'), Timestamp('2020-07-26 00:00:00'), Timestamp('2020-10-16 00:00:00'), Timestamp('2021-05-07 00:00:00'), Timestamp('2021-07-30 00:00:00'), Timestamp('2021-10-06 00:00:00'), Timestamp('2022-03-22 00:00:00'), Timestamp('2022-08-10 00:00:00'), Timestamp('2022-10-31 00:00:00'), Timestamp('2023-01-13 00:00:00'), Timestamp('2023-06-25 00:00:00'), Timestamp('2023-10-08 00:00:00')], 'buyprices': [8113.0, 8784.2, 9939.69, 11318.92, 57350.88, 42203.25, 55321.6, 42349.8, 23940.9, 20482.0, 19924.2, 30458.0, 27901.2], 'selldates': [Timestamp('2020-01-17 00:00:00'), Timestamp('2020-05-07 00:00:00'), Timestamp('2020-07-27 00:00:00'), Timestamp('2020-10-21 00:00:00'), Timestamp('2021-05-10 00:00:00'), Timestamp('2021-08-01 00:00:00'), Timestamp('2021-10-15 00:00:00'), Timestamp('2022-03-27 00:00:00'), Timestamp('2022-08-19 00:00:00'), Timestamp('2022-11-08 00:00:00'), Timestamp('2023-01-20 00:00:00'), Timestamp('2023-08-01 00:00:00'), Timestamp('2023-10-23 00:00:00')], 'sellprices': [8940.42133653323, 9680.075077576139, 10953.410150933809, 12473.303817886444, 54051.87896067602, 39775.587763381314, 60963.689512037075, 46668.93325747751, 22563.744950550863, 19303.811639377916, 21956.21136365776, 28705.961083496368, 30746.76245468766], 'profits': [0.10098709928919397, 0.10098709928919403, 0.10098709928919396, 0.10098709928919405, -0.058523111054686154, -0.05852311105468621, 0.10098709928919404, 0.10098709928919399, -0.058523111054686265, -0.05852311105468624, 0.10098709928919399, -0.058523111054686196, 0.10098709928919403]} could not be cast to float.\n",
      "[W 2023-10-27 02:48:11,325] Trial 30 failed with value ({'buydates': [Timestamp('2020-01-13 00:00:00'), Timestamp('2020-04-29 00:00:00'), Timestamp('2020-07-26 00:00:00'), Timestamp('2020-10-16 00:00:00'), Timestamp('2021-05-07 00:00:00'), Timestamp('2021-07-30 00:00:00'), Timestamp('2021-10-06 00:00:00'), Timestamp('2022-03-22 00:00:00'), Timestamp('2022-08-10 00:00:00'), Timestamp('2022-10-31 00:00:00'), Timestamp('2023-01-13 00:00:00'), Timestamp('2023-06-25 00:00:00'), Timestamp('2023-10-08 00:00:00')], 'buyprices': [8113.0, 8784.2, 9939.69, 11318.92, 57350.88, 42203.25, 55321.6, 42349.8, 23940.9, 20482.0, 19924.2, 30458.0, 27901.2], 'selldates': [Timestamp('2020-01-17 00:00:00'), Timestamp('2020-05-07 00:00:00'), Timestamp('2020-07-27 00:00:00'), Timestamp('2020-10-21 00:00:00'), Timestamp('2021-05-10 00:00:00'), Timestamp('2021-08-01 00:00:00'), Timestamp('2021-10-15 00:00:00'), Timestamp('2022-03-27 00:00:00'), Timestamp('2022-08-19 00:00:00'), Timestamp('2022-11-08 00:00:00'), Timestamp('2023-01-20 00:00:00'), Timestamp('2023-08-01 00:00:00'), Timestamp('2023-10-23 00:00:00')], 'sellprices': [8940.42133653323, 9680.075077576139, 10953.410150933809, 12473.303817886444, 54051.87896067602, 39775.587763381314, 60963.689512037075, 46668.93325747751, 22563.744950550863, 19303.811639377916, 21956.21136365776, 28705.961083496368, 30746.76245468766], 'profits': [0.10098709928919397, 0.10098709928919403, 0.10098709928919396, 0.10098709928919405, -0.058523111054686154, -0.05852311105468621, 0.10098709928919404, 0.10098709928919399, -0.058523111054686265, -0.05852311105468624, 0.10098709928919399, -0.058523111054686196, 0.10098709928919403]},     ticker  returns  winrate  trades  buy&hold_ret%\n",
      "0  BTCUSDT     59.7    61.54      13          240.9).\n"
     ]
    },
    {
     "name": "stdout",
     "output_type": "stream",
     "text": [
      "BTCUSDT, winrate=61.54%, returns=59.7%, no. of trades = 13, buy&hold_ret = 240.89999999999998%\n",
      "BTCUSDT, winrate=31.25%, returns=-10.36%, no. of trades = 16, buy&hold_ret = 240.89999999999998%\n"
     ]
    },
    {
     "name": "stderr",
     "output_type": "stream",
     "text": [
      "[W 2023-10-27 02:48:11,555] Trial 31 failed with parameters: {'fast_ma_period': 14, 'slow_ma_period': 52, 'rsi_period': 13, 'sl_perc': 4.520511557567187, 'tp_perc': 8.66779077510656} because of the following error: The value {'buydates': [Timestamp('2019-11-03 00:00:00'), Timestamp('2020-01-08 00:00:00'), Timestamp('2020-04-18 00:00:00'), Timestamp('2020-07-26 00:00:00'), Timestamp('2020-10-13 00:00:00'), Timestamp('2021-07-30 00:00:00'), Timestamp('2021-10-09 00:00:00'), Timestamp('2022-02-16 00:00:00'), Timestamp('2022-03-09 00:00:00'), Timestamp('2022-03-24 00:00:00'), Timestamp('2022-07-28 00:00:00'), Timestamp('2022-10-29 00:00:00'), Timestamp('2023-01-11 00:00:00'), Timestamp('2023-03-19 00:00:00'), Timestamp('2023-06-24 00:00:00'), Timestamp('2023-10-01 00:00:00')], 'buyprices': [9197.88, 8059.84, 7242.42, 9939.69, 11419.36, 42203.25, 54960.77, 43860.7, 41937.5, 43973.4, 23836.2, 20796.7, 17935.7, 27955.7, 30524.2, 27981.4], 'selldates': [Timestamp('2019-11-08 00:00:00'), Timestamp('2020-01-10 00:00:00'), Timestamp('2020-04-20 00:00:00'), Timestamp('2020-07-27 00:00:00'), Timestamp('2020-10-21 00:00:00'), Timestamp('2021-08-01 00:00:00'), Timestamp('2021-10-15 00:00:00'), Timestamp('2022-02-17 00:00:00'), Timestamp('2022-03-10 00:00:00'), Timestamp('2022-03-28 00:00:00'), Timestamp('2022-08-02 00:00:00'), Timestamp('2022-11-08 00:00:00'), Timestamp('2023-01-13 00:00:00'), Timestamp('2023-03-22 00:00:00'), Timestamp('2023-07-24 00:00:00'), Timestamp('2023-10-11 00:00:00')], 'sellprices': [8782.088771548839, 7695.494001278577, 6915.025566852442, 10801.24153289419, 12409.16623265621, 40295.44720608103, 59724.65455198753, 41877.971987270124, 40041.710465545264, 47784.922308700705, 22758.68182411517, 19856.582772907426, 19490.328950050785, 26691.95935050119, 29144.350011145078, 26716.497579030896], 'profits': [-0.04620511557567183, -0.04620511557567183, -0.046205115575671904, 0.0856779077510656, 0.0856779077510656, -0.04620511557567179, 0.08567790775106558, -0.04620511557567191, -0.0462051155756718, 0.08567790775106549, -0.04620511557567189, -0.046205115575671835, 0.08567790775106544, -0.04620511557567186, -0.04620511557567186, -0.046205115575671876]} could not be cast to float.\n",
      "[W 2023-10-27 02:48:11,559] Trial 31 failed with value ({'buydates': [Timestamp('2019-11-03 00:00:00'), Timestamp('2020-01-08 00:00:00'), Timestamp('2020-04-18 00:00:00'), Timestamp('2020-07-26 00:00:00'), Timestamp('2020-10-13 00:00:00'), Timestamp('2021-07-30 00:00:00'), Timestamp('2021-10-09 00:00:00'), Timestamp('2022-02-16 00:00:00'), Timestamp('2022-03-09 00:00:00'), Timestamp('2022-03-24 00:00:00'), Timestamp('2022-07-28 00:00:00'), Timestamp('2022-10-29 00:00:00'), Timestamp('2023-01-11 00:00:00'), Timestamp('2023-03-19 00:00:00'), Timestamp('2023-06-24 00:00:00'), Timestamp('2023-10-01 00:00:00')], 'buyprices': [9197.88, 8059.84, 7242.42, 9939.69, 11419.36, 42203.25, 54960.77, 43860.7, 41937.5, 43973.4, 23836.2, 20796.7, 17935.7, 27955.7, 30524.2, 27981.4], 'selldates': [Timestamp('2019-11-08 00:00:00'), Timestamp('2020-01-10 00:00:00'), Timestamp('2020-04-20 00:00:00'), Timestamp('2020-07-27 00:00:00'), Timestamp('2020-10-21 00:00:00'), Timestamp('2021-08-01 00:00:00'), Timestamp('2021-10-15 00:00:00'), Timestamp('2022-02-17 00:00:00'), Timestamp('2022-03-10 00:00:00'), Timestamp('2022-03-28 00:00:00'), Timestamp('2022-08-02 00:00:00'), Timestamp('2022-11-08 00:00:00'), Timestamp('2023-01-13 00:00:00'), Timestamp('2023-03-22 00:00:00'), Timestamp('2023-07-24 00:00:00'), Timestamp('2023-10-11 00:00:00')], 'sellprices': [8782.088771548839, 7695.494001278577, 6915.025566852442, 10801.24153289419, 12409.16623265621, 40295.44720608103, 59724.65455198753, 41877.971987270124, 40041.710465545264, 47784.922308700705, 22758.68182411517, 19856.582772907426, 19490.328950050785, 26691.95935050119, 29144.350011145078, 26716.497579030896], 'profits': [-0.04620511557567183, -0.04620511557567183, -0.046205115575671904, 0.0856779077510656, 0.0856779077510656, -0.04620511557567179, 0.08567790775106558, -0.04620511557567191, -0.0462051155756718, 0.08567790775106549, -0.04620511557567189, -0.046205115575671835, 0.08567790775106544, -0.04620511557567186, -0.04620511557567186, -0.046205115575671876]},     ticker  returns  winrate  trades  buy&hold_ret%\n",
      "0  BTCUSDT   -10.36    31.25      16          240.9).\n",
      "[W 2023-10-27 02:48:11,873] Trial 32 failed with parameters: {'fast_ma_period': 14, 'slow_ma_period': 51, 'rsi_period': 17, 'sl_perc': 5.0785618416810285, 'tp_perc': 8.91844229575752} because of the following error: The value {'buydates': [Timestamp('2019-11-03 00:00:00'), Timestamp('2020-01-07 00:00:00'), Timestamp('2020-04-18 00:00:00'), Timestamp('2020-07-26 00:00:00'), Timestamp('2020-10-12 00:00:00'), Timestamp('2021-07-30 00:00:00'), Timestamp('2021-10-09 00:00:00'), Timestamp('2022-02-15 00:00:00'), Timestamp('2022-03-09 00:00:00'), Timestamp('2022-03-24 00:00:00'), Timestamp('2022-07-27 00:00:00'), Timestamp('2022-10-29 00:00:00'), Timestamp('2023-01-11 00:00:00'), Timestamp('2023-03-19 00:00:00'), Timestamp('2023-06-24 00:00:00'), Timestamp('2023-09-30 00:00:00')], 'buyprices': [9197.88, 8152.49, 7242.42, 9939.69, 11530.36, 42203.25, 54960.77, 44529.6, 41937.5, 43973.4, 22941.1, 20796.7, 17935.7, 27955.7, 30524.2, 26950.9], 'selldates': [Timestamp('2019-11-08 00:00:00'), Timestamp('2020-01-10 00:00:00'), Timestamp('2020-04-20 00:00:00'), Timestamp('2020-07-27 00:00:00'), Timestamp('2020-10-21 00:00:00'), Timestamp('2021-08-01 00:00:00'), Timestamp('2021-10-15 00:00:00'), Timestamp('2022-02-17 00:00:00'), Timestamp('2022-03-10 00:00:00'), Timestamp('2022-03-28 00:00:00'), Timestamp('2022-08-14 00:00:00'), Timestamp('2022-11-08 00:00:00'), Timestamp('2023-01-13 00:00:00'), Timestamp('2023-03-27 00:00:00'), Timestamp('2023-07-24 00:00:00'), Timestamp('2023-10-16 00:00:00')], 'sellprices': [8730.759976076388, 7738.460753713138, 6874.609221465725, 10826.15551702718, 12558.688503093106, 40059.931849550754, 59862.414557754004, 42268.136726146804, 39807.67812764502, 47895.14230448264, 24987.088765512024, 19740.526729471123, 19535.28505484018, 26535.95248722518, 28974.0096263216, 29354.500464687313], 'profits': [-0.051785618416810335, -0.05178561841681032, -0.05178561841681032, 0.08818442295757511, 0.08818442295757509, -0.05178561841681022, 0.08818442295757514, -0.05178561841681027, -0.05178561841681025, 0.08818442295757516, 0.08818442295757509, -0.05178561841681025, 0.08818442295757509, -0.051785618416810245, -0.051785618416810286, 0.08818442295757513]} could not be cast to float.\n",
      "[W 2023-10-27 02:48:11,881] Trial 32 failed with value ({'buydates': [Timestamp('2019-11-03 00:00:00'), Timestamp('2020-01-07 00:00:00'), Timestamp('2020-04-18 00:00:00'), Timestamp('2020-07-26 00:00:00'), Timestamp('2020-10-12 00:00:00'), Timestamp('2021-07-30 00:00:00'), Timestamp('2021-10-09 00:00:00'), Timestamp('2022-02-15 00:00:00'), Timestamp('2022-03-09 00:00:00'), Timestamp('2022-03-24 00:00:00'), Timestamp('2022-07-27 00:00:00'), Timestamp('2022-10-29 00:00:00'), Timestamp('2023-01-11 00:00:00'), Timestamp('2023-03-19 00:00:00'), Timestamp('2023-06-24 00:00:00'), Timestamp('2023-09-30 00:00:00')], 'buyprices': [9197.88, 8152.49, 7242.42, 9939.69, 11530.36, 42203.25, 54960.77, 44529.6, 41937.5, 43973.4, 22941.1, 20796.7, 17935.7, 27955.7, 30524.2, 26950.9], 'selldates': [Timestamp('2019-11-08 00:00:00'), Timestamp('2020-01-10 00:00:00'), Timestamp('2020-04-20 00:00:00'), Timestamp('2020-07-27 00:00:00'), Timestamp('2020-10-21 00:00:00'), Timestamp('2021-08-01 00:00:00'), Timestamp('2021-10-15 00:00:00'), Timestamp('2022-02-17 00:00:00'), Timestamp('2022-03-10 00:00:00'), Timestamp('2022-03-28 00:00:00'), Timestamp('2022-08-14 00:00:00'), Timestamp('2022-11-08 00:00:00'), Timestamp('2023-01-13 00:00:00'), Timestamp('2023-03-27 00:00:00'), Timestamp('2023-07-24 00:00:00'), Timestamp('2023-10-16 00:00:00')], 'sellprices': [8730.759976076388, 7738.460753713138, 6874.609221465725, 10826.15551702718, 12558.688503093106, 40059.931849550754, 59862.414557754004, 42268.136726146804, 39807.67812764502, 47895.14230448264, 24987.088765512024, 19740.526729471123, 19535.28505484018, 26535.95248722518, 28974.0096263216, 29354.500464687313], 'profits': [-0.051785618416810335, -0.05178561841681032, -0.05178561841681032, 0.08818442295757511, 0.08818442295757509, -0.05178561841681022, 0.08818442295757514, -0.05178561841681027, -0.05178561841681025, 0.08818442295757516, 0.08818442295757509, -0.05178561841681025, 0.08818442295757509, -0.051785618416810245, -0.051785618416810286, 0.08818442295757513]},     ticker  returns  winrate  trades  buy&hold_ret%\n",
      "0  BTCUSDT    11.96    43.75      16          240.9).\n"
     ]
    },
    {
     "name": "stdout",
     "output_type": "stream",
     "text": [
      "BTCUSDT, winrate=43.75%, returns=11.96%, no. of trades = 16, buy&hold_ret = 240.89999999999998%\n"
     ]
    },
    {
     "name": "stderr",
     "output_type": "stream",
     "text": [
      "[W 2023-10-27 02:48:12,116] Trial 33 failed with parameters: {'fast_ma_period': 18, 'slow_ma_period': 52, 'rsi_period': 16, 'sl_perc': 5.430606894284187, 'tp_perc': 8.898351774201437} because of the following error: The value {'buydates': [Timestamp('2019-11-05 00:00:00'), Timestamp('2020-01-08 00:00:00'), Timestamp('2020-04-19 00:00:00'), Timestamp('2020-07-27 00:00:00'), Timestamp('2020-10-13 00:00:00'), Timestamp('2021-08-01 00:00:00'), Timestamp('2021-10-10 00:00:00'), Timestamp('2022-03-25 00:00:00'), Timestamp('2022-07-29 00:00:00'), Timestamp('2022-10-31 00:00:00'), Timestamp('2023-01-11 00:00:00'), Timestamp('2023-03-19 00:00:00'), Timestamp('2023-06-25 00:00:00'), Timestamp('2023-10-01 00:00:00')], 'buyprices': [9313.2, 8059.84, 7118.03, 11047.58, 11419.36, 39846.78, 54700.0, 44290.6, 23771.1, 20482.0, 17935.7, 27955.7, 30458.0, 27981.4], 'selldates': [Timestamp('2019-11-08 00:00:00'), Timestamp('2020-01-14 00:00:00'), Timestamp('2020-04-23 00:00:00'), Timestamp('2020-08-02 00:00:00'), Timestamp('2020-10-21 00:00:00'), Timestamp('2021-08-03 00:00:00'), Timestamp('2021-10-15 00:00:00'), Timestamp('2022-04-10 00:00:00'), Timestamp('2022-08-04 00:00:00'), Timestamp('2022-11-08 00:00:00'), Timestamp('2023-01-13 00:00:00'), Timestamp('2023-04-11 00:00:00'), Timestamp('2023-08-01 00:00:00'), Timestamp('2023-10-16 00:00:00')], 'sellprices': [8807.436718721527, 8777.032915637797, 7751.41734879319, 12030.632530936324, 12435.49482316245, 37682.85801816975, 59567.398420488185, 41885.35162288017, 22480.18500455281, 19369.703095912715, 19531.68167916545, 30443.296526940434, 28803.945752138923, 30471.283403346402], 'profits': [-0.05530606894284178, 0.08798351774201439, 0.08798351774201438, 0.08798351774201443, 0.08798351774201432, -0.05530606894284185, 0.08798351774201435, -0.05530606894284185, -0.05530606894284181, -0.05530606894284176, 0.08798351774201443, 0.08798351774201445, -0.055306068942841846, 0.08798351774201436]} could not be cast to float.\n",
      "[W 2023-10-27 02:48:12,121] Trial 33 failed with value ({'buydates': [Timestamp('2019-11-05 00:00:00'), Timestamp('2020-01-08 00:00:00'), Timestamp('2020-04-19 00:00:00'), Timestamp('2020-07-27 00:00:00'), Timestamp('2020-10-13 00:00:00'), Timestamp('2021-08-01 00:00:00'), Timestamp('2021-10-10 00:00:00'), Timestamp('2022-03-25 00:00:00'), Timestamp('2022-07-29 00:00:00'), Timestamp('2022-10-31 00:00:00'), Timestamp('2023-01-11 00:00:00'), Timestamp('2023-03-19 00:00:00'), Timestamp('2023-06-25 00:00:00'), Timestamp('2023-10-01 00:00:00')], 'buyprices': [9313.2, 8059.84, 7118.03, 11047.58, 11419.36, 39846.78, 54700.0, 44290.6, 23771.1, 20482.0, 17935.7, 27955.7, 30458.0, 27981.4], 'selldates': [Timestamp('2019-11-08 00:00:00'), Timestamp('2020-01-14 00:00:00'), Timestamp('2020-04-23 00:00:00'), Timestamp('2020-08-02 00:00:00'), Timestamp('2020-10-21 00:00:00'), Timestamp('2021-08-03 00:00:00'), Timestamp('2021-10-15 00:00:00'), Timestamp('2022-04-10 00:00:00'), Timestamp('2022-08-04 00:00:00'), Timestamp('2022-11-08 00:00:00'), Timestamp('2023-01-13 00:00:00'), Timestamp('2023-04-11 00:00:00'), Timestamp('2023-08-01 00:00:00'), Timestamp('2023-10-16 00:00:00')], 'sellprices': [8807.436718721527, 8777.032915637797, 7751.41734879319, 12030.632530936324, 12435.49482316245, 37682.85801816975, 59567.398420488185, 41885.35162288017, 22480.18500455281, 19369.703095912715, 19531.68167916545, 30443.296526940434, 28803.945752138923, 30471.283403346402], 'profits': [-0.05530606894284178, 0.08798351774201439, 0.08798351774201438, 0.08798351774201443, 0.08798351774201432, -0.05530606894284185, 0.08798351774201435, -0.05530606894284185, -0.05530606894284181, -0.05530606894284176, 0.08798351774201443, 0.08798351774201445, -0.055306068942841846, 0.08798351774201436]},     ticker  returns  winrate  trades  buy&hold_ret%\n",
      "0  BTCUSDT    39.55    57.14      14          240.9).\n"
     ]
    },
    {
     "name": "stdout",
     "output_type": "stream",
     "text": [
      "BTCUSDT, winrate=57.14%, returns=39.55%, no. of trades = 14, buy&hold_ret = 240.89999999999998%\n"
     ]
    },
    {
     "name": "stderr",
     "output_type": "stream",
     "text": [
      "[W 2023-10-27 02:48:12,419] Trial 34 failed with parameters: {'fast_ma_period': 14, 'slow_ma_period': 60, 'rsi_period': 15, 'sl_perc': 3.061189721095698, 'tp_perc': 5.376647766768989} because of the following error: The value {'buydates': [Timestamp('2020-01-10 00:00:00'), Timestamp('2020-04-25 00:00:00'), Timestamp('2020-07-27 00:00:00'), Timestamp('2020-10-15 00:00:00'), Timestamp('2021-07-30 00:00:00'), Timestamp('2021-10-08 00:00:00'), Timestamp('2022-03-20 00:00:00'), Timestamp('2022-07-31 00:00:00'), Timestamp('2022-10-29 00:00:00'), Timestamp('2023-01-10 00:00:00'), Timestamp('2023-03-18 00:00:00'), Timestamp('2023-06-25 00:00:00'), Timestamp('2023-10-05 00:00:00')], 'buyprices': [8207.09, 7534.01, 11047.58, 11502.0, 42203.25, 53975.0, 41261.0, 23290.1, 20796.7, 17428.8, 26907.0, 30458.0, 27398.4], 'selldates': [Timestamp('2020-01-14 00:00:00'), Timestamp('2020-04-29 00:00:00'), Timestamp('2020-07-28 00:00:00'), Timestamp('2020-10-21 00:00:00'), Timestamp('2021-08-01 00:00:00'), Timestamp('2021-10-11 00:00:00'), Timestamp('2022-03-22 00:00:00'), Timestamp('2022-08-04 00:00:00'), Timestamp('2022-11-02 00:00:00'), Timestamp('2023-01-12 00:00:00'), Timestamp('2023-03-19 00:00:00'), Timestamp('2023-06-30 00:00:00'), Timestamp('2023-10-11 00:00:00')], 'sellprices': [8648.35632120172, 7939.087180413152, 10709.392616610176, 12120.422026133769, 40911.32844903168, 56877.04563211356, 43479.45863504655, 22577.145852767087, 20160.07355727289, 18365.885185974632, 28353.69461460453, 29525.622834748672, 26559.682995455318], 'profits': [0.052766477667689715, 0.052766477667689826, -0.031611897210957, 0.05276647766768985, -0.031611897210956974, 0.0527664776676898, 0.05276647766768976, -0.031611897210957064, -0.031611897210956974, 0.05276647766768984, 0.052766477667689826, -0.03161189721095698, -0.03161189721095698]} could not be cast to float.\n",
      "[W 2023-10-27 02:48:12,435] Trial 34 failed with value ({'buydates': [Timestamp('2020-01-10 00:00:00'), Timestamp('2020-04-25 00:00:00'), Timestamp('2020-07-27 00:00:00'), Timestamp('2020-10-15 00:00:00'), Timestamp('2021-07-30 00:00:00'), Timestamp('2021-10-08 00:00:00'), Timestamp('2022-03-20 00:00:00'), Timestamp('2022-07-31 00:00:00'), Timestamp('2022-10-29 00:00:00'), Timestamp('2023-01-10 00:00:00'), Timestamp('2023-03-18 00:00:00'), Timestamp('2023-06-25 00:00:00'), Timestamp('2023-10-05 00:00:00')], 'buyprices': [8207.09, 7534.01, 11047.58, 11502.0, 42203.25, 53975.0, 41261.0, 23290.1, 20796.7, 17428.8, 26907.0, 30458.0, 27398.4], 'selldates': [Timestamp('2020-01-14 00:00:00'), Timestamp('2020-04-29 00:00:00'), Timestamp('2020-07-28 00:00:00'), Timestamp('2020-10-21 00:00:00'), Timestamp('2021-08-01 00:00:00'), Timestamp('2021-10-11 00:00:00'), Timestamp('2022-03-22 00:00:00'), Timestamp('2022-08-04 00:00:00'), Timestamp('2022-11-02 00:00:00'), Timestamp('2023-01-12 00:00:00'), Timestamp('2023-03-19 00:00:00'), Timestamp('2023-06-30 00:00:00'), Timestamp('2023-10-11 00:00:00')], 'sellprices': [8648.35632120172, 7939.087180413152, 10709.392616610176, 12120.422026133769, 40911.32844903168, 56877.04563211356, 43479.45863504655, 22577.145852767087, 20160.07355727289, 18365.885185974632, 28353.69461460453, 29525.622834748672, 26559.682995455318], 'profits': [0.052766477667689715, 0.052766477667689826, -0.031611897210957, 0.05276647766768985, -0.031611897210956974, 0.0527664776676898, 0.05276647766768976, -0.031611897210957064, -0.031611897210956974, 0.05276647766768984, 0.052766477667689826, -0.03161189721095698, -0.03161189721095698]},     ticker  returns  winrate  trades  buy&hold_ret%\n",
      "0  BTCUSDT     18.2    53.85      13          240.9).\n"
     ]
    },
    {
     "name": "stdout",
     "output_type": "stream",
     "text": [
      "BTCUSDT, winrate=53.85%, returns=18.2%, no. of trades = 13, buy&hold_ret = 240.89999999999998%\n"
     ]
    },
    {
     "name": "stderr",
     "output_type": "stream",
     "text": [
      "[W 2023-10-27 02:48:12,866] Trial 35 failed with parameters: {'fast_ma_period': 15, 'slow_ma_period': 54, 'rsi_period': 14, 'sl_perc': 3.89039586136914, 'tp_perc': 5.7948746231908315} because of the following error: The value {'buydates': [Timestamp('2019-11-04 00:00:00'), Timestamp('2020-01-09 00:00:00'), Timestamp('2020-07-27 00:00:00'), Timestamp('2020-10-13 00:00:00'), Timestamp('2021-07-31 00:00:00'), Timestamp('2021-10-09 00:00:00'), Timestamp('2022-03-23 00:00:00'), Timestamp('2022-07-29 00:00:00'), Timestamp('2022-10-29 00:00:00'), Timestamp('2023-01-11 00:00:00'), Timestamp('2023-03-19 00:00:00'), Timestamp('2023-06-24 00:00:00'), Timestamp('2023-10-02 00:00:00')], 'buyprices': [9395.46, 7818.59, 11047.58, 11419.36, 41448.11, 54960.77, 42867.9, 23771.1, 20796.7, 17935.7, 27955.7, 30524.2, 27477.6], 'selldates': [Timestamp('2019-11-08 00:00:00'), Timestamp('2020-01-11 00:00:00'), Timestamp('2020-07-28 00:00:00'), Timestamp('2020-10-21 00:00:00'), Timestamp('2021-08-01 00:00:00'), Timestamp('2021-10-14 00:00:00'), Timestamp('2022-03-27 00:00:00'), Timestamp('2022-08-01 00:00:00'), Timestamp('2022-11-08 00:00:00'), Timestamp('2023-01-12 00:00:00'), Timestamp('2023-03-22 00:00:00'), Timestamp('2023-07-24 00:00:00'), Timestamp('2023-10-16 00:00:00')], 'sellprices': [9029.939413003405, 8271.667487801336, 10617.785404898554, 12081.097594770807, 39835.61444394427, 58145.67771344028, 45352.04105859483, 22846.310109398077, 19987.626043898643, 18975.05132779164, 26868.112604183225, 29336.68778648396, 29069.892469461884], 'profits': [-0.039903958613691504, 0.05694874623190834, -0.03990395861369153, 0.05694874623190844, -0.03990395861369139, 0.05694874623190838, 0.056948746231908376, -0.0399039586136915, -0.0399039586136915, 0.05694874623190837, -0.03990395861369151, -0.03990395861369149, 0.056948746231908355]} could not be cast to float.\n",
      "[W 2023-10-27 02:48:12,874] Trial 35 failed with value ({'buydates': [Timestamp('2019-11-04 00:00:00'), Timestamp('2020-01-09 00:00:00'), Timestamp('2020-07-27 00:00:00'), Timestamp('2020-10-13 00:00:00'), Timestamp('2021-07-31 00:00:00'), Timestamp('2021-10-09 00:00:00'), Timestamp('2022-03-23 00:00:00'), Timestamp('2022-07-29 00:00:00'), Timestamp('2022-10-29 00:00:00'), Timestamp('2023-01-11 00:00:00'), Timestamp('2023-03-19 00:00:00'), Timestamp('2023-06-24 00:00:00'), Timestamp('2023-10-02 00:00:00')], 'buyprices': [9395.46, 7818.59, 11047.58, 11419.36, 41448.11, 54960.77, 42867.9, 23771.1, 20796.7, 17935.7, 27955.7, 30524.2, 27477.6], 'selldates': [Timestamp('2019-11-08 00:00:00'), Timestamp('2020-01-11 00:00:00'), Timestamp('2020-07-28 00:00:00'), Timestamp('2020-10-21 00:00:00'), Timestamp('2021-08-01 00:00:00'), Timestamp('2021-10-14 00:00:00'), Timestamp('2022-03-27 00:00:00'), Timestamp('2022-08-01 00:00:00'), Timestamp('2022-11-08 00:00:00'), Timestamp('2023-01-12 00:00:00'), Timestamp('2023-03-22 00:00:00'), Timestamp('2023-07-24 00:00:00'), Timestamp('2023-10-16 00:00:00')], 'sellprices': [9029.939413003405, 8271.667487801336, 10617.785404898554, 12081.097594770807, 39835.61444394427, 58145.67771344028, 45352.04105859483, 22846.310109398077, 19987.626043898643, 18975.05132779164, 26868.112604183225, 29336.68778648396, 29069.892469461884], 'profits': [-0.039903958613691504, 0.05694874623190834, -0.03990395861369153, 0.05694874623190844, -0.03990395861369139, 0.05694874623190838, 0.056948746231908376, -0.0399039586136915, -0.0399039586136915, 0.05694874623190837, -0.03990395861369151, -0.03990395861369149, 0.056948746231908355]},     ticker  returns  winrate  trades  buy&hold_ret%\n",
      "0  BTCUSDT     4.84    46.15      13          240.9).\n"
     ]
    },
    {
     "name": "stdout",
     "output_type": "stream",
     "text": [
      "BTCUSDT, winrate=46.15%, returns=4.84%, no. of trades = 13, buy&hold_ret = 240.89999999999998%\n"
     ]
    },
    {
     "name": "stderr",
     "output_type": "stream",
     "text": [
      "[W 2023-10-27 02:48:13,135] Trial 36 failed with parameters: {'fast_ma_period': 18, 'slow_ma_period': 63, 'rsi_period': 13, 'sl_perc': 3.2332194744206055, 'tp_perc': 9.879159479724205} because of the following error: The value {'buydates': [Timestamp('2020-01-12 00:00:00'), Timestamp('2020-04-27 00:00:00'), Timestamp('2020-07-27 00:00:00'), Timestamp('2020-10-17 00:00:00'), Timestamp('2021-08-01 00:00:00'), Timestamp('2021-10-10 00:00:00'), Timestamp('2022-03-17 00:00:00'), Timestamp('2022-08-04 00:00:00'), Timestamp('2022-10-31 00:00:00'), Timestamp('2023-01-10 00:00:00'), Timestamp('2023-03-18 00:00:00'), Timestamp('2023-06-26 00:00:00'), Timestamp('2023-10-07 00:00:00')], 'buyprices': [8186.7, 7774.0, 11047.58, 11356.25, 39846.78, 54700.0, 40898.1, 22608.9, 20482.0, 17428.8, 26907.0, 30260.1, 27943.0], 'selldates': [Timestamp('2020-01-17 00:00:00'), Timestamp('2020-04-29 00:00:00'), Timestamp('2020-07-28 00:00:00'), Timestamp('2020-10-21 00:00:00'), Timestamp('2021-08-03 00:00:00'), Timestamp('2021-10-15 00:00:00'), Timestamp('2022-03-25 00:00:00'), Timestamp('2022-08-11 00:00:00'), Timestamp('2022-11-08 00:00:00'), Timestamp('2023-01-13 00:00:00'), Timestamp('2023-04-10 00:00:00'), Timestamp('2023-07-24 00:00:00'), Timestamp('2023-10-11 00:00:00')], 'sellprices': [8995.47714912658, 8542.00585795376, 10690.387491987805, 12478.15204841618, 38558.44614911047, 60103.900235409135, 44938.48852317708, 24842.469287611366, 19819.771987249173, 19150.61894740217, 29565.18544120939, 29281.72455382085, 27039.54148226265], 'profits': [0.09779159479724191, 0.09779159479724207, -0.033332194744205935, 0.09779159479724198, -0.03333219474420599, 0.09779159479724196, 0.09779159479724202, 0.09779159479724198, -0.03333219474420601, 0.09779159479724199, 0.09779159479724195, -0.03333219474420596, -0.033332194744206005]} could not be cast to float.\n",
      "[W 2023-10-27 02:48:13,139] Trial 36 failed with value ({'buydates': [Timestamp('2020-01-12 00:00:00'), Timestamp('2020-04-27 00:00:00'), Timestamp('2020-07-27 00:00:00'), Timestamp('2020-10-17 00:00:00'), Timestamp('2021-08-01 00:00:00'), Timestamp('2021-10-10 00:00:00'), Timestamp('2022-03-17 00:00:00'), Timestamp('2022-08-04 00:00:00'), Timestamp('2022-10-31 00:00:00'), Timestamp('2023-01-10 00:00:00'), Timestamp('2023-03-18 00:00:00'), Timestamp('2023-06-26 00:00:00'), Timestamp('2023-10-07 00:00:00')], 'buyprices': [8186.7, 7774.0, 11047.58, 11356.25, 39846.78, 54700.0, 40898.1, 22608.9, 20482.0, 17428.8, 26907.0, 30260.1, 27943.0], 'selldates': [Timestamp('2020-01-17 00:00:00'), Timestamp('2020-04-29 00:00:00'), Timestamp('2020-07-28 00:00:00'), Timestamp('2020-10-21 00:00:00'), Timestamp('2021-08-03 00:00:00'), Timestamp('2021-10-15 00:00:00'), Timestamp('2022-03-25 00:00:00'), Timestamp('2022-08-11 00:00:00'), Timestamp('2022-11-08 00:00:00'), Timestamp('2023-01-13 00:00:00'), Timestamp('2023-04-10 00:00:00'), Timestamp('2023-07-24 00:00:00'), Timestamp('2023-10-11 00:00:00')], 'sellprices': [8995.47714912658, 8542.00585795376, 10690.387491987805, 12478.15204841618, 38558.44614911047, 60103.900235409135, 44938.48852317708, 24842.469287611366, 19819.771987249173, 19150.61894740217, 29565.18544120939, 29281.72455382085, 27039.54148226265], 'profits': [0.09779159479724191, 0.09779159479724207, -0.033332194744205935, 0.09779159479724198, -0.03333219474420599, 0.09779159479724196, 0.09779159479724202, 0.09779159479724198, -0.03333219474420601, 0.09779159479724199, 0.09779159479724195, -0.03333219474420596, -0.033332194744206005]},     ticker  returns  winrate  trades  buy&hold_ret%\n",
      "0  BTCUSDT    78.05    61.54      13          240.9).\n"
     ]
    },
    {
     "name": "stdout",
     "output_type": "stream",
     "text": [
      "BTCUSDT, winrate=61.54%, returns=78.05%, no. of trades = 13, buy&hold_ret = 240.89999999999998%\n"
     ]
    },
    {
     "name": "stderr",
     "output_type": "stream",
     "text": [
      "[W 2023-10-27 02:48:13,505] Trial 37 failed with parameters: {'fast_ma_period': 15, 'slow_ma_period': 52, 'rsi_period': 13, 'sl_perc': 6.451957192531728, 'tp_perc': 6.507823588562081} because of the following error: The value {'buydates': [Timestamp('2019-11-04 00:00:00'), Timestamp('2020-01-08 00:00:00'), Timestamp('2020-04-18 00:00:00'), Timestamp('2020-07-26 00:00:00'), Timestamp('2020-10-13 00:00:00'), Timestamp('2021-07-31 00:00:00'), Timestamp('2021-10-09 00:00:00'), Timestamp('2022-02-16 00:00:00'), Timestamp('2022-03-09 00:00:00'), Timestamp('2022-03-24 00:00:00'), Timestamp('2022-07-28 00:00:00'), Timestamp('2022-10-30 00:00:00'), Timestamp('2023-01-11 00:00:00'), Timestamp('2023-03-19 00:00:00'), Timestamp('2023-06-24 00:00:00'), Timestamp('2023-10-01 00:00:00')], 'buyprices': [9395.46, 8059.84, 7242.42, 9939.69, 11419.36, 41448.11, 54960.77, 43860.7, 41937.5, 43973.4, 23836.2, 20615.6, 17935.7, 27955.7, 30524.2, 27981.4], 'selldates': [Timestamp('2019-11-08 00:00:00'), Timestamp('2020-01-14 00:00:00'), Timestamp('2020-04-20 00:00:00'), Timestamp('2020-07-27 00:00:00'), Timestamp('2020-10-21 00:00:00'), Timestamp('2021-08-02 00:00:00'), Timestamp('2021-10-14 00:00:00'), Timestamp('2022-02-17 00:00:00'), Timestamp('2022-03-10 00:00:00'), Timestamp('2022-03-27 00:00:00'), Timestamp('2022-08-19 00:00:00'), Timestamp('2022-11-08 00:00:00'), Timestamp('2023-01-12 00:00:00'), Timestamp('2023-04-10 00:00:00'), Timestamp('2023-08-01 00:00:00'), Timestamp('2023-10-16 00:00:00')], 'sellprices': [8789.268942758557, 8584.360168720363, 6775.142161896643, 10586.547490449946, 12162.511803742824, 38773.89568568653, 58537.519954515345, 41030.82641165523, 39231.710452382, 46835.111297892756, 22298.298579673752, 19285.490313016428, 19102.92371537373, 29775.00763894765, 28554.79168263723, 29802.38014960991], 'profits': [-0.06551957192531731, 0.06407823588562088, -0.06551957192531734, 0.06407823588562073, 0.06407823588562084, -0.06551957192531739, 0.06407823588562074, -0.06551957192531735, -0.06551957192531739, 0.06407823588562073, -0.06551957192531732, -0.0655195719253173, 0.06407823588562084, 0.06407823588562075, -0.06551957192531728, 0.0640782358856208]} could not be cast to float.\n",
      "[W 2023-10-27 02:48:13,558] Trial 37 failed with value ({'buydates': [Timestamp('2019-11-04 00:00:00'), Timestamp('2020-01-08 00:00:00'), Timestamp('2020-04-18 00:00:00'), Timestamp('2020-07-26 00:00:00'), Timestamp('2020-10-13 00:00:00'), Timestamp('2021-07-31 00:00:00'), Timestamp('2021-10-09 00:00:00'), Timestamp('2022-02-16 00:00:00'), Timestamp('2022-03-09 00:00:00'), Timestamp('2022-03-24 00:00:00'), Timestamp('2022-07-28 00:00:00'), Timestamp('2022-10-30 00:00:00'), Timestamp('2023-01-11 00:00:00'), Timestamp('2023-03-19 00:00:00'), Timestamp('2023-06-24 00:00:00'), Timestamp('2023-10-01 00:00:00')], 'buyprices': [9395.46, 8059.84, 7242.42, 9939.69, 11419.36, 41448.11, 54960.77, 43860.7, 41937.5, 43973.4, 23836.2, 20615.6, 17935.7, 27955.7, 30524.2, 27981.4], 'selldates': [Timestamp('2019-11-08 00:00:00'), Timestamp('2020-01-14 00:00:00'), Timestamp('2020-04-20 00:00:00'), Timestamp('2020-07-27 00:00:00'), Timestamp('2020-10-21 00:00:00'), Timestamp('2021-08-02 00:00:00'), Timestamp('2021-10-14 00:00:00'), Timestamp('2022-02-17 00:00:00'), Timestamp('2022-03-10 00:00:00'), Timestamp('2022-03-27 00:00:00'), Timestamp('2022-08-19 00:00:00'), Timestamp('2022-11-08 00:00:00'), Timestamp('2023-01-12 00:00:00'), Timestamp('2023-04-10 00:00:00'), Timestamp('2023-08-01 00:00:00'), Timestamp('2023-10-16 00:00:00')], 'sellprices': [8789.268942758557, 8584.360168720363, 6775.142161896643, 10586.547490449946, 12162.511803742824, 38773.89568568653, 58537.519954515345, 41030.82641165523, 39231.710452382, 46835.111297892756, 22298.298579673752, 19285.490313016428, 19102.92371537373, 29775.00763894765, 28554.79168263723, 29802.38014960991], 'profits': [-0.06551957192531731, 0.06407823588562088, -0.06551957192531734, 0.06407823588562073, 0.06407823588562084, -0.06551957192531739, 0.06407823588562074, -0.06551957192531735, -0.06551957192531739, 0.06407823588562073, -0.06551957192531732, -0.0655195719253173, 0.06407823588562084, 0.06407823588562075, -0.06551957192531728, 0.0640782358856208]},     ticker  returns  winrate  trades  buy&hold_ret%\n",
      "0  BTCUSDT    -4.42     50.0      16          240.9).\n"
     ]
    },
    {
     "name": "stdout",
     "output_type": "stream",
     "text": [
      "BTCUSDT, winrate=50.0%, returns=-4.42%, no. of trades = 16, buy&hold_ret = 240.89999999999998%\n"
     ]
    },
    {
     "name": "stderr",
     "output_type": "stream",
     "text": [
      "[W 2023-10-27 02:48:13,977] Trial 38 failed with parameters: {'fast_ma_period': 21, 'slow_ma_period': 67, 'rsi_period': 21, 'sl_perc': 4.4261346954039045, 'tp_perc': 10.20205292337764} because of the following error: The value {'buydates': [Timestamp('2020-01-14 00:00:00'), Timestamp('2020-04-29 00:00:00'), Timestamp('2020-07-27 00:00:00'), Timestamp('2020-10-19 00:00:00'), Timestamp('2021-08-03 00:00:00'), Timestamp('2021-10-11 00:00:00'), Timestamp('2022-03-19 00:00:00'), Timestamp('2022-08-07 00:00:00'), Timestamp('2022-11-02 00:00:00'), Timestamp('2023-01-12 00:00:00'), Timestamp('2023-06-27 00:00:00'), Timestamp('2023-10-09 00:00:00')], 'buyprices': [8825.0, 8784.2, 11047.58, 11745.0, 38203.26, 57500.01, 42188.2, 23167.8, 20140.1, 18838.0, 30683.2, 27578.3], 'selldates': [Timestamp('2020-01-23 00:00:00'), Timestamp('2020-05-07 00:00:00'), Timestamp('2020-08-02 00:00:00'), Timestamp('2020-10-21 00:00:00'), Timestamp('2021-08-06 00:00:00'), Timestamp('2021-10-12 00:00:00'), Timestamp('2022-03-27 00:00:00'), Timestamp('2022-08-19 00:00:00'), Timestamp('2022-11-08 00:00:00'), Timestamp('2023-01-14 00:00:00'), Timestamp('2023-07-24 00:00:00'), Timestamp('2023-10-16 00:00:00')], 'sellprices': [8434.393613130605, 9680.368732895338, 10558.599228617497, 12943.231115850704, 42100.776803655564, 54954.982107529286, 46492.2624914204, 22142.361966038214, 19248.672046210955, 20759.862729705877, 29325.12023913983, 30391.852761367853], 'profits': [-0.04526134695403904, 0.10102052923377627, -0.04526134695403908, 0.10102052923377638, 0.10102052923377644, -0.04526134695403907, 0.10102052923377632, -0.045261346954039036, -0.045261346954039126, 0.10102052923377627, -0.04526134695403907, 0.10102052923377632]} could not be cast to float.\n",
      "[W 2023-10-27 02:48:13,986] Trial 38 failed with value ({'buydates': [Timestamp('2020-01-14 00:00:00'), Timestamp('2020-04-29 00:00:00'), Timestamp('2020-07-27 00:00:00'), Timestamp('2020-10-19 00:00:00'), Timestamp('2021-08-03 00:00:00'), Timestamp('2021-10-11 00:00:00'), Timestamp('2022-03-19 00:00:00'), Timestamp('2022-08-07 00:00:00'), Timestamp('2022-11-02 00:00:00'), Timestamp('2023-01-12 00:00:00'), Timestamp('2023-06-27 00:00:00'), Timestamp('2023-10-09 00:00:00')], 'buyprices': [8825.0, 8784.2, 11047.58, 11745.0, 38203.26, 57500.01, 42188.2, 23167.8, 20140.1, 18838.0, 30683.2, 27578.3], 'selldates': [Timestamp('2020-01-23 00:00:00'), Timestamp('2020-05-07 00:00:00'), Timestamp('2020-08-02 00:00:00'), Timestamp('2020-10-21 00:00:00'), Timestamp('2021-08-06 00:00:00'), Timestamp('2021-10-12 00:00:00'), Timestamp('2022-03-27 00:00:00'), Timestamp('2022-08-19 00:00:00'), Timestamp('2022-11-08 00:00:00'), Timestamp('2023-01-14 00:00:00'), Timestamp('2023-07-24 00:00:00'), Timestamp('2023-10-16 00:00:00')], 'sellprices': [8434.393613130605, 9680.368732895338, 10558.599228617497, 12943.231115850704, 42100.776803655564, 54954.982107529286, 46492.2624914204, 22142.361966038214, 19248.672046210955, 20759.862729705877, 29325.12023913983, 30391.852761367853], 'profits': [-0.04526134695403904, 0.10102052923377627, -0.04526134695403908, 0.10102052923377638, 0.10102052923377644, -0.04526134695403907, 0.10102052923377632, -0.045261346954039036, -0.045261346954039126, 0.10102052923377627, -0.04526134695403907, 0.10102052923377632]},     ticker  returns  winrate  trades  buy&hold_ret%\n",
      "0  BTCUSDT    34.92     50.0      12          240.9).\n"
     ]
    },
    {
     "name": "stdout",
     "output_type": "stream",
     "text": [
      "BTCUSDT, winrate=50.0%, returns=34.92%, no. of trades = 12, buy&hold_ret = 240.89999999999998%\n"
     ]
    },
    {
     "name": "stderr",
     "output_type": "stream",
     "text": [
      "[W 2023-10-27 02:48:14,625] Trial 39 failed with parameters: {'fast_ma_period': 22, 'slow_ma_period': 54, 'rsi_period': 19, 'sl_perc': 4.927091352039277, 'tp_perc': 6.92820669697175} because of the following error: The value {'buydates': [Timestamp('2020-01-10 00:00:00'), Timestamp('2020-04-22 00:00:00'), Timestamp('2020-07-27 00:00:00'), Timestamp('2020-10-15 00:00:00'), Timestamp('2021-08-02 00:00:00'), Timestamp('2021-10-12 00:00:00'), Timestamp('2022-03-17 00:00:00'), Timestamp('2022-03-27 00:00:00'), Timestamp('2022-07-31 00:00:00'), Timestamp('2022-11-02 00:00:00'), Timestamp('2023-01-10 00:00:00'), Timestamp('2023-03-19 00:00:00'), Timestamp('2023-06-26 00:00:00'), Timestamp('2023-10-03 00:00:00')], 'buyprices': [8207.09, 7120.06, 11047.58, 11502.0, 39147.48, 56011.84, 40898.1, 46820.8, 23290.1, 20140.1, 17428.8, 27955.7, 30260.1, 27412.0], 'selldates': [Timestamp('2020-01-14 00:00:00'), Timestamp('2020-04-23 00:00:00'), Timestamp('2020-08-01 00:00:00'), Timestamp('2020-10-21 00:00:00'), Timestamp('2021-08-06 00:00:00'), Timestamp('2021-10-15 00:00:00'), Timestamp('2022-03-24 00:00:00'), Timestamp('2022-04-01 00:00:00'), Timestamp('2022-08-11 00:00:00'), Timestamp('2022-11-08 00:00:00'), Timestamp('2023-01-12 00:00:00'), Timestamp('2023-03-27 00:00:00'), Timestamp('2023-08-01 00:00:00'), Timestamp('2023-10-16 00:00:00')], 'sellprices': [8775.6941590065, 7613.352473748408, 11812.979177413314, 12298.882334285692, 41859.69833105568, 59892.4560499771, 43731.604903134205, 44513.896412244394, 24903.686267931418, 19147.778874607935, 18636.303288801813, 26578.297122897955, 28769.157229781562, 29311.1600197739], 'profits': [0.0682820669697176, 0.06828206696971756, 0.06828206696971768, 0.06828206696971763, 0.06828206696971757, 0.0682820669697176, 0.06828206696971757, -0.05027091352039283, 0.06828206696971759, -0.05027091352039283, 0.0682820669697176, -0.050270913520392826, -0.05027091352039275, 0.0682820669697176]} could not be cast to float.\n",
      "[W 2023-10-27 02:48:14,632] Trial 39 failed with value ({'buydates': [Timestamp('2020-01-10 00:00:00'), Timestamp('2020-04-22 00:00:00'), Timestamp('2020-07-27 00:00:00'), Timestamp('2020-10-15 00:00:00'), Timestamp('2021-08-02 00:00:00'), Timestamp('2021-10-12 00:00:00'), Timestamp('2022-03-17 00:00:00'), Timestamp('2022-03-27 00:00:00'), Timestamp('2022-07-31 00:00:00'), Timestamp('2022-11-02 00:00:00'), Timestamp('2023-01-10 00:00:00'), Timestamp('2023-03-19 00:00:00'), Timestamp('2023-06-26 00:00:00'), Timestamp('2023-10-03 00:00:00')], 'buyprices': [8207.09, 7120.06, 11047.58, 11502.0, 39147.48, 56011.84, 40898.1, 46820.8, 23290.1, 20140.1, 17428.8, 27955.7, 30260.1, 27412.0], 'selldates': [Timestamp('2020-01-14 00:00:00'), Timestamp('2020-04-23 00:00:00'), Timestamp('2020-08-01 00:00:00'), Timestamp('2020-10-21 00:00:00'), Timestamp('2021-08-06 00:00:00'), Timestamp('2021-10-15 00:00:00'), Timestamp('2022-03-24 00:00:00'), Timestamp('2022-04-01 00:00:00'), Timestamp('2022-08-11 00:00:00'), Timestamp('2022-11-08 00:00:00'), Timestamp('2023-01-12 00:00:00'), Timestamp('2023-03-27 00:00:00'), Timestamp('2023-08-01 00:00:00'), Timestamp('2023-10-16 00:00:00')], 'sellprices': [8775.6941590065, 7613.352473748408, 11812.979177413314, 12298.882334285692, 41859.69833105568, 59892.4560499771, 43731.604903134205, 44513.896412244394, 24903.686267931418, 19147.778874607935, 18636.303288801813, 26578.297122897955, 28769.157229781562, 29311.1600197739], 'profits': [0.0682820669697176, 0.06828206696971756, 0.06828206696971768, 0.06828206696971763, 0.06828206696971757, 0.0682820669697176, 0.06828206696971757, -0.05027091352039283, 0.06828206696971759, -0.05027091352039283, 0.0682820669697176, -0.050270913520392826, -0.05027091352039275, 0.0682820669697176]},     ticker  returns  winrate  trades  buy&hold_ret%\n",
      "0  BTCUSDT    57.49    71.43      14          240.9).\n"
     ]
    },
    {
     "name": "stdout",
     "output_type": "stream",
     "text": [
      "BTCUSDT, winrate=71.43%, returns=57.49%, no. of trades = 14, buy&hold_ret = 240.89999999999998%\n"
     ]
    },
    {
     "name": "stderr",
     "output_type": "stream",
     "text": [
      "[W 2023-10-27 02:48:15,086] Trial 40 failed with parameters: {'fast_ma_period': 18, 'slow_ma_period': 58, 'rsi_period': 22, 'sl_perc': 4.168346966231108, 'tp_perc': 11.633150518071044} because of the following error: The value {'buydates': [Timestamp('2019-11-07 00:00:00'), Timestamp('2020-01-11 00:00:00'), Timestamp('2020-04-23 00:00:00'), Timestamp('2020-07-27 00:00:00'), Timestamp('2020-10-15 00:00:00'), Timestamp('2021-08-01 00:00:00'), Timestamp('2021-10-10 00:00:00'), Timestamp('2022-03-24 00:00:00'), Timestamp('2022-08-01 00:00:00'), Timestamp('2022-10-31 00:00:00'), Timestamp('2023-01-10 00:00:00'), Timestamp('2023-03-19 00:00:00'), Timestamp('2023-06-26 00:00:00'), Timestamp('2023-10-04 00:00:00')], 'buyprices': [9219.64, 8020.56, 7483.35, 11047.58, 11502.0, 39846.78, 54700.0, 43973.4, 23257.6, 20482.0, 17428.8, 27955.7, 30260.1, 27759.8], 'selldates': [Timestamp('2019-11-08 00:00:00'), Timestamp('2020-01-17 00:00:00'), Timestamp('2020-04-29 00:00:00'), Timestamp('2020-07-28 00:00:00'), Timestamp('2020-10-21 00:00:00'), Timestamp('2021-08-03 00:00:00'), Timestamp('2021-10-15 00:00:00'), Timestamp('2022-04-08 00:00:00'), Timestamp('2022-08-19 00:00:00'), Timestamp('2022-11-08 00:00:00'), Timestamp('2023-01-13 00:00:00'), Timestamp('2023-03-22 00:00:00'), Timestamp('2023-07-24 00:00:00'), Timestamp('2023-10-11 00:00:00')], 'sellprices': [8835.33341576257, 8953.6038171922, 8353.89936929407, 10587.078534228045, 12840.04497258853, 38185.82795472922, 61063.33333338486, 42140.43611515133, 22288.14253598183, 19628.239174376544, 19456.318537493564, 26790.409427161332, 28998.7540396715, 26602.675218868175], 'profits': [-0.042683469662311, 0.1153315051807104, 0.11533150518071038, -0.042683469662311097, 0.11533150518071032, -0.04268346966231099, 0.11533150518071036, -0.042683469662311124, -0.04268346966231113, -0.04268346966231111, 0.11533150518071035, -0.042683469662311034, -0.04268346966231101, -0.04268346966231113]} could not be cast to float.\n",
      "[W 2023-10-27 02:48:15,093] Trial 40 failed with value ({'buydates': [Timestamp('2019-11-07 00:00:00'), Timestamp('2020-01-11 00:00:00'), Timestamp('2020-04-23 00:00:00'), Timestamp('2020-07-27 00:00:00'), Timestamp('2020-10-15 00:00:00'), Timestamp('2021-08-01 00:00:00'), Timestamp('2021-10-10 00:00:00'), Timestamp('2022-03-24 00:00:00'), Timestamp('2022-08-01 00:00:00'), Timestamp('2022-10-31 00:00:00'), Timestamp('2023-01-10 00:00:00'), Timestamp('2023-03-19 00:00:00'), Timestamp('2023-06-26 00:00:00'), Timestamp('2023-10-04 00:00:00')], 'buyprices': [9219.64, 8020.56, 7483.35, 11047.58, 11502.0, 39846.78, 54700.0, 43973.4, 23257.6, 20482.0, 17428.8, 27955.7, 30260.1, 27759.8], 'selldates': [Timestamp('2019-11-08 00:00:00'), Timestamp('2020-01-17 00:00:00'), Timestamp('2020-04-29 00:00:00'), Timestamp('2020-07-28 00:00:00'), Timestamp('2020-10-21 00:00:00'), Timestamp('2021-08-03 00:00:00'), Timestamp('2021-10-15 00:00:00'), Timestamp('2022-04-08 00:00:00'), Timestamp('2022-08-19 00:00:00'), Timestamp('2022-11-08 00:00:00'), Timestamp('2023-01-13 00:00:00'), Timestamp('2023-03-22 00:00:00'), Timestamp('2023-07-24 00:00:00'), Timestamp('2023-10-11 00:00:00')], 'sellprices': [8835.33341576257, 8953.6038171922, 8353.89936929407, 10587.078534228045, 12840.04497258853, 38185.82795472922, 61063.33333338486, 42140.43611515133, 22288.14253598183, 19628.239174376544, 19456.318537493564, 26790.409427161332, 28998.7540396715, 26602.675218868175], 'profits': [-0.042683469662311, 0.1153315051807104, 0.11533150518071038, -0.042683469662311097, 0.11533150518071032, -0.04268346966231099, 0.11533150518071036, -0.042683469662311124, -0.04268346966231113, -0.04268346966231111, 0.11533150518071035, -0.042683469662311034, -0.04268346966231101, -0.04268346966231113]},     ticker  returns  winrate  trades  buy&hold_ret%\n",
      "0  BTCUSDT    16.55    35.71      14          240.9).\n"
     ]
    },
    {
     "name": "stdout",
     "output_type": "stream",
     "text": [
      "BTCUSDT, winrate=35.71%, returns=16.55%, no. of trades = 14, buy&hold_ret = 240.89999999999998%\n"
     ]
    },
    {
     "name": "stderr",
     "output_type": "stream",
     "text": [
      "[W 2023-10-27 02:48:15,333] Trial 41 failed with parameters: {'fast_ma_period': 15, 'slow_ma_period': 73, 'rsi_period': 18, 'sl_perc': 5.862241502678902, 'tp_perc': 9.21861749383283} because of the following error: The value {'buydates': [Timestamp('2020-01-14 00:00:00'), Timestamp('2020-04-30 00:00:00'), Timestamp('2020-07-27 00:00:00'), Timestamp('2020-10-18 00:00:00'), Timestamp('2021-05-09 00:00:00'), Timestamp('2021-08-01 00:00:00'), Timestamp('2021-10-06 00:00:00'), Timestamp('2022-03-23 00:00:00'), Timestamp('2022-08-10 00:00:00'), Timestamp('2022-11-01 00:00:00'), Timestamp('2023-01-13 00:00:00'), Timestamp('2023-06-26 00:00:00'), Timestamp('2023-10-09 00:00:00')], 'buyprices': [8825.0, 8624.76, 11047.58, 11501.1, 58292.53, 39846.78, 55321.6, 42867.9, 23940.9, 20472.1, 19924.2, 30260.1, 27578.3], 'selldates': [Timestamp('2020-01-24 00:00:00'), Timestamp('2020-05-07 00:00:00'), Timestamp('2020-08-02 00:00:00'), Timestamp('2020-10-21 00:00:00'), Timestamp('2021-05-10 00:00:00'), Timestamp('2021-08-04 00:00:00'), Timestamp('2021-10-15 00:00:00'), Timestamp('2022-03-27 00:00:00'), Timestamp('2022-08-19 00:00:00'), Timestamp('2022-11-08 00:00:00'), Timestamp('2023-01-20 00:00:00'), Timestamp('2023-08-17 00:00:00'), Timestamp('2023-10-16 00:00:00')], 'sellprices': [8307.657187388588, 9419.843634161098, 12066.014142525177, 12561.34241658321, 54875.28111337845, 37510.865525358844, 60421.48669546822, 46819.72772863877, 22537.42662408515, 19271.97605733007, 21760.935786706243, 28486.17985904786, 30120.6379883017], 'profits': [-0.05962241502678892, 0.09118617493832842, 0.09118617493832828, 0.09118617493832841, -0.05962241502678903, -0.059622415026788986, 0.09118617493832831, 0.09118617493832838, -0.05962241502678893, -0.059622415026789076, 0.09118617493832835, -0.05962241502678899, 0.09118617493832834]} could not be cast to float.\n",
      "[W 2023-10-27 02:48:15,337] Trial 41 failed with value ({'buydates': [Timestamp('2020-01-14 00:00:00'), Timestamp('2020-04-30 00:00:00'), Timestamp('2020-07-27 00:00:00'), Timestamp('2020-10-18 00:00:00'), Timestamp('2021-05-09 00:00:00'), Timestamp('2021-08-01 00:00:00'), Timestamp('2021-10-06 00:00:00'), Timestamp('2022-03-23 00:00:00'), Timestamp('2022-08-10 00:00:00'), Timestamp('2022-11-01 00:00:00'), Timestamp('2023-01-13 00:00:00'), Timestamp('2023-06-26 00:00:00'), Timestamp('2023-10-09 00:00:00')], 'buyprices': [8825.0, 8624.76, 11047.58, 11501.1, 58292.53, 39846.78, 55321.6, 42867.9, 23940.9, 20472.1, 19924.2, 30260.1, 27578.3], 'selldates': [Timestamp('2020-01-24 00:00:00'), Timestamp('2020-05-07 00:00:00'), Timestamp('2020-08-02 00:00:00'), Timestamp('2020-10-21 00:00:00'), Timestamp('2021-05-10 00:00:00'), Timestamp('2021-08-04 00:00:00'), Timestamp('2021-10-15 00:00:00'), Timestamp('2022-03-27 00:00:00'), Timestamp('2022-08-19 00:00:00'), Timestamp('2022-11-08 00:00:00'), Timestamp('2023-01-20 00:00:00'), Timestamp('2023-08-17 00:00:00'), Timestamp('2023-10-16 00:00:00')], 'sellprices': [8307.657187388588, 9419.843634161098, 12066.014142525177, 12561.34241658321, 54875.28111337845, 37510.865525358844, 60421.48669546822, 46819.72772863877, 22537.42662408515, 19271.97605733007, 21760.935786706243, 28486.17985904786, 30120.6379883017], 'profits': [-0.05962241502678892, 0.09118617493832842, 0.09118617493832828, 0.09118617493832841, -0.05962241502678903, -0.059622415026788986, 0.09118617493832831, 0.09118617493832838, -0.05962241502678893, -0.059622415026789076, 0.09118617493832835, -0.05962241502678899, 0.09118617493832834]},     ticker  returns  winrate  trades  buy&hold_ret%\n",
      "0  BTCUSDT    27.38    53.85      13          240.9).\n"
     ]
    },
    {
     "name": "stdout",
     "output_type": "stream",
     "text": [
      "BTCUSDT, winrate=53.85%, returns=27.38%, no. of trades = 13, buy&hold_ret = 240.89999999999998%\n"
     ]
    },
    {
     "name": "stderr",
     "output_type": "stream",
     "text": [
      "[W 2023-10-27 02:48:15,620] Trial 42 failed with parameters: {'fast_ma_period': 17, 'slow_ma_period': 65, 'rsi_period': 22, 'sl_perc': 6.915341060255605, 'tp_perc': 9.731880332259674} because of the following error: The value {'buydates': [Timestamp('2020-01-13 00:00:00'), Timestamp('2020-04-28 00:00:00'), Timestamp('2020-07-27 00:00:00'), Timestamp('2020-10-18 00:00:00'), Timestamp('2021-08-01 00:00:00'), Timestamp('2021-10-09 00:00:00'), Timestamp('2022-03-16 00:00:00'), Timestamp('2022-08-05 00:00:00'), Timestamp('2022-10-31 00:00:00'), Timestamp('2023-01-11 00:00:00'), Timestamp('2023-03-17 00:00:00'), Timestamp('2023-06-26 00:00:00'), Timestamp('2023-10-08 00:00:00')], 'buyprices': [8113.0, 7735.75, 11047.58, 11501.1, 39846.78, 54960.77, 41105.8, 23298.1, 20482.0, 17935.7, 27384.0, 30260.1, 27901.2], 'selldates': [Timestamp('2020-01-15 00:00:00'), Timestamp('2020-04-29 00:00:00'), Timestamp('2020-08-02 00:00:00'), Timestamp('2020-10-21 00:00:00'), Timestamp('2021-08-07 00:00:00'), Timestamp('2021-10-15 00:00:00'), Timestamp('2022-03-25 00:00:00'), Timestamp('2022-08-19 00:00:00'), Timestamp('2022-11-08 00:00:00'), Timestamp('2023-01-13 00:00:00'), Timestamp('2023-04-11 00:00:00'), Timestamp('2023-08-17 00:00:00'), Timestamp('2023-10-16 00:00:00')], 'sellprices': [8902.547451356228, 8488.583932802778, 12122.717265210653, 12620.373288893517, 43724.62094585878, 60309.486366088466, 45106.167265617994, 21686.956924440587, 19065.599844038446, 19681.1808607531, 30048.978110185988, 28167.51087982559, 30616.511395264435], 'profits': [0.09631880332259678, 0.09631880332259675, 0.09631880332259671, 0.09631880332259671, 0.09631880332259665, 0.09631880332259662, 0.0963188033225966, -0.07015341060255609, -0.07015341060255607, 0.0963188033225967, 0.0963188033225967, -0.07015341060255614, 0.09631880332259668]} could not be cast to float.\n",
      "[W 2023-10-27 02:48:15,627] Trial 42 failed with value ({'buydates': [Timestamp('2020-01-13 00:00:00'), Timestamp('2020-04-28 00:00:00'), Timestamp('2020-07-27 00:00:00'), Timestamp('2020-10-18 00:00:00'), Timestamp('2021-08-01 00:00:00'), Timestamp('2021-10-09 00:00:00'), Timestamp('2022-03-16 00:00:00'), Timestamp('2022-08-05 00:00:00'), Timestamp('2022-10-31 00:00:00'), Timestamp('2023-01-11 00:00:00'), Timestamp('2023-03-17 00:00:00'), Timestamp('2023-06-26 00:00:00'), Timestamp('2023-10-08 00:00:00')], 'buyprices': [8113.0, 7735.75, 11047.58, 11501.1, 39846.78, 54960.77, 41105.8, 23298.1, 20482.0, 17935.7, 27384.0, 30260.1, 27901.2], 'selldates': [Timestamp('2020-01-15 00:00:00'), Timestamp('2020-04-29 00:00:00'), Timestamp('2020-08-02 00:00:00'), Timestamp('2020-10-21 00:00:00'), Timestamp('2021-08-07 00:00:00'), Timestamp('2021-10-15 00:00:00'), Timestamp('2022-03-25 00:00:00'), Timestamp('2022-08-19 00:00:00'), Timestamp('2022-11-08 00:00:00'), Timestamp('2023-01-13 00:00:00'), Timestamp('2023-04-11 00:00:00'), Timestamp('2023-08-17 00:00:00'), Timestamp('2023-10-16 00:00:00')], 'sellprices': [8902.547451356228, 8488.583932802778, 12122.717265210653, 12620.373288893517, 43724.62094585878, 60309.486366088466, 45106.167265617994, 21686.956924440587, 19065.599844038446, 19681.1808607531, 30048.978110185988, 28167.51087982559, 30616.511395264435], 'profits': [0.09631880332259678, 0.09631880332259675, 0.09631880332259671, 0.09631880332259671, 0.09631880332259665, 0.09631880332259662, 0.0963188033225966, -0.07015341060255609, -0.07015341060255607, 0.0963188033225967, 0.0963188033225967, -0.07015341060255614, 0.09631880332259668]},     ticker  returns  winrate  trades  buy&hold_ret%\n",
      "0  BTCUSDT   101.65    76.92      13          240.9).\n"
     ]
    },
    {
     "name": "stdout",
     "output_type": "stream",
     "text": [
      "BTCUSDT, winrate=76.92%, returns=101.65%, no. of trades = 13, buy&hold_ret = 240.89999999999998%\n"
     ]
    },
    {
     "name": "stderr",
     "output_type": "stream",
     "text": [
      "[W 2023-10-27 02:48:15,999] Trial 43 failed with parameters: {'fast_ma_period': 11, 'slow_ma_period': 57, 'rsi_period': 14, 'sl_perc': 6.217021773622153, 'tp_perc': 7.893753530148847} because of the following error: The value {'buydates': [Timestamp('2020-01-09 00:00:00'), Timestamp('2020-04-24 00:00:00'), Timestamp('2020-07-26 00:00:00'), Timestamp('2020-10-13 00:00:00'), Timestamp('2021-07-29 00:00:00'), Timestamp('2021-10-07 00:00:00'), Timestamp('2022-02-15 00:00:00'), Timestamp('2022-03-19 00:00:00'), Timestamp('2022-07-29 00:00:00'), Timestamp('2022-10-28 00:00:00'), Timestamp('2023-01-09 00:00:00'), Timestamp('2023-03-18 00:00:00'), Timestamp('2023-06-23 00:00:00'), Timestamp('2023-10-04 00:00:00')], 'buyprices': [7818.59, 7504.11, 9939.69, 11419.36, 40012.9, 53814.99, 44529.6, 42188.2, 23771.1, 20582.8, 17169.7, 26907.0, 30673.4, 27759.8], 'selldates': [Timestamp('2020-01-14 00:00:00'), Timestamp('2020-04-29 00:00:00'), Timestamp('2020-07-27 00:00:00'), Timestamp('2020-10-21 00:00:00'), Timestamp('2021-08-04 00:00:00'), Timestamp('2021-10-14 00:00:00'), Timestamp('2022-02-17 00:00:00'), Timestamp('2022-03-27 00:00:00'), Timestamp('2022-08-19 00:00:00'), Timestamp('2022-11-08 00:00:00'), Timestamp('2023-01-12 00:00:00'), Timestamp('2023-03-30 00:00:00'), Timestamp('2023-08-01 00:00:00'), Timestamp('2023-10-16 00:00:00')], 'sellprices': [8435.770224132864, 8096.465948031253, 10724.304630260853, 12320.776133120406, 37525.28929474234, 58063.01267287425, 41761.18507229315, 45518.43252680625, 22293.245537170504, 19303.162842378897, 18525.033799865967, 29030.97226235715, 28766.428043289783, 29951.09019246226], 'profits': [0.07793753530148839, 0.07793753530148856, 0.07793753530148849, 0.07793753530148843, -0.06317021773622163, 0.07793753530148848, -0.06317021773622153, 0.07793753530148848, -0.0631702177362215, -0.06317021773622161, 0.07793753530148845, 0.07793753530148848, -0.06317021773622156, 0.07793753530148849]} could not be cast to float.\n",
      "[W 2023-10-27 02:48:16,006] Trial 43 failed with value ({'buydates': [Timestamp('2020-01-09 00:00:00'), Timestamp('2020-04-24 00:00:00'), Timestamp('2020-07-26 00:00:00'), Timestamp('2020-10-13 00:00:00'), Timestamp('2021-07-29 00:00:00'), Timestamp('2021-10-07 00:00:00'), Timestamp('2022-02-15 00:00:00'), Timestamp('2022-03-19 00:00:00'), Timestamp('2022-07-29 00:00:00'), Timestamp('2022-10-28 00:00:00'), Timestamp('2023-01-09 00:00:00'), Timestamp('2023-03-18 00:00:00'), Timestamp('2023-06-23 00:00:00'), Timestamp('2023-10-04 00:00:00')], 'buyprices': [7818.59, 7504.11, 9939.69, 11419.36, 40012.9, 53814.99, 44529.6, 42188.2, 23771.1, 20582.8, 17169.7, 26907.0, 30673.4, 27759.8], 'selldates': [Timestamp('2020-01-14 00:00:00'), Timestamp('2020-04-29 00:00:00'), Timestamp('2020-07-27 00:00:00'), Timestamp('2020-10-21 00:00:00'), Timestamp('2021-08-04 00:00:00'), Timestamp('2021-10-14 00:00:00'), Timestamp('2022-02-17 00:00:00'), Timestamp('2022-03-27 00:00:00'), Timestamp('2022-08-19 00:00:00'), Timestamp('2022-11-08 00:00:00'), Timestamp('2023-01-12 00:00:00'), Timestamp('2023-03-30 00:00:00'), Timestamp('2023-08-01 00:00:00'), Timestamp('2023-10-16 00:00:00')], 'sellprices': [8435.770224132864, 8096.465948031253, 10724.304630260853, 12320.776133120406, 37525.28929474234, 58063.01267287425, 41761.18507229315, 45518.43252680625, 22293.245537170504, 19303.162842378897, 18525.033799865967, 29030.97226235715, 28766.428043289783, 29951.09019246226], 'profits': [0.07793753530148839, 0.07793753530148856, 0.07793753530148849, 0.07793753530148843, -0.06317021773622163, 0.07793753530148848, -0.06317021773622153, 0.07793753530148848, -0.0631702177362215, -0.06317021773622161, 0.07793753530148845, 0.07793753530148848, -0.06317021773622156, 0.07793753530148849]},     ticker  returns  winrate  trades  buy&hold_ret%\n",
      "0  BTCUSDT    41.79    64.29      14          240.9).\n"
     ]
    },
    {
     "name": "stdout",
     "output_type": "stream",
     "text": [
      "BTCUSDT, winrate=64.29%, returns=41.79%, no. of trades = 14, buy&hold_ret = 240.89999999999998%\n"
     ]
    },
    {
     "name": "stderr",
     "output_type": "stream",
     "text": [
      "[W 2023-10-27 02:48:16,526] Trial 44 failed with parameters: {'fast_ma_period': 18, 'slow_ma_period': 58, 'rsi_period': 21, 'sl_perc': 3.358546449542658, 'tp_perc': 5.825290100607155} because of the following error: The value {'buydates': [Timestamp('2019-11-07 00:00:00'), Timestamp('2020-01-11 00:00:00'), Timestamp('2020-04-23 00:00:00'), Timestamp('2020-07-27 00:00:00'), Timestamp('2020-10-15 00:00:00'), Timestamp('2021-08-01 00:00:00'), Timestamp('2021-10-10 00:00:00'), Timestamp('2022-03-24 00:00:00'), Timestamp('2022-08-01 00:00:00'), Timestamp('2022-10-31 00:00:00'), Timestamp('2023-01-10 00:00:00'), Timestamp('2023-03-19 00:00:00'), Timestamp('2023-06-26 00:00:00'), Timestamp('2023-10-04 00:00:00')], 'buyprices': [9219.64, 8020.56, 7483.35, 11047.58, 11502.0, 39846.78, 54700.0, 43973.4, 23257.6, 20482.0, 17428.8, 27955.7, 30260.1, 27759.8], 'selldates': [Timestamp('2019-11-08 00:00:00'), Timestamp('2020-01-14 00:00:00'), Timestamp('2020-04-29 00:00:00'), Timestamp('2020-07-28 00:00:00'), Timestamp('2020-10-21 00:00:00'), Timestamp('2021-08-03 00:00:00'), Timestamp('2021-10-14 00:00:00'), Timestamp('2022-03-27 00:00:00'), Timestamp('2022-08-04 00:00:00'), Timestamp('2022-11-08 00:00:00'), Timestamp('2023-01-12 00:00:00'), Timestamp('2023-03-22 00:00:00'), Timestamp('2023-07-24 00:00:00'), Timestamp('2023-10-11 00:00:00')], 'sellprices': [8909.994108119385, 8487.780887693258, 7919.276846743785, 10676.541894149615, 12172.024867371834, 38508.50738505293, 57886.43368503211, 46534.978117100385, 22476.482700951165, 19794.102516204675, 18444.07816105462, 27016.794830205206, 29243.800485821943, 26827.474222699857], 'profits': [-0.034585464495426585, 0.057252901006071555, 0.057252901006071485, -0.03458546449542655, 0.057252901006071485, -0.03458546449542646, 0.05725290100607153, 0.05725290100607148, -0.03458546449542661, -0.03458546449542645, 0.0572529010060715, -0.03458546449542649, -0.03458546449542651, -0.034585464495426564]} could not be cast to float.\n",
      "[W 2023-10-27 02:48:16,535] Trial 44 failed with value ({'buydates': [Timestamp('2019-11-07 00:00:00'), Timestamp('2020-01-11 00:00:00'), Timestamp('2020-04-23 00:00:00'), Timestamp('2020-07-27 00:00:00'), Timestamp('2020-10-15 00:00:00'), Timestamp('2021-08-01 00:00:00'), Timestamp('2021-10-10 00:00:00'), Timestamp('2022-03-24 00:00:00'), Timestamp('2022-08-01 00:00:00'), Timestamp('2022-10-31 00:00:00'), Timestamp('2023-01-10 00:00:00'), Timestamp('2023-03-19 00:00:00'), Timestamp('2023-06-26 00:00:00'), Timestamp('2023-10-04 00:00:00')], 'buyprices': [9219.64, 8020.56, 7483.35, 11047.58, 11502.0, 39846.78, 54700.0, 43973.4, 23257.6, 20482.0, 17428.8, 27955.7, 30260.1, 27759.8], 'selldates': [Timestamp('2019-11-08 00:00:00'), Timestamp('2020-01-14 00:00:00'), Timestamp('2020-04-29 00:00:00'), Timestamp('2020-07-28 00:00:00'), Timestamp('2020-10-21 00:00:00'), Timestamp('2021-08-03 00:00:00'), Timestamp('2021-10-14 00:00:00'), Timestamp('2022-03-27 00:00:00'), Timestamp('2022-08-04 00:00:00'), Timestamp('2022-11-08 00:00:00'), Timestamp('2023-01-12 00:00:00'), Timestamp('2023-03-22 00:00:00'), Timestamp('2023-07-24 00:00:00'), Timestamp('2023-10-11 00:00:00')], 'sellprices': [8909.994108119385, 8487.780887693258, 7919.276846743785, 10676.541894149615, 12172.024867371834, 38508.50738505293, 57886.43368503211, 46534.978117100385, 22476.482700951165, 19794.102516204675, 18444.07816105462, 27016.794830205206, 29243.800485821943, 26827.474222699857], 'profits': [-0.034585464495426585, 0.057252901006071555, 0.057252901006071485, -0.03458546449542655, 0.057252901006071485, -0.03458546449542646, 0.05725290100607153, 0.05725290100607148, -0.03458546449542661, -0.03458546449542645, 0.0572529010060715, -0.03458546449542649, -0.03458546449542651, -0.034585464495426564]},     ticker  returns  winrate  trades  buy&hold_ret%\n",
      "0  BTCUSDT     5.39    42.86      14          240.9).\n"
     ]
    },
    {
     "name": "stdout",
     "output_type": "stream",
     "text": [
      "BTCUSDT, winrate=42.86%, returns=5.39%, no. of trades = 14, buy&hold_ret = 240.89999999999998%\n"
     ]
    },
    {
     "name": "stderr",
     "output_type": "stream",
     "text": [
      "[W 2023-10-27 02:48:16,817] Trial 45 failed with parameters: {'fast_ma_period': 25, 'slow_ma_period': 64, 'rsi_period': 13, 'sl_perc': 3.2151349282376853, 'tp_perc': 9.370245817826898} because of the following error: The value {'buydates': [Timestamp('2020-01-14 00:00:00'), Timestamp('2020-04-28 00:00:00'), Timestamp('2020-07-28 00:00:00'), Timestamp('2020-10-20 00:00:00'), Timestamp('2021-08-04 00:00:00'), Timestamp('2021-10-12 00:00:00'), Timestamp('2022-03-02 00:00:00'), Timestamp('2022-03-20 00:00:00'), Timestamp('2022-08-07 00:00:00'), Timestamp('2022-11-04 00:00:00'), Timestamp('2023-01-11 00:00:00'), Timestamp('2023-06-29 00:00:00'), Timestamp('2023-10-09 00:00:00')], 'buyprices': [8825.0, 7735.75, 10919.94, 11900.03, 39731.31, 56011.84, 43885.7, 41261.0, 23167.8, 21137.6, 17935.7, 30439.9, 27578.3], 'selldates': [Timestamp('2020-01-19 00:00:00'), Timestamp('2020-04-29 00:00:00'), Timestamp('2020-08-02 00:00:00'), Timestamp('2020-10-21 00:00:00'), Timestamp('2021-08-05 00:00:00'), Timestamp('2021-10-15 00:00:00'), Timestamp('2022-03-03 00:00:00'), Timestamp('2022-03-25 00:00:00'), Timestamp('2022-08-19 00:00:00'), Timestamp('2022-11-07 00:00:00'), Timestamp('2023-01-13 00:00:00'), Timestamp('2023-07-18 00:00:00'), Timestamp('2023-10-11 00:00:00')], 'sellprices': [8541.264342583025, 8460.608790852544, 10568.849194917402, 13015.092063395148, 38453.8947747436, 61260.28709508789, 42474.71553079839, 45127.25712689356, 22422.923970095748, 20457.99763940883, 19616.31917914798, 29461.216142979378, 26691.620444085827], 'profits': [-0.033151349282376806, 0.09270245817826897, -0.033151349282376855, 0.09270245817826908, -0.03315134928237691, 0.09270245817826904, -0.033151349282376834, 0.092702458178269, -0.033151349282376896, -0.03315134928237684, 0.09270245817826901, -0.03315134928237687, -0.0331513492823768]} could not be cast to float.\n",
      "[W 2023-10-27 02:48:16,826] Trial 45 failed with value ({'buydates': [Timestamp('2020-01-14 00:00:00'), Timestamp('2020-04-28 00:00:00'), Timestamp('2020-07-28 00:00:00'), Timestamp('2020-10-20 00:00:00'), Timestamp('2021-08-04 00:00:00'), Timestamp('2021-10-12 00:00:00'), Timestamp('2022-03-02 00:00:00'), Timestamp('2022-03-20 00:00:00'), Timestamp('2022-08-07 00:00:00'), Timestamp('2022-11-04 00:00:00'), Timestamp('2023-01-11 00:00:00'), Timestamp('2023-06-29 00:00:00'), Timestamp('2023-10-09 00:00:00')], 'buyprices': [8825.0, 7735.75, 10919.94, 11900.03, 39731.31, 56011.84, 43885.7, 41261.0, 23167.8, 21137.6, 17935.7, 30439.9, 27578.3], 'selldates': [Timestamp('2020-01-19 00:00:00'), Timestamp('2020-04-29 00:00:00'), Timestamp('2020-08-02 00:00:00'), Timestamp('2020-10-21 00:00:00'), Timestamp('2021-08-05 00:00:00'), Timestamp('2021-10-15 00:00:00'), Timestamp('2022-03-03 00:00:00'), Timestamp('2022-03-25 00:00:00'), Timestamp('2022-08-19 00:00:00'), Timestamp('2022-11-07 00:00:00'), Timestamp('2023-01-13 00:00:00'), Timestamp('2023-07-18 00:00:00'), Timestamp('2023-10-11 00:00:00')], 'sellprices': [8541.264342583025, 8460.608790852544, 10568.849194917402, 13015.092063395148, 38453.8947747436, 61260.28709508789, 42474.71553079839, 45127.25712689356, 22422.923970095748, 20457.99763940883, 19616.31917914798, 29461.216142979378, 26691.620444085827], 'profits': [-0.033151349282376806, 0.09270245817826897, -0.033151349282376855, 0.09270245817826908, -0.03315134928237691, 0.09270245817826904, -0.033151349282376834, 0.092702458178269, -0.033151349282376896, -0.03315134928237684, 0.09270245817826901, -0.03315134928237687, -0.0331513492823768]},     ticker  returns  winrate  trades  buy&hold_ret%\n",
      "0  BTCUSDT    18.95    38.46      13          240.9).\n"
     ]
    },
    {
     "name": "stdout",
     "output_type": "stream",
     "text": [
      "BTCUSDT, winrate=38.46%, returns=18.95%, no. of trades = 13, buy&hold_ret = 240.89999999999998%\n"
     ]
    },
    {
     "name": "stderr",
     "output_type": "stream",
     "text": [
      "[W 2023-10-27 02:48:17,075] Trial 46 failed with parameters: {'fast_ma_period': 25, 'slow_ma_period': 74, 'rsi_period': 16, 'sl_perc': 5.049498759465405, 'tp_perc': 5.261910448153522} because of the following error: The value {'buydates': [Timestamp('2020-01-17 00:00:00'), Timestamp('2020-05-02 00:00:00'), Timestamp('2020-07-28 00:00:00'), Timestamp('2020-10-21 00:00:00'), Timestamp('2021-08-05 00:00:00'), Timestamp('2022-03-22 00:00:00'), Timestamp('2022-08-13 00:00:00'), Timestamp('2022-11-05 00:00:00'), Timestamp('2023-01-15 00:00:00'), Timestamp('2023-06-30 00:00:00'), Timestamp('2023-10-16 00:00:00')], 'buyprices': [8918.72, 8975.18, 10919.94, 12796.07, 40882.4, 42349.8, 24429.0, 21289.9, 20882.7, 30460.2, 28486.3], 'selldates': [Timestamp('2020-01-19 00:00:00'), Timestamp('2020-05-07 00:00:00'), Timestamp('2020-08-01 00:00:00'), Timestamp('2020-10-27 00:00:00'), Timestamp('2021-08-06 00:00:00'), Timestamp('2022-03-25 00:00:00'), Timestamp('2022-08-17 00:00:00'), Timestamp('2022-11-08 00:00:00'), Timestamp('2023-01-20 00:00:00'), Timestamp('2023-07-24 00:00:00'), Timestamp('2023-10-20 00:00:00')], 'sellprices': [8468.369344239805, 9447.445934160585, 11494.537463792096, 13469.387744283038, 43033.595277055916, 44578.20855097212, 23195.457948050196, 20214.866763608574, 21981.528973156554, 28922.112578869317, 29985.223595992356], 'profits': [-0.05149498759465418, 0.05161910448153518, 0.051619104481535186, 0.05161910448153521, 0.0516191044815352, 0.051619104481535186, -0.051494987594654054, -0.05149498759465416, 0.05161910448153509, -0.05149498759465413, 0.051619104481535234]} could not be cast to float.\n",
      "[W 2023-10-27 02:48:17,080] Trial 46 failed with value ({'buydates': [Timestamp('2020-01-17 00:00:00'), Timestamp('2020-05-02 00:00:00'), Timestamp('2020-07-28 00:00:00'), Timestamp('2020-10-21 00:00:00'), Timestamp('2021-08-05 00:00:00'), Timestamp('2022-03-22 00:00:00'), Timestamp('2022-08-13 00:00:00'), Timestamp('2022-11-05 00:00:00'), Timestamp('2023-01-15 00:00:00'), Timestamp('2023-06-30 00:00:00'), Timestamp('2023-10-16 00:00:00')], 'buyprices': [8918.72, 8975.18, 10919.94, 12796.07, 40882.4, 42349.8, 24429.0, 21289.9, 20882.7, 30460.2, 28486.3], 'selldates': [Timestamp('2020-01-19 00:00:00'), Timestamp('2020-05-07 00:00:00'), Timestamp('2020-08-01 00:00:00'), Timestamp('2020-10-27 00:00:00'), Timestamp('2021-08-06 00:00:00'), Timestamp('2022-03-25 00:00:00'), Timestamp('2022-08-17 00:00:00'), Timestamp('2022-11-08 00:00:00'), Timestamp('2023-01-20 00:00:00'), Timestamp('2023-07-24 00:00:00'), Timestamp('2023-10-20 00:00:00')], 'sellprices': [8468.369344239805, 9447.445934160585, 11494.537463792096, 13469.387744283038, 43033.595277055916, 44578.20855097212, 23195.457948050196, 20214.866763608574, 21981.528973156554, 28922.112578869317, 29985.223595992356], 'profits': [-0.05149498759465418, 0.05161910448153518, 0.051619104481535186, 0.05161910448153521, 0.0516191044815352, 0.051619104481535186, -0.051494987594654054, -0.05149498759465416, 0.05161910448153509, -0.05149498759465413, 0.051619104481535234]},     ticker  returns  winrate  trades  buy&hold_ret%\n",
      "0  BTCUSDT    15.12    63.64      11          240.9).\n"
     ]
    },
    {
     "name": "stdout",
     "output_type": "stream",
     "text": [
      "BTCUSDT, winrate=63.64%, returns=15.12%, no. of trades = 11, buy&hold_ret = 240.89999999999998%\n"
     ]
    },
    {
     "name": "stderr",
     "output_type": "stream",
     "text": [
      "[W 2023-10-27 02:48:17,379] Trial 47 failed with parameters: {'fast_ma_period': 25, 'slow_ma_period': 52, 'rsi_period': 23, 'sl_perc': 7.814870676232077, 'tp_perc': 5.04189147542409} because of the following error: The value {'buydates': [Timestamp('2020-01-10 00:00:00'), Timestamp('2020-04-22 00:00:00'), Timestamp('2020-07-28 00:00:00'), Timestamp('2020-10-16 00:00:00'), Timestamp('2021-08-03 00:00:00'), Timestamp('2021-10-13 00:00:00'), Timestamp('2022-03-24 00:00:00'), Timestamp('2022-03-29 00:00:00'), Timestamp('2022-07-30 00:00:00'), Timestamp('2022-11-02 00:00:00'), Timestamp('2023-01-12 00:00:00'), Timestamp('2023-03-18 00:00:00'), Timestamp('2023-06-26 00:00:00'), Timestamp('2023-10-04 00:00:00')], 'buyprices': [8207.09, 7120.06, 10919.94, 11318.92, 38203.26, 57393.65, 43973.4, 47418.5, 23629.9, 20140.1, 18838.0, 26907.0, 30260.1, 27759.8], 'selldates': [Timestamp('2020-01-14 00:00:00'), Timestamp('2020-04-23 00:00:00'), Timestamp('2020-08-01 00:00:00'), Timestamp('2020-10-20 00:00:00'), Timestamp('2021-08-05 00:00:00'), Timestamp('2021-10-15 00:00:00'), Timestamp('2022-03-27 00:00:00'), Timestamp('2022-04-06 00:00:00'), Timestamp('2022-08-11 00:00:00'), Timestamp('2022-11-04 00:00:00'), Timestamp('2023-01-13 00:00:00'), Timestamp('2023-03-19 00:00:00'), Timestamp('2023-07-13 00:00:00'), Timestamp('2023-10-16 00:00:00')], 'sellprices': [8620.882571090382, 7479.04569818508, 11470.511523981426, 11889.607662590071, 40129.4269092741, 60287.37554678474, 46190.491106054134, 43712.80554839089, 24821.293913751237, 21155.541985041884, 19787.79151614039, 28263.62173929236, 31785.7814023548, 29159.418989794776], 'profits': [0.04941891475424077, 0.04941891475424081, 0.04941891475424089, 0.0494189147542408, 0.04941891475424085, 0.049418914754240845, 0.04941891475424081, -0.07914870676232082, 0.04941891475424082, 0.04941891475424081, 0.049418914754240935, 0.049418914754240935, 0.04941891475424084, 0.049418914754240914]} could not be cast to float.\n",
      "[W 2023-10-27 02:48:17,394] Trial 47 failed with value ({'buydates': [Timestamp('2020-01-10 00:00:00'), Timestamp('2020-04-22 00:00:00'), Timestamp('2020-07-28 00:00:00'), Timestamp('2020-10-16 00:00:00'), Timestamp('2021-08-03 00:00:00'), Timestamp('2021-10-13 00:00:00'), Timestamp('2022-03-24 00:00:00'), Timestamp('2022-03-29 00:00:00'), Timestamp('2022-07-30 00:00:00'), Timestamp('2022-11-02 00:00:00'), Timestamp('2023-01-12 00:00:00'), Timestamp('2023-03-18 00:00:00'), Timestamp('2023-06-26 00:00:00'), Timestamp('2023-10-04 00:00:00')], 'buyprices': [8207.09, 7120.06, 10919.94, 11318.92, 38203.26, 57393.65, 43973.4, 47418.5, 23629.9, 20140.1, 18838.0, 26907.0, 30260.1, 27759.8], 'selldates': [Timestamp('2020-01-14 00:00:00'), Timestamp('2020-04-23 00:00:00'), Timestamp('2020-08-01 00:00:00'), Timestamp('2020-10-20 00:00:00'), Timestamp('2021-08-05 00:00:00'), Timestamp('2021-10-15 00:00:00'), Timestamp('2022-03-27 00:00:00'), Timestamp('2022-04-06 00:00:00'), Timestamp('2022-08-11 00:00:00'), Timestamp('2022-11-04 00:00:00'), Timestamp('2023-01-13 00:00:00'), Timestamp('2023-03-19 00:00:00'), Timestamp('2023-07-13 00:00:00'), Timestamp('2023-10-16 00:00:00')], 'sellprices': [8620.882571090382, 7479.04569818508, 11470.511523981426, 11889.607662590071, 40129.4269092741, 60287.37554678474, 46190.491106054134, 43712.80554839089, 24821.293913751237, 21155.541985041884, 19787.79151614039, 28263.62173929236, 31785.7814023548, 29159.418989794776], 'profits': [0.04941891475424077, 0.04941891475424081, 0.04941891475424089, 0.0494189147542408, 0.04941891475424085, 0.049418914754240845, 0.04941891475424081, -0.07914870676232082, 0.04941891475424082, 0.04941891475424081, 0.049418914754240935, 0.049418914754240935, 0.04941891475424084, 0.049418914754240914]},     ticker  returns  winrate  trades  buy&hold_ret%\n",
      "0  BTCUSDT     72.4    92.86      14          240.9).\n"
     ]
    },
    {
     "name": "stdout",
     "output_type": "stream",
     "text": [
      "BTCUSDT, winrate=92.86%, returns=72.4%, no. of trades = 14, buy&hold_ret = 240.89999999999998%\n"
     ]
    },
    {
     "name": "stderr",
     "output_type": "stream",
     "text": [
      "[W 2023-10-27 02:48:17,860] Trial 48 failed with parameters: {'fast_ma_period': 14, 'slow_ma_period': 66, 'rsi_period': 20, 'sl_perc': 4.265379456350306, 'tp_perc': 5.064210060941072} because of the following error: The value {'buydates': [Timestamp('2020-01-12 00:00:00'), Timestamp('2020-04-28 00:00:00'), Timestamp('2020-07-26 00:00:00'), Timestamp('2020-10-16 00:00:00'), Timestamp('2021-07-31 00:00:00'), Timestamp('2021-10-08 00:00:00'), Timestamp('2022-03-21 00:00:00'), Timestamp('2022-08-06 00:00:00'), Timestamp('2022-10-30 00:00:00'), Timestamp('2023-01-11 00:00:00'), Timestamp('2023-03-17 00:00:00'), Timestamp('2023-06-25 00:00:00'), Timestamp('2023-10-07 00:00:00')], 'buyprices': [8186.7, 7735.75, 9939.69, 11318.92, 41448.11, 53975.0, 40982.0, 22943.3, 20615.6, 17935.7, 27384.0, 30458.0, 27943.0], 'selldates': [Timestamp('2020-01-14 00:00:00'), Timestamp('2020-04-29 00:00:00'), Timestamp('2020-07-27 00:00:00'), Timestamp('2020-10-20 00:00:00'), Timestamp('2021-08-01 00:00:00'), Timestamp('2021-10-10 00:00:00'), Timestamp('2022-03-22 00:00:00'), Timestamp('2022-08-08 00:00:00'), Timestamp('2022-11-08 00:00:00'), Timestamp('2023-01-12 00:00:00'), Timestamp('2023-03-22 00:00:00'), Timestamp('2023-07-24 00:00:00'), Timestamp('2023-10-11 00:00:00')], 'sellprices': [8601.291685059063, 8127.504629789249, 10443.056781006353, 11892.13388542987, 39680.19083101452, 56708.40738039294, 43057.41456717487, 24105.19690691189, 19736.266432796645, 18844.001523900206, 28770.7832830881, 29158.850725184824, 26751.125018512033], 'profits': [0.04964210060941074, 0.04964210060941067, 0.04964210060941061, 0.04964210060941062, -0.04365379456350309, 0.0496421006094107, 0.04964210060941072, 0.0496421006094106, -0.04365379456350306, 0.04964210060941057, 0.04964210060941066, -0.04365379456350305, -0.04365379456350308]} could not be cast to float.\n",
      "[W 2023-10-27 02:48:17,876] Trial 48 failed with value ({'buydates': [Timestamp('2020-01-12 00:00:00'), Timestamp('2020-04-28 00:00:00'), Timestamp('2020-07-26 00:00:00'), Timestamp('2020-10-16 00:00:00'), Timestamp('2021-07-31 00:00:00'), Timestamp('2021-10-08 00:00:00'), Timestamp('2022-03-21 00:00:00'), Timestamp('2022-08-06 00:00:00'), Timestamp('2022-10-30 00:00:00'), Timestamp('2023-01-11 00:00:00'), Timestamp('2023-03-17 00:00:00'), Timestamp('2023-06-25 00:00:00'), Timestamp('2023-10-07 00:00:00')], 'buyprices': [8186.7, 7735.75, 9939.69, 11318.92, 41448.11, 53975.0, 40982.0, 22943.3, 20615.6, 17935.7, 27384.0, 30458.0, 27943.0], 'selldates': [Timestamp('2020-01-14 00:00:00'), Timestamp('2020-04-29 00:00:00'), Timestamp('2020-07-27 00:00:00'), Timestamp('2020-10-20 00:00:00'), Timestamp('2021-08-01 00:00:00'), Timestamp('2021-10-10 00:00:00'), Timestamp('2022-03-22 00:00:00'), Timestamp('2022-08-08 00:00:00'), Timestamp('2022-11-08 00:00:00'), Timestamp('2023-01-12 00:00:00'), Timestamp('2023-03-22 00:00:00'), Timestamp('2023-07-24 00:00:00'), Timestamp('2023-10-11 00:00:00')], 'sellprices': [8601.291685059063, 8127.504629789249, 10443.056781006353, 11892.13388542987, 39680.19083101452, 56708.40738039294, 43057.41456717487, 24105.19690691189, 19736.266432796645, 18844.001523900206, 28770.7832830881, 29158.850725184824, 26751.125018512033], 'profits': [0.04964210060941074, 0.04964210060941067, 0.04964210060941061, 0.04964210060941062, -0.04365379456350309, 0.0496421006094107, 0.04964210060941072, 0.0496421006094106, -0.04365379456350306, 0.04964210060941057, 0.04964210060941066, -0.04365379456350305, -0.04365379456350308]},     ticker  returns  winrate  trades  buy&hold_ret%\n",
      "0  BTCUSDT    29.37    69.23      13          240.9).\n"
     ]
    },
    {
     "name": "stdout",
     "output_type": "stream",
     "text": [
      "BTCUSDT, winrate=69.23%, returns=29.37%, no. of trades = 13, buy&hold_ret = 240.89999999999998%\n"
     ]
    },
    {
     "name": "stderr",
     "output_type": "stream",
     "text": [
      "[W 2023-10-27 02:48:18,267] Trial 49 failed with parameters: {'fast_ma_period': 20, 'slow_ma_period': 50, 'rsi_period': 15, 'sl_perc': 3.8651624782358165, 'tp_perc': 8.102573152656362} because of the following error: The value {'buydates': [Timestamp('2019-11-05 00:00:00'), Timestamp('2020-01-08 00:00:00'), Timestamp('2020-04-19 00:00:00'), Timestamp('2020-07-27 00:00:00'), Timestamp('2020-10-13 00:00:00'), Timestamp('2021-08-01 00:00:00'), Timestamp('2021-10-11 00:00:00'), Timestamp('2022-03-19 00:00:00'), Timestamp('2022-03-27 00:00:00'), Timestamp('2022-07-28 00:00:00'), Timestamp('2022-10-31 00:00:00'), Timestamp('2023-01-12 00:00:00'), Timestamp('2023-03-19 00:00:00'), Timestamp('2023-06-25 00:00:00'), Timestamp('2023-10-01 00:00:00')], 'buyprices': [9313.2, 8059.84, 7118.03, 11047.58, 11419.36, 39846.78, 57500.01, 42188.2, 46820.8, 23836.2, 20482.0, 18838.0, 27955.7, 30458.0, 27981.4], 'selldates': [Timestamp('2019-11-08 00:00:00'), Timestamp('2020-01-10 00:00:00'), Timestamp('2020-04-20 00:00:00'), Timestamp('2020-07-28 00:00:00'), Timestamp('2020-10-21 00:00:00'), Timestamp('2021-08-03 00:00:00'), Timestamp('2021-10-12 00:00:00'), Timestamp('2022-03-21 00:00:00'), Timestamp('2022-04-01 00:00:00'), Timestamp('2022-08-01 00:00:00'), Timestamp('2022-11-08 00:00:00'), Timestamp('2023-01-14 00:00:00'), Timestamp('2023-03-22 00:00:00'), Timestamp('2023-07-24 00:00:00'), Timestamp('2023-10-11 00:00:00')], 'sellprices': [8953.229688076943, 7748.314088514158, 6842.906575250431, 10620.573083086916, 12344.62199756518, 38306.63721065482, 55277.54118849816, 40557.55752335691, 45011.10000639017, 22914.892141362754, 19690.33742120774, 20364.362730497407, 26875.16677307183, 29280.748812378934, 26899.873426314924], 'profits': [-0.03965162478235816, -0.03965162478235818, -0.039651624782358126, -0.03965162478235811, 0.08002573152656363, -0.03965162478235824, -0.03965162478235818, -0.03965162478235826, -0.03965162478235819, -0.03965162478235821, -0.03965162478235818, 0.0800257315265637, -0.039651624782358216, -0.039651624782358216, -0.0396516247823582]} could not be cast to float.\n",
      "[W 2023-10-27 02:48:18,273] Trial 49 failed with value ({'buydates': [Timestamp('2019-11-05 00:00:00'), Timestamp('2020-01-08 00:00:00'), Timestamp('2020-04-19 00:00:00'), Timestamp('2020-07-27 00:00:00'), Timestamp('2020-10-13 00:00:00'), Timestamp('2021-08-01 00:00:00'), Timestamp('2021-10-11 00:00:00'), Timestamp('2022-03-19 00:00:00'), Timestamp('2022-03-27 00:00:00'), Timestamp('2022-07-28 00:00:00'), Timestamp('2022-10-31 00:00:00'), Timestamp('2023-01-12 00:00:00'), Timestamp('2023-03-19 00:00:00'), Timestamp('2023-06-25 00:00:00'), Timestamp('2023-10-01 00:00:00')], 'buyprices': [9313.2, 8059.84, 7118.03, 11047.58, 11419.36, 39846.78, 57500.01, 42188.2, 46820.8, 23836.2, 20482.0, 18838.0, 27955.7, 30458.0, 27981.4], 'selldates': [Timestamp('2019-11-08 00:00:00'), Timestamp('2020-01-10 00:00:00'), Timestamp('2020-04-20 00:00:00'), Timestamp('2020-07-28 00:00:00'), Timestamp('2020-10-21 00:00:00'), Timestamp('2021-08-03 00:00:00'), Timestamp('2021-10-12 00:00:00'), Timestamp('2022-03-21 00:00:00'), Timestamp('2022-04-01 00:00:00'), Timestamp('2022-08-01 00:00:00'), Timestamp('2022-11-08 00:00:00'), Timestamp('2023-01-14 00:00:00'), Timestamp('2023-03-22 00:00:00'), Timestamp('2023-07-24 00:00:00'), Timestamp('2023-10-11 00:00:00')], 'sellprices': [8953.229688076943, 7748.314088514158, 6842.906575250431, 10620.573083086916, 12344.62199756518, 38306.63721065482, 55277.54118849816, 40557.55752335691, 45011.10000639017, 22914.892141362754, 19690.33742120774, 20364.362730497407, 26875.16677307183, 29280.748812378934, 26899.873426314924], 'profits': [-0.03965162478235816, -0.03965162478235818, -0.039651624782358126, -0.03965162478235811, 0.08002573152656363, -0.03965162478235824, -0.03965162478235818, -0.03965162478235826, -0.03965162478235819, -0.03965162478235821, -0.03965162478235818, 0.0800257315265637, -0.039651624782358216, -0.039651624782358216, -0.0396516247823582]},     ticker  returns  winrate  trades  buy&hold_ret%\n",
      "0  BTCUSDT   -31.06    13.33      15          240.9).\n"
     ]
    },
    {
     "name": "stdout",
     "output_type": "stream",
     "text": [
      "BTCUSDT, winrate=13.33%, returns=-31.06%, no. of trades = 15, buy&hold_ret = 240.89999999999998%\n"
     ]
    },
    {
     "name": "stderr",
     "output_type": "stream",
     "text": [
      "[W 2023-10-27 02:48:18,525] Trial 50 failed with parameters: {'fast_ma_period': 23, 'slow_ma_period': 50, 'rsi_period': 17, 'sl_perc': 6.549655765155835, 'tp_perc': 11.875177672687958} because of the following error: The value {'buydates': [Timestamp('2019-11-06 00:00:00'), Timestamp('2020-01-09 00:00:00'), Timestamp('2020-07-27 00:00:00'), Timestamp('2020-10-14 00:00:00'), Timestamp('2021-08-02 00:00:00'), Timestamp('2021-10-13 00:00:00'), Timestamp('2022-03-28 00:00:00'), Timestamp('2022-07-29 00:00:00'), Timestamp('2022-10-31 00:00:00'), Timestamp('2023-01-12 00:00:00'), Timestamp('2023-03-19 00:00:00'), Timestamp('2023-06-25 00:00:00'), Timestamp('2023-10-02 00:00:00')], 'buyprices': [9343.6, 7818.59, 11047.58, 11417.13, 39147.48, 57393.65, 47121.9, 23771.1, 20482.0, 18838.0, 27955.7, 30458.0, 27477.6], 'selldates': [Timestamp('2019-11-08 00:00:00'), Timestamp('2020-01-14 00:00:00'), Timestamp('2020-08-17 00:00:00'), Timestamp('2020-10-21 00:00:00'), Timestamp('2021-08-07 00:00:00'), Timestamp('2021-10-19 00:00:00'), Timestamp('2022-04-06 00:00:00'), Timestamp('2022-08-19 00:00:00'), Timestamp('2022-11-08 00:00:00'), Timestamp('2023-01-14 00:00:00'), Timestamp('2023-05-12 00:00:00'), Timestamp('2023-08-17 00:00:00'), Timestamp('2023-10-23 00:00:00')], 'sellprices': [8731.6263639269, 8747.061453999013, 12359.49975353234, 12772.934472621757, 43796.31280437999, 64209.24791034067, 44035.57775999903, 22214.17477840904, 19140.499506180782, 21075.045969980958, 26124.69788326033, 28463.105847048835, 30740.613820190505], 'profits': [-0.06649655765155832, 0.11775177672687949, 0.11775177672687956, 0.1177517767268795, 0.11775177672687959, 0.11775177672687957, -0.06649655765155839, -0.06649655765155833, -0.06649655765155833, 0.1177517767268796, -0.06649655765155835, -0.06649655765155837, 0.11775177672687959]} could not be cast to float.\n",
      "[W 2023-10-27 02:48:18,529] Trial 50 failed with value ({'buydates': [Timestamp('2019-11-06 00:00:00'), Timestamp('2020-01-09 00:00:00'), Timestamp('2020-07-27 00:00:00'), Timestamp('2020-10-14 00:00:00'), Timestamp('2021-08-02 00:00:00'), Timestamp('2021-10-13 00:00:00'), Timestamp('2022-03-28 00:00:00'), Timestamp('2022-07-29 00:00:00'), Timestamp('2022-10-31 00:00:00'), Timestamp('2023-01-12 00:00:00'), Timestamp('2023-03-19 00:00:00'), Timestamp('2023-06-25 00:00:00'), Timestamp('2023-10-02 00:00:00')], 'buyprices': [9343.6, 7818.59, 11047.58, 11417.13, 39147.48, 57393.65, 47121.9, 23771.1, 20482.0, 18838.0, 27955.7, 30458.0, 27477.6], 'selldates': [Timestamp('2019-11-08 00:00:00'), Timestamp('2020-01-14 00:00:00'), Timestamp('2020-08-17 00:00:00'), Timestamp('2020-10-21 00:00:00'), Timestamp('2021-08-07 00:00:00'), Timestamp('2021-10-19 00:00:00'), Timestamp('2022-04-06 00:00:00'), Timestamp('2022-08-19 00:00:00'), Timestamp('2022-11-08 00:00:00'), Timestamp('2023-01-14 00:00:00'), Timestamp('2023-05-12 00:00:00'), Timestamp('2023-08-17 00:00:00'), Timestamp('2023-10-23 00:00:00')], 'sellprices': [8731.6263639269, 8747.061453999013, 12359.49975353234, 12772.934472621757, 43796.31280437999, 64209.24791034067, 44035.57775999903, 22214.17477840904, 19140.499506180782, 21075.045969980958, 26124.69788326033, 28463.105847048835, 30740.613820190505], 'profits': [-0.06649655765155832, 0.11775177672687949, 0.11775177672687956, 0.1177517767268795, 0.11775177672687959, 0.11775177672687957, -0.06649655765155839, -0.06649655765155833, -0.06649655765155833, 0.1177517767268796, -0.06649655765155835, -0.06649655765155837, 0.11775177672687959]},     ticker  returns  winrate  trades  buy&hold_ret%\n",
      "0  BTCUSDT    44.25    53.85      13          240.9).\n"
     ]
    },
    {
     "name": "stdout",
     "output_type": "stream",
     "text": [
      "BTCUSDT, winrate=53.85%, returns=44.25%, no. of trades = 13, buy&hold_ret = 240.89999999999998%\n"
     ]
    },
    {
     "name": "stderr",
     "output_type": "stream",
     "text": [
      "[W 2023-10-27 02:48:18,935] Trial 51 failed with parameters: {'fast_ma_period': 18, 'slow_ma_period': 59, 'rsi_period': 18, 'sl_perc': 4.491575396382057, 'tp_perc': 9.521413239191457} because of the following error: The value {'buydates': [Timestamp('2019-11-07 00:00:00'), Timestamp('2020-01-11 00:00:00'), Timestamp('2020-04-24 00:00:00'), Timestamp('2020-07-27 00:00:00'), Timestamp('2020-10-16 00:00:00'), Timestamp('2021-08-01 00:00:00'), Timestamp('2021-10-10 00:00:00'), Timestamp('2022-03-23 00:00:00'), Timestamp('2022-08-02 00:00:00'), Timestamp('2022-10-31 00:00:00'), Timestamp('2023-01-10 00:00:00'), Timestamp('2023-03-19 00:00:00'), Timestamp('2023-06-26 00:00:00'), Timestamp('2023-10-05 00:00:00')], 'buyprices': [9219.64, 8020.56, 7504.11, 11047.58, 11318.92, 39846.78, 54700.0, 42867.9, 22975.1, 20482.0, 17428.8, 27955.7, 30260.1, 27398.4], 'selldates': [Timestamp('2019-11-08 00:00:00'), Timestamp('2020-01-14 00:00:00'), Timestamp('2020-04-29 00:00:00'), Timestamp('2020-08-02 00:00:00'), Timestamp('2020-10-21 00:00:00'), Timestamp('2021-08-03 00:00:00'), Timestamp('2021-10-15 00:00:00'), Timestamp('2022-03-27 00:00:00'), Timestamp('2022-08-15 00:00:00'), Timestamp('2022-11-08 00:00:00'), Timestamp('2023-01-12 00:00:00'), Timestamp('2023-03-22 00:00:00'), Timestamp('2023-07-24 00:00:00'), Timestamp('2023-10-16 00:00:00')], 'sellprices': [8805.532918125002, 8784.230661697296, 8218.60732302349, 10551.369614824376, 12396.641147413491, 38057.03183326952, 59908.213041837735, 46949.52990596336, 25162.654213117476, 19562.035527313026, 19088.268070632203, 26700.048656913623, 28900.944793479393, 30007.114884926636], 'profits': [-0.045915753963820465, 0.09421413239191478, 0.09421413239191469, -0.04591575396382047, 0.09421413239191469, -0.045915753963820465, 0.09421413239191472, 0.0942141323919147, 0.0942141323919146, -0.04591575396382061, 0.09421413239191473, -0.04591575396382054, -0.04591575396382052, 0.09421413239191463]} could not be cast to float.\n",
      "[W 2023-10-27 02:48:18,942] Trial 51 failed with value ({'buydates': [Timestamp('2019-11-07 00:00:00'), Timestamp('2020-01-11 00:00:00'), Timestamp('2020-04-24 00:00:00'), Timestamp('2020-07-27 00:00:00'), Timestamp('2020-10-16 00:00:00'), Timestamp('2021-08-01 00:00:00'), Timestamp('2021-10-10 00:00:00'), Timestamp('2022-03-23 00:00:00'), Timestamp('2022-08-02 00:00:00'), Timestamp('2022-10-31 00:00:00'), Timestamp('2023-01-10 00:00:00'), Timestamp('2023-03-19 00:00:00'), Timestamp('2023-06-26 00:00:00'), Timestamp('2023-10-05 00:00:00')], 'buyprices': [9219.64, 8020.56, 7504.11, 11047.58, 11318.92, 39846.78, 54700.0, 42867.9, 22975.1, 20482.0, 17428.8, 27955.7, 30260.1, 27398.4], 'selldates': [Timestamp('2019-11-08 00:00:00'), Timestamp('2020-01-14 00:00:00'), Timestamp('2020-04-29 00:00:00'), Timestamp('2020-08-02 00:00:00'), Timestamp('2020-10-21 00:00:00'), Timestamp('2021-08-03 00:00:00'), Timestamp('2021-10-15 00:00:00'), Timestamp('2022-03-27 00:00:00'), Timestamp('2022-08-15 00:00:00'), Timestamp('2022-11-08 00:00:00'), Timestamp('2023-01-12 00:00:00'), Timestamp('2023-03-22 00:00:00'), Timestamp('2023-07-24 00:00:00'), Timestamp('2023-10-16 00:00:00')], 'sellprices': [8805.532918125002, 8784.230661697296, 8218.60732302349, 10551.369614824376, 12396.641147413491, 38057.03183326952, 59908.213041837735, 46949.52990596336, 25162.654213117476, 19562.035527313026, 19088.268070632203, 26700.048656913623, 28900.944793479393, 30007.114884926636], 'profits': [-0.045915753963820465, 0.09421413239191478, 0.09421413239191469, -0.04591575396382047, 0.09421413239191469, -0.045915753963820465, 0.09421413239191472, 0.0942141323919147, 0.0942141323919146, -0.04591575396382061, 0.09421413239191473, -0.04591575396382054, -0.04591575396382052, 0.09421413239191463]},     ticker  returns  winrate  trades  buy&hold_ret%\n",
      "0  BTCUSDT     55.0    57.14      14          240.9).\n"
     ]
    },
    {
     "name": "stdout",
     "output_type": "stream",
     "text": [
      "BTCUSDT, winrate=57.14%, returns=55.0%, no. of trades = 14, buy&hold_ret = 240.89999999999998%\n"
     ]
    },
    {
     "name": "stderr",
     "output_type": "stream",
     "text": [
      "[W 2023-10-27 02:48:19,271] Trial 52 failed with parameters: {'fast_ma_period': 15, 'slow_ma_period': 56, 'rsi_period': 12, 'sl_perc': 6.551015684445255, 'tp_perc': 9.2171550869813} because of the following error: The value {'buydates': [Timestamp('2019-11-05 00:00:00'), Timestamp('2020-01-09 00:00:00'), Timestamp('2020-04-23 00:00:00'), Timestamp('2020-07-27 00:00:00'), Timestamp('2020-10-14 00:00:00'), Timestamp('2021-07-31 00:00:00'), Timestamp('2021-10-09 00:00:00'), Timestamp('2022-03-22 00:00:00'), Timestamp('2022-07-30 00:00:00'), Timestamp('2022-10-29 00:00:00'), Timestamp('2023-01-10 00:00:00'), Timestamp('2023-03-19 00:00:00'), Timestamp('2023-06-25 00:00:00'), Timestamp('2023-10-03 00:00:00')], 'buyprices': [9313.2, 7818.59, 7483.35, 11047.58, 11417.13, 41448.11, 54960.77, 42349.8, 23629.9, 20796.7, 17428.8, 27955.7, 30458.0, 27412.0], 'selldates': [Timestamp('2019-11-08 00:00:00'), Timestamp('2020-01-14 00:00:00'), Timestamp('2020-04-29 00:00:00'), Timestamp('2020-08-02 00:00:00'), Timestamp('2020-10-21 00:00:00'), Timestamp('2021-08-02 00:00:00'), Timestamp('2021-10-15 00:00:00'), Timestamp('2022-03-27 00:00:00'), Timestamp('2022-08-19 00:00:00'), Timestamp('2022-11-08 00:00:00'), Timestamp('2023-01-12 00:00:00'), Timestamp('2023-04-11 00:00:00'), Timestamp('2023-08-17 00:00:00'), Timestamp('2023-10-16 00:00:00')], 'sellprices': [8703.090807276245, 8539.241565915212, 8173.101975201616, 12065.85258195833, 12469.464578582269, 38732.83781299388, 60026.5894078991, 46253.246745026416, 22081.901544781274, 19434.304921152976, 19035.2395257998, 30532.420224651236, 28462.691642831665, 29938.606552443318], 'profits': [-0.06651015684445258, 0.09117155086981309, 0.09117155086981311, 0.09117155086981313, 0.09117155086981311, -0.06651015684445254, 0.09117155086981314, 0.09117155086981314, -0.06651015684445245, -0.06651015684445247, 0.0911715508698132, 0.09117155086981314, -0.06651015684445251, 0.09117155086981314]} could not be cast to float.\n",
      "[W 2023-10-27 02:48:19,290] Trial 52 failed with value ({'buydates': [Timestamp('2019-11-05 00:00:00'), Timestamp('2020-01-09 00:00:00'), Timestamp('2020-04-23 00:00:00'), Timestamp('2020-07-27 00:00:00'), Timestamp('2020-10-14 00:00:00'), Timestamp('2021-07-31 00:00:00'), Timestamp('2021-10-09 00:00:00'), Timestamp('2022-03-22 00:00:00'), Timestamp('2022-07-30 00:00:00'), Timestamp('2022-10-29 00:00:00'), Timestamp('2023-01-10 00:00:00'), Timestamp('2023-03-19 00:00:00'), Timestamp('2023-06-25 00:00:00'), Timestamp('2023-10-03 00:00:00')], 'buyprices': [9313.2, 7818.59, 7483.35, 11047.58, 11417.13, 41448.11, 54960.77, 42349.8, 23629.9, 20796.7, 17428.8, 27955.7, 30458.0, 27412.0], 'selldates': [Timestamp('2019-11-08 00:00:00'), Timestamp('2020-01-14 00:00:00'), Timestamp('2020-04-29 00:00:00'), Timestamp('2020-08-02 00:00:00'), Timestamp('2020-10-21 00:00:00'), Timestamp('2021-08-02 00:00:00'), Timestamp('2021-10-15 00:00:00'), Timestamp('2022-03-27 00:00:00'), Timestamp('2022-08-19 00:00:00'), Timestamp('2022-11-08 00:00:00'), Timestamp('2023-01-12 00:00:00'), Timestamp('2023-04-11 00:00:00'), Timestamp('2023-08-17 00:00:00'), Timestamp('2023-10-16 00:00:00')], 'sellprices': [8703.090807276245, 8539.241565915212, 8173.101975201616, 12065.85258195833, 12469.464578582269, 38732.83781299388, 60026.5894078991, 46253.246745026416, 22081.901544781274, 19434.304921152976, 19035.2395257998, 30532.420224651236, 28462.691642831665, 29938.606552443318], 'profits': [-0.06651015684445258, 0.09117155086981309, 0.09117155086981311, 0.09117155086981313, 0.09117155086981311, -0.06651015684445254, 0.09117155086981314, 0.09117155086981314, -0.06651015684445245, -0.06651015684445247, 0.0911715508698132, 0.09117155086981314, -0.06651015684445251, 0.09117155086981314]},     ticker  returns  winrate  trades  buy&hold_ret%\n",
      "0  BTCUSDT    55.45    64.29      14          240.9).\n"
     ]
    },
    {
     "name": "stdout",
     "output_type": "stream",
     "text": [
      "BTCUSDT, winrate=64.29%, returns=55.45%, no. of trades = 14, buy&hold_ret = 240.89999999999998%\n"
     ]
    },
    {
     "name": "stderr",
     "output_type": "stream",
     "text": [
      "[W 2023-10-27 02:48:19,648] Trial 53 failed with parameters: {'fast_ma_period': 21, 'slow_ma_period': 67, 'rsi_period': 20, 'sl_perc': 7.922213621154063, 'tp_perc': 10.420992118188767} because of the following error: The value {'buydates': [Timestamp('2020-01-14 00:00:00'), Timestamp('2020-04-29 00:00:00'), Timestamp('2020-07-27 00:00:00'), Timestamp('2020-10-19 00:00:00'), Timestamp('2021-08-03 00:00:00'), Timestamp('2021-10-11 00:00:00'), Timestamp('2022-03-19 00:00:00'), Timestamp('2022-08-07 00:00:00'), Timestamp('2022-11-02 00:00:00'), Timestamp('2023-01-12 00:00:00'), Timestamp('2023-06-27 00:00:00'), Timestamp('2023-10-09 00:00:00')], 'buyprices': [8825.0, 8784.2, 11047.58, 11745.0, 38203.26, 57500.01, 42188.2, 23167.8, 20140.1, 18838.0, 30683.2, 27578.3], 'selldates': [Timestamp('2020-02-05 00:00:00'), Timestamp('2020-05-07 00:00:00'), Timestamp('2020-08-17 00:00:00'), Timestamp('2020-10-21 00:00:00'), Timestamp('2021-08-06 00:00:00'), Timestamp('2021-10-15 00:00:00'), Timestamp('2022-03-27 00:00:00'), Timestamp('2022-08-19 00:00:00'), Timestamp('2022-11-08 00:00:00'), Timestamp('2023-01-14 00:00:00'), Timestamp('2023-08-17 00:00:00'), Timestamp('2023-10-16 00:00:00')], 'sellprices': [9744.652554430158, 9699.600789645938, 12198.847441050599, 12968.945524281271, 42184.41871349116, 63492.08151005775, 46584.62899680571, 21332.397392678267, 18544.55825448595, 20801.1064952244, 28252.41135019406, 30452.23246933045], 'profits': [0.10320992118188764, 0.10320992118188758, 0.10320992118188768, 0.1032099211818877, 0.10320992118188763, 0.10320992118188763, 0.10320992118188767, -0.08022213621154067, -0.0802221362115406, 0.10320992118188775, -0.08022213621154056, 0.10320992118188763]} could not be cast to float.\n",
      "[W 2023-10-27 02:48:19,657] Trial 53 failed with value ({'buydates': [Timestamp('2020-01-14 00:00:00'), Timestamp('2020-04-29 00:00:00'), Timestamp('2020-07-27 00:00:00'), Timestamp('2020-10-19 00:00:00'), Timestamp('2021-08-03 00:00:00'), Timestamp('2021-10-11 00:00:00'), Timestamp('2022-03-19 00:00:00'), Timestamp('2022-08-07 00:00:00'), Timestamp('2022-11-02 00:00:00'), Timestamp('2023-01-12 00:00:00'), Timestamp('2023-06-27 00:00:00'), Timestamp('2023-10-09 00:00:00')], 'buyprices': [8825.0, 8784.2, 11047.58, 11745.0, 38203.26, 57500.01, 42188.2, 23167.8, 20140.1, 18838.0, 30683.2, 27578.3], 'selldates': [Timestamp('2020-02-05 00:00:00'), Timestamp('2020-05-07 00:00:00'), Timestamp('2020-08-17 00:00:00'), Timestamp('2020-10-21 00:00:00'), Timestamp('2021-08-06 00:00:00'), Timestamp('2021-10-15 00:00:00'), Timestamp('2022-03-27 00:00:00'), Timestamp('2022-08-19 00:00:00'), Timestamp('2022-11-08 00:00:00'), Timestamp('2023-01-14 00:00:00'), Timestamp('2023-08-17 00:00:00'), Timestamp('2023-10-16 00:00:00')], 'sellprices': [9744.652554430158, 9699.600789645938, 12198.847441050599, 12968.945524281271, 42184.41871349116, 63492.08151005775, 46584.62899680571, 21332.397392678267, 18544.55825448595, 20801.1064952244, 28252.41135019406, 30452.23246933045], 'profits': [0.10320992118188764, 0.10320992118188758, 0.10320992118188768, 0.1032099211818877, 0.10320992118188763, 0.10320992118188763, 0.10320992118188767, -0.08022213621154067, -0.0802221362115406, 0.10320992118188775, -0.08022213621154056, 0.10320992118188763]},     ticker  returns  winrate  trades  buy&hold_ret%\n",
      "0  BTCUSDT    88.35     75.0      12          240.9).\n"
     ]
    },
    {
     "name": "stdout",
     "output_type": "stream",
     "text": [
      "BTCUSDT, winrate=75.0%, returns=88.35%, no. of trades = 12, buy&hold_ret = 240.89999999999998%\n"
     ]
    },
    {
     "name": "stderr",
     "output_type": "stream",
     "text": [
      "[W 2023-10-27 02:48:20,115] Trial 54 failed with parameters: {'fast_ma_period': 10, 'slow_ma_period': 66, 'rsi_period': 18, 'sl_perc': 6.722686167099945, 'tp_perc': 10.448842092485668} because of the following error: The value {'buydates': [Timestamp('2020-01-11 00:00:00'), Timestamp('2020-04-27 00:00:00'), Timestamp('2020-07-25 00:00:00'), Timestamp('2020-10-14 00:00:00'), Timestamp('2021-05-08 00:00:00'), Timestamp('2021-07-29 00:00:00'), Timestamp('2021-10-06 00:00:00'), Timestamp('2022-03-09 00:00:00'), Timestamp('2022-03-21 00:00:00'), Timestamp('2022-08-05 00:00:00'), Timestamp('2022-10-29 00:00:00'), Timestamp('2023-01-11 00:00:00'), Timestamp('2023-03-17 00:00:00'), Timestamp('2023-06-23 00:00:00'), Timestamp('2023-10-05 00:00:00')], 'buyprices': [8020.56, 7774.0, 9701.49, 11417.13, 58924.98, 40012.9, 55321.6, 41937.5, 40982.0, 23298.1, 20796.7, 17935.7, 27384.0, 30673.4, 27398.4], 'selldates': [Timestamp('2020-01-14 00:00:00'), Timestamp('2020-04-29 00:00:00'), Timestamp('2020-07-27 00:00:00'), Timestamp('2020-10-21 00:00:00'), Timestamp('2021-05-10 00:00:00'), Timestamp('2021-08-05 00:00:00'), Timestamp('2021-10-15 00:00:00'), Timestamp('2022-03-10 00:00:00'), Timestamp('2022-03-27 00:00:00'), Timestamp('2022-08-19 00:00:00'), Timestamp('2022-11-08 00:00:00'), Timestamp('2023-01-13 00:00:00'), Timestamp('2023-04-11 00:00:00'), Timestamp('2023-08-01 00:00:00'), Timestamp('2023-10-16 00:00:00')], 'sellprices': [8858.615649333069, 8586.292984269836, 10715.183370718287, 12610.087885193809, 54963.63852057359, 37322.95830664447, 61102.06662703655, 39118.17348867246, 45264.14446634248, 21731.841854102888, 19398.603125886726, 19809.772971181952, 30245.310918606276, 28611.323581220768, 30261.215551867594], 'profits': [0.1034884209248567, 0.10348842092485669, 0.1034884209248566, 0.10348842092485673, -0.06822686167099946, -0.06822686167099942, 0.10348842092485663, -0.06822686167099949, 0.1034884209248567, -0.0682268616709994, -0.06822686167099946, 0.10348842092485663, 0.10348842092485669, -0.06822686167099942, 0.10348842092485663]} could not be cast to float.\n",
      "[W 2023-10-27 02:48:20,122] Trial 54 failed with value ({'buydates': [Timestamp('2020-01-11 00:00:00'), Timestamp('2020-04-27 00:00:00'), Timestamp('2020-07-25 00:00:00'), Timestamp('2020-10-14 00:00:00'), Timestamp('2021-05-08 00:00:00'), Timestamp('2021-07-29 00:00:00'), Timestamp('2021-10-06 00:00:00'), Timestamp('2022-03-09 00:00:00'), Timestamp('2022-03-21 00:00:00'), Timestamp('2022-08-05 00:00:00'), Timestamp('2022-10-29 00:00:00'), Timestamp('2023-01-11 00:00:00'), Timestamp('2023-03-17 00:00:00'), Timestamp('2023-06-23 00:00:00'), Timestamp('2023-10-05 00:00:00')], 'buyprices': [8020.56, 7774.0, 9701.49, 11417.13, 58924.98, 40012.9, 55321.6, 41937.5, 40982.0, 23298.1, 20796.7, 17935.7, 27384.0, 30673.4, 27398.4], 'selldates': [Timestamp('2020-01-14 00:00:00'), Timestamp('2020-04-29 00:00:00'), Timestamp('2020-07-27 00:00:00'), Timestamp('2020-10-21 00:00:00'), Timestamp('2021-05-10 00:00:00'), Timestamp('2021-08-05 00:00:00'), Timestamp('2021-10-15 00:00:00'), Timestamp('2022-03-10 00:00:00'), Timestamp('2022-03-27 00:00:00'), Timestamp('2022-08-19 00:00:00'), Timestamp('2022-11-08 00:00:00'), Timestamp('2023-01-13 00:00:00'), Timestamp('2023-04-11 00:00:00'), Timestamp('2023-08-01 00:00:00'), Timestamp('2023-10-16 00:00:00')], 'sellprices': [8858.615649333069, 8586.292984269836, 10715.183370718287, 12610.087885193809, 54963.63852057359, 37322.95830664447, 61102.06662703655, 39118.17348867246, 45264.14446634248, 21731.841854102888, 19398.603125886726, 19809.772971181952, 30245.310918606276, 28611.323581220768, 30261.215551867594], 'profits': [0.1034884209248567, 0.10348842092485669, 0.1034884209248566, 0.10348842092485673, -0.06822686167099946, -0.06822686167099942, 0.10348842092485663, -0.06822686167099949, 0.1034884209248567, -0.0682268616709994, -0.06822686167099946, 0.10348842092485663, 0.10348842092485669, -0.06822686167099942, 0.10348842092485663]},     ticker  returns  winrate  trades  buy&hold_ret%\n",
      "0  BTCUSDT    58.77     60.0      15          240.9).\n"
     ]
    },
    {
     "name": "stdout",
     "output_type": "stream",
     "text": [
      "BTCUSDT, winrate=60.0%, returns=58.77%, no. of trades = 15, buy&hold_ret = 240.89999999999998%\n",
      "BTCUSDT, winrate=76.92%, returns=75.85%, no. of trades = 13, buy&hold_ret = 240.89999999999998%\n"
     ]
    },
    {
     "name": "stderr",
     "output_type": "stream",
     "text": [
      "[W 2023-10-27 02:48:20,341] Trial 55 failed with parameters: {'fast_ma_period': 25, 'slow_ma_period': 57, 'rsi_period': 14, 'sl_perc': 7.02973037501584, 'tp_perc': 8.280755457683611} because of the following error: The value {'buydates': [Timestamp('2019-11-10 00:00:00'), Timestamp('2020-01-12 00:00:00'), Timestamp('2020-04-25 00:00:00'), Timestamp('2020-07-28 00:00:00'), Timestamp('2020-10-17 00:00:00'), Timestamp('2021-08-04 00:00:00'), Timestamp('2021-10-13 00:00:00'), Timestamp('2022-03-18 00:00:00'), Timestamp('2022-08-03 00:00:00'), Timestamp('2022-11-04 00:00:00'), Timestamp('2023-01-11 00:00:00'), Timestamp('2023-06-27 00:00:00'), Timestamp('2023-10-06 00:00:00')], 'buyprices': [9041.31, 8186.7, 7534.01, 10919.94, 11356.25, 39731.31, 57393.65, 41751.5, 22801.5, 21137.6, 17935.7, 30683.2, 27916.3], 'selldates': [Timestamp('2019-11-15 00:00:00'), Timestamp('2020-01-14 00:00:00'), Timestamp('2020-04-29 00:00:00'), Timestamp('2020-08-01 00:00:00'), Timestamp('2020-10-21 00:00:00'), Timestamp('2021-08-06 00:00:00'), Timestamp('2021-10-15 00:00:00'), Timestamp('2022-03-27 00:00:00'), Timestamp('2022-08-11 00:00:00'), Timestamp('2022-11-08 00:00:00'), Timestamp('2023-01-13 00:00:00'), Timestamp('2023-08-17 00:00:00'), Timestamp('2023-10-16 00:00:00')], 'sellprices': [8405.730284630656, 8864.620607054183, 8157.882944257429, 11824.193527525777, 12296.633291663195, 43021.36262123419, 62146.27780473883, 45208.839614914774, 24689.63645568373, 19651.68371225065, 19420.91145662376, 28526.25376957314, 30227.98053583333], 'profits': [-0.07129730375015832, 0.08180755457683599, 0.08180755457683604, 0.08180755457683614, 0.08180755457683606, 0.0818075545768361, 0.08180755457683604, 0.08180755457683614, 0.08180755457683613, -0.07129730375015836, 0.08180755457683601, -0.07129730375015839, 0.0818075545768361]} could not be cast to float.\n",
      "[W 2023-10-27 02:48:20,346] Trial 55 failed with value ({'buydates': [Timestamp('2019-11-10 00:00:00'), Timestamp('2020-01-12 00:00:00'), Timestamp('2020-04-25 00:00:00'), Timestamp('2020-07-28 00:00:00'), Timestamp('2020-10-17 00:00:00'), Timestamp('2021-08-04 00:00:00'), Timestamp('2021-10-13 00:00:00'), Timestamp('2022-03-18 00:00:00'), Timestamp('2022-08-03 00:00:00'), Timestamp('2022-11-04 00:00:00'), Timestamp('2023-01-11 00:00:00'), Timestamp('2023-06-27 00:00:00'), Timestamp('2023-10-06 00:00:00')], 'buyprices': [9041.31, 8186.7, 7534.01, 10919.94, 11356.25, 39731.31, 57393.65, 41751.5, 22801.5, 21137.6, 17935.7, 30683.2, 27916.3], 'selldates': [Timestamp('2019-11-15 00:00:00'), Timestamp('2020-01-14 00:00:00'), Timestamp('2020-04-29 00:00:00'), Timestamp('2020-08-01 00:00:00'), Timestamp('2020-10-21 00:00:00'), Timestamp('2021-08-06 00:00:00'), Timestamp('2021-10-15 00:00:00'), Timestamp('2022-03-27 00:00:00'), Timestamp('2022-08-11 00:00:00'), Timestamp('2022-11-08 00:00:00'), Timestamp('2023-01-13 00:00:00'), Timestamp('2023-08-17 00:00:00'), Timestamp('2023-10-16 00:00:00')], 'sellprices': [8405.730284630656, 8864.620607054183, 8157.882944257429, 11824.193527525777, 12296.633291663195, 43021.36262123419, 62146.27780473883, 45208.839614914774, 24689.63645568373, 19651.68371225065, 19420.91145662376, 28526.25376957314, 30227.98053583333], 'profits': [-0.07129730375015832, 0.08180755457683599, 0.08180755457683604, 0.08180755457683614, 0.08180755457683606, 0.0818075545768361, 0.08180755457683604, 0.08180755457683614, 0.08180755457683613, -0.07129730375015836, 0.08180755457683601, -0.07129730375015839, 0.0818075545768361]},     ticker  returns  winrate  trades  buy&hold_ret%\n",
      "0  BTCUSDT    75.85    76.92      13          240.9).\n",
      "[W 2023-10-27 02:48:20,596] Trial 56 failed with parameters: {'fast_ma_period': 24, 'slow_ma_period': 50, 'rsi_period': 24, 'sl_perc': 4.432564847083395, 'tp_perc': 8.994166850377427} because of the following error: The value {'buydates': [Timestamp('2019-11-07 00:00:00'), Timestamp('2020-01-09 00:00:00'), Timestamp('2020-07-27 00:00:00'), Timestamp('2020-10-15 00:00:00'), Timestamp('2021-08-02 00:00:00'), Timestamp('2021-10-13 00:00:00'), Timestamp('2022-03-28 00:00:00'), Timestamp('2022-07-29 00:00:00'), Timestamp('2022-10-31 00:00:00'), Timestamp('2023-01-12 00:00:00'), Timestamp('2023-03-19 00:00:00'), Timestamp('2023-06-25 00:00:00'), Timestamp('2023-10-02 00:00:00')], 'buyprices': [9219.64, 7818.59, 11047.58, 11502.0, 39147.48, 57393.65, 47121.9, 23771.1, 20482.0, 18838.0, 27955.7, 30458.0, 27477.6], 'selldates': [Timestamp('2019-11-08 00:00:00'), Timestamp('2020-01-14 00:00:00'), Timestamp('2020-08-02 00:00:00'), Timestamp('2020-10-21 00:00:00'), Timestamp('2021-08-05 00:00:00'), Timestamp('2021-10-15 00:00:00'), Timestamp('2022-04-01 00:00:00'), Timestamp('2022-08-02 00:00:00'), Timestamp('2022-11-08 00:00:00'), Timestamp('2023-01-14 00:00:00'), Timestamp('2023-03-22 00:00:00'), Timestamp('2023-07-24 00:00:00'), Timestamp('2023-10-16 00:00:00')], 'sellprices': [8810.97347833236, 8521.807029946924, 10557.888852466584, 12536.509071130411, 37412.242563001, 62555.73064252164, 45033.19122532221, 22717.430577634957, 19574.122068020377, 20532.321151274096, 26716.545469043907, 29107.929398875338, 29948.981190479302], 'profits': [-0.045325648470833924, 0.08894166850377415, -0.04532564847083401, 0.08894166850377422, -0.04532564847083405, 0.08894166850377412, -0.04532564847083396, -0.04532564847083396, -0.045325648470834055, 0.0889416685037741, -0.04532564847083397, -0.04532564847083401, 0.08894166850377412]} could not be cast to float.\n",
      "[W 2023-10-27 02:48:20,603] Trial 56 failed with value ({'buydates': [Timestamp('2019-11-07 00:00:00'), Timestamp('2020-01-09 00:00:00'), Timestamp('2020-07-27 00:00:00'), Timestamp('2020-10-15 00:00:00'), Timestamp('2021-08-02 00:00:00'), Timestamp('2021-10-13 00:00:00'), Timestamp('2022-03-28 00:00:00'), Timestamp('2022-07-29 00:00:00'), Timestamp('2022-10-31 00:00:00'), Timestamp('2023-01-12 00:00:00'), Timestamp('2023-03-19 00:00:00'), Timestamp('2023-06-25 00:00:00'), Timestamp('2023-10-02 00:00:00')], 'buyprices': [9219.64, 7818.59, 11047.58, 11502.0, 39147.48, 57393.65, 47121.9, 23771.1, 20482.0, 18838.0, 27955.7, 30458.0, 27477.6], 'selldates': [Timestamp('2019-11-08 00:00:00'), Timestamp('2020-01-14 00:00:00'), Timestamp('2020-08-02 00:00:00'), Timestamp('2020-10-21 00:00:00'), Timestamp('2021-08-05 00:00:00'), Timestamp('2021-10-15 00:00:00'), Timestamp('2022-04-01 00:00:00'), Timestamp('2022-08-02 00:00:00'), Timestamp('2022-11-08 00:00:00'), Timestamp('2023-01-14 00:00:00'), Timestamp('2023-03-22 00:00:00'), Timestamp('2023-07-24 00:00:00'), Timestamp('2023-10-16 00:00:00')], 'sellprices': [8810.97347833236, 8521.807029946924, 10557.888852466584, 12536.509071130411, 37412.242563001, 62555.73064252164, 45033.19122532221, 22717.430577634957, 19574.122068020377, 20532.321151274096, 26716.545469043907, 29107.929398875338, 29948.981190479302], 'profits': [-0.045325648470833924, 0.08894166850377415, -0.04532564847083401, 0.08894166850377422, -0.04532564847083405, 0.08894166850377412, -0.04532564847083396, -0.04532564847083396, -0.045325648470834055, 0.0889416685037741, -0.04532564847083397, -0.04532564847083401, 0.08894166850377412]},     ticker  returns  winrate  trades  buy&hold_ret%\n",
      "0  BTCUSDT     5.65    38.46      13          240.9).\n"
     ]
    },
    {
     "name": "stdout",
     "output_type": "stream",
     "text": [
      "BTCUSDT, winrate=38.46%, returns=5.65%, no. of trades = 13, buy&hold_ret = 240.89999999999998%\n"
     ]
    },
    {
     "name": "stderr",
     "output_type": "stream",
     "text": [
      "[W 2023-10-27 02:48:20,823] Trial 57 failed with parameters: {'fast_ma_period': 16, 'slow_ma_period': 75, 'rsi_period': 13, 'sl_perc': 7.267124725098567, 'tp_perc': 9.229666992850424} because of the following error: The value {'buydates': [Timestamp('2020-01-15 00:00:00'), Timestamp('2020-05-01 00:00:00'), Timestamp('2020-07-27 00:00:00'), Timestamp('2020-10-19 00:00:00'), Timestamp('2021-08-01 00:00:00'), Timestamp('2021-10-07 00:00:00'), Timestamp('2022-03-23 00:00:00'), Timestamp('2022-08-11 00:00:00'), Timestamp('2022-11-01 00:00:00'), Timestamp('2023-01-14 00:00:00'), Timestamp('2023-06-27 00:00:00')], 'buyprices': [8825.3, 8830.52, 11047.58, 11745.0, 39846.78, 53814.99, 42867.9, 23917.2, 20472.1, 20962.8, 30683.2], 'selldates': [Timestamp('2020-02-03 00:00:00'), Timestamp('2020-05-07 00:00:00'), Timestamp('2020-08-02 00:00:00'), Timestamp('2020-10-21 00:00:00'), Timestamp('2021-08-07 00:00:00'), Timestamp('2021-10-15 00:00:00'), Timestamp('2022-03-27 00:00:00'), Timestamp('2022-08-19 00:00:00'), Timestamp('2022-11-08 00:00:00'), Timestamp('2023-01-21 00:00:00'), Timestamp('2023-08-17 00:00:00')], 'sellprices': [9639.845801120027, 9645.547589737054, 12067.234844768744, 12829.024388310281, 43524.50510137372, 58781.93436923575, 46824.46441682812, 22179.107245248728, 18984.366959153096, 22897.596632377245, 28453.413586348557], 'profits': [0.0912966699285042, 0.09129666992850408, 0.09129666992850413, 0.09129666992850415, 0.0912966699285041, 0.09129666992850417, 0.0912966699285041, -0.0736712472509856, -0.07367124725098562, 0.09129666992850408, -0.07367124725098567]} could not be cast to float.\n",
      "[W 2023-10-27 02:48:20,832] Trial 57 failed with value ({'buydates': [Timestamp('2020-01-15 00:00:00'), Timestamp('2020-05-01 00:00:00'), Timestamp('2020-07-27 00:00:00'), Timestamp('2020-10-19 00:00:00'), Timestamp('2021-08-01 00:00:00'), Timestamp('2021-10-07 00:00:00'), Timestamp('2022-03-23 00:00:00'), Timestamp('2022-08-11 00:00:00'), Timestamp('2022-11-01 00:00:00'), Timestamp('2023-01-14 00:00:00'), Timestamp('2023-06-27 00:00:00')], 'buyprices': [8825.3, 8830.52, 11047.58, 11745.0, 39846.78, 53814.99, 42867.9, 23917.2, 20472.1, 20962.8, 30683.2], 'selldates': [Timestamp('2020-02-03 00:00:00'), Timestamp('2020-05-07 00:00:00'), Timestamp('2020-08-02 00:00:00'), Timestamp('2020-10-21 00:00:00'), Timestamp('2021-08-07 00:00:00'), Timestamp('2021-10-15 00:00:00'), Timestamp('2022-03-27 00:00:00'), Timestamp('2022-08-19 00:00:00'), Timestamp('2022-11-08 00:00:00'), Timestamp('2023-01-21 00:00:00'), Timestamp('2023-08-17 00:00:00')], 'sellprices': [9639.845801120027, 9645.547589737054, 12067.234844768744, 12829.024388310281, 43524.50510137372, 58781.93436923575, 46824.46441682812, 22179.107245248728, 18984.366959153096, 22897.596632377245, 28453.413586348557], 'profits': [0.0912966699285042, 0.09129666992850408, 0.09129666992850413, 0.09129666992850415, 0.0912966699285041, 0.09129666992850417, 0.0912966699285041, -0.0736712472509856, -0.07367124725098562, 0.09129666992850408, -0.07367124725098567]},     ticker  returns  winrate  trades  buy&hold_ret%\n",
      "0  BTCUSDT     59.9    72.73      11          240.9).\n"
     ]
    },
    {
     "name": "stdout",
     "output_type": "stream",
     "text": [
      "BTCUSDT, winrate=72.73%, returns=59.9%, no. of trades = 11, buy&hold_ret = 240.89999999999998%\n"
     ]
    },
    {
     "name": "stderr",
     "output_type": "stream",
     "text": [
      "[W 2023-10-27 02:48:21,060] Trial 58 failed with parameters: {'fast_ma_period': 20, 'slow_ma_period': 72, 'rsi_period': 14, 'sl_perc': 6.71700580828378, 'tp_perc': 11.24981055041145} because of the following error: The value {'buydates': [Timestamp('2020-01-15 00:00:00'), Timestamp('2020-05-01 00:00:00'), Timestamp('2020-07-27 00:00:00'), Timestamp('2020-10-20 00:00:00'), Timestamp('2021-08-03 00:00:00'), Timestamp('2021-10-08 00:00:00'), Timestamp('2022-03-19 00:00:00'), Timestamp('2022-08-11 00:00:00'), Timestamp('2022-11-03 00:00:00'), Timestamp('2023-01-14 00:00:00'), Timestamp('2023-06-27 00:00:00')], 'buyprices': [8825.3, 8830.52, 11047.58, 11900.03, 38203.26, 53975.0, 42188.2, 23917.2, 20199.7, 20962.8, 30683.2], 'selldates': [Timestamp('2020-02-06 00:00:00'), Timestamp('2020-05-07 00:00:00'), Timestamp('2020-08-17 00:00:00'), Timestamp('2020-10-21 00:00:00'), Timestamp('2021-08-06 00:00:00'), Timestamp('2021-10-15 00:00:00'), Timestamp('2022-03-27 00:00:00'), Timestamp('2022-08-19 00:00:00'), Timestamp('2022-11-08 00:00:00'), Timestamp('2023-01-21 00:00:00'), Timestamp('2023-08-01 00:00:00')], 'sellprices': [9818.129530505461, 9823.936770616194, 12290.411820405146, 13238.760830442128, 42501.05437408112, 60047.08524458458, 46934.292574628686, 22310.680286821153, 18842.884977744103, 23321.075286061652, 28622.207673832672], 'profits': [0.1114981055041145, 0.11149810550411451, 0.11149810550411461, 0.11149810550411449, 0.11149810550411449, 0.11149810550411451, 0.11149810550411463, -0.0681700580828378, -0.06817005808283776, 0.11149810550411457, -0.06817005808283778]} could not be cast to float.\n",
      "[W 2023-10-27 02:48:21,067] Trial 58 failed with value ({'buydates': [Timestamp('2020-01-15 00:00:00'), Timestamp('2020-05-01 00:00:00'), Timestamp('2020-07-27 00:00:00'), Timestamp('2020-10-20 00:00:00'), Timestamp('2021-08-03 00:00:00'), Timestamp('2021-10-08 00:00:00'), Timestamp('2022-03-19 00:00:00'), Timestamp('2022-08-11 00:00:00'), Timestamp('2022-11-03 00:00:00'), Timestamp('2023-01-14 00:00:00'), Timestamp('2023-06-27 00:00:00')], 'buyprices': [8825.3, 8830.52, 11047.58, 11900.03, 38203.26, 53975.0, 42188.2, 23917.2, 20199.7, 20962.8, 30683.2], 'selldates': [Timestamp('2020-02-06 00:00:00'), Timestamp('2020-05-07 00:00:00'), Timestamp('2020-08-17 00:00:00'), Timestamp('2020-10-21 00:00:00'), Timestamp('2021-08-06 00:00:00'), Timestamp('2021-10-15 00:00:00'), Timestamp('2022-03-27 00:00:00'), Timestamp('2022-08-19 00:00:00'), Timestamp('2022-11-08 00:00:00'), Timestamp('2023-01-21 00:00:00'), Timestamp('2023-08-01 00:00:00')], 'sellprices': [9818.129530505461, 9823.936770616194, 12290.411820405146, 13238.760830442128, 42501.05437408112, 60047.08524458458, 46934.292574628686, 22310.680286821153, 18842.884977744103, 23321.075286061652, 28622.207673832672], 'profits': [0.1114981055041145, 0.11149810550411451, 0.11149810550411461, 0.11149810550411449, 0.11149810550411449, 0.11149810550411451, 0.11149810550411463, -0.0681700580828378, -0.06817005808283776, 0.11149810550411457, -0.06817005808283778]},     ticker  returns  winrate  trades  buy&hold_ret%\n",
      "0  BTCUSDT    88.49    72.73      11          240.9).\n"
     ]
    },
    {
     "name": "stdout",
     "output_type": "stream",
     "text": [
      "BTCUSDT, winrate=72.73%, returns=88.49%, no. of trades = 11, buy&hold_ret = 240.89999999999998%\n"
     ]
    },
    {
     "name": "stderr",
     "output_type": "stream",
     "text": [
      "[W 2023-10-27 02:48:21,445] Trial 59 failed with parameters: {'fast_ma_period': 23, 'slow_ma_period': 52, 'rsi_period': 13, 'sl_perc': 3.521710951548756, 'tp_perc': 10.22674994684947} because of the following error: The value {'buydates': [Timestamp('2019-11-07 00:00:00'), Timestamp('2020-01-09 00:00:00'), Timestamp('2020-07-27 00:00:00'), Timestamp('2020-10-15 00:00:00'), Timestamp('2021-08-02 00:00:00'), Timestamp('2021-10-13 00:00:00'), Timestamp('2022-03-22 00:00:00'), Timestamp('2022-03-28 00:00:00'), Timestamp('2022-07-30 00:00:00'), Timestamp('2022-11-01 00:00:00'), Timestamp('2023-01-11 00:00:00'), Timestamp('2023-03-19 00:00:00'), Timestamp('2023-06-26 00:00:00'), Timestamp('2023-10-03 00:00:00')], 'buyprices': [9219.64, 7818.59, 11047.58, 11502.0, 39147.48, 57393.65, 42349.8, 47121.9, 23629.9, 20472.1, 17935.7, 27955.7, 30260.1, 27412.0], 'selldates': [Timestamp('2019-11-08 00:00:00'), Timestamp('2020-01-14 00:00:00'), Timestamp('2020-07-28 00:00:00'), Timestamp('2020-10-21 00:00:00'), Timestamp('2021-08-03 00:00:00'), Timestamp('2021-10-15 00:00:00'), Timestamp('2022-03-27 00:00:00'), Timestamp('2022-03-31 00:00:00'), Timestamp('2022-08-02 00:00:00'), Timestamp('2022-11-08 00:00:00'), Timestamp('2023-01-13 00:00:00'), Timestamp('2023-03-22 00:00:00'), Timestamp('2023-07-24 00:00:00'), Timestamp('2023-10-16 00:00:00')], 'sellprices': [8894.95092842663, 8618.177648669378, 10658.51616525889, 12678.280778886625, 37768.81890958465, 63263.15507086997, 46680.80814899086, 45462.40288712215, 22797.723223859983, 19751.131812287986, 19769.93919021708, 26971.181051517888, 29194.426744350396, 30215.356695430375], 'profits': [-0.036217109515487574, 0.10126749946849467, -0.03621710951548751, 0.10126749946849459, -0.036217109515487504, 0.1012674994684947, 0.10126749946849466, -0.03621710951548747, -0.036217109515487525, -0.03621710951548757, 0.10126749946849459, -0.03621710951548747, -0.03621710951548748, 0.10126749946849464]} could not be cast to float.\n",
      "[W 2023-10-27 02:48:21,452] Trial 59 failed with value ({'buydates': [Timestamp('2019-11-07 00:00:00'), Timestamp('2020-01-09 00:00:00'), Timestamp('2020-07-27 00:00:00'), Timestamp('2020-10-15 00:00:00'), Timestamp('2021-08-02 00:00:00'), Timestamp('2021-10-13 00:00:00'), Timestamp('2022-03-22 00:00:00'), Timestamp('2022-03-28 00:00:00'), Timestamp('2022-07-30 00:00:00'), Timestamp('2022-11-01 00:00:00'), Timestamp('2023-01-11 00:00:00'), Timestamp('2023-03-19 00:00:00'), Timestamp('2023-06-26 00:00:00'), Timestamp('2023-10-03 00:00:00')], 'buyprices': [9219.64, 7818.59, 11047.58, 11502.0, 39147.48, 57393.65, 42349.8, 47121.9, 23629.9, 20472.1, 17935.7, 27955.7, 30260.1, 27412.0], 'selldates': [Timestamp('2019-11-08 00:00:00'), Timestamp('2020-01-14 00:00:00'), Timestamp('2020-07-28 00:00:00'), Timestamp('2020-10-21 00:00:00'), Timestamp('2021-08-03 00:00:00'), Timestamp('2021-10-15 00:00:00'), Timestamp('2022-03-27 00:00:00'), Timestamp('2022-03-31 00:00:00'), Timestamp('2022-08-02 00:00:00'), Timestamp('2022-11-08 00:00:00'), Timestamp('2023-01-13 00:00:00'), Timestamp('2023-03-22 00:00:00'), Timestamp('2023-07-24 00:00:00'), Timestamp('2023-10-16 00:00:00')], 'sellprices': [8894.95092842663, 8618.177648669378, 10658.51616525889, 12678.280778886625, 37768.81890958465, 63263.15507086997, 46680.80814899086, 45462.40288712215, 22797.723223859983, 19751.131812287986, 19769.93919021708, 26971.181051517888, 29194.426744350396, 30215.356695430375], 'profits': [-0.036217109515487574, 0.10126749946849467, -0.03621710951548751, 0.10126749946849459, -0.036217109515487504, 0.1012674994684947, 0.10126749946849466, -0.03621710951548747, -0.036217109515487525, -0.03621710951548757, 0.10126749946849459, -0.03621710951548747, -0.03621710951548748, 0.10126749946849464]},     ticker  returns  winrate  trades  buy&hold_ret%\n",
      "0  BTCUSDT     32.8    42.86      14          240.9).\n"
     ]
    },
    {
     "name": "stdout",
     "output_type": "stream",
     "text": [
      "BTCUSDT, winrate=42.86%, returns=32.8%, no. of trades = 14, buy&hold_ret = 240.89999999999998%\n"
     ]
    },
    {
     "name": "stderr",
     "output_type": "stream",
     "text": [
      "[W 2023-10-27 02:48:21,731] Trial 60 failed with parameters: {'fast_ma_period': 21, 'slow_ma_period': 71, 'rsi_period': 16, 'sl_perc': 3.8585160429418197, 'tp_perc': 9.411662245170973} because of the following error: The value {'buydates': [Timestamp('2020-01-15 00:00:00'), Timestamp('2020-05-01 00:00:00'), Timestamp('2020-07-27 00:00:00'), Timestamp('2020-10-20 00:00:00'), Timestamp('2021-08-03 00:00:00'), Timestamp('2021-10-08 00:00:00'), Timestamp('2022-03-20 00:00:00'), Timestamp('2022-08-10 00:00:00'), Timestamp('2022-11-03 00:00:00'), Timestamp('2023-01-14 00:00:00'), Timestamp('2023-06-28 00:00:00')], 'buyprices': [8825.3, 8830.52, 11047.58, 11900.03, 38203.26, 53975.0, 41261.0, 23940.9, 20199.7, 20962.8, 30066.3], 'selldates': [Timestamp('2020-01-19 00:00:00'), Timestamp('2020-05-07 00:00:00'), Timestamp('2020-07-28 00:00:00'), Timestamp('2020-10-21 00:00:00'), Timestamp('2021-08-06 00:00:00'), Timestamp('2021-10-15 00:00:00'), Timestamp('2022-03-27 00:00:00'), Timestamp('2022-08-19 00:00:00'), Timestamp('2022-11-08 00:00:00'), Timestamp('2023-01-21 00:00:00'), Timestamp('2023-07-24 00:00:00')], 'sellprices': [8484.774383662256, 9661.618716892273, 10621.307353343169, 13020.020630674022, 41798.82179784451, 59054.94469683104, 45144.34595898, 23017.136532675344, 19420.291334873884, 22935.7479331307, 28906.186990980983], 'profits': [-0.03958516042941809, 0.09311662245170985, -0.03958516042941812, 0.09311662245170989, 0.09311662245170982, 0.0931166224517098, 0.09311662245170976, -0.03958516042941817, -0.0395851604294181, 0.09311662245170975, -0.0395851604294182]} could not be cast to float.\n",
      "[W 2023-10-27 02:48:21,737] Trial 60 failed with value ({'buydates': [Timestamp('2020-01-15 00:00:00'), Timestamp('2020-05-01 00:00:00'), Timestamp('2020-07-27 00:00:00'), Timestamp('2020-10-20 00:00:00'), Timestamp('2021-08-03 00:00:00'), Timestamp('2021-10-08 00:00:00'), Timestamp('2022-03-20 00:00:00'), Timestamp('2022-08-10 00:00:00'), Timestamp('2022-11-03 00:00:00'), Timestamp('2023-01-14 00:00:00'), Timestamp('2023-06-28 00:00:00')], 'buyprices': [8825.3, 8830.52, 11047.58, 11900.03, 38203.26, 53975.0, 41261.0, 23940.9, 20199.7, 20962.8, 30066.3], 'selldates': [Timestamp('2020-01-19 00:00:00'), Timestamp('2020-05-07 00:00:00'), Timestamp('2020-07-28 00:00:00'), Timestamp('2020-10-21 00:00:00'), Timestamp('2021-08-06 00:00:00'), Timestamp('2021-10-15 00:00:00'), Timestamp('2022-03-27 00:00:00'), Timestamp('2022-08-19 00:00:00'), Timestamp('2022-11-08 00:00:00'), Timestamp('2023-01-21 00:00:00'), Timestamp('2023-07-24 00:00:00')], 'sellprices': [8484.774383662256, 9661.618716892273, 10621.307353343169, 13020.020630674022, 41798.82179784451, 59054.94469683104, 45144.34595898, 23017.136532675344, 19420.291334873884, 22935.7479331307, 28906.186990980983], 'profits': [-0.03958516042941809, 0.09311662245170985, -0.03958516042941812, 0.09311662245170989, 0.09311662245170982, 0.0931166224517098, 0.09311662245170976, -0.03958516042941817, -0.0395851604294181, 0.09311662245170975, -0.0395851604294182]},     ticker  returns  winrate  trades  buy&hold_ret%\n",
      "0  BTCUSDT    39.41    54.55      11          240.9).\n"
     ]
    },
    {
     "name": "stdout",
     "output_type": "stream",
     "text": [
      "BTCUSDT, winrate=54.55%, returns=39.41%, no. of trades = 11, buy&hold_ret = 240.89999999999998%\n"
     ]
    },
    {
     "name": "stderr",
     "output_type": "stream",
     "text": [
      "[W 2023-10-27 02:48:22,187] Trial 61 failed with parameters: {'fast_ma_period': 10, 'slow_ma_period': 64, 'rsi_period': 13, 'sl_perc': 6.638374014209138, 'tp_perc': 6.642207172601588} because of the following error: The value {'buydates': [Timestamp('2020-01-10 00:00:00'), Timestamp('2020-04-26 00:00:00'), Timestamp('2020-07-26 00:00:00'), Timestamp('2020-10-14 00:00:00'), Timestamp('2021-05-08 00:00:00'), Timestamp('2021-07-29 00:00:00'), Timestamp('2021-10-06 00:00:00'), Timestamp('2022-02-16 00:00:00'), Timestamp('2022-03-09 00:00:00'), Timestamp('2022-03-20 00:00:00'), Timestamp('2022-08-04 00:00:00'), Timestamp('2022-10-28 00:00:00'), Timestamp('2023-01-10 00:00:00'), Timestamp('2023-03-17 00:00:00'), Timestamp('2023-06-23 00:00:00'), Timestamp('2023-10-05 00:00:00')], 'buyprices': [8207.09, 7694.17, 9939.69, 11417.13, 58924.98, 40012.9, 55321.6, 43860.7, 41937.5, 41261.0, 22608.9, 20582.8, 17428.8, 27384.0, 30673.4, 27398.4], 'selldates': [Timestamp('2020-01-14 00:00:00'), Timestamp('2020-04-29 00:00:00'), Timestamp('2020-07-27 00:00:00'), Timestamp('2020-10-21 00:00:00'), Timestamp('2021-05-10 00:00:00'), Timestamp('2021-08-05 00:00:00'), Timestamp('2021-10-15 00:00:00'), Timestamp('2022-02-17 00:00:00'), Timestamp('2022-03-10 00:00:00'), Timestamp('2022-03-24 00:00:00'), Timestamp('2022-08-08 00:00:00'), Timestamp('2022-11-08 00:00:00'), Timestamp('2023-01-12 00:00:00'), Timestamp('2023-04-10 00:00:00'), Timestamp('2023-08-01 00:00:00'), Timestamp('2023-10-16 00:00:00')], 'sellprices': [8752.221920641869, 8205.232711612161, 10599.904802114364, 12175.479427765249, 55013.31943980207, 37356.694044068514, 58996.17528319797, 40949.06268874977, 39153.53189779104, 44001.64110148715, 24110.629977446326, 19216.436753403363, 18586.457003698386, 29202.902012145223, 28637.184985125576, 29218.258489978078], 'profits': [0.06542207172601597, 0.0654220717260161, 0.065422071726016, 0.06542207172601608, -0.06738374014209138, -0.06738374014209136, 0.06542207172601605, -0.06738374014209135, -0.06738374014209138, 0.06542207172601605, 0.06542207172601605, -0.0673837401420913, 0.06542207172601594, 0.06542207172601604, -0.06738374014209138, 0.06542207172601598]} could not be cast to float.\n",
      "[W 2023-10-27 02:48:22,199] Trial 61 failed with value ({'buydates': [Timestamp('2020-01-10 00:00:00'), Timestamp('2020-04-26 00:00:00'), Timestamp('2020-07-26 00:00:00'), Timestamp('2020-10-14 00:00:00'), Timestamp('2021-05-08 00:00:00'), Timestamp('2021-07-29 00:00:00'), Timestamp('2021-10-06 00:00:00'), Timestamp('2022-02-16 00:00:00'), Timestamp('2022-03-09 00:00:00'), Timestamp('2022-03-20 00:00:00'), Timestamp('2022-08-04 00:00:00'), Timestamp('2022-10-28 00:00:00'), Timestamp('2023-01-10 00:00:00'), Timestamp('2023-03-17 00:00:00'), Timestamp('2023-06-23 00:00:00'), Timestamp('2023-10-05 00:00:00')], 'buyprices': [8207.09, 7694.17, 9939.69, 11417.13, 58924.98, 40012.9, 55321.6, 43860.7, 41937.5, 41261.0, 22608.9, 20582.8, 17428.8, 27384.0, 30673.4, 27398.4], 'selldates': [Timestamp('2020-01-14 00:00:00'), Timestamp('2020-04-29 00:00:00'), Timestamp('2020-07-27 00:00:00'), Timestamp('2020-10-21 00:00:00'), Timestamp('2021-05-10 00:00:00'), Timestamp('2021-08-05 00:00:00'), Timestamp('2021-10-15 00:00:00'), Timestamp('2022-02-17 00:00:00'), Timestamp('2022-03-10 00:00:00'), Timestamp('2022-03-24 00:00:00'), Timestamp('2022-08-08 00:00:00'), Timestamp('2022-11-08 00:00:00'), Timestamp('2023-01-12 00:00:00'), Timestamp('2023-04-10 00:00:00'), Timestamp('2023-08-01 00:00:00'), Timestamp('2023-10-16 00:00:00')], 'sellprices': [8752.221920641869, 8205.232711612161, 10599.904802114364, 12175.479427765249, 55013.31943980207, 37356.694044068514, 58996.17528319797, 40949.06268874977, 39153.53189779104, 44001.64110148715, 24110.629977446326, 19216.436753403363, 18586.457003698386, 29202.902012145223, 28637.184985125576, 29218.258489978078], 'profits': [0.06542207172601597, 0.0654220717260161, 0.065422071726016, 0.06542207172601608, -0.06738374014209138, -0.06738374014209136, 0.06542207172601605, -0.06738374014209135, -0.06738374014209138, 0.06542207172601605, 0.06542207172601605, -0.0673837401420913, 0.06542207172601594, 0.06542207172601604, -0.06738374014209138, 0.06542207172601598]},     ticker  returns  winrate  trades  buy&hold_ret%\n",
      "0  BTCUSDT     24.0     62.5      16          240.9).\n"
     ]
    },
    {
     "name": "stdout",
     "output_type": "stream",
     "text": [
      "BTCUSDT, winrate=62.5%, returns=24.0%, no. of trades = 16, buy&hold_ret = 240.89999999999998%\n"
     ]
    },
    {
     "name": "stderr",
     "output_type": "stream",
     "text": [
      "[W 2023-10-27 02:48:22,440] Trial 62 failed with parameters: {'fast_ma_period': 25, 'slow_ma_period': 53, 'rsi_period': 24, 'sl_perc': 4.622018079645888, 'tp_perc': 11.643313922258365} because of the following error: The value {'buydates': [Timestamp('2020-01-10 00:00:00'), Timestamp('2020-04-23 00:00:00'), Timestamp('2020-07-28 00:00:00'), Timestamp('2020-10-16 00:00:00'), Timestamp('2021-08-03 00:00:00'), Timestamp('2021-10-13 00:00:00'), Timestamp('2022-03-23 00:00:00'), Timestamp('2022-03-29 00:00:00'), Timestamp('2022-07-31 00:00:00'), Timestamp('2022-11-02 00:00:00'), Timestamp('2023-01-11 00:00:00'), Timestamp('2023-03-18 00:00:00'), Timestamp('2023-06-26 00:00:00'), Timestamp('2023-10-04 00:00:00')], 'buyprices': [8207.09, 7483.35, 10919.94, 11318.92, 38203.26, 57393.65, 42867.9, 47418.5, 23290.1, 20140.1, 17935.7, 26907.0, 30260.1, 27759.8], 'selldates': [Timestamp('2020-01-19 00:00:00'), Timestamp('2020-04-29 00:00:00'), Timestamp('2020-08-17 00:00:00'), Timestamp('2020-10-21 00:00:00'), Timestamp('2021-08-06 00:00:00'), Timestamp('2021-10-19 00:00:00'), Timestamp('2022-03-28 00:00:00'), Timestamp('2022-03-31 00:00:00'), Timestamp('2022-08-19 00:00:00'), Timestamp('2022-11-08 00:00:00'), Timestamp('2023-01-14 00:00:00'), Timestamp('2023-04-11 00:00:00'), Timestamp('2023-07-24 00:00:00'), Timestamp('2023-10-23 00:00:00')], 'sellprices': [9162.667252582274, 8354.659932401322, 12191.382894322262, 12636.817388209287, 42651.385490336565, 64076.17284094224, 47859.1441688798, 45226.808356903115, 22213.62736723239, 19209.220936741236, 20024.009855154494, 30039.86647706206, 28861.472707081073, 30991.960658191078], 'profits': [0.11543313922258364, 0.11543313922258372, 0.11543313922258373, 0.11543313922258368, 0.11543313922258368, 0.1154331392225837, 0.11543313922258377, -0.04722018079645887, -0.04722018079645889, -0.047220180796458934, 0.11543313922258365, 0.1154331392225837, -0.047220180796458885, 0.11543313922258368]} could not be cast to float.\n",
      "[W 2023-10-27 02:48:22,446] Trial 62 failed with value ({'buydates': [Timestamp('2020-01-10 00:00:00'), Timestamp('2020-04-23 00:00:00'), Timestamp('2020-07-28 00:00:00'), Timestamp('2020-10-16 00:00:00'), Timestamp('2021-08-03 00:00:00'), Timestamp('2021-10-13 00:00:00'), Timestamp('2022-03-23 00:00:00'), Timestamp('2022-03-29 00:00:00'), Timestamp('2022-07-31 00:00:00'), Timestamp('2022-11-02 00:00:00'), Timestamp('2023-01-11 00:00:00'), Timestamp('2023-03-18 00:00:00'), Timestamp('2023-06-26 00:00:00'), Timestamp('2023-10-04 00:00:00')], 'buyprices': [8207.09, 7483.35, 10919.94, 11318.92, 38203.26, 57393.65, 42867.9, 47418.5, 23290.1, 20140.1, 17935.7, 26907.0, 30260.1, 27759.8], 'selldates': [Timestamp('2020-01-19 00:00:00'), Timestamp('2020-04-29 00:00:00'), Timestamp('2020-08-17 00:00:00'), Timestamp('2020-10-21 00:00:00'), Timestamp('2021-08-06 00:00:00'), Timestamp('2021-10-19 00:00:00'), Timestamp('2022-03-28 00:00:00'), Timestamp('2022-03-31 00:00:00'), Timestamp('2022-08-19 00:00:00'), Timestamp('2022-11-08 00:00:00'), Timestamp('2023-01-14 00:00:00'), Timestamp('2023-04-11 00:00:00'), Timestamp('2023-07-24 00:00:00'), Timestamp('2023-10-23 00:00:00')], 'sellprices': [9162.667252582274, 8354.659932401322, 12191.382894322262, 12636.817388209287, 42651.385490336565, 64076.17284094224, 47859.1441688798, 45226.808356903115, 22213.62736723239, 19209.220936741236, 20024.009855154494, 30039.86647706206, 28861.472707081073, 30991.960658191078], 'profits': [0.11543313922258364, 0.11543313922258372, 0.11543313922258373, 0.11543313922258368, 0.11543313922258368, 0.1154331392225837, 0.11543313922258377, -0.04722018079645887, -0.04722018079645889, -0.047220180796458934, 0.11543313922258365, 0.1154331392225837, -0.047220180796458885, 0.11543313922258368]},     ticker  returns  winrate  trades  buy&hold_ret%\n",
      "0  BTCUSDT    145.7    71.43      14          240.9).\n"
     ]
    },
    {
     "name": "stdout",
     "output_type": "stream",
     "text": [
      "BTCUSDT, winrate=71.43%, returns=145.7%, no. of trades = 14, buy&hold_ret = 240.89999999999998%\n"
     ]
    },
    {
     "name": "stderr",
     "output_type": "stream",
     "text": [
      "[W 2023-10-27 02:48:22,725] Trial 63 failed with parameters: {'fast_ma_period': 17, 'slow_ma_period': 75, 'rsi_period': 21, 'sl_perc': 6.109335717294757, 'tp_perc': 5.567683949139836} because of the following error: The value {'buydates': [Timestamp('2020-01-15 00:00:00'), Timestamp('2020-05-01 00:00:00'), Timestamp('2020-07-27 00:00:00'), Timestamp('2020-10-19 00:00:00'), Timestamp('2021-05-11 00:00:00'), Timestamp('2021-08-02 00:00:00'), Timestamp('2021-10-07 00:00:00'), Timestamp('2022-03-24 00:00:00'), Timestamp('2022-08-12 00:00:00'), Timestamp('2022-11-02 00:00:00'), Timestamp('2023-01-14 00:00:00'), Timestamp('2023-06-27 00:00:00')], 'buyprices': [8825.3, 8830.52, 11047.58, 11745.0, 56710.43, 39147.48, 53814.99, 43973.4, 24387.5, 20140.1, 20962.8, 30683.2], 'selldates': [Timestamp('2020-01-24 00:00:00'), Timestamp('2020-05-06 00:00:00'), Timestamp('2020-08-01 00:00:00'), Timestamp('2020-10-21 00:00:00'), Timestamp('2021-05-12 00:00:00'), Timestamp('2021-08-05 00:00:00'), Timestamp('2021-10-11 00:00:00'), Timestamp('2022-03-27 00:00:00'), Timestamp('2022-08-19 00:00:00'), Timestamp('2022-11-04 00:00:00'), Timestamp('2023-01-20 00:00:00'), Timestamp('2023-08-01 00:00:00')], 'sellprices': [8286.132794941585, 9322.175444665585, 11662.674338428384, 12398.924479826475, 53245.79944457856, 41327.087960452736, 56811.23856046121, 46421.69993369106, 22897.58575194474, 21261.437115040713, 22129.94245089029, 28808.660303191013], 'profits': [-0.062093357172947644, 0.05467683949139853, 0.054676839491398455, 0.054676839491398496, -0.062093357172947575, 0.054676839491398496, 0.05467683949139851, 0.054676839491398385, -0.06209335717294755, 0.05467683949139849, 0.05467683949139854, -0.06209335717294767]} could not be cast to float.\n",
      "[W 2023-10-27 02:48:22,742] Trial 63 failed with value ({'buydates': [Timestamp('2020-01-15 00:00:00'), Timestamp('2020-05-01 00:00:00'), Timestamp('2020-07-27 00:00:00'), Timestamp('2020-10-19 00:00:00'), Timestamp('2021-05-11 00:00:00'), Timestamp('2021-08-02 00:00:00'), Timestamp('2021-10-07 00:00:00'), Timestamp('2022-03-24 00:00:00'), Timestamp('2022-08-12 00:00:00'), Timestamp('2022-11-02 00:00:00'), Timestamp('2023-01-14 00:00:00'), Timestamp('2023-06-27 00:00:00')], 'buyprices': [8825.3, 8830.52, 11047.58, 11745.0, 56710.43, 39147.48, 53814.99, 43973.4, 24387.5, 20140.1, 20962.8, 30683.2], 'selldates': [Timestamp('2020-01-24 00:00:00'), Timestamp('2020-05-06 00:00:00'), Timestamp('2020-08-01 00:00:00'), Timestamp('2020-10-21 00:00:00'), Timestamp('2021-05-12 00:00:00'), Timestamp('2021-08-05 00:00:00'), Timestamp('2021-10-11 00:00:00'), Timestamp('2022-03-27 00:00:00'), Timestamp('2022-08-19 00:00:00'), Timestamp('2022-11-04 00:00:00'), Timestamp('2023-01-20 00:00:00'), Timestamp('2023-08-01 00:00:00')], 'sellprices': [8286.132794941585, 9322.175444665585, 11662.674338428384, 12398.924479826475, 53245.79944457856, 41327.087960452736, 56811.23856046121, 46421.69993369106, 22897.58575194474, 21261.437115040713, 22129.94245089029, 28808.660303191013], 'profits': [-0.062093357172947644, 0.05467683949139853, 0.054676839491398455, 0.054676839491398496, -0.062093357172947575, 0.054676839491398496, 0.05467683949139851, 0.054676839491398385, -0.06209335717294755, 0.05467683949139849, 0.05467683949139854, -0.06209335717294767]},     ticker  returns  winrate  trades  buy&hold_ret%\n",
      "0  BTCUSDT    18.47    66.67      12          240.9).\n"
     ]
    },
    {
     "name": "stdout",
     "output_type": "stream",
     "text": [
      "BTCUSDT, winrate=66.67%, returns=18.47%, no. of trades = 12, buy&hold_ret = 240.89999999999998%\n"
     ]
    },
    {
     "name": "stderr",
     "output_type": "stream",
     "text": [
      "[W 2023-10-27 02:48:23,188] Trial 64 failed with parameters: {'fast_ma_period': 21, 'slow_ma_period': 74, 'rsi_period': 14, 'sl_perc': 5.625304719812059, 'tp_perc': 9.688437004765547} because of the following error: The value {'buydates': [Timestamp('2020-01-16 00:00:00'), Timestamp('2020-05-02 00:00:00'), Timestamp('2020-07-27 00:00:00'), Timestamp('2020-10-20 00:00:00'), Timestamp('2021-08-04 00:00:00'), Timestamp('2022-03-20 00:00:00'), Timestamp('2022-08-13 00:00:00'), Timestamp('2022-11-04 00:00:00'), Timestamp('2023-01-14 00:00:00'), Timestamp('2023-06-28 00:00:00')], 'buyprices': [8725.08, 8975.18, 11047.58, 11900.03, 39731.31, 41261.0, 24429.0, 21137.6, 20962.8, 30066.3], 'selldates': [Timestamp('2020-01-30 00:00:00'), Timestamp('2020-05-07 00:00:00'), Timestamp('2020-08-02 00:00:00'), Timestamp('2020-10-21 00:00:00'), Timestamp('2021-08-05 00:00:00'), Timestamp('2022-03-27 00:00:00'), Timestamp('2022-08-19 00:00:00'), Timestamp('2022-11-08 00:00:00'), Timestamp('2023-01-21 00:00:00'), Timestamp('2023-08-17 00:00:00')], 'sellprices': [9570.403879415397, 9844.734660364316, 12117.917828851076, 13052.9569100982, 37496.302743326836, 45258.54599253631, 23054.794309997113, 19948.545589545003, 22993.767672434988, 28374.979007027145], 'profits': [0.09588437004765535, 0.09588437004765543, 0.0958843700476553, 0.09588437004765535, -0.05725304719812062, 0.09588437004765542, -0.05725304719812057, -0.05725304719812067, 0.09588437004765529, -0.05725304719812064]} could not be cast to float.\n",
      "[W 2023-10-27 02:48:23,197] Trial 64 failed with value ({'buydates': [Timestamp('2020-01-16 00:00:00'), Timestamp('2020-05-02 00:00:00'), Timestamp('2020-07-27 00:00:00'), Timestamp('2020-10-20 00:00:00'), Timestamp('2021-08-04 00:00:00'), Timestamp('2022-03-20 00:00:00'), Timestamp('2022-08-13 00:00:00'), Timestamp('2022-11-04 00:00:00'), Timestamp('2023-01-14 00:00:00'), Timestamp('2023-06-28 00:00:00')], 'buyprices': [8725.08, 8975.18, 11047.58, 11900.03, 39731.31, 41261.0, 24429.0, 21137.6, 20962.8, 30066.3], 'selldates': [Timestamp('2020-01-30 00:00:00'), Timestamp('2020-05-07 00:00:00'), Timestamp('2020-08-02 00:00:00'), Timestamp('2020-10-21 00:00:00'), Timestamp('2021-08-05 00:00:00'), Timestamp('2022-03-27 00:00:00'), Timestamp('2022-08-19 00:00:00'), Timestamp('2022-11-08 00:00:00'), Timestamp('2023-01-21 00:00:00'), Timestamp('2023-08-17 00:00:00')], 'sellprices': [9570.403879415397, 9844.734660364316, 12117.917828851076, 13052.9569100982, 37496.302743326836, 45258.54599253631, 23054.794309997113, 19948.545589545003, 22993.767672434988, 28374.979007027145], 'profits': [0.09588437004765535, 0.09588437004765543, 0.0958843700476553, 0.09588437004765535, -0.05725304719812062, 0.09588437004765542, -0.05725304719812057, -0.05725304719812067, 0.09588437004765529, -0.05725304719812064]},     ticker  returns  winrate  trades  buy&hold_ret%\n",
      "0  BTCUSDT    36.83     60.0      10          240.9).\n"
     ]
    },
    {
     "name": "stdout",
     "output_type": "stream",
     "text": [
      "BTCUSDT, winrate=60.0%, returns=36.83%, no. of trades = 10, buy&hold_ret = 240.89999999999998%\n"
     ]
    },
    {
     "name": "stderr",
     "output_type": "stream",
     "text": [
      "[W 2023-10-27 02:48:23,620] Trial 65 failed with parameters: {'fast_ma_period': 22, 'slow_ma_period': 54, 'rsi_period': 17, 'sl_perc': 3.8177293051979815, 'tp_perc': 8.601595179377538} because of the following error: The value {'buydates': [Timestamp('2020-01-10 00:00:00'), Timestamp('2020-04-22 00:00:00'), Timestamp('2020-07-27 00:00:00'), Timestamp('2020-10-15 00:00:00'), Timestamp('2021-08-02 00:00:00'), Timestamp('2021-10-12 00:00:00'), Timestamp('2022-03-17 00:00:00'), Timestamp('2022-03-27 00:00:00'), Timestamp('2022-07-31 00:00:00'), Timestamp('2022-11-02 00:00:00'), Timestamp('2023-01-10 00:00:00'), Timestamp('2023-03-19 00:00:00'), Timestamp('2023-06-26 00:00:00'), Timestamp('2023-10-03 00:00:00')], 'buyprices': [8207.09, 7120.06, 11047.58, 11502.0, 39147.48, 56011.84, 40898.1, 46820.8, 23290.1, 20140.1, 17428.8, 27955.7, 30260.1, 27412.0], 'selldates': [Timestamp('2020-01-15 00:00:00'), Timestamp('2020-04-23 00:00:00'), Timestamp('2020-07-28 00:00:00'), Timestamp('2020-10-21 00:00:00'), Timestamp('2021-08-03 00:00:00'), Timestamp('2021-10-15 00:00:00'), Timestamp('2022-03-25 00:00:00'), Timestamp('2022-04-01 00:00:00'), Timestamp('2022-08-04 00:00:00'), Timestamp('2022-11-08 00:00:00'), Timestamp('2023-01-12 00:00:00'), Timestamp('2023-03-22 00:00:00'), Timestamp('2023-07-24 00:00:00'), Timestamp('2023-10-16 00:00:00')], 'sellprices': [8913.030657807176, 7732.498737728788, 10625.81330082481, 12491.355477532003, 37652.93518379348, 60829.751729320655, 44415.988998057, 45033.30859747186, 22400.947027090082, 19371.20550020382, 18927.95482062335, 26888.427048626767, 29104.851294517783, 29769.86927057097], 'profits': [0.08501595179377534, 0.08501595179377527, -0.039177293051979735, 0.08501595179377522, -0.0391772930519799, 0.08501595179377536, 0.08501595179377532, -0.03917729305197988, -0.03917729305197988, -0.03917729305197974, 0.0850159517937752, -0.039177293051979874, -0.03917729305197987, 0.08501595179377532]} could not be cast to float.\n",
      "[W 2023-10-27 02:48:23,627] Trial 65 failed with value ({'buydates': [Timestamp('2020-01-10 00:00:00'), Timestamp('2020-04-22 00:00:00'), Timestamp('2020-07-27 00:00:00'), Timestamp('2020-10-15 00:00:00'), Timestamp('2021-08-02 00:00:00'), Timestamp('2021-10-12 00:00:00'), Timestamp('2022-03-17 00:00:00'), Timestamp('2022-03-27 00:00:00'), Timestamp('2022-07-31 00:00:00'), Timestamp('2022-11-02 00:00:00'), Timestamp('2023-01-10 00:00:00'), Timestamp('2023-03-19 00:00:00'), Timestamp('2023-06-26 00:00:00'), Timestamp('2023-10-03 00:00:00')], 'buyprices': [8207.09, 7120.06, 11047.58, 11502.0, 39147.48, 56011.84, 40898.1, 46820.8, 23290.1, 20140.1, 17428.8, 27955.7, 30260.1, 27412.0], 'selldates': [Timestamp('2020-01-15 00:00:00'), Timestamp('2020-04-23 00:00:00'), Timestamp('2020-07-28 00:00:00'), Timestamp('2020-10-21 00:00:00'), Timestamp('2021-08-03 00:00:00'), Timestamp('2021-10-15 00:00:00'), Timestamp('2022-03-25 00:00:00'), Timestamp('2022-04-01 00:00:00'), Timestamp('2022-08-04 00:00:00'), Timestamp('2022-11-08 00:00:00'), Timestamp('2023-01-12 00:00:00'), Timestamp('2023-03-22 00:00:00'), Timestamp('2023-07-24 00:00:00'), Timestamp('2023-10-16 00:00:00')], 'sellprices': [8913.030657807176, 7732.498737728788, 10625.81330082481, 12491.355477532003, 37652.93518379348, 60829.751729320655, 44415.988998057, 45033.30859747186, 22400.947027090082, 19371.20550020382, 18927.95482062335, 26888.427048626767, 29104.851294517783, 29769.86927057097], 'profits': [0.08501595179377534, 0.08501595179377527, -0.039177293051979735, 0.08501595179377522, -0.0391772930519799, 0.08501595179377536, 0.08501595179377532, -0.03917729305197988, -0.03917729305197988, -0.03917729305197974, 0.0850159517937752, -0.039177293051979874, -0.03917729305197987, 0.08501595179377532]},     ticker  returns  winrate  trades  buy&hold_ret%\n",
      "0  BTCUSDT    33.83     50.0      14          240.9).\n"
     ]
    },
    {
     "name": "stdout",
     "output_type": "stream",
     "text": [
      "BTCUSDT, winrate=50.0%, returns=33.83%, no. of trades = 14, buy&hold_ret = 240.89999999999998%\n"
     ]
    },
    {
     "name": "stderr",
     "output_type": "stream",
     "text": [
      "[W 2023-10-27 02:48:23,940] Trial 66 failed with parameters: {'fast_ma_period': 18, 'slow_ma_period': 51, 'rsi_period': 16, 'sl_perc': 5.9679747780582435, 'tp_perc': 8.762817427303954} because of the following error: The value {'buydates': [Timestamp('2019-11-05 00:00:00'), Timestamp('2020-01-08 00:00:00'), Timestamp('2020-04-19 00:00:00'), Timestamp('2020-07-27 00:00:00'), Timestamp('2020-10-13 00:00:00'), Timestamp('2021-08-01 00:00:00'), Timestamp('2021-10-10 00:00:00'), Timestamp('2022-03-16 00:00:00'), Timestamp('2022-03-26 00:00:00'), Timestamp('2022-07-29 00:00:00'), Timestamp('2022-10-30 00:00:00'), Timestamp('2023-01-11 00:00:00'), Timestamp('2023-03-19 00:00:00'), Timestamp('2023-06-25 00:00:00'), Timestamp('2023-10-01 00:00:00')], 'buyprices': [9313.2, 8059.84, 7118.03, 11047.58, 11419.36, 39846.78, 54700.0, 41105.8, 44489.2, 23771.1, 20615.6, 17935.7, 27955.7, 30458.0, 27981.4], 'selldates': [Timestamp('2019-11-08 00:00:00'), Timestamp('2020-01-14 00:00:00'), Timestamp('2020-04-23 00:00:00'), Timestamp('2020-08-02 00:00:00'), Timestamp('2020-10-21 00:00:00'), Timestamp('2021-08-05 00:00:00'), Timestamp('2021-10-15 00:00:00'), Timestamp('2022-03-25 00:00:00'), Timestamp('2022-04-11 00:00:00'), Timestamp('2022-08-19 00:00:00'), Timestamp('2022-11-08 00:00:00'), Timestamp('2023-01-13 00:00:00'), Timestamp('2023-04-11 00:00:00'), Timestamp('2023-08-01 00:00:00'), Timestamp('2023-10-16 00:00:00')], 'sellprices': [8757.39057296988, 8766.109064132816, 7741.769973320724, 12015.659265535347, 12420.017668166578, 37468.73421973165, 59493.261132735264, 44707.82620603271, 41834.09576504011, 22352.446747533, 19385.266191654624, 19507.37264530896, 30405.406951524812, 28640.27424209902, 30433.35899560363], 'profits': [-0.06067974778058248, 0.0866281742730396, 0.08662817427303958, 0.08662817427303962, 0.0866281742730396, -0.06067974778058233, 0.08662817427303957, 0.08662817427303951, -0.0606797477805824, -0.06067974778058231, -0.06067974778058241, 0.08662817427303968, 0.08662817427303954, -0.06067974778058239, 0.08662817427303954]} could not be cast to float.\n",
      "[W 2023-10-27 02:48:23,949] Trial 66 failed with value ({'buydates': [Timestamp('2019-11-05 00:00:00'), Timestamp('2020-01-08 00:00:00'), Timestamp('2020-04-19 00:00:00'), Timestamp('2020-07-27 00:00:00'), Timestamp('2020-10-13 00:00:00'), Timestamp('2021-08-01 00:00:00'), Timestamp('2021-10-10 00:00:00'), Timestamp('2022-03-16 00:00:00'), Timestamp('2022-03-26 00:00:00'), Timestamp('2022-07-29 00:00:00'), Timestamp('2022-10-30 00:00:00'), Timestamp('2023-01-11 00:00:00'), Timestamp('2023-03-19 00:00:00'), Timestamp('2023-06-25 00:00:00'), Timestamp('2023-10-01 00:00:00')], 'buyprices': [9313.2, 8059.84, 7118.03, 11047.58, 11419.36, 39846.78, 54700.0, 41105.8, 44489.2, 23771.1, 20615.6, 17935.7, 27955.7, 30458.0, 27981.4], 'selldates': [Timestamp('2019-11-08 00:00:00'), Timestamp('2020-01-14 00:00:00'), Timestamp('2020-04-23 00:00:00'), Timestamp('2020-08-02 00:00:00'), Timestamp('2020-10-21 00:00:00'), Timestamp('2021-08-05 00:00:00'), Timestamp('2021-10-15 00:00:00'), Timestamp('2022-03-25 00:00:00'), Timestamp('2022-04-11 00:00:00'), Timestamp('2022-08-19 00:00:00'), Timestamp('2022-11-08 00:00:00'), Timestamp('2023-01-13 00:00:00'), Timestamp('2023-04-11 00:00:00'), Timestamp('2023-08-01 00:00:00'), Timestamp('2023-10-16 00:00:00')], 'sellprices': [8757.39057296988, 8766.109064132816, 7741.769973320724, 12015.659265535347, 12420.017668166578, 37468.73421973165, 59493.261132735264, 44707.82620603271, 41834.09576504011, 22352.446747533, 19385.266191654624, 19507.37264530896, 30405.406951524812, 28640.27424209902, 30433.35899560363], 'profits': [-0.06067974778058248, 0.0866281742730396, 0.08662817427303958, 0.08662817427303962, 0.0866281742730396, -0.06067974778058233, 0.08662817427303957, 0.08662817427303951, -0.0606797477805824, -0.06067974778058231, -0.06067974778058241, 0.08662817427303968, 0.08662817427303954, -0.06067974778058239, 0.08662817427303954]},     ticker  returns  winrate  trades  buy&hold_ret%\n",
      "0  BTCUSDT    45.08     60.0      15          240.9).\n"
     ]
    },
    {
     "name": "stdout",
     "output_type": "stream",
     "text": [
      "BTCUSDT, winrate=60.0%, returns=45.08%, no. of trades = 15, buy&hold_ret = 240.89999999999998%\n"
     ]
    },
    {
     "name": "stderr",
     "output_type": "stream",
     "text": [
      "[W 2023-10-27 02:48:24,406] Trial 67 failed with parameters: {'fast_ma_period': 17, 'slow_ma_period': 69, 'rsi_period': 17, 'sl_perc': 7.735834032233318, 'tp_perc': 5.867902322468467} because of the following error: The value {'buydates': [Timestamp('2020-01-14 00:00:00'), Timestamp('2020-04-29 00:00:00'), Timestamp('2020-07-27 00:00:00'), Timestamp('2020-10-18 00:00:00'), Timestamp('2021-08-01 00:00:00'), Timestamp('2021-10-08 00:00:00'), Timestamp('2022-03-23 00:00:00'), Timestamp('2022-08-09 00:00:00'), Timestamp('2022-11-01 00:00:00'), Timestamp('2023-01-13 00:00:00'), Timestamp('2023-06-26 00:00:00'), Timestamp('2023-10-09 00:00:00')], 'buyprices': [8825.0, 8784.2, 11047.58, 11501.1, 39846.78, 53975.0, 42867.9, 23140.2, 20472.1, 19924.2, 30260.1, 27578.3], 'selldates': [Timestamp('2020-01-28 00:00:00'), Timestamp('2020-04-30 00:00:00'), Timestamp('2020-08-01 00:00:00'), Timestamp('2020-10-21 00:00:00'), Timestamp('2021-08-06 00:00:00'), Timestamp('2021-10-11 00:00:00'), Timestamp('2022-03-27 00:00:00'), Timestamp('2022-08-11 00:00:00'), Timestamp('2022-11-08 00:00:00'), Timestamp('2023-01-14 00:00:00'), Timestamp('2023-08-17 00:00:00'), Timestamp('2023-10-16 00:00:00')], 'sellprices': [9342.842379957843, 9299.648275810277, 11695.841203396563, 12175.973314009423, 42184.950129048906, 57142.20027855236, 45383.34649969346, 24498.04433322385, 18888.412321087162, 21093.332594533265, 27919.228886012163, 29196.567706197322], 'profits': [0.057679023224684774, 0.05767902322468486, 0.0576790232246848, 0.05767902322468483, 0.057679023224684836, 0.057679023224684725, 0.05767902322468472, 0.05767902322468472, -0.07835834032233316, 0.05767902322468479, -0.07835834032233324, 0.057679023224684725]} could not be cast to float.\n",
      "[W 2023-10-27 02:48:24,413] Trial 67 failed with value ({'buydates': [Timestamp('2020-01-14 00:00:00'), Timestamp('2020-04-29 00:00:00'), Timestamp('2020-07-27 00:00:00'), Timestamp('2020-10-18 00:00:00'), Timestamp('2021-08-01 00:00:00'), Timestamp('2021-10-08 00:00:00'), Timestamp('2022-03-23 00:00:00'), Timestamp('2022-08-09 00:00:00'), Timestamp('2022-11-01 00:00:00'), Timestamp('2023-01-13 00:00:00'), Timestamp('2023-06-26 00:00:00'), Timestamp('2023-10-09 00:00:00')], 'buyprices': [8825.0, 8784.2, 11047.58, 11501.1, 39846.78, 53975.0, 42867.9, 23140.2, 20472.1, 19924.2, 30260.1, 27578.3], 'selldates': [Timestamp('2020-01-28 00:00:00'), Timestamp('2020-04-30 00:00:00'), Timestamp('2020-08-01 00:00:00'), Timestamp('2020-10-21 00:00:00'), Timestamp('2021-08-06 00:00:00'), Timestamp('2021-10-11 00:00:00'), Timestamp('2022-03-27 00:00:00'), Timestamp('2022-08-11 00:00:00'), Timestamp('2022-11-08 00:00:00'), Timestamp('2023-01-14 00:00:00'), Timestamp('2023-08-17 00:00:00'), Timestamp('2023-10-16 00:00:00')], 'sellprices': [9342.842379957843, 9299.648275810277, 11695.841203396563, 12175.973314009423, 42184.950129048906, 57142.20027855236, 45383.34649969346, 24498.04433322385, 18888.412321087162, 21093.332594533265, 27919.228886012163, 29196.567706197322], 'profits': [0.057679023224684774, 0.05767902322468486, 0.0576790232246848, 0.05767902322468483, 0.057679023224684836, 0.057679023224684725, 0.05767902322468472, 0.05767902322468472, -0.07835834032233316, 0.05767902322468479, -0.07835834032233324, 0.057679023224684725]},     ticker  returns  winrate  trades  buy&hold_ret%\n",
      "0  BTCUSDT    48.82    83.33      12          240.9).\n"
     ]
    },
    {
     "name": "stdout",
     "output_type": "stream",
     "text": [
      "BTCUSDT, winrate=83.33%, returns=48.82%, no. of trades = 12, buy&hold_ret = 240.89999999999998%\n"
     ]
    },
    {
     "name": "stderr",
     "output_type": "stream",
     "text": [
      "[W 2023-10-27 02:48:24,667] Trial 68 failed with parameters: {'fast_ma_period': 18, 'slow_ma_period': 60, 'rsi_period': 11, 'sl_perc': 6.291365485946086, 'tp_perc': 6.430287285208341} because of the following error: The value {'buydates': [Timestamp('2020-01-11 00:00:00'), Timestamp('2020-04-25 00:00:00'), Timestamp('2020-07-27 00:00:00'), Timestamp('2020-10-16 00:00:00'), Timestamp('2021-08-01 00:00:00'), Timestamp('2021-10-10 00:00:00'), Timestamp('2022-03-16 00:00:00'), Timestamp('2022-08-02 00:00:00'), Timestamp('2022-10-31 00:00:00'), Timestamp('2023-01-10 00:00:00'), Timestamp('2023-03-18 00:00:00'), Timestamp('2023-06-26 00:00:00'), Timestamp('2023-10-05 00:00:00')], 'buyprices': [8020.56, 7534.01, 11047.58, 11318.92, 39846.78, 54700.0, 41105.8, 22975.1, 20482.0, 17428.8, 26907.0, 30260.1, 27398.4], 'selldates': [Timestamp('2020-01-14 00:00:00'), Timestamp('2020-04-29 00:00:00'), Timestamp('2020-08-01 00:00:00'), Timestamp('2020-10-21 00:00:00'), Timestamp('2021-08-05 00:00:00'), Timestamp('2021-10-14 00:00:00'), Timestamp('2022-03-24 00:00:00'), Timestamp('2022-08-11 00:00:00'), Timestamp('2022-11-08 00:00:00'), Timestamp('2023-01-12 00:00:00'), Timestamp('2023-03-22 00:00:00'), Timestamp('2023-08-17 00:00:00'), Timestamp('2023-10-16 00:00:00')], 'sellprices': [8536.305049882507, 8018.468487096325, 11757.97113206322, 12046.759073582904, 37339.87343581913, 58217.36714500896, 43749.021030883174, 24452.464934063897, 19193.402521168522, 18549.52191036439, 28637.197399831006, 28356.326512587228, 29160.19583155052], 'profits': [0.06330287285208346, 0.06330287285208334, 0.06330287285208341, 0.06330287285208336, -0.06391365485946092, 0.06330287285208337, 0.06330287285208341, 0.06330287285208329, -0.06391365485946089, 0.0633028728520834, 0.06330287285208332, -0.06391365485946084, 0.06330287285208334]} could not be cast to float.\n",
      "[W 2023-10-27 02:48:24,671] Trial 68 failed with value ({'buydates': [Timestamp('2020-01-11 00:00:00'), Timestamp('2020-04-25 00:00:00'), Timestamp('2020-07-27 00:00:00'), Timestamp('2020-10-16 00:00:00'), Timestamp('2021-08-01 00:00:00'), Timestamp('2021-10-10 00:00:00'), Timestamp('2022-03-16 00:00:00'), Timestamp('2022-08-02 00:00:00'), Timestamp('2022-10-31 00:00:00'), Timestamp('2023-01-10 00:00:00'), Timestamp('2023-03-18 00:00:00'), Timestamp('2023-06-26 00:00:00'), Timestamp('2023-10-05 00:00:00')], 'buyprices': [8020.56, 7534.01, 11047.58, 11318.92, 39846.78, 54700.0, 41105.8, 22975.1, 20482.0, 17428.8, 26907.0, 30260.1, 27398.4], 'selldates': [Timestamp('2020-01-14 00:00:00'), Timestamp('2020-04-29 00:00:00'), Timestamp('2020-08-01 00:00:00'), Timestamp('2020-10-21 00:00:00'), Timestamp('2021-08-05 00:00:00'), Timestamp('2021-10-14 00:00:00'), Timestamp('2022-03-24 00:00:00'), Timestamp('2022-08-11 00:00:00'), Timestamp('2022-11-08 00:00:00'), Timestamp('2023-01-12 00:00:00'), Timestamp('2023-03-22 00:00:00'), Timestamp('2023-08-17 00:00:00'), Timestamp('2023-10-16 00:00:00')], 'sellprices': [8536.305049882507, 8018.468487096325, 11757.97113206322, 12046.759073582904, 37339.87343581913, 58217.36714500896, 43749.021030883174, 24452.464934063897, 19193.402521168522, 18549.52191036439, 28637.197399831006, 28356.326512587228, 29160.19583155052], 'profits': [0.06330287285208346, 0.06330287285208334, 0.06330287285208341, 0.06330287285208336, -0.06391365485946092, 0.06330287285208337, 0.06330287285208341, 0.06330287285208329, -0.06391365485946089, 0.0633028728520834, 0.06330287285208332, -0.06391365485946084, 0.06330287285208334]},     ticker  returns  winrate  trades  buy&hold_ret%\n",
      "0  BTCUSDT    51.54    76.92      13          240.9).\n"
     ]
    },
    {
     "name": "stdout",
     "output_type": "stream",
     "text": [
      "BTCUSDT, winrate=76.92%, returns=51.54%, no. of trades = 13, buy&hold_ret = 240.89999999999998%\n"
     ]
    },
    {
     "name": "stderr",
     "output_type": "stream",
     "text": [
      "[W 2023-10-27 02:48:24,981] Trial 69 failed with parameters: {'fast_ma_period': 15, 'slow_ma_period': 70, 'rsi_period': 20, 'sl_perc': 7.813910142002556, 'tp_perc': 11.430473001358427} because of the following error: The value {'buydates': [Timestamp('2020-01-14 00:00:00'), Timestamp('2020-04-29 00:00:00'), Timestamp('2020-07-27 00:00:00'), Timestamp('2020-10-17 00:00:00'), Timestamp('2021-07-31 00:00:00'), Timestamp('2021-10-07 00:00:00'), Timestamp('2022-03-22 00:00:00'), Timestamp('2022-08-09 00:00:00'), Timestamp('2022-10-31 00:00:00'), Timestamp('2023-01-13 00:00:00'), Timestamp('2023-06-25 00:00:00'), Timestamp('2023-10-09 00:00:00')], 'buyprices': [8825.0, 8784.2, 11047.58, 11356.25, 41448.11, 53814.99, 42349.8, 23140.2, 20482.0, 19924.2, 30458.0, 27578.3], 'selldates': [Timestamp('2020-02-06 00:00:00'), Timestamp('2020-05-07 00:00:00'), Timestamp('2020-08-17 00:00:00'), Timestamp('2020-10-21 00:00:00'), Timestamp('2021-08-03 00:00:00'), Timestamp('2021-10-15 00:00:00'), Timestamp('2022-03-28 00:00:00'), Timestamp('2022-08-19 00:00:00'), Timestamp('2022-11-08 00:00:00'), Timestamp('2023-01-20 00:00:00'), Timestamp('2023-08-17 00:00:00'), Timestamp('2023-10-23 00:00:00')], 'sellprices': [9833.73924236988, 9788.275609385328, 12310.370649203473, 12654.323090216765, 38209.39192904162, 59966.297902633734, 47190.58245512929, 21332.045565320324, 18881.554924715037, 22201.630301736655, 28078.039248948862, 30730.630135733627], 'profits': [0.11330473001358417, 0.11330473001358426, 0.11330473001358421, 0.11330473001358417, -0.0791391014200256, 0.11330473001358425, 0.11330473001358417, -0.0791391014200256, -0.07913910142002552, 0.11330473001358421, -0.07913910142002553, 0.11330473001358415]} could not be cast to float.\n",
      "[W 2023-10-27 02:48:24,985] Trial 69 failed with value ({'buydates': [Timestamp('2020-01-14 00:00:00'), Timestamp('2020-04-29 00:00:00'), Timestamp('2020-07-27 00:00:00'), Timestamp('2020-10-17 00:00:00'), Timestamp('2021-07-31 00:00:00'), Timestamp('2021-10-07 00:00:00'), Timestamp('2022-03-22 00:00:00'), Timestamp('2022-08-09 00:00:00'), Timestamp('2022-10-31 00:00:00'), Timestamp('2023-01-13 00:00:00'), Timestamp('2023-06-25 00:00:00'), Timestamp('2023-10-09 00:00:00')], 'buyprices': [8825.0, 8784.2, 11047.58, 11356.25, 41448.11, 53814.99, 42349.8, 23140.2, 20482.0, 19924.2, 30458.0, 27578.3], 'selldates': [Timestamp('2020-02-06 00:00:00'), Timestamp('2020-05-07 00:00:00'), Timestamp('2020-08-17 00:00:00'), Timestamp('2020-10-21 00:00:00'), Timestamp('2021-08-03 00:00:00'), Timestamp('2021-10-15 00:00:00'), Timestamp('2022-03-28 00:00:00'), Timestamp('2022-08-19 00:00:00'), Timestamp('2022-11-08 00:00:00'), Timestamp('2023-01-20 00:00:00'), Timestamp('2023-08-17 00:00:00'), Timestamp('2023-10-23 00:00:00')], 'sellprices': [9833.73924236988, 9788.275609385328, 12310.370649203473, 12654.323090216765, 38209.39192904162, 59966.297902633734, 47190.58245512929, 21332.045565320324, 18881.554924715037, 22201.630301736655, 28078.039248948862, 30730.630135733627], 'profits': [0.11330473001358417, 0.11330473001358426, 0.11330473001358421, 0.11330473001358417, -0.0791391014200256, 0.11330473001358425, 0.11330473001358417, -0.0791391014200256, -0.07913910142002552, 0.11330473001358421, -0.07913910142002553, 0.11330473001358415]},     ticker  returns  winrate  trades  buy&hold_ret%\n",
      "0  BTCUSDT     69.7    66.67      12          240.9).\n"
     ]
    },
    {
     "name": "stdout",
     "output_type": "stream",
     "text": [
      "BTCUSDT, winrate=66.67%, returns=69.7%, no. of trades = 12, buy&hold_ret = 240.89999999999998%\n"
     ]
    },
    {
     "name": "stderr",
     "output_type": "stream",
     "text": [
      "[W 2023-10-27 02:48:25,313] Trial 70 failed with parameters: {'fast_ma_period': 19, 'slow_ma_period': 55, 'rsi_period': 20, 'sl_perc': 6.038164862341778, 'tp_perc': 9.998327217568505} because of the following error: The value {'buydates': [Timestamp('2019-11-07 00:00:00'), Timestamp('2020-01-09 00:00:00'), Timestamp('2020-04-22 00:00:00'), Timestamp('2020-07-27 00:00:00'), Timestamp('2020-10-14 00:00:00'), Timestamp('2021-08-01 00:00:00'), Timestamp('2021-10-10 00:00:00'), Timestamp('2022-03-25 00:00:00'), Timestamp('2022-07-31 00:00:00'), Timestamp('2022-10-31 00:00:00'), Timestamp('2023-01-10 00:00:00'), Timestamp('2023-03-19 00:00:00'), Timestamp('2023-06-26 00:00:00'), Timestamp('2023-10-03 00:00:00')], 'buyprices': [9219.64, 7818.59, 7120.06, 11047.58, 11417.13, 39846.78, 54700.0, 44290.6, 23290.1, 20482.0, 17428.8, 27955.7, 30260.1, 27412.0], 'selldates': [Timestamp('2019-11-11 00:00:00'), Timestamp('2020-01-14 00:00:00'), Timestamp('2020-04-29 00:00:00'), Timestamp('2020-08-02 00:00:00'), Timestamp('2020-10-21 00:00:00'), Timestamp('2021-08-05 00:00:00'), Timestamp('2021-10-15 00:00:00'), Timestamp('2022-04-11 00:00:00'), Timestamp('2022-08-19 00:00:00'), Timestamp('2022-11-08 00:00:00'), Timestamp('2023-01-13 00:00:00'), Timestamp('2023-04-14 00:00:00'), Timestamp('2023-08-17 00:00:00'), Timestamp('2023-10-16 00:00:00')], 'sellprices': [8662.942937085592, 8600.31821200009, 7831.946896887209, 12152.153198022654, 12558.652016255179, 37440.76573126537, 60169.08498800997, 41616.26055347965, 21883.805365395736, 19245.26307289516, 19171.388454095577, 30750.8023619618, 28432.945274490514, 30152.741456879878], 'profits': [-0.06138164862341774, 0.09898327217568502, 0.09898327217568509, 0.09898327217568496, 0.0989832721756851, -0.06138164862341777, 0.09898327217568502, -0.06138164862341774, -0.061381648623417794, -0.06138164862341768, 0.09898327217568494, 0.09898327217568506, -0.061381648623417794, 0.09898327217568502]} could not be cast to float.\n",
      "[W 2023-10-27 02:48:25,340] Trial 70 failed with value ({'buydates': [Timestamp('2019-11-07 00:00:00'), Timestamp('2020-01-09 00:00:00'), Timestamp('2020-04-22 00:00:00'), Timestamp('2020-07-27 00:00:00'), Timestamp('2020-10-14 00:00:00'), Timestamp('2021-08-01 00:00:00'), Timestamp('2021-10-10 00:00:00'), Timestamp('2022-03-25 00:00:00'), Timestamp('2022-07-31 00:00:00'), Timestamp('2022-10-31 00:00:00'), Timestamp('2023-01-10 00:00:00'), Timestamp('2023-03-19 00:00:00'), Timestamp('2023-06-26 00:00:00'), Timestamp('2023-10-03 00:00:00')], 'buyprices': [9219.64, 7818.59, 7120.06, 11047.58, 11417.13, 39846.78, 54700.0, 44290.6, 23290.1, 20482.0, 17428.8, 27955.7, 30260.1, 27412.0], 'selldates': [Timestamp('2019-11-11 00:00:00'), Timestamp('2020-01-14 00:00:00'), Timestamp('2020-04-29 00:00:00'), Timestamp('2020-08-02 00:00:00'), Timestamp('2020-10-21 00:00:00'), Timestamp('2021-08-05 00:00:00'), Timestamp('2021-10-15 00:00:00'), Timestamp('2022-04-11 00:00:00'), Timestamp('2022-08-19 00:00:00'), Timestamp('2022-11-08 00:00:00'), Timestamp('2023-01-13 00:00:00'), Timestamp('2023-04-14 00:00:00'), Timestamp('2023-08-17 00:00:00'), Timestamp('2023-10-16 00:00:00')], 'sellprices': [8662.942937085592, 8600.31821200009, 7831.946896887209, 12152.153198022654, 12558.652016255179, 37440.76573126537, 60169.08498800997, 41616.26055347965, 21883.805365395736, 19245.26307289516, 19171.388454095577, 30750.8023619618, 28432.945274490514, 30152.741456879878], 'profits': [-0.06138164862341774, 0.09898327217568502, 0.09898327217568509, 0.09898327217568496, 0.0989832721756851, -0.06138164862341777, 0.09898327217568502, -0.06138164862341774, -0.061381648623417794, -0.06138164862341768, 0.09898327217568494, 0.09898327217568506, -0.061381648623417794, 0.09898327217568502]},     ticker  returns  winrate  trades  buy&hold_ret%\n",
      "0  BTCUSDT     45.5    57.14      14          240.9).\n"
     ]
    },
    {
     "name": "stdout",
     "output_type": "stream",
     "text": [
      "BTCUSDT, winrate=57.14%, returns=45.5%, no. of trades = 14, buy&hold_ret = 240.89999999999998%\n"
     ]
    },
    {
     "name": "stderr",
     "output_type": "stream",
     "text": [
      "[W 2023-10-27 02:48:25,571] Trial 71 failed with parameters: {'fast_ma_period': 17, 'slow_ma_period': 67, 'rsi_period': 12, 'sl_perc': 3.733529594171158, 'tp_perc': 5.365319758702425} because of the following error: The value {'buydates': [Timestamp('2020-01-13 00:00:00'), Timestamp('2020-04-29 00:00:00'), Timestamp('2020-07-27 00:00:00'), Timestamp('2020-10-18 00:00:00'), Timestamp('2021-08-01 00:00:00'), Timestamp('2021-10-08 00:00:00'), Timestamp('2022-03-23 00:00:00'), Timestamp('2022-08-07 00:00:00'), Timestamp('2022-10-31 00:00:00'), Timestamp('2023-01-12 00:00:00'), Timestamp('2023-06-26 00:00:00'), Timestamp('2023-10-08 00:00:00')], 'buyprices': [8113.0, 8784.2, 11047.58, 11501.1, 39846.78, 53975.0, 42867.9, 23167.8, 20482.0, 18838.0, 30260.1, 27901.2], 'selldates': [Timestamp('2020-01-14 00:00:00'), Timestamp('2020-04-30 00:00:00'), Timestamp('2020-07-28 00:00:00'), Timestamp('2020-10-21 00:00:00'), Timestamp('2021-08-03 00:00:00'), Timestamp('2021-10-11 00:00:00'), Timestamp('2022-03-27 00:00:00'), Timestamp('2022-08-11 00:00:00'), Timestamp('2022-11-08 00:00:00'), Timestamp('2023-01-13 00:00:00'), Timestamp('2023-07-24 00:00:00'), Timestamp('2023-10-11 00:00:00')], 'sellprices': [8548.288392023527, 8456.239293388819, 10635.115331260266, 12118.170790768125, 38359.08867637572, 56870.931339759634, 45167.8999088408, 24410.82655105666, 19717.29846852186, 19848.718936144363, 29130.330211274213, 26859.500440871117], 'profits': [0.052653197587024185, -0.03833529594171149, -0.03833529594171162, 0.052653197587024234, -0.03833529594171164, 0.052653197587024254, 0.05265319758702433, 0.052653197587024254, -0.038335295941711665, 0.05265319758702428, -0.03833529594171155, -0.03833529594171158]} could not be cast to float.\n",
      "[W 2023-10-27 02:48:25,577] Trial 71 failed with value ({'buydates': [Timestamp('2020-01-13 00:00:00'), Timestamp('2020-04-29 00:00:00'), Timestamp('2020-07-27 00:00:00'), Timestamp('2020-10-18 00:00:00'), Timestamp('2021-08-01 00:00:00'), Timestamp('2021-10-08 00:00:00'), Timestamp('2022-03-23 00:00:00'), Timestamp('2022-08-07 00:00:00'), Timestamp('2022-10-31 00:00:00'), Timestamp('2023-01-12 00:00:00'), Timestamp('2023-06-26 00:00:00'), Timestamp('2023-10-08 00:00:00')], 'buyprices': [8113.0, 8784.2, 11047.58, 11501.1, 39846.78, 53975.0, 42867.9, 23167.8, 20482.0, 18838.0, 30260.1, 27901.2], 'selldates': [Timestamp('2020-01-14 00:00:00'), Timestamp('2020-04-30 00:00:00'), Timestamp('2020-07-28 00:00:00'), Timestamp('2020-10-21 00:00:00'), Timestamp('2021-08-03 00:00:00'), Timestamp('2021-10-11 00:00:00'), Timestamp('2022-03-27 00:00:00'), Timestamp('2022-08-11 00:00:00'), Timestamp('2022-11-08 00:00:00'), Timestamp('2023-01-13 00:00:00'), Timestamp('2023-07-24 00:00:00'), Timestamp('2023-10-11 00:00:00')], 'sellprices': [8548.288392023527, 8456.239293388819, 10635.115331260266, 12118.170790768125, 38359.08867637572, 56870.931339759634, 45167.8999088408, 24410.82655105666, 19717.29846852186, 19848.718936144363, 29130.330211274213, 26859.500440871117], 'profits': [0.052653197587024185, -0.03833529594171149, -0.03833529594171162, 0.052653197587024234, -0.03833529594171164, 0.052653197587024254, 0.05265319758702433, 0.052653197587024254, -0.038335295941711665, 0.05265319758702428, -0.03833529594171155, -0.03833529594171158]},     ticker  returns  winrate  trades  buy&hold_ret%\n",
      "0  BTCUSDT     7.61     50.0      12          240.9).\n"
     ]
    },
    {
     "name": "stdout",
     "output_type": "stream",
     "text": [
      "BTCUSDT, winrate=50.0%, returns=7.61%, no. of trades = 12, buy&hold_ret = 240.89999999999998%\n"
     ]
    },
    {
     "name": "stderr",
     "output_type": "stream",
     "text": [
      "[W 2023-10-27 02:48:25,831] Trial 72 failed with parameters: {'fast_ma_period': 15, 'slow_ma_period': 70, 'rsi_period': 14, 'sl_perc': 3.058839811917326, 'tp_perc': 9.98035390161083} because of the following error: The value {'buydates': [Timestamp('2020-01-14 00:00:00'), Timestamp('2020-04-29 00:00:00'), Timestamp('2020-07-27 00:00:00'), Timestamp('2020-10-17 00:00:00'), Timestamp('2021-07-31 00:00:00'), Timestamp('2021-10-07 00:00:00'), Timestamp('2022-03-22 00:00:00'), Timestamp('2022-08-09 00:00:00'), Timestamp('2022-10-31 00:00:00'), Timestamp('2023-01-13 00:00:00'), Timestamp('2023-06-25 00:00:00'), Timestamp('2023-10-09 00:00:00')], 'buyprices': [8825.0, 8784.2, 11047.58, 11356.25, 41448.11, 53814.99, 42349.8, 23140.2, 20482.0, 19924.2, 30458.0, 27578.3], 'selldates': [Timestamp('2020-01-19 00:00:00'), Timestamp('2020-04-30 00:00:00'), Timestamp('2020-07-28 00:00:00'), Timestamp('2020-10-21 00:00:00'), Timestamp('2021-08-01 00:00:00'), Timestamp('2021-10-15 00:00:00'), Timestamp('2022-03-27 00:00:00'), Timestamp('2022-08-19 00:00:00'), Timestamp('2022-11-08 00:00:00'), Timestamp('2023-01-20 00:00:00'), Timestamp('2023-06-30 00:00:00'), Timestamp('2023-10-11 00:00:00')], 'sellprices': [8555.057386598297, 8515.50539324156, 10709.652224706584, 12489.64393995168, 40180.27871003271, 59185.91645411647, 46576.459916624386, 22432.378349842707, 19855.488429723093, 21912.705672064745, 29526.33857008622, 26734.723980150004], 'profits': [-0.03158839811917315, -0.0315883981191732, -0.03158839811917323, 0.09880353901610833, -0.03158839811917333, 0.09880353901610822, 0.09880353901610829, -0.03158839811917327, -0.03158839811917328, 0.09880353901610826, -0.031588398119173286, -0.03158839811917325]} could not be cast to float.\n",
      "[W 2023-10-27 02:48:25,836] Trial 72 failed with value ({'buydates': [Timestamp('2020-01-14 00:00:00'), Timestamp('2020-04-29 00:00:00'), Timestamp('2020-07-27 00:00:00'), Timestamp('2020-10-17 00:00:00'), Timestamp('2021-07-31 00:00:00'), Timestamp('2021-10-07 00:00:00'), Timestamp('2022-03-22 00:00:00'), Timestamp('2022-08-09 00:00:00'), Timestamp('2022-10-31 00:00:00'), Timestamp('2023-01-13 00:00:00'), Timestamp('2023-06-25 00:00:00'), Timestamp('2023-10-09 00:00:00')], 'buyprices': [8825.0, 8784.2, 11047.58, 11356.25, 41448.11, 53814.99, 42349.8, 23140.2, 20482.0, 19924.2, 30458.0, 27578.3], 'selldates': [Timestamp('2020-01-19 00:00:00'), Timestamp('2020-04-30 00:00:00'), Timestamp('2020-07-28 00:00:00'), Timestamp('2020-10-21 00:00:00'), Timestamp('2021-08-01 00:00:00'), Timestamp('2021-10-15 00:00:00'), Timestamp('2022-03-27 00:00:00'), Timestamp('2022-08-19 00:00:00'), Timestamp('2022-11-08 00:00:00'), Timestamp('2023-01-20 00:00:00'), Timestamp('2023-06-30 00:00:00'), Timestamp('2023-10-11 00:00:00')], 'sellprices': [8555.057386598297, 8515.50539324156, 10709.652224706584, 12489.64393995168, 40180.27871003271, 59185.91645411647, 46576.459916624386, 22432.378349842707, 19855.488429723093, 21912.705672064745, 29526.33857008622, 26734.723980150004], 'profits': [-0.03158839811917315, -0.0315883981191732, -0.03158839811917323, 0.09880353901610833, -0.03158839811917333, 0.09880353901610822, 0.09880353901610829, -0.03158839811917327, -0.03158839811917328, 0.09880353901610826, -0.031588398119173286, -0.03158839811917325]},     ticker  returns  winrate  trades  buy&hold_ret%\n",
      "0  BTCUSDT    12.76    33.33      12          240.9).\n"
     ]
    },
    {
     "name": "stdout",
     "output_type": "stream",
     "text": [
      "BTCUSDT, winrate=33.33%, returns=12.76%, no. of trades = 12, buy&hold_ret = 240.89999999999998%\n"
     ]
    },
    {
     "name": "stderr",
     "output_type": "stream",
     "text": [
      "[W 2023-10-27 02:48:26,260] Trial 73 failed with parameters: {'fast_ma_period': 10, 'slow_ma_period': 50, 'rsi_period': 18, 'sl_perc': 3.203575817726861, 'tp_perc': 6.38716055134335} because of the following error: The value {'buydates': [Timestamp('2019-11-01 00:00:00'), Timestamp('2020-01-07 00:00:00'), Timestamp('2020-04-17 00:00:00'), Timestamp('2020-07-25 00:00:00'), Timestamp('2020-10-11 00:00:00'), Timestamp('2021-05-09 00:00:00'), Timestamp('2021-07-29 00:00:00'), Timestamp('2021-10-07 00:00:00'), Timestamp('2022-02-12 00:00:00'), Timestamp('2022-03-03 00:00:00'), Timestamp('2022-03-22 00:00:00'), Timestamp('2022-10-28 00:00:00'), Timestamp('2023-01-09 00:00:00'), Timestamp('2023-03-18 00:00:00'), Timestamp('2023-06-23 00:00:00'), Timestamp('2023-10-01 00:00:00')], 'buyprices': [9231.01, 8152.49, 7022.44, 9701.49, 11369.59, 58292.53, 40012.9, 53814.99, 42199.87, 42449.5, 42349.8, 20582.8, 17169.7, 26907.0, 30673.4, 27981.4], 'selldates': [Timestamp('2019-11-08 00:00:00'), Timestamp('2020-01-08 00:00:00'), Timestamp('2020-04-20 00:00:00'), Timestamp('2020-07-27 00:00:00'), Timestamp('2020-10-21 00:00:00'), Timestamp('2021-05-10 00:00:00'), Timestamp('2021-07-30 00:00:00'), Timestamp('2021-10-11 00:00:00'), Timestamp('2022-02-17 00:00:00'), Timestamp('2022-03-04 00:00:00'), Timestamp('2022-03-25 00:00:00'), Timestamp('2022-11-08 00:00:00'), Timestamp('2023-01-12 00:00:00'), Timestamp('2023-03-22 00:00:00'), Timestamp('2023-06-30 00:00:00'), Timestamp('2023-10-11 00:00:00')], 'sellprices': [8935.287595908052, 7891.3188018174, 6797.470810345621, 10321.13974217252, 12095.783967329477, 56425.08460537883, 38731.05641162877, 57252.23981198936, 40847.96516956783, 41089.59808325404, 45054.7497191728, 19923.414396588916, 18266.356305184, 28625.593289549954, 29690.754375125372, 27084.994636138577], 'profits': [-0.033035758177268594, -0.03303575817726856, -0.033035758177268615, 0.06287160551343349, 0.06287160551343332, -0.03303575817726855, -0.03303575817726858, 0.06287160551343342, -0.033035758177268545, -0.03303575817726859, 0.06287160551343336, -0.03303575817726855, 0.06287160551343346, 0.06287160551343345, -0.033035758177268545, -0.033035758177268615]} could not be cast to float.\n",
      "[W 2023-10-27 02:48:26,269] Trial 73 failed with value ({'buydates': [Timestamp('2019-11-01 00:00:00'), Timestamp('2020-01-07 00:00:00'), Timestamp('2020-04-17 00:00:00'), Timestamp('2020-07-25 00:00:00'), Timestamp('2020-10-11 00:00:00'), Timestamp('2021-05-09 00:00:00'), Timestamp('2021-07-29 00:00:00'), Timestamp('2021-10-07 00:00:00'), Timestamp('2022-02-12 00:00:00'), Timestamp('2022-03-03 00:00:00'), Timestamp('2022-03-22 00:00:00'), Timestamp('2022-10-28 00:00:00'), Timestamp('2023-01-09 00:00:00'), Timestamp('2023-03-18 00:00:00'), Timestamp('2023-06-23 00:00:00'), Timestamp('2023-10-01 00:00:00')], 'buyprices': [9231.01, 8152.49, 7022.44, 9701.49, 11369.59, 58292.53, 40012.9, 53814.99, 42199.87, 42449.5, 42349.8, 20582.8, 17169.7, 26907.0, 30673.4, 27981.4], 'selldates': [Timestamp('2019-11-08 00:00:00'), Timestamp('2020-01-08 00:00:00'), Timestamp('2020-04-20 00:00:00'), Timestamp('2020-07-27 00:00:00'), Timestamp('2020-10-21 00:00:00'), Timestamp('2021-05-10 00:00:00'), Timestamp('2021-07-30 00:00:00'), Timestamp('2021-10-11 00:00:00'), Timestamp('2022-02-17 00:00:00'), Timestamp('2022-03-04 00:00:00'), Timestamp('2022-03-25 00:00:00'), Timestamp('2022-11-08 00:00:00'), Timestamp('2023-01-12 00:00:00'), Timestamp('2023-03-22 00:00:00'), Timestamp('2023-06-30 00:00:00'), Timestamp('2023-10-11 00:00:00')], 'sellprices': [8935.287595908052, 7891.3188018174, 6797.470810345621, 10321.13974217252, 12095.783967329477, 56425.08460537883, 38731.05641162877, 57252.23981198936, 40847.96516956783, 41089.59808325404, 45054.7497191728, 19923.414396588916, 18266.356305184, 28625.593289549954, 29690.754375125372, 27084.994636138577], 'profits': [-0.033035758177268594, -0.03303575817726856, -0.033035758177268615, 0.06287160551343349, 0.06287160551343332, -0.03303575817726855, -0.03303575817726858, 0.06287160551343342, -0.033035758177268545, -0.03303575817726859, 0.06287160551343336, -0.03303575817726855, 0.06287160551343346, 0.06287160551343345, -0.033035758177268545, -0.033035758177268615]},     ticker  returns  winrate  trades  buy&hold_ret%\n",
      "0  BTCUSDT     3.04     37.5      16          240.9).\n"
     ]
    },
    {
     "name": "stdout",
     "output_type": "stream",
     "text": [
      "BTCUSDT, winrate=37.5%, returns=3.04%, no. of trades = 16, buy&hold_ret = 240.89999999999998%\n"
     ]
    },
    {
     "name": "stderr",
     "output_type": "stream",
     "text": [
      "[W 2023-10-27 02:48:26,707] Trial 74 failed with parameters: {'fast_ma_period': 24, 'slow_ma_period': 67, 'rsi_period': 20, 'sl_perc': 4.672337755723791, 'tp_perc': 5.361018473838896} because of the following error: The value {'buydates': [Timestamp('2020-01-15 00:00:00'), Timestamp('2020-04-29 00:00:00'), Timestamp('2020-07-27 00:00:00'), Timestamp('2020-10-20 00:00:00'), Timestamp('2021-08-04 00:00:00'), Timestamp('2021-10-11 00:00:00'), Timestamp('2022-03-20 00:00:00'), Timestamp('2022-08-08 00:00:00'), Timestamp('2022-11-04 00:00:00'), Timestamp('2023-01-12 00:00:00'), Timestamp('2023-06-29 00:00:00'), Timestamp('2023-10-10 00:00:00')], 'buyprices': [8825.3, 8784.2, 11047.58, 11900.03, 39731.31, 57500.01, 41261.0, 23804.4, 21137.6, 18838.0, 30439.9, 27381.2], 'selldates': [Timestamp('2020-01-23 00:00:00'), Timestamp('2020-04-30 00:00:00'), Timestamp('2020-08-01 00:00:00'), Timestamp('2020-10-21 00:00:00'), Timestamp('2021-08-05 00:00:00'), Timestamp('2021-10-12 00:00:00'), Timestamp('2022-03-22 00:00:00'), Timestamp('2022-08-10 00:00:00'), Timestamp('2022-11-08 00:00:00'), Timestamp('2023-01-13 00:00:00'), Timestamp('2023-07-24 00:00:00'), Timestamp('2023-10-16 00:00:00')], 'sellprices': [8412.952176044108, 9255.122584778957, 11639.84280471213, 12537.992806692371, 37874.929002026336, 54813.41532322505, 43473.009832490665, 22692.17803127649, 20149.97993454613, 19847.90866010177, 29017.645059495437, 28849.111190358777], 'profits': [-0.04772337755723791, 0.05261018473838899, 0.05261018473838892, 0.05261018473838894, -0.0477233775572379, -0.04772337755723791, 0.05261018473838891, -0.047723377557237816, -0.04772337755723781, 0.05261018473838888, -0.04772337755723786, 0.05261018473838898]} could not be cast to float.\n",
      "[W 2023-10-27 02:48:26,727] Trial 74 failed with value ({'buydates': [Timestamp('2020-01-15 00:00:00'), Timestamp('2020-04-29 00:00:00'), Timestamp('2020-07-27 00:00:00'), Timestamp('2020-10-20 00:00:00'), Timestamp('2021-08-04 00:00:00'), Timestamp('2021-10-11 00:00:00'), Timestamp('2022-03-20 00:00:00'), Timestamp('2022-08-08 00:00:00'), Timestamp('2022-11-04 00:00:00'), Timestamp('2023-01-12 00:00:00'), Timestamp('2023-06-29 00:00:00'), Timestamp('2023-10-10 00:00:00')], 'buyprices': [8825.3, 8784.2, 11047.58, 11900.03, 39731.31, 57500.01, 41261.0, 23804.4, 21137.6, 18838.0, 30439.9, 27381.2], 'selldates': [Timestamp('2020-01-23 00:00:00'), Timestamp('2020-04-30 00:00:00'), Timestamp('2020-08-01 00:00:00'), Timestamp('2020-10-21 00:00:00'), Timestamp('2021-08-05 00:00:00'), Timestamp('2021-10-12 00:00:00'), Timestamp('2022-03-22 00:00:00'), Timestamp('2022-08-10 00:00:00'), Timestamp('2022-11-08 00:00:00'), Timestamp('2023-01-13 00:00:00'), Timestamp('2023-07-24 00:00:00'), Timestamp('2023-10-16 00:00:00')], 'sellprices': [8412.952176044108, 9255.122584778957, 11639.84280471213, 12537.992806692371, 37874.929002026336, 54813.41532322505, 43473.009832490665, 22692.17803127649, 20149.97993454613, 19847.90866010177, 29017.645059495437, 28849.111190358777], 'profits': [-0.04772337755723791, 0.05261018473838899, 0.05261018473838892, 0.05261018473838894, -0.0477233775572379, -0.04772337755723791, 0.05261018473838891, -0.047723377557237816, -0.04772337755723781, 0.05261018473838888, -0.04772337755723786, 0.05261018473838898]},     ticker  returns  winrate  trades  buy&hold_ret%\n",
      "0  BTCUSDT     1.43     50.0      12          240.9).\n"
     ]
    },
    {
     "name": "stdout",
     "output_type": "stream",
     "text": [
      "BTCUSDT, winrate=50.0%, returns=1.43%, no. of trades = 12, buy&hold_ret = 240.89999999999998%\n"
     ]
    },
    {
     "name": "stderr",
     "output_type": "stream",
     "text": [
      "[W 2023-10-27 02:48:27,065] Trial 75 failed with parameters: {'fast_ma_period': 22, 'slow_ma_period': 65, 'rsi_period': 14, 'sl_perc': 4.572383954076387, 'tp_perc': 5.852876099719759} because of the following error: The value {'buydates': [Timestamp('2020-01-14 00:00:00'), Timestamp('2020-04-28 00:00:00'), Timestamp('2020-07-27 00:00:00'), Timestamp('2020-10-19 00:00:00'), Timestamp('2021-08-03 00:00:00'), Timestamp('2021-10-11 00:00:00'), Timestamp('2022-03-19 00:00:00'), Timestamp('2022-08-06 00:00:00'), Timestamp('2022-11-02 00:00:00'), Timestamp('2023-01-11 00:00:00'), Timestamp('2023-06-27 00:00:00'), Timestamp('2023-10-08 00:00:00')], 'buyprices': [8825.0, 7735.75, 11047.58, 11745.0, 38203.26, 57500.01, 42188.2, 22943.3, 20140.1, 17935.7, 30683.2, 27901.2], 'selldates': [Timestamp('2020-01-23 00:00:00'), Timestamp('2020-04-29 00:00:00'), Timestamp('2020-08-01 00:00:00'), Timestamp('2020-10-21 00:00:00'), Timestamp('2021-08-05 00:00:00'), Timestamp('2021-10-12 00:00:00'), Timestamp('2022-03-25 00:00:00'), Timestamp('2022-08-11 00:00:00'), Timestamp('2022-11-05 00:00:00'), Timestamp('2023-01-12 00:00:00'), Timestamp('2023-07-24 00:00:00'), Timestamp('2023-10-11 00:00:00')], 'sellprices': [8421.487116052758, 8188.513862884071, 11694.181169417421, 12432.420297912086, 40439.2494738538, 54870.88876916769, 44657.42307470197, 24286.142922187002, 21318.87509935966, 18985.45429861744, 29280.246286602836, 26625.45000820524], 'profits': [-0.046723839540763944, 0.05752876099719761, 0.05752876099719769, 0.05752876099719757, 0.05752876099719759, -0.04672383954076383, 0.05752876099719759, 0.057528760997197566, 0.057528760997197635, 0.05752876099719763, -0.04672383954076382, -0.04672383954076386]} could not be cast to float.\n",
      "[W 2023-10-27 02:48:27,087] Trial 75 failed with value ({'buydates': [Timestamp('2020-01-14 00:00:00'), Timestamp('2020-04-28 00:00:00'), Timestamp('2020-07-27 00:00:00'), Timestamp('2020-10-19 00:00:00'), Timestamp('2021-08-03 00:00:00'), Timestamp('2021-10-11 00:00:00'), Timestamp('2022-03-19 00:00:00'), Timestamp('2022-08-06 00:00:00'), Timestamp('2022-11-02 00:00:00'), Timestamp('2023-01-11 00:00:00'), Timestamp('2023-06-27 00:00:00'), Timestamp('2023-10-08 00:00:00')], 'buyprices': [8825.0, 7735.75, 11047.58, 11745.0, 38203.26, 57500.01, 42188.2, 22943.3, 20140.1, 17935.7, 30683.2, 27901.2], 'selldates': [Timestamp('2020-01-23 00:00:00'), Timestamp('2020-04-29 00:00:00'), Timestamp('2020-08-01 00:00:00'), Timestamp('2020-10-21 00:00:00'), Timestamp('2021-08-05 00:00:00'), Timestamp('2021-10-12 00:00:00'), Timestamp('2022-03-25 00:00:00'), Timestamp('2022-08-11 00:00:00'), Timestamp('2022-11-05 00:00:00'), Timestamp('2023-01-12 00:00:00'), Timestamp('2023-07-24 00:00:00'), Timestamp('2023-10-11 00:00:00')], 'sellprices': [8421.487116052758, 8188.513862884071, 11694.181169417421, 12432.420297912086, 40439.2494738538, 54870.88876916769, 44657.42307470197, 24286.142922187002, 21318.87509935966, 18985.45429861744, 29280.246286602836, 26625.45000820524], 'profits': [-0.046723839540763944, 0.05752876099719761, 0.05752876099719769, 0.05752876099719757, 0.05752876099719759, -0.04672383954076383, 0.05752876099719759, 0.057528760997197566, 0.057528760997197635, 0.05752876099719763, -0.04672383954076382, -0.04672383954076386]},     ticker  returns  winrate  trades  buy&hold_ret%\n",
      "0  BTCUSDT    29.19    66.67      12          240.9).\n"
     ]
    },
    {
     "name": "stdout",
     "output_type": "stream",
     "text": [
      "BTCUSDT, winrate=66.67%, returns=29.19%, no. of trades = 12, buy&hold_ret = 240.89999999999998%\n"
     ]
    },
    {
     "name": "stderr",
     "output_type": "stream",
     "text": [
      "[W 2023-10-27 02:48:27,446] Trial 76 failed with parameters: {'fast_ma_period': 17, 'slow_ma_period': 51, 'rsi_period': 24, 'sl_perc': 4.658479006233413, 'tp_perc': 9.450711772256856} because of the following error: The value {'buydates': [Timestamp('2019-11-04 00:00:00'), Timestamp('2020-01-07 00:00:00'), Timestamp('2020-04-18 00:00:00'), Timestamp('2020-07-27 00:00:00'), Timestamp('2020-10-13 00:00:00'), Timestamp('2021-07-31 00:00:00'), Timestamp('2021-10-10 00:00:00'), Timestamp('2022-03-02 00:00:00'), Timestamp('2022-03-25 00:00:00'), Timestamp('2022-07-28 00:00:00'), Timestamp('2022-10-30 00:00:00'), Timestamp('2023-01-11 00:00:00'), Timestamp('2023-03-19 00:00:00'), Timestamp('2023-06-24 00:00:00'), Timestamp('2023-10-01 00:00:00')], 'buyprices': [9395.46, 8152.49, 7242.42, 11047.58, 11419.36, 41448.11, 54700.0, 43885.7, 44290.6, 23836.2, 20615.6, 17935.7, 27955.7, 30524.2, 27981.4], 'selldates': [Timestamp('2019-11-08 00:00:00'), Timestamp('2020-01-09 00:00:00'), Timestamp('2020-04-20 00:00:00'), Timestamp('2020-08-02 00:00:00'), Timestamp('2020-10-21 00:00:00'), Timestamp('2021-08-01 00:00:00'), Timestamp('2021-10-15 00:00:00'), Timestamp('2022-03-03 00:00:00'), Timestamp('2022-04-08 00:00:00'), Timestamp('2022-08-02 00:00:00'), Timestamp('2022-11-08 00:00:00'), Timestamp('2023-01-13 00:00:00'), Timestamp('2023-03-22 00:00:00'), Timestamp('2023-07-24 00:00:00'), Timestamp('2023-10-11 00:00:00')], 'sellprices': [8957.774468360942, 7772.707964864721, 6905.03338475675, 10532.930805003158, 12498.57079983639, 39517.25849716947, 59869.5393394245, 41841.29387876142, 42227.33169726518, 22725.79562711619, 19655.226601990944, 19630.751311336673, 26653.389584454406, 29102.2365511793, 26677.892355349803], 'profits': [-0.0475847900623341, -0.04758479006233414, -0.04758479006233416, -0.047584790062334216, 0.0935071177225685, -0.047584790062334174, 0.09350711772256849, -0.047584790062334174, -0.04758479006233417, -0.047584790062334244, -0.04758479006233409, 0.09350711772256852, -0.047584790062334154, -0.04758479006233419, -0.04758479006233422]} could not be cast to float.\n",
      "[W 2023-10-27 02:48:27,464] Trial 76 failed with value ({'buydates': [Timestamp('2019-11-04 00:00:00'), Timestamp('2020-01-07 00:00:00'), Timestamp('2020-04-18 00:00:00'), Timestamp('2020-07-27 00:00:00'), Timestamp('2020-10-13 00:00:00'), Timestamp('2021-07-31 00:00:00'), Timestamp('2021-10-10 00:00:00'), Timestamp('2022-03-02 00:00:00'), Timestamp('2022-03-25 00:00:00'), Timestamp('2022-07-28 00:00:00'), Timestamp('2022-10-30 00:00:00'), Timestamp('2023-01-11 00:00:00'), Timestamp('2023-03-19 00:00:00'), Timestamp('2023-06-24 00:00:00'), Timestamp('2023-10-01 00:00:00')], 'buyprices': [9395.46, 8152.49, 7242.42, 11047.58, 11419.36, 41448.11, 54700.0, 43885.7, 44290.6, 23836.2, 20615.6, 17935.7, 27955.7, 30524.2, 27981.4], 'selldates': [Timestamp('2019-11-08 00:00:00'), Timestamp('2020-01-09 00:00:00'), Timestamp('2020-04-20 00:00:00'), Timestamp('2020-08-02 00:00:00'), Timestamp('2020-10-21 00:00:00'), Timestamp('2021-08-01 00:00:00'), Timestamp('2021-10-15 00:00:00'), Timestamp('2022-03-03 00:00:00'), Timestamp('2022-04-08 00:00:00'), Timestamp('2022-08-02 00:00:00'), Timestamp('2022-11-08 00:00:00'), Timestamp('2023-01-13 00:00:00'), Timestamp('2023-03-22 00:00:00'), Timestamp('2023-07-24 00:00:00'), Timestamp('2023-10-11 00:00:00')], 'sellprices': [8957.774468360942, 7772.707964864721, 6905.03338475675, 10532.930805003158, 12498.57079983639, 39517.25849716947, 59869.5393394245, 41841.29387876142, 42227.33169726518, 22725.79562711619, 19655.226601990944, 19630.751311336673, 26653.389584454406, 29102.2365511793, 26677.892355349803], 'profits': [-0.0475847900623341, -0.04758479006233414, -0.04758479006233416, -0.047584790062334216, 0.0935071177225685, -0.047584790062334174, 0.09350711772256849, -0.047584790062334174, -0.04758479006233417, -0.047584790062334244, -0.04758479006233409, 0.09350711772256852, -0.047584790062334154, -0.04758479006233419, -0.04758479006233422]},     ticker  returns  winrate  trades  buy&hold_ret%\n",
      "0  BTCUSDT   -27.16     20.0      15          240.9).\n"
     ]
    },
    {
     "name": "stdout",
     "output_type": "stream",
     "text": [
      "BTCUSDT, winrate=20.0%, returns=-27.16%, no. of trades = 15, buy&hold_ret = 240.89999999999998%\n"
     ]
    },
    {
     "name": "stderr",
     "output_type": "stream",
     "text": [
      "[W 2023-10-27 02:48:27,777] Trial 77 failed with parameters: {'fast_ma_period': 24, 'slow_ma_period': 50, 'rsi_period': 13, 'sl_perc': 4.885561565985931, 'tp_perc': 5.689343294763947} because of the following error: The value {'buydates': [Timestamp('2019-11-07 00:00:00'), Timestamp('2020-01-09 00:00:00'), Timestamp('2020-07-27 00:00:00'), Timestamp('2020-10-15 00:00:00'), Timestamp('2021-08-02 00:00:00'), Timestamp('2021-10-13 00:00:00'), Timestamp('2022-03-28 00:00:00'), Timestamp('2022-07-29 00:00:00'), Timestamp('2022-10-31 00:00:00'), Timestamp('2023-01-12 00:00:00'), Timestamp('2023-03-19 00:00:00'), Timestamp('2023-06-25 00:00:00'), Timestamp('2023-10-02 00:00:00')], 'buyprices': [9219.64, 7818.59, 11047.58, 11502.0, 39147.48, 57393.65, 47121.9, 23771.1, 20482.0, 18838.0, 27955.7, 30458.0, 27477.6], 'selldates': [Timestamp('2019-11-08 00:00:00'), Timestamp('2020-01-11 00:00:00'), Timestamp('2020-08-01 00:00:00'), Timestamp('2020-10-21 00:00:00'), Timestamp('2021-08-06 00:00:00'), Timestamp('2021-10-15 00:00:00'), Timestamp('2022-04-01 00:00:00'), Timestamp('2022-08-02 00:00:00'), Timestamp('2022-11-08 00:00:00'), Timestamp('2023-01-13 00:00:00'), Timestamp('2023-03-27 00:00:00'), Timestamp('2023-07-24 00:00:00'), Timestamp('2023-10-16 00:00:00')], 'sellprices': [8769.208811637734, 8263.416425910083, 11676.114751963682, 12156.388265763748, 41374.714528449054, 60658.97177789528, 44819.730564437676, 22609.748274587917, 19481.339280054763, 19909.758489867632, 26589.907065297673, 28969.955658232004, 29040.894993162055], 'profits': [-0.04985561565985928, 0.05589343294763932, 0.055893432947639356, 0.05589343294763935, 0.05589343294763931, 0.05589343294763936, -0.04985561565985934, -0.04985561565985931, -0.04985561565985926, 0.05589343294763947, -0.04985561565985925, -0.049855615659859354, 0.055893432947639425]} could not be cast to float.\n",
      "[W 2023-10-27 02:48:27,783] Trial 77 failed with value ({'buydates': [Timestamp('2019-11-07 00:00:00'), Timestamp('2020-01-09 00:00:00'), Timestamp('2020-07-27 00:00:00'), Timestamp('2020-10-15 00:00:00'), Timestamp('2021-08-02 00:00:00'), Timestamp('2021-10-13 00:00:00'), Timestamp('2022-03-28 00:00:00'), Timestamp('2022-07-29 00:00:00'), Timestamp('2022-10-31 00:00:00'), Timestamp('2023-01-12 00:00:00'), Timestamp('2023-03-19 00:00:00'), Timestamp('2023-06-25 00:00:00'), Timestamp('2023-10-02 00:00:00')], 'buyprices': [9219.64, 7818.59, 11047.58, 11502.0, 39147.48, 57393.65, 47121.9, 23771.1, 20482.0, 18838.0, 27955.7, 30458.0, 27477.6], 'selldates': [Timestamp('2019-11-08 00:00:00'), Timestamp('2020-01-11 00:00:00'), Timestamp('2020-08-01 00:00:00'), Timestamp('2020-10-21 00:00:00'), Timestamp('2021-08-06 00:00:00'), Timestamp('2021-10-15 00:00:00'), Timestamp('2022-04-01 00:00:00'), Timestamp('2022-08-02 00:00:00'), Timestamp('2022-11-08 00:00:00'), Timestamp('2023-01-13 00:00:00'), Timestamp('2023-03-27 00:00:00'), Timestamp('2023-07-24 00:00:00'), Timestamp('2023-10-16 00:00:00')], 'sellprices': [8769.208811637734, 8263.416425910083, 11676.114751963682, 12156.388265763748, 41374.714528449054, 60658.97177789528, 44819.730564437676, 22609.748274587917, 19481.339280054763, 19909.758489867632, 26589.907065297673, 28969.955658232004, 29040.894993162055], 'profits': [-0.04985561565985928, 0.05589343294763932, 0.055893432947639356, 0.05589343294763935, 0.05589343294763931, 0.05589343294763936, -0.04985561565985934, -0.04985561565985931, -0.04985561565985926, 0.05589343294763947, -0.04985561565985925, -0.049855615659859354, 0.055893432947639425]},     ticker  returns  winrate  trades  buy&hold_ret%\n",
      "0  BTCUSDT     7.67    53.85      13          240.9).\n"
     ]
    },
    {
     "name": "stdout",
     "output_type": "stream",
     "text": [
      "BTCUSDT, winrate=53.85%, returns=7.67%, no. of trades = 13, buy&hold_ret = 240.89999999999998%\n"
     ]
    },
    {
     "name": "stderr",
     "output_type": "stream",
     "text": [
      "[W 2023-10-27 02:48:28,228] Trial 78 failed with parameters: {'fast_ma_period': 17, 'slow_ma_period': 52, 'rsi_period': 12, 'sl_perc': 3.983714253471061, 'tp_perc': 7.954313802167313} because of the following error: The value {'buydates': [Timestamp('2019-11-05 00:00:00'), Timestamp('2020-01-08 00:00:00'), Timestamp('2020-04-19 00:00:00'), Timestamp('2020-07-27 00:00:00'), Timestamp('2020-10-13 00:00:00'), Timestamp('2021-07-31 00:00:00'), Timestamp('2021-10-10 00:00:00'), Timestamp('2022-03-02 00:00:00'), Timestamp('2022-03-25 00:00:00'), Timestamp('2022-07-29 00:00:00'), Timestamp('2022-10-31 00:00:00'), Timestamp('2023-01-11 00:00:00'), Timestamp('2023-03-19 00:00:00'), Timestamp('2023-06-25 00:00:00'), Timestamp('2023-10-01 00:00:00')], 'buyprices': [9313.2, 8059.84, 7118.03, 11047.58, 11419.36, 41448.11, 54700.0, 43885.7, 44290.6, 23771.1, 20482.0, 17935.7, 27955.7, 30458.0, 27981.4], 'selldates': [Timestamp('2019-11-08 00:00:00'), Timestamp('2020-01-10 00:00:00'), Timestamp('2020-04-20 00:00:00'), Timestamp('2020-07-28 00:00:00'), Timestamp('2020-10-21 00:00:00'), Timestamp('2021-08-01 00:00:00'), Timestamp('2021-10-15 00:00:00'), Timestamp('2022-03-03 00:00:00'), Timestamp('2022-03-28 00:00:00'), Timestamp('2022-08-02 00:00:00'), Timestamp('2022-11-08 00:00:00'), Timestamp('2023-01-13 00:00:00'), Timestamp('2023-03-22 00:00:00'), Timestamp('2023-07-24 00:00:00'), Timestamp('2023-10-11 00:00:00')], 'sellprices': [8942.188724145733, 7738.759005113038, 6834.4680243236535, 10607.475980876381, 12327.691728599173, 39796.93573413564, 59051.00964978552, 42137.419113864446, 47813.61330886272, 22824.12730109314, 19666.055646604058, 19362.361860615325, 26842.02479444239, 29244.640312677784, 26866.70097987925], 'profits': [-0.04083714253471066, -0.0408371425347106, -0.04083714253471063, -0.040837142534710665, 0.07854313802167305, -0.04083714253471059, 0.0785431380216731, -0.040837142534710665, 0.0785431380216732, -0.04083714253471058, -0.040837142534710574, 0.0785431380216732, -0.04083714253471066, -0.040837142534710616, -0.04083714253471062]} could not be cast to float.\n",
      "[W 2023-10-27 02:48:28,236] Trial 78 failed with value ({'buydates': [Timestamp('2019-11-05 00:00:00'), Timestamp('2020-01-08 00:00:00'), Timestamp('2020-04-19 00:00:00'), Timestamp('2020-07-27 00:00:00'), Timestamp('2020-10-13 00:00:00'), Timestamp('2021-07-31 00:00:00'), Timestamp('2021-10-10 00:00:00'), Timestamp('2022-03-02 00:00:00'), Timestamp('2022-03-25 00:00:00'), Timestamp('2022-07-29 00:00:00'), Timestamp('2022-10-31 00:00:00'), Timestamp('2023-01-11 00:00:00'), Timestamp('2023-03-19 00:00:00'), Timestamp('2023-06-25 00:00:00'), Timestamp('2023-10-01 00:00:00')], 'buyprices': [9313.2, 8059.84, 7118.03, 11047.58, 11419.36, 41448.11, 54700.0, 43885.7, 44290.6, 23771.1, 20482.0, 17935.7, 27955.7, 30458.0, 27981.4], 'selldates': [Timestamp('2019-11-08 00:00:00'), Timestamp('2020-01-10 00:00:00'), Timestamp('2020-04-20 00:00:00'), Timestamp('2020-07-28 00:00:00'), Timestamp('2020-10-21 00:00:00'), Timestamp('2021-08-01 00:00:00'), Timestamp('2021-10-15 00:00:00'), Timestamp('2022-03-03 00:00:00'), Timestamp('2022-03-28 00:00:00'), Timestamp('2022-08-02 00:00:00'), Timestamp('2022-11-08 00:00:00'), Timestamp('2023-01-13 00:00:00'), Timestamp('2023-03-22 00:00:00'), Timestamp('2023-07-24 00:00:00'), Timestamp('2023-10-11 00:00:00')], 'sellprices': [8942.188724145733, 7738.759005113038, 6834.4680243236535, 10607.475980876381, 12327.691728599173, 39796.93573413564, 59051.00964978552, 42137.419113864446, 47813.61330886272, 22824.12730109314, 19666.055646604058, 19362.361860615325, 26842.02479444239, 29244.640312677784, 26866.70097987925], 'profits': [-0.04083714253471066, -0.0408371425347106, -0.04083714253471063, -0.040837142534710665, 0.07854313802167305, -0.04083714253471059, 0.0785431380216731, -0.040837142534710665, 0.0785431380216732, -0.04083714253471058, -0.040837142534710574, 0.0785431380216732, -0.04083714253471066, -0.040837142534710616, -0.04083714253471062]},     ticker  returns  winrate  trades  buy&hold_ret%\n",
      "0  BTCUSDT   -14.46    26.67      15          240.9).\n"
     ]
    },
    {
     "name": "stdout",
     "output_type": "stream",
     "text": [
      "BTCUSDT, winrate=26.67%, returns=-14.46%, no. of trades = 15, buy&hold_ret = 240.89999999999998%\n"
     ]
    },
    {
     "name": "stderr",
     "output_type": "stream",
     "text": [
      "[W 2023-10-27 02:48:28,550] Trial 79 failed with parameters: {'fast_ma_period': 23, 'slow_ma_period': 60, 'rsi_period': 17, 'sl_perc': 6.31777685550513, 'tp_perc': 11.463697726859468} because of the following error: The value {'buydates': [Timestamp('2020-01-12 00:00:00'), Timestamp('2020-04-25 00:00:00'), Timestamp('2020-07-28 00:00:00'), Timestamp('2020-10-17 00:00:00'), Timestamp('2021-08-03 00:00:00'), Timestamp('2021-10-12 00:00:00'), Timestamp('2022-02-28 00:00:00'), Timestamp('2022-03-18 00:00:00'), Timestamp('2022-08-04 00:00:00'), Timestamp('2022-11-03 00:00:00'), Timestamp('2023-01-10 00:00:00'), Timestamp('2023-03-17 00:00:00'), Timestamp('2023-06-27 00:00:00'), Timestamp('2023-10-06 00:00:00')], 'buyprices': [8186.7, 7534.01, 10919.94, 11356.25, 38203.26, 56011.84, 43155.0, 41751.5, 22608.9, 20199.7, 17428.8, 27384.0, 30683.2, 27916.3], 'selldates': [Timestamp('2020-01-19 00:00:00'), Timestamp('2020-04-29 00:00:00'), Timestamp('2020-08-17 00:00:00'), Timestamp('2020-10-21 00:00:00'), Timestamp('2021-08-06 00:00:00'), Timestamp('2021-10-15 00:00:00'), Timestamp('2022-03-04 00:00:00'), Timestamp('2022-03-27 00:00:00'), Timestamp('2022-08-19 00:00:00'), Timestamp('2022-11-08 00:00:00'), Timestamp('2023-01-13 00:00:00'), Timestamp('2023-04-11 00:00:00'), Timestamp('2023-08-01 00:00:00'), Timestamp('2023-10-23 00:00:00')], 'sellprices': [9125.198541804804, 8397.686133111365, 12171.768913554419, 12658.096173106478, 42582.766248206215, 62432.86802885216, 40428.56339800676, 46537.76575642973, 21180.5201485157, 18923.52802851853, 19426.78494941888, 30523.218985523195, 28744.70389187165, 31116.54024852327], 'profits': [0.11363697726859473, 0.11363697726859465, 0.11363697726859472, 0.11363697726859466, 0.11363697726859469, 0.11363697726859466, -0.06417776855505138, 0.11363697726859474, -0.06417776855505133, -0.06417776855505139, 0.11363697726859463, 0.11363697726859463, -0.06417776855505132, 0.11363697726859472]} could not be cast to float.\n",
      "[W 2023-10-27 02:48:28,558] Trial 79 failed with value ({'buydates': [Timestamp('2020-01-12 00:00:00'), Timestamp('2020-04-25 00:00:00'), Timestamp('2020-07-28 00:00:00'), Timestamp('2020-10-17 00:00:00'), Timestamp('2021-08-03 00:00:00'), Timestamp('2021-10-12 00:00:00'), Timestamp('2022-02-28 00:00:00'), Timestamp('2022-03-18 00:00:00'), Timestamp('2022-08-04 00:00:00'), Timestamp('2022-11-03 00:00:00'), Timestamp('2023-01-10 00:00:00'), Timestamp('2023-03-17 00:00:00'), Timestamp('2023-06-27 00:00:00'), Timestamp('2023-10-06 00:00:00')], 'buyprices': [8186.7, 7534.01, 10919.94, 11356.25, 38203.26, 56011.84, 43155.0, 41751.5, 22608.9, 20199.7, 17428.8, 27384.0, 30683.2, 27916.3], 'selldates': [Timestamp('2020-01-19 00:00:00'), Timestamp('2020-04-29 00:00:00'), Timestamp('2020-08-17 00:00:00'), Timestamp('2020-10-21 00:00:00'), Timestamp('2021-08-06 00:00:00'), Timestamp('2021-10-15 00:00:00'), Timestamp('2022-03-04 00:00:00'), Timestamp('2022-03-27 00:00:00'), Timestamp('2022-08-19 00:00:00'), Timestamp('2022-11-08 00:00:00'), Timestamp('2023-01-13 00:00:00'), Timestamp('2023-04-11 00:00:00'), Timestamp('2023-08-01 00:00:00'), Timestamp('2023-10-23 00:00:00')], 'sellprices': [9125.198541804804, 8397.686133111365, 12171.768913554419, 12658.096173106478, 42582.766248206215, 62432.86802885216, 40428.56339800676, 46537.76575642973, 21180.5201485157, 18923.52802851853, 19426.78494941888, 30523.218985523195, 28744.70389187165, 31116.54024852327], 'profits': [0.11363697726859473, 0.11363697726859465, 0.11363697726859472, 0.11363697726859466, 0.11363697726859469, 0.11363697726859466, -0.06417776855505138, 0.11363697726859474, -0.06417776855505133, -0.06417776855505139, 0.11363697726859463, 0.11363697726859463, -0.06417776855505132, 0.11363697726859472]},     ticker  returns  winrate  trades  buy&hold_ret%\n",
      "0  BTCUSDT   125.01    71.43      14          240.9).\n"
     ]
    },
    {
     "name": "stdout",
     "output_type": "stream",
     "text": [
      "BTCUSDT, winrate=71.43%, returns=125.01%, no. of trades = 14, buy&hold_ret = 240.89999999999998%\n"
     ]
    },
    {
     "name": "stderr",
     "output_type": "stream",
     "text": [
      "[W 2023-10-27 02:48:28,840] Trial 80 failed with parameters: {'fast_ma_period': 22, 'slow_ma_period': 55, 'rsi_period': 23, 'sl_perc': 3.8139772503767913, 'tp_perc': 8.7794903243952} because of the following error: The value {'buydates': [Timestamp('2020-01-10 00:00:00'), Timestamp('2020-04-23 00:00:00'), Timestamp('2020-07-27 00:00:00'), Timestamp('2020-10-15 00:00:00'), Timestamp('2021-08-03 00:00:00'), Timestamp('2021-10-12 00:00:00'), Timestamp('2022-03-16 00:00:00'), Timestamp('2022-03-27 00:00:00'), Timestamp('2022-08-01 00:00:00'), Timestamp('2022-11-02 00:00:00'), Timestamp('2023-01-10 00:00:00'), Timestamp('2023-03-19 00:00:00'), Timestamp('2023-06-26 00:00:00'), Timestamp('2023-10-04 00:00:00')], 'buyprices': [8207.09, 7483.35, 11047.58, 11502.0, 38203.26, 56011.84, 41105.8, 46820.8, 23257.6, 20140.1, 17428.8, 27955.7, 30260.1, 27759.8], 'selldates': [Timestamp('2020-01-17 00:00:00'), Timestamp('2020-04-29 00:00:00'), Timestamp('2020-07-28 00:00:00'), Timestamp('2020-10-21 00:00:00'), Timestamp('2021-08-06 00:00:00'), Timestamp('2021-10-15 00:00:00'), Timestamp('2022-03-25 00:00:00'), Timestamp('2022-04-01 00:00:00'), Timestamp('2022-08-04 00:00:00'), Timestamp('2022-11-08 00:00:00'), Timestamp('2023-01-12 00:00:00'), Timestamp('2023-03-22 00:00:00'), Timestamp('2023-07-24 00:00:00'), Timestamp('2023-10-11 00:00:00')], 'sellprices': [8927.630672464406, 8140.349989190629, 10626.227812082823, 12511.816977111936, 41557.31151530355, 60929.394073315714, 44714.679733765246, 45035.065339555586, 22370.560427016368, 19371.961167796864, 18958.95980965819, 26889.475961816417, 29105.986670058734, 26701.047543249904], 'profits': [0.08679490324395192, 0.08679490324395199, -0.03913977250376795, 0.08679490324395196, 0.08679490324395207, 0.08679490324395196, 0.08679490324395202, -0.039139772503767926, -0.03913977250376784, -0.03913977250376783, 0.08679490324395203, -0.03913977250376788, -0.039139772503767836, -0.039139772503767864]} could not be cast to float.\n",
      "[W 2023-10-27 02:48:28,846] Trial 80 failed with value ({'buydates': [Timestamp('2020-01-10 00:00:00'), Timestamp('2020-04-23 00:00:00'), Timestamp('2020-07-27 00:00:00'), Timestamp('2020-10-15 00:00:00'), Timestamp('2021-08-03 00:00:00'), Timestamp('2021-10-12 00:00:00'), Timestamp('2022-03-16 00:00:00'), Timestamp('2022-03-27 00:00:00'), Timestamp('2022-08-01 00:00:00'), Timestamp('2022-11-02 00:00:00'), Timestamp('2023-01-10 00:00:00'), Timestamp('2023-03-19 00:00:00'), Timestamp('2023-06-26 00:00:00'), Timestamp('2023-10-04 00:00:00')], 'buyprices': [8207.09, 7483.35, 11047.58, 11502.0, 38203.26, 56011.84, 41105.8, 46820.8, 23257.6, 20140.1, 17428.8, 27955.7, 30260.1, 27759.8], 'selldates': [Timestamp('2020-01-17 00:00:00'), Timestamp('2020-04-29 00:00:00'), Timestamp('2020-07-28 00:00:00'), Timestamp('2020-10-21 00:00:00'), Timestamp('2021-08-06 00:00:00'), Timestamp('2021-10-15 00:00:00'), Timestamp('2022-03-25 00:00:00'), Timestamp('2022-04-01 00:00:00'), Timestamp('2022-08-04 00:00:00'), Timestamp('2022-11-08 00:00:00'), Timestamp('2023-01-12 00:00:00'), Timestamp('2023-03-22 00:00:00'), Timestamp('2023-07-24 00:00:00'), Timestamp('2023-10-11 00:00:00')], 'sellprices': [8927.630672464406, 8140.349989190629, 10626.227812082823, 12511.816977111936, 41557.31151530355, 60929.394073315714, 44714.679733765246, 45035.065339555586, 22370.560427016368, 19371.961167796864, 18958.95980965819, 26889.475961816417, 29105.986670058734, 26701.047543249904], 'profits': [0.08679490324395192, 0.08679490324395199, -0.03913977250376795, 0.08679490324395196, 0.08679490324395207, 0.08679490324395196, 0.08679490324395202, -0.039139772503767926, -0.03913977250376784, -0.03913977250376783, 0.08679490324395203, -0.03913977250376788, -0.039139772503767836, -0.039139772503767864]},     ticker  returns  winrate  trades  buy&hold_ret%\n",
      "0  BTCUSDT    35.41     50.0      14          240.9).\n"
     ]
    },
    {
     "name": "stdout",
     "output_type": "stream",
     "text": [
      "BTCUSDT, winrate=50.0%, returns=35.41%, no. of trades = 14, buy&hold_ret = 240.89999999999998%\n"
     ]
    },
    {
     "name": "stderr",
     "output_type": "stream",
     "text": [
      "[W 2023-10-27 02:48:29,292] Trial 81 failed with parameters: {'fast_ma_period': 25, 'slow_ma_period': 62, 'rsi_period': 21, 'sl_perc': 5.820725046288922, 'tp_perc': 10.481339031615551} because of the following error: The value {'buydates': [Timestamp('2020-01-14 00:00:00'), Timestamp('2020-04-27 00:00:00'), Timestamp('2020-07-28 00:00:00'), Timestamp('2020-10-19 00:00:00'), Timestamp('2021-08-04 00:00:00'), Timestamp('2021-10-12 00:00:00'), Timestamp('2022-03-01 00:00:00'), Timestamp('2022-03-19 00:00:00'), Timestamp('2022-08-06 00:00:00'), Timestamp('2022-11-04 00:00:00'), Timestamp('2023-01-11 00:00:00'), Timestamp('2023-06-28 00:00:00'), Timestamp('2023-10-08 00:00:00')], 'buyprices': [8825.0, 7774.0, 10919.94, 11745.0, 39731.31, 56011.84, 44394.1, 42188.2, 22943.3, 21137.6, 17935.7, 30066.3, 27901.2], 'selldates': [Timestamp('2020-01-24 00:00:00'), Timestamp('2020-04-29 00:00:00'), Timestamp('2020-08-02 00:00:00'), Timestamp('2020-10-21 00:00:00'), Timestamp('2021-08-05 00:00:00'), Timestamp('2021-10-15 00:00:00'), Timestamp('2022-03-04 00:00:00'), Timestamp('2022-03-27 00:00:00'), Timestamp('2022-08-19 00:00:00'), Timestamp('2022-11-08 00:00:00'), Timestamp('2023-01-13 00:00:00'), Timestamp('2023-08-17 00:00:00'), Timestamp('2023-10-23 00:00:00')], 'sellprices': [8311.321014665004, 8588.819296317792, 12064.495933449, 12976.033269263246, 37418.6596876113, 61882.630848246044, 41810.041502225446, 46610.08827333603, 21607.833590454793, 19907.238422615632, 19815.60152469347, 28316.223345407634, 30825.619365889117], 'profits': [-0.05920725046288912, 0.10381339031615534, 0.10381339031615548, 0.10381339031615543, -0.0592072504628892, 0.10381339031615544, -0.059207250462889285, 0.10381339031615547, -0.05920725046288922, -0.0592072504628892, 0.10381339031615541, -0.05920725046288919, 0.10381339031615544]} could not be cast to float.\n",
      "[W 2023-10-27 02:48:29,351] Trial 81 failed with value ({'buydates': [Timestamp('2020-01-14 00:00:00'), Timestamp('2020-04-27 00:00:00'), Timestamp('2020-07-28 00:00:00'), Timestamp('2020-10-19 00:00:00'), Timestamp('2021-08-04 00:00:00'), Timestamp('2021-10-12 00:00:00'), Timestamp('2022-03-01 00:00:00'), Timestamp('2022-03-19 00:00:00'), Timestamp('2022-08-06 00:00:00'), Timestamp('2022-11-04 00:00:00'), Timestamp('2023-01-11 00:00:00'), Timestamp('2023-06-28 00:00:00'), Timestamp('2023-10-08 00:00:00')], 'buyprices': [8825.0, 7774.0, 10919.94, 11745.0, 39731.31, 56011.84, 44394.1, 42188.2, 22943.3, 21137.6, 17935.7, 30066.3, 27901.2], 'selldates': [Timestamp('2020-01-24 00:00:00'), Timestamp('2020-04-29 00:00:00'), Timestamp('2020-08-02 00:00:00'), Timestamp('2020-10-21 00:00:00'), Timestamp('2021-08-05 00:00:00'), Timestamp('2021-10-15 00:00:00'), Timestamp('2022-03-04 00:00:00'), Timestamp('2022-03-27 00:00:00'), Timestamp('2022-08-19 00:00:00'), Timestamp('2022-11-08 00:00:00'), Timestamp('2023-01-13 00:00:00'), Timestamp('2023-08-17 00:00:00'), Timestamp('2023-10-23 00:00:00')], 'sellprices': [8311.321014665004, 8588.819296317792, 12064.495933449, 12976.033269263246, 37418.6596876113, 61882.630848246044, 41810.041502225446, 46610.08827333603, 21607.833590454793, 19907.238422615632, 19815.60152469347, 28316.223345407634, 30825.619365889117], 'profits': [-0.05920725046288912, 0.10381339031615534, 0.10381339031615548, 0.10381339031615543, -0.0592072504628892, 0.10381339031615544, -0.059207250462889285, 0.10381339031615547, -0.05920725046288922, -0.0592072504628892, 0.10381339031615541, -0.05920725046288919, 0.10381339031615544]},     ticker  returns  winrate  trades  buy&hold_ret%\n",
      "0  BTCUSDT    38.43    53.85      13          240.9).\n"
     ]
    },
    {
     "name": "stdout",
     "output_type": "stream",
     "text": [
      "BTCUSDT, winrate=53.85%, returns=38.43%, no. of trades = 13, buy&hold_ret = 240.89999999999998%\n"
     ]
    },
    {
     "name": "stderr",
     "output_type": "stream",
     "text": [
      "[W 2023-10-27 02:48:29,800] Trial 82 failed with parameters: {'fast_ma_period': 19, 'slow_ma_period': 50, 'rsi_period': 19, 'sl_perc': 3.147229845911805, 'tp_perc': 6.7393629902370105} because of the following error: The value {'buydates': [Timestamp('2019-11-05 00:00:00'), Timestamp('2020-01-07 00:00:00'), Timestamp('2020-04-19 00:00:00'), Timestamp('2020-07-27 00:00:00'), Timestamp('2020-10-13 00:00:00'), Timestamp('2021-08-01 00:00:00'), Timestamp('2021-10-11 00:00:00'), Timestamp('2022-03-18 00:00:00'), Timestamp('2022-03-26 00:00:00'), Timestamp('2022-07-28 00:00:00'), Timestamp('2022-10-30 00:00:00'), Timestamp('2023-01-12 00:00:00'), Timestamp('2023-03-19 00:00:00'), Timestamp('2023-06-24 00:00:00'), Timestamp('2023-10-01 00:00:00')], 'buyprices': [9313.2, 8152.49, 7118.03, 11047.58, 11419.36, 39846.78, 57500.01, 41751.5, 44489.2, 23836.2, 20615.6, 18838.0, 27955.7, 30524.2, 27981.4], 'selldates': [Timestamp('2019-11-08 00:00:00'), Timestamp('2020-01-08 00:00:00'), Timestamp('2020-04-20 00:00:00'), Timestamp('2020-07-28 00:00:00'), Timestamp('2020-10-21 00:00:00'), Timestamp('2021-08-03 00:00:00'), Timestamp('2021-10-12 00:00:00'), Timestamp('2022-03-21 00:00:00'), Timestamp('2022-03-28 00:00:00'), Timestamp('2022-08-01 00:00:00'), Timestamp('2022-11-08 00:00:00'), Timestamp('2023-01-14 00:00:00'), Timestamp('2023-03-22 00:00:00'), Timestamp('2023-06-30 00:00:00'), Timestamp('2023-10-11 00:00:00')], 'sellprices': [9020.092189990542, 7895.912401535024, 6894.009235399044, 10699.887264989016, 12188.95212156193, 38592.710247205185, 55690.35252387773, 40437.48433088413, 47487.48867945252, 23086.019999468772, 19966.779683886205, 20107.56120010085, 27075.869865966433, 29563.53326737419, 27100.761027896035], 'profits': [-0.03247229845911805, -0.03247229845911806, -0.03247229845911801, -0.032472298459118074, 0.0663936299023701, -0.032472298459118004, -0.03247229845911805, -0.032472298459118115, 0.06639362990237015, -0.03247229845911802, -0.032472298459118025, 0.06639362990237013, -0.03247229845911809, -0.03247229845911802, -0.03247229845911809]} could not be cast to float.\n",
      "[W 2023-10-27 02:48:29,827] Trial 82 failed with value ({'buydates': [Timestamp('2019-11-05 00:00:00'), Timestamp('2020-01-07 00:00:00'), Timestamp('2020-04-19 00:00:00'), Timestamp('2020-07-27 00:00:00'), Timestamp('2020-10-13 00:00:00'), Timestamp('2021-08-01 00:00:00'), Timestamp('2021-10-11 00:00:00'), Timestamp('2022-03-18 00:00:00'), Timestamp('2022-03-26 00:00:00'), Timestamp('2022-07-28 00:00:00'), Timestamp('2022-10-30 00:00:00'), Timestamp('2023-01-12 00:00:00'), Timestamp('2023-03-19 00:00:00'), Timestamp('2023-06-24 00:00:00'), Timestamp('2023-10-01 00:00:00')], 'buyprices': [9313.2, 8152.49, 7118.03, 11047.58, 11419.36, 39846.78, 57500.01, 41751.5, 44489.2, 23836.2, 20615.6, 18838.0, 27955.7, 30524.2, 27981.4], 'selldates': [Timestamp('2019-11-08 00:00:00'), Timestamp('2020-01-08 00:00:00'), Timestamp('2020-04-20 00:00:00'), Timestamp('2020-07-28 00:00:00'), Timestamp('2020-10-21 00:00:00'), Timestamp('2021-08-03 00:00:00'), Timestamp('2021-10-12 00:00:00'), Timestamp('2022-03-21 00:00:00'), Timestamp('2022-03-28 00:00:00'), Timestamp('2022-08-01 00:00:00'), Timestamp('2022-11-08 00:00:00'), Timestamp('2023-01-14 00:00:00'), Timestamp('2023-03-22 00:00:00'), Timestamp('2023-06-30 00:00:00'), Timestamp('2023-10-11 00:00:00')], 'sellprices': [9020.092189990542, 7895.912401535024, 6894.009235399044, 10699.887264989016, 12188.95212156193, 38592.710247205185, 55690.35252387773, 40437.48433088413, 47487.48867945252, 23086.019999468772, 19966.779683886205, 20107.56120010085, 27075.869865966433, 29563.53326737419, 27100.761027896035], 'profits': [-0.03247229845911805, -0.03247229845911806, -0.03247229845911801, -0.032472298459118074, 0.0663936299023701, -0.032472298459118004, -0.03247229845911805, -0.032472298459118115, 0.06639362990237015, -0.03247229845911802, -0.032472298459118025, 0.06639362990237013, -0.03247229845911809, -0.03247229845911802, -0.03247229845911809]},     ticker  returns  winrate  trades  buy&hold_ret%\n",
      "0  BTCUSDT    -18.4     20.0      15          240.9).\n"
     ]
    },
    {
     "name": "stdout",
     "output_type": "stream",
     "text": [
      "BTCUSDT, winrate=20.0%, returns=-18.4%, no. of trades = 15, buy&hold_ret = 240.89999999999998%\n"
     ]
    },
    {
     "name": "stderr",
     "output_type": "stream",
     "text": [
      "[W 2023-10-27 02:48:30,237] Trial 83 failed with parameters: {'fast_ma_period': 22, 'slow_ma_period': 59, 'rsi_period': 21, 'sl_perc': 3.334209967537888, 'tp_perc': 10.4316886601958} because of the following error: The value {'buydates': [Timestamp('2019-11-10 00:00:00'), Timestamp('2020-01-12 00:00:00'), Timestamp('2020-04-25 00:00:00'), Timestamp('2020-07-28 00:00:00'), Timestamp('2020-10-17 00:00:00'), Timestamp('2021-08-02 00:00:00'), Timestamp('2021-10-12 00:00:00'), Timestamp('2022-03-17 00:00:00'), Timestamp('2022-08-03 00:00:00'), Timestamp('2022-11-02 00:00:00'), Timestamp('2023-01-10 00:00:00'), Timestamp('2023-03-18 00:00:00'), Timestamp('2023-06-27 00:00:00'), Timestamp('2023-10-06 00:00:00')], 'buyprices': [9041.31, 8186.7, 7534.01, 10919.94, 11356.25, 39147.48, 56011.84, 40898.1, 22801.5, 20140.1, 17428.8, 26907.0, 30683.2, 27916.3], 'selldates': [Timestamp('2019-11-11 00:00:00'), Timestamp('2020-01-19 00:00:00'), Timestamp('2020-04-29 00:00:00'), Timestamp('2020-08-02 00:00:00'), Timestamp('2020-10-21 00:00:00'), Timestamp('2021-08-03 00:00:00'), Timestamp('2021-10-15 00:00:00'), Timestamp('2022-03-27 00:00:00'), Timestamp('2022-08-15 00:00:00'), Timestamp('2022-11-08 00:00:00'), Timestamp('2023-01-13 00:00:00'), Timestamp('2023-04-10 00:00:00'), Timestamp('2023-06-30 00:00:00'), Timestamp('2023-10-11 00:00:00')], 'sellprices': [8739.853740784, 9040.711055544249, 8319.934466828017, 10555.846272070845, 12540.898643473485, 37842.2208198001, 61854.82076164701, 45164.46245993553, 25180.081489854543, 19468.586778327903, 19246.918153208204, 29713.854467798883, 29660.15768724042, 26985.51194283222], 'profits': [-0.034342099675378907, 0.10331688660195791, 0.10331688660195792, -0.03434209967537877, 0.10331688660195797, -0.034342099675378865, 0.10331688660195798, 0.10331688660195784, 0.10331688660195791, -0.03434209967537877, 0.10331688660195795, 0.10331688660195797, -0.03434209967537878, -0.03434209967537882]} could not be cast to float.\n",
      "[W 2023-10-27 02:48:30,241] Trial 83 failed with value ({'buydates': [Timestamp('2019-11-10 00:00:00'), Timestamp('2020-01-12 00:00:00'), Timestamp('2020-04-25 00:00:00'), Timestamp('2020-07-28 00:00:00'), Timestamp('2020-10-17 00:00:00'), Timestamp('2021-08-02 00:00:00'), Timestamp('2021-10-12 00:00:00'), Timestamp('2022-03-17 00:00:00'), Timestamp('2022-08-03 00:00:00'), Timestamp('2022-11-02 00:00:00'), Timestamp('2023-01-10 00:00:00'), Timestamp('2023-03-18 00:00:00'), Timestamp('2023-06-27 00:00:00'), Timestamp('2023-10-06 00:00:00')], 'buyprices': [9041.31, 8186.7, 7534.01, 10919.94, 11356.25, 39147.48, 56011.84, 40898.1, 22801.5, 20140.1, 17428.8, 26907.0, 30683.2, 27916.3], 'selldates': [Timestamp('2019-11-11 00:00:00'), Timestamp('2020-01-19 00:00:00'), Timestamp('2020-04-29 00:00:00'), Timestamp('2020-08-02 00:00:00'), Timestamp('2020-10-21 00:00:00'), Timestamp('2021-08-03 00:00:00'), Timestamp('2021-10-15 00:00:00'), Timestamp('2022-03-27 00:00:00'), Timestamp('2022-08-15 00:00:00'), Timestamp('2022-11-08 00:00:00'), Timestamp('2023-01-13 00:00:00'), Timestamp('2023-04-10 00:00:00'), Timestamp('2023-06-30 00:00:00'), Timestamp('2023-10-11 00:00:00')], 'sellprices': [8739.853740784, 9040.711055544249, 8319.934466828017, 10555.846272070845, 12540.898643473485, 37842.2208198001, 61854.82076164701, 45164.46245993553, 25180.081489854543, 19468.586778327903, 19246.918153208204, 29713.854467798883, 29660.15768724042, 26985.51194283222], 'profits': [-0.034342099675378907, 0.10331688660195791, 0.10331688660195792, -0.03434209967537877, 0.10331688660195797, -0.034342099675378865, 0.10331688660195798, 0.10331688660195784, 0.10331688660195791, -0.03434209967537877, 0.10331688660195795, 0.10331688660195797, -0.03434209967537878, -0.03434209967537882]},     ticker  returns  winrate  trades  buy&hold_ret%\n",
      "0  BTCUSDT    78.05    57.14      14          240.9).\n"
     ]
    },
    {
     "name": "stdout",
     "output_type": "stream",
     "text": [
      "BTCUSDT, winrate=57.14%, returns=78.05%, no. of trades = 14, buy&hold_ret = 240.89999999999998%\n"
     ]
    },
    {
     "name": "stderr",
     "output_type": "stream",
     "text": [
      "[W 2023-10-27 02:48:30,630] Trial 84 failed with parameters: {'fast_ma_period': 21, 'slow_ma_period': 65, 'rsi_period': 21, 'sl_perc': 3.9891941720177733, 'tp_perc': 9.881695954256275} because of the following error: The value {'buydates': [Timestamp('2020-01-14 00:00:00'), Timestamp('2020-04-28 00:00:00'), Timestamp('2020-07-27 00:00:00'), Timestamp('2020-10-19 00:00:00'), Timestamp('2021-08-03 00:00:00'), Timestamp('2021-10-11 00:00:00'), Timestamp('2022-03-18 00:00:00'), Timestamp('2022-08-06 00:00:00'), Timestamp('2022-11-02 00:00:00'), Timestamp('2023-01-11 00:00:00'), Timestamp('2023-06-27 00:00:00'), Timestamp('2023-10-08 00:00:00')], 'buyprices': [8825.0, 7735.75, 11047.58, 11745.0, 38203.26, 57500.01, 41751.5, 22943.3, 20140.1, 17935.7, 30683.2, 27901.2], 'selldates': [Timestamp('2020-01-19 00:00:00'), Timestamp('2020-04-29 00:00:00'), Timestamp('2020-07-28 00:00:00'), Timestamp('2020-10-21 00:00:00'), Timestamp('2021-08-06 00:00:00'), Timestamp('2021-10-12 00:00:00'), Timestamp('2022-03-27 00:00:00'), Timestamp('2022-08-19 00:00:00'), Timestamp('2022-11-08 00:00:00'), Timestamp('2023-01-13 00:00:00'), Timestamp('2023-07-18 00:00:00'), Timestamp('2023-10-11 00:00:00')], 'sellprices': [8472.953614319431, 8500.17329478138, 10606.870582491, 12905.6051898274, 41978.38999781401, 55206.22295217036, 45877.25628634131, 22028.047213531445, 19336.672304561445, 19708.051341267543, 29459.187573811443, 26788.166955676978], 'profits': [-0.0408919417201778, 0.09781695954256275, -0.04089194172017768, 0.09781695954256278, 0.09781695954256282, -0.04089194172017777, 0.09781695954256281, -0.040891941720177766, -0.04089194172017782, 0.09781695954256271, -0.04089194172017774, -0.040891941720177745]} could not be cast to float.\n",
      "[W 2023-10-27 02:48:30,640] Trial 84 failed with value ({'buydates': [Timestamp('2020-01-14 00:00:00'), Timestamp('2020-04-28 00:00:00'), Timestamp('2020-07-27 00:00:00'), Timestamp('2020-10-19 00:00:00'), Timestamp('2021-08-03 00:00:00'), Timestamp('2021-10-11 00:00:00'), Timestamp('2022-03-18 00:00:00'), Timestamp('2022-08-06 00:00:00'), Timestamp('2022-11-02 00:00:00'), Timestamp('2023-01-11 00:00:00'), Timestamp('2023-06-27 00:00:00'), Timestamp('2023-10-08 00:00:00')], 'buyprices': [8825.0, 7735.75, 11047.58, 11745.0, 38203.26, 57500.01, 41751.5, 22943.3, 20140.1, 17935.7, 30683.2, 27901.2], 'selldates': [Timestamp('2020-01-19 00:00:00'), Timestamp('2020-04-29 00:00:00'), Timestamp('2020-07-28 00:00:00'), Timestamp('2020-10-21 00:00:00'), Timestamp('2021-08-06 00:00:00'), Timestamp('2021-10-12 00:00:00'), Timestamp('2022-03-27 00:00:00'), Timestamp('2022-08-19 00:00:00'), Timestamp('2022-11-08 00:00:00'), Timestamp('2023-01-13 00:00:00'), Timestamp('2023-07-18 00:00:00'), Timestamp('2023-10-11 00:00:00')], 'sellprices': [8472.953614319431, 8500.17329478138, 10606.870582491, 12905.6051898274, 41978.38999781401, 55206.22295217036, 45877.25628634131, 22028.047213531445, 19336.672304561445, 19708.051341267543, 29459.187573811443, 26788.166955676978], 'profits': [-0.0408919417201778, 0.09781695954256275, -0.04089194172017768, 0.09781695954256278, 0.09781695954256282, -0.04089194172017777, 0.09781695954256281, -0.040891941720177766, -0.04089194172017782, 0.09781695954256271, -0.04089194172017774, -0.040891941720177745]},     ticker  returns  winrate  trades  buy&hold_ret%\n",
      "0  BTCUSDT    19.05    41.67      12          240.9).\n"
     ]
    },
    {
     "name": "stdout",
     "output_type": "stream",
     "text": [
      "BTCUSDT, winrate=41.67%, returns=19.05%, no. of trades = 12, buy&hold_ret = 240.89999999999998%\n"
     ]
    },
    {
     "name": "stderr",
     "output_type": "stream",
     "text": [
      "[W 2023-10-27 02:48:30,978] Trial 85 failed with parameters: {'fast_ma_period': 18, 'slow_ma_period': 69, 'rsi_period': 14, 'sl_perc': 4.27892257183157, 'tp_perc': 6.392795012278135} because of the following error: The value {'buydates': [Timestamp('2020-01-14 00:00:00'), Timestamp('2020-04-30 00:00:00'), Timestamp('2020-07-27 00:00:00'), Timestamp('2020-10-19 00:00:00'), Timestamp('2021-08-02 00:00:00'), Timestamp('2021-10-09 00:00:00'), Timestamp('2022-03-24 00:00:00'), Timestamp('2022-08-09 00:00:00'), Timestamp('2022-11-01 00:00:00'), Timestamp('2023-01-13 00:00:00'), Timestamp('2023-06-26 00:00:00'), Timestamp('2023-10-09 00:00:00')], 'buyprices': [8825.0, 8624.76, 11047.58, 11745.0, 39147.48, 54960.77, 43973.4, 23140.2, 20472.1, 19924.2, 30260.1, 27578.3], 'selldates': [Timestamp('2020-01-19 00:00:00'), Timestamp('2020-05-03 00:00:00'), Timestamp('2020-08-01 00:00:00'), Timestamp('2020-10-21 00:00:00'), Timestamp('2021-08-05 00:00:00'), Timestamp('2021-10-14 00:00:00'), Timestamp('2022-03-27 00:00:00'), Timestamp('2022-08-11 00:00:00'), Timestamp('2022-11-08 00:00:00'), Timestamp('2023-01-14 00:00:00'), Timestamp('2023-07-24 00:00:00'), Timestamp('2023-10-16 00:00:00')], 'sellprices': [8447.385083035864, 9176.123227100961, 11753.829143217437, 12495.833774192068, 37472.389641976755, 58474.29936326966, 46784.52932192912, 24619.505551431186, 19596.11469217207, 21197.913263836323, 28965.293750841196, 29341.3241868711], 'profits': [-0.04378922571831567, 0.0629279501227815, 0.0629279501227814, 0.06292795012278142, -0.04378922571831566, 0.06292795012278145, 0.06292795012278146, 0.06292795012278136, -0.04378922571831567, 0.06292795012278143, -0.04378922571831562, 0.06292795012278138]} could not be cast to float.\n",
      "[W 2023-10-27 02:48:30,985] Trial 85 failed with value ({'buydates': [Timestamp('2020-01-14 00:00:00'), Timestamp('2020-04-30 00:00:00'), Timestamp('2020-07-27 00:00:00'), Timestamp('2020-10-19 00:00:00'), Timestamp('2021-08-02 00:00:00'), Timestamp('2021-10-09 00:00:00'), Timestamp('2022-03-24 00:00:00'), Timestamp('2022-08-09 00:00:00'), Timestamp('2022-11-01 00:00:00'), Timestamp('2023-01-13 00:00:00'), Timestamp('2023-06-26 00:00:00'), Timestamp('2023-10-09 00:00:00')], 'buyprices': [8825.0, 8624.76, 11047.58, 11745.0, 39147.48, 54960.77, 43973.4, 23140.2, 20472.1, 19924.2, 30260.1, 27578.3], 'selldates': [Timestamp('2020-01-19 00:00:00'), Timestamp('2020-05-03 00:00:00'), Timestamp('2020-08-01 00:00:00'), Timestamp('2020-10-21 00:00:00'), Timestamp('2021-08-05 00:00:00'), Timestamp('2021-10-14 00:00:00'), Timestamp('2022-03-27 00:00:00'), Timestamp('2022-08-11 00:00:00'), Timestamp('2022-11-08 00:00:00'), Timestamp('2023-01-14 00:00:00'), Timestamp('2023-07-24 00:00:00'), Timestamp('2023-10-16 00:00:00')], 'sellprices': [8447.385083035864, 9176.123227100961, 11753.829143217437, 12495.833774192068, 37472.389641976755, 58474.29936326966, 46784.52932192912, 24619.505551431186, 19596.11469217207, 21197.913263836323, 28965.293750841196, 29341.3241868711], 'profits': [-0.04378922571831567, 0.0629279501227815, 0.0629279501227814, 0.06292795012278142, -0.04378922571831566, 0.06292795012278145, 0.06292795012278146, 0.06292795012278136, -0.04378922571831567, 0.06292795012278143, -0.04378922571831562, 0.06292795012278138]},     ticker  returns  winrate  trades  buy&hold_ret%\n",
      "0  BTCUSDT    36.22    66.67      12          240.9).\n"
     ]
    },
    {
     "name": "stdout",
     "output_type": "stream",
     "text": [
      "BTCUSDT, winrate=66.67%, returns=36.22%, no. of trades = 12, buy&hold_ret = 240.89999999999998%\n"
     ]
    },
    {
     "name": "stderr",
     "output_type": "stream",
     "text": [
      "[W 2023-10-27 02:48:31,385] Trial 86 failed with parameters: {'fast_ma_period': 16, 'slow_ma_period': 61, 'rsi_period': 13, 'sl_perc': 6.392770092890504, 'tp_perc': 8.088501155929524} because of the following error: The value {'buydates': [Timestamp('2020-01-11 00:00:00'), Timestamp('2020-04-26 00:00:00'), Timestamp('2020-07-27 00:00:00'), Timestamp('2020-10-16 00:00:00'), Timestamp('2021-07-31 00:00:00'), Timestamp('2021-10-09 00:00:00'), Timestamp('2022-03-22 00:00:00'), Timestamp('2022-08-02 00:00:00'), Timestamp('2022-10-30 00:00:00'), Timestamp('2023-01-10 00:00:00'), Timestamp('2023-03-19 00:00:00'), Timestamp('2023-06-25 00:00:00'), Timestamp('2023-10-06 00:00:00')], 'buyprices': [8020.56, 7694.17, 11047.58, 11318.92, 41448.11, 54960.77, 42349.8, 22975.1, 20615.6, 17428.8, 27955.7, 30458.0, 27916.3], 'selldates': [Timestamp('2020-01-14 00:00:00'), Timestamp('2020-04-29 00:00:00'), Timestamp('2020-08-02 00:00:00'), Timestamp('2020-10-21 00:00:00'), Timestamp('2021-08-02 00:00:00'), Timestamp('2021-10-15 00:00:00'), Timestamp('2022-03-27 00:00:00'), Timestamp('2022-08-11 00:00:00'), Timestamp('2022-11-08 00:00:00'), Timestamp('2023-01-12 00:00:00'), Timestamp('2023-04-11 00:00:00'), Timestamp('2023-08-17 00:00:00'), Timestamp('2023-10-16 00:00:00')], 'sellprices': [8669.303088312021, 8316.513029389182, 11941.163636002238, 12234.450975038737, 38798.427619851645, 59406.27251675776, 45775.26406253384, 24833.44122907596, 19297.692088730066, 18838.52868946464, 30216.89711764819, 28510.89008510741, 30174.310248192753], 'profits': [0.07988501155929517, 0.07988501155929509, 0.07988501155929521, 0.07988501155929513, -0.06492770092890496, 0.07988501155929516, 0.0798850115592951, 0.07988501155929517, -0.06492770092890496, 0.07988501155929509, 0.07988501155929521, -0.06492770092890504, 0.07988501155929523]} could not be cast to float.\n",
      "[W 2023-10-27 02:48:31,394] Trial 86 failed with value ({'buydates': [Timestamp('2020-01-11 00:00:00'), Timestamp('2020-04-26 00:00:00'), Timestamp('2020-07-27 00:00:00'), Timestamp('2020-10-16 00:00:00'), Timestamp('2021-07-31 00:00:00'), Timestamp('2021-10-09 00:00:00'), Timestamp('2022-03-22 00:00:00'), Timestamp('2022-08-02 00:00:00'), Timestamp('2022-10-30 00:00:00'), Timestamp('2023-01-10 00:00:00'), Timestamp('2023-03-19 00:00:00'), Timestamp('2023-06-25 00:00:00'), Timestamp('2023-10-06 00:00:00')], 'buyprices': [8020.56, 7694.17, 11047.58, 11318.92, 41448.11, 54960.77, 42349.8, 22975.1, 20615.6, 17428.8, 27955.7, 30458.0, 27916.3], 'selldates': [Timestamp('2020-01-14 00:00:00'), Timestamp('2020-04-29 00:00:00'), Timestamp('2020-08-02 00:00:00'), Timestamp('2020-10-21 00:00:00'), Timestamp('2021-08-02 00:00:00'), Timestamp('2021-10-15 00:00:00'), Timestamp('2022-03-27 00:00:00'), Timestamp('2022-08-11 00:00:00'), Timestamp('2022-11-08 00:00:00'), Timestamp('2023-01-12 00:00:00'), Timestamp('2023-04-11 00:00:00'), Timestamp('2023-08-17 00:00:00'), Timestamp('2023-10-16 00:00:00')], 'sellprices': [8669.303088312021, 8316.513029389182, 11941.163636002238, 12234.450975038737, 38798.427619851645, 59406.27251675776, 45775.26406253384, 24833.44122907596, 19297.692088730066, 18838.52868946464, 30216.89711764819, 28510.89008510741, 30174.310248192753], 'profits': [0.07988501155929517, 0.07988501155929509, 0.07988501155929521, 0.07988501155929513, -0.06492770092890496, 0.07988501155929516, 0.0798850115592951, 0.07988501155929517, -0.06492770092890496, 0.07988501155929509, 0.07988501155929521, -0.06492770092890504, 0.07988501155929523]},     ticker  returns  winrate  trades  buy&hold_ret%\n",
      "0  BTCUSDT    76.32    76.92      13          240.9).\n"
     ]
    },
    {
     "name": "stdout",
     "output_type": "stream",
     "text": [
      "BTCUSDT, winrate=76.92%, returns=76.32%, no. of trades = 13, buy&hold_ret = 240.89999999999998%\n"
     ]
    },
    {
     "name": "stderr",
     "output_type": "stream",
     "text": [
      "[W 2023-10-27 02:48:31,823] Trial 87 failed with parameters: {'fast_ma_period': 16, 'slow_ma_period': 62, 'rsi_period': 19, 'sl_perc': 3.432587744771432, 'tp_perc': 9.584159206657796} because of the following error: The value {'buydates': [Timestamp('2020-01-11 00:00:00'), Timestamp('2020-04-27 00:00:00'), Timestamp('2020-07-27 00:00:00'), Timestamp('2020-10-16 00:00:00'), Timestamp('2021-07-31 00:00:00'), Timestamp('2021-10-09 00:00:00'), Timestamp('2022-03-22 00:00:00'), Timestamp('2022-08-02 00:00:00'), Timestamp('2022-10-30 00:00:00'), Timestamp('2023-01-10 00:00:00'), Timestamp('2023-03-18 00:00:00'), Timestamp('2023-06-26 00:00:00'), Timestamp('2023-10-06 00:00:00')], 'buyprices': [8020.56, 7774.0, 11047.58, 11318.92, 41448.11, 54960.77, 42349.8, 22975.1, 20615.6, 17428.8, 26907.0, 30260.1, 27916.3], 'selldates': [Timestamp('2020-01-14 00:00:00'), Timestamp('2020-04-29 00:00:00'), Timestamp('2020-07-28 00:00:00'), Timestamp('2020-10-21 00:00:00'), Timestamp('2021-08-01 00:00:00'), Timestamp('2021-10-15 00:00:00'), Timestamp('2022-03-27 00:00:00'), Timestamp('2022-08-15 00:00:00'), Timestamp('2022-11-08 00:00:00'), Timestamp('2023-01-12 00:00:00'), Timestamp('2023-04-10 00:00:00'), Timestamp('2023-07-24 00:00:00'), Timestamp('2023-10-11 00:00:00')], 'sellprices': [8789.263239665514, 8519.072536725578, 10668.36212282618, 12403.743313274232, 40025.36725570062, 60228.297698005015, 46408.67225570117, 25177.070161888834, 19907.9514408889, 19099.203939809973, 29485.809717735414, 29221.39551584442, 26958.048507406373], 'profits': [0.09484159206657804, 0.0948415920665781, -0.035325877447714336, 0.09484159206657805, -0.035325877447714246, 0.09484159206657801, 0.09484159206657798, 0.09484159206657798, -0.035325877447714246, 0.09484159206657797, 0.09484159206657798, -0.035325877447714316, -0.035325877447714295]} could not be cast to float.\n",
      "[W 2023-10-27 02:48:31,831] Trial 87 failed with value ({'buydates': [Timestamp('2020-01-11 00:00:00'), Timestamp('2020-04-27 00:00:00'), Timestamp('2020-07-27 00:00:00'), Timestamp('2020-10-16 00:00:00'), Timestamp('2021-07-31 00:00:00'), Timestamp('2021-10-09 00:00:00'), Timestamp('2022-03-22 00:00:00'), Timestamp('2022-08-02 00:00:00'), Timestamp('2022-10-30 00:00:00'), Timestamp('2023-01-10 00:00:00'), Timestamp('2023-03-18 00:00:00'), Timestamp('2023-06-26 00:00:00'), Timestamp('2023-10-06 00:00:00')], 'buyprices': [8020.56, 7774.0, 11047.58, 11318.92, 41448.11, 54960.77, 42349.8, 22975.1, 20615.6, 17428.8, 26907.0, 30260.1, 27916.3], 'selldates': [Timestamp('2020-01-14 00:00:00'), Timestamp('2020-04-29 00:00:00'), Timestamp('2020-07-28 00:00:00'), Timestamp('2020-10-21 00:00:00'), Timestamp('2021-08-01 00:00:00'), Timestamp('2021-10-15 00:00:00'), Timestamp('2022-03-27 00:00:00'), Timestamp('2022-08-15 00:00:00'), Timestamp('2022-11-08 00:00:00'), Timestamp('2023-01-12 00:00:00'), Timestamp('2023-04-10 00:00:00'), Timestamp('2023-07-24 00:00:00'), Timestamp('2023-10-11 00:00:00')], 'sellprices': [8789.263239665514, 8519.072536725578, 10668.36212282618, 12403.743313274232, 40025.36725570062, 60228.297698005015, 46408.67225570117, 25177.070161888834, 19907.9514408889, 19099.203939809973, 29485.809717735414, 29221.39551584442, 26958.048507406373], 'profits': [0.09484159206657804, 0.0948415920665781, -0.035325877447714336, 0.09484159206657805, -0.035325877447714246, 0.09484159206657801, 0.09484159206657798, 0.09484159206657798, -0.035325877447714246, 0.09484159206657797, 0.09484159206657798, -0.035325877447714316, -0.035325877447714295]},     ticker  returns  winrate  trades  buy&hold_ret%\n",
      "0  BTCUSDT    72.47    61.54      13          240.9).\n"
     ]
    },
    {
     "name": "stdout",
     "output_type": "stream",
     "text": [
      "BTCUSDT, winrate=61.54%, returns=72.47%, no. of trades = 13, buy&hold_ret = 240.89999999999998%\n"
     ]
    },
    {
     "name": "stderr",
     "output_type": "stream",
     "text": [
      "[W 2023-10-27 02:48:32,306] Trial 88 failed with parameters: {'fast_ma_period': 18, 'slow_ma_period': 64, 'rsi_period': 19, 'sl_perc': 6.980159369804856, 'tp_perc': 9.1574929990296} because of the following error: The value {'buydates': [Timestamp('2020-01-13 00:00:00'), Timestamp('2020-04-28 00:00:00'), Timestamp('2020-07-27 00:00:00'), Timestamp('2020-10-18 00:00:00'), Timestamp('2021-08-01 00:00:00'), Timestamp('2021-10-10 00:00:00'), Timestamp('2022-03-17 00:00:00'), Timestamp('2022-10-31 00:00:00'), Timestamp('2023-01-11 00:00:00'), Timestamp('2023-03-17 00:00:00'), Timestamp('2023-06-26 00:00:00'), Timestamp('2023-10-07 00:00:00')], 'buyprices': [8113.0, 7735.75, 11047.58, 11501.1, 39846.78, 54700.0, 40898.1, 20482.0, 17935.7, 27384.0, 30260.1, 27943.0], 'selldates': [Timestamp('2020-01-14 00:00:00'), Timestamp('2020-04-29 00:00:00'), Timestamp('2020-08-02 00:00:00'), Timestamp('2020-10-21 00:00:00'), Timestamp('2021-08-07 00:00:00'), Timestamp('2021-10-15 00:00:00'), Timestamp('2022-03-25 00:00:00'), Timestamp('2022-11-08 00:00:00'), Timestamp('2023-01-13 00:00:00'), Timestamp('2023-04-11 00:00:00'), Timestamp('2023-08-17 00:00:00'), Timestamp('2023-10-16 00:00:00')], 'sellprices': [8855.94740701127, 8444.150764672431, 12059.261365062193, 12554.312427311394, 43495.74608883872, 59709.148670469185, 44643.34064423612, 19052.32375787657, 19578.160471826952, 29891.687882854265, 28147.896794537683, 30501.87826871884], 'profits': [0.09057492999029583, 0.09057492999029587, 0.09057492999029593, 0.09057492999029598, 0.0905749299902959, 0.09057492999029589, 0.090574929990296, -0.07080159369804856, 0.09057492999029594, 0.09057492999029597, -0.07080159369804846, 0.09057492999029594]} could not be cast to float.\n",
      "[W 2023-10-27 02:48:32,312] Trial 88 failed with value ({'buydates': [Timestamp('2020-01-13 00:00:00'), Timestamp('2020-04-28 00:00:00'), Timestamp('2020-07-27 00:00:00'), Timestamp('2020-10-18 00:00:00'), Timestamp('2021-08-01 00:00:00'), Timestamp('2021-10-10 00:00:00'), Timestamp('2022-03-17 00:00:00'), Timestamp('2022-10-31 00:00:00'), Timestamp('2023-01-11 00:00:00'), Timestamp('2023-03-17 00:00:00'), Timestamp('2023-06-26 00:00:00'), Timestamp('2023-10-07 00:00:00')], 'buyprices': [8113.0, 7735.75, 11047.58, 11501.1, 39846.78, 54700.0, 40898.1, 20482.0, 17935.7, 27384.0, 30260.1, 27943.0], 'selldates': [Timestamp('2020-01-14 00:00:00'), Timestamp('2020-04-29 00:00:00'), Timestamp('2020-08-02 00:00:00'), Timestamp('2020-10-21 00:00:00'), Timestamp('2021-08-07 00:00:00'), Timestamp('2021-10-15 00:00:00'), Timestamp('2022-03-25 00:00:00'), Timestamp('2022-11-08 00:00:00'), Timestamp('2023-01-13 00:00:00'), Timestamp('2023-04-11 00:00:00'), Timestamp('2023-08-17 00:00:00'), Timestamp('2023-10-16 00:00:00')], 'sellprices': [8855.94740701127, 8444.150764672431, 12059.261365062193, 12554.312427311394, 43495.74608883872, 59709.148670469185, 44643.34064423612, 19052.32375787657, 19578.160471826952, 29891.687882854265, 28147.896794537683, 30501.87826871884], 'profits': [0.09057492999029583, 0.09057492999029587, 0.09057492999029593, 0.09057492999029598, 0.0905749299902959, 0.09057492999029589, 0.090574929990296, -0.07080159369804856, 0.09057492999029594, 0.09057492999029597, -0.07080159369804846, 0.09057492999029594]},     ticker  returns  winrate  trades  buy&hold_ret%\n",
      "0  BTCUSDT   105.48    83.33      12          240.9).\n"
     ]
    },
    {
     "name": "stdout",
     "output_type": "stream",
     "text": [
      "BTCUSDT, winrate=83.33%, returns=105.48%, no. of trades = 12, buy&hold_ret = 240.89999999999998%\n"
     ]
    },
    {
     "name": "stderr",
     "output_type": "stream",
     "text": [
      "[W 2023-10-27 02:48:32,632] Trial 89 failed with parameters: {'fast_ma_period': 25, 'slow_ma_period': 54, 'rsi_period': 24, 'sl_perc': 4.612722294499628, 'tp_perc': 10.411854628280013} because of the following error: The value {'buydates': [Timestamp('2020-01-11 00:00:00'), Timestamp('2020-04-23 00:00:00'), Timestamp('2020-07-28 00:00:00'), Timestamp('2020-10-16 00:00:00'), Timestamp('2021-08-03 00:00:00'), Timestamp('2021-10-13 00:00:00'), Timestamp('2022-03-23 00:00:00'), Timestamp('2022-03-29 00:00:00'), Timestamp('2022-08-01 00:00:00'), Timestamp('2022-11-03 00:00:00'), Timestamp('2023-01-11 00:00:00'), Timestamp('2023-03-18 00:00:00'), Timestamp('2023-06-26 00:00:00'), Timestamp('2023-10-05 00:00:00')], 'buyprices': [8020.56, 7483.35, 10919.94, 11318.92, 38203.26, 57393.65, 42867.9, 47418.5, 23257.6, 20199.7, 17935.7, 26907.0, 30260.1, 27398.4], 'selldates': [Timestamp('2020-01-14 00:00:00'), Timestamp('2020-04-29 00:00:00'), Timestamp('2020-08-02 00:00:00'), Timestamp('2020-10-21 00:00:00'), Timestamp('2021-08-06 00:00:00'), Timestamp('2021-10-15 00:00:00'), Timestamp('2022-03-28 00:00:00'), Timestamp('2022-03-31 00:00:00'), Timestamp('2022-08-19 00:00:00'), Timestamp('2022-11-08 00:00:00'), Timestamp('2023-01-13 00:00:00'), Timestamp('2023-04-10 00:00:00'), Timestamp('2023-07-24 00:00:00'), Timestamp('2023-10-16 00:00:00')], 'sellprices': [8855.649047573976, 8262.505523325392, 12056.9082782954, 12497.42949589131, 42180.92789446384, 63369.393403863825, 47331.243430196446, 45231.2162787827, 22184.79149963445, 19267.943934677958, 19803.139010564417, 29708.5177248313, 28864.285620962117, 30251.08157847467], 'profits': [0.1031185462828001, 0.10311854628279997, 0.10311854628279997, 0.1031185462828, 0.10311854628279996, 0.1031185462828, 0.10311854628280005, -0.047127222944996223, -0.04712722294499635, -0.04712722294499634, 0.1031185462828, 0.10311854628280005, -0.04712722294499628, 0.10311854628280004]} could not be cast to float.\n",
      "[W 2023-10-27 02:48:32,637] Trial 89 failed with value ({'buydates': [Timestamp('2020-01-11 00:00:00'), Timestamp('2020-04-23 00:00:00'), Timestamp('2020-07-28 00:00:00'), Timestamp('2020-10-16 00:00:00'), Timestamp('2021-08-03 00:00:00'), Timestamp('2021-10-13 00:00:00'), Timestamp('2022-03-23 00:00:00'), Timestamp('2022-03-29 00:00:00'), Timestamp('2022-08-01 00:00:00'), Timestamp('2022-11-03 00:00:00'), Timestamp('2023-01-11 00:00:00'), Timestamp('2023-03-18 00:00:00'), Timestamp('2023-06-26 00:00:00'), Timestamp('2023-10-05 00:00:00')], 'buyprices': [8020.56, 7483.35, 10919.94, 11318.92, 38203.26, 57393.65, 42867.9, 47418.5, 23257.6, 20199.7, 17935.7, 26907.0, 30260.1, 27398.4], 'selldates': [Timestamp('2020-01-14 00:00:00'), Timestamp('2020-04-29 00:00:00'), Timestamp('2020-08-02 00:00:00'), Timestamp('2020-10-21 00:00:00'), Timestamp('2021-08-06 00:00:00'), Timestamp('2021-10-15 00:00:00'), Timestamp('2022-03-28 00:00:00'), Timestamp('2022-03-31 00:00:00'), Timestamp('2022-08-19 00:00:00'), Timestamp('2022-11-08 00:00:00'), Timestamp('2023-01-13 00:00:00'), Timestamp('2023-04-10 00:00:00'), Timestamp('2023-07-24 00:00:00'), Timestamp('2023-10-16 00:00:00')], 'sellprices': [8855.649047573976, 8262.505523325392, 12056.9082782954, 12497.42949589131, 42180.92789446384, 63369.393403863825, 47331.243430196446, 45231.2162787827, 22184.79149963445, 19267.943934677958, 19803.139010564417, 29708.5177248313, 28864.285620962117, 30251.08157847467], 'profits': [0.1031185462828001, 0.10311854628279997, 0.10311854628279997, 0.1031185462828, 0.10311854628279996, 0.1031185462828, 0.10311854628280005, -0.047127222944996223, -0.04712722294499635, -0.04712722294499634, 0.1031185462828, 0.10311854628280005, -0.04712722294499628, 0.10311854628280004]},     ticker  returns  winrate  trades  buy&hold_ret%\n",
      "0  BTCUSDT   119.97    71.43      14          240.9).\n"
     ]
    },
    {
     "name": "stdout",
     "output_type": "stream",
     "text": [
      "BTCUSDT, winrate=71.43%, returns=119.97%, no. of trades = 14, buy&hold_ret = 240.89999999999998%\n"
     ]
    },
    {
     "name": "stderr",
     "output_type": "stream",
     "text": [
      "[W 2023-10-27 02:48:32,987] Trial 90 failed with parameters: {'fast_ma_period': 24, 'slow_ma_period': 54, 'rsi_period': 13, 'sl_perc': 7.164585180663511, 'tp_perc': 8.879634975159759} because of the following error: The value {'buydates': [Timestamp('2020-01-10 00:00:00'), Timestamp('2020-04-23 00:00:00'), Timestamp('2020-07-28 00:00:00'), Timestamp('2020-10-16 00:00:00'), Timestamp('2021-08-03 00:00:00'), Timestamp('2021-10-13 00:00:00'), Timestamp('2022-03-20 00:00:00'), Timestamp('2022-03-28 00:00:00'), Timestamp('2022-08-01 00:00:00'), Timestamp('2022-11-03 00:00:00'), Timestamp('2023-01-11 00:00:00'), Timestamp('2023-03-19 00:00:00'), Timestamp('2023-06-26 00:00:00'), Timestamp('2023-10-04 00:00:00')], 'buyprices': [8207.09, 7483.35, 10919.94, 11318.92, 38203.26, 57393.65, 41261.0, 47121.9, 23257.6, 20199.7, 17935.7, 27955.7, 30260.1, 27759.8], 'selldates': [Timestamp('2020-01-17 00:00:00'), Timestamp('2020-04-29 00:00:00'), Timestamp('2020-08-02 00:00:00'), Timestamp('2020-10-21 00:00:00'), Timestamp('2021-08-06 00:00:00'), Timestamp('2021-10-15 00:00:00'), Timestamp('2022-03-25 00:00:00'), Timestamp('2022-04-06 00:00:00'), Timestamp('2022-08-19 00:00:00'), Timestamp('2022-11-08 00:00:00'), Timestamp('2023-01-13 00:00:00'), Timestamp('2023-04-11 00:00:00'), Timestamp('2023-08-17 00:00:00'), Timestamp('2023-10-16 00:00:00')], 'sellprices': [8935.849634082839, 8147.844163913618, 11889.590811506461, 12323.998779130352, 41595.57003661122, 62489.99661892078, 44924.82618710067, 43745.81133575292, 21591.289437022002, 18752.475287261514, 19528.32469023973, 30438.064114750738, 28092.08935974604, 30224.768909834398], 'profits': [0.08779634975159753, 0.08779634975159757, 0.0877963497515976, 0.08779634975159749, 0.08779634975159761, 0.08779634975159753, 0.08779634975159761, -0.07264585180663512, -0.0726458518066351, -0.0726458518066351, 0.08779634975159759, 0.0877963497515976, -0.07264585180663503, 0.08779634975159759]} could not be cast to float.\n",
      "[W 2023-10-27 02:48:32,995] Trial 90 failed with value ({'buydates': [Timestamp('2020-01-10 00:00:00'), Timestamp('2020-04-23 00:00:00'), Timestamp('2020-07-28 00:00:00'), Timestamp('2020-10-16 00:00:00'), Timestamp('2021-08-03 00:00:00'), Timestamp('2021-10-13 00:00:00'), Timestamp('2022-03-20 00:00:00'), Timestamp('2022-03-28 00:00:00'), Timestamp('2022-08-01 00:00:00'), Timestamp('2022-11-03 00:00:00'), Timestamp('2023-01-11 00:00:00'), Timestamp('2023-03-19 00:00:00'), Timestamp('2023-06-26 00:00:00'), Timestamp('2023-10-04 00:00:00')], 'buyprices': [8207.09, 7483.35, 10919.94, 11318.92, 38203.26, 57393.65, 41261.0, 47121.9, 23257.6, 20199.7, 17935.7, 27955.7, 30260.1, 27759.8], 'selldates': [Timestamp('2020-01-17 00:00:00'), Timestamp('2020-04-29 00:00:00'), Timestamp('2020-08-02 00:00:00'), Timestamp('2020-10-21 00:00:00'), Timestamp('2021-08-06 00:00:00'), Timestamp('2021-10-15 00:00:00'), Timestamp('2022-03-25 00:00:00'), Timestamp('2022-04-06 00:00:00'), Timestamp('2022-08-19 00:00:00'), Timestamp('2022-11-08 00:00:00'), Timestamp('2023-01-13 00:00:00'), Timestamp('2023-04-11 00:00:00'), Timestamp('2023-08-17 00:00:00'), Timestamp('2023-10-16 00:00:00')], 'sellprices': [8935.849634082839, 8147.844163913618, 11889.590811506461, 12323.998779130352, 41595.57003661122, 62489.99661892078, 44924.82618710067, 43745.81133575292, 21591.289437022002, 18752.475287261514, 19528.32469023973, 30438.064114750738, 28092.08935974604, 30224.768909834398], 'profits': [0.08779634975159753, 0.08779634975159757, 0.0877963497515976, 0.08779634975159749, 0.08779634975159761, 0.08779634975159753, 0.08779634975159761, -0.07264585180663512, -0.0726458518066351, -0.0726458518066351, 0.08779634975159759, 0.0877963497515976, -0.07264585180663503, 0.08779634975159759]},     ticker  returns  winrate  trades  buy&hold_ret%\n",
      "0  BTCUSDT    71.58    71.43      14          240.9).\n"
     ]
    },
    {
     "name": "stdout",
     "output_type": "stream",
     "text": [
      "BTCUSDT, winrate=71.43%, returns=71.58%, no. of trades = 14, buy&hold_ret = 240.89999999999998%\n"
     ]
    },
    {
     "name": "stderr",
     "output_type": "stream",
     "text": [
      "[W 2023-10-27 02:48:33,412] Trial 91 failed with parameters: {'fast_ma_period': 16, 'slow_ma_period': 74, 'rsi_period': 23, 'sl_perc': 6.580569086805509, 'tp_perc': 6.621184090103606} because of the following error: The value {'buydates': [Timestamp('2020-01-15 00:00:00'), Timestamp('2020-05-01 00:00:00'), Timestamp('2020-07-27 00:00:00'), Timestamp('2020-10-18 00:00:00'), Timestamp('2021-08-01 00:00:00'), Timestamp('2021-10-07 00:00:00'), Timestamp('2022-03-23 00:00:00'), Timestamp('2022-08-11 00:00:00'), Timestamp('2022-11-01 00:00:00'), Timestamp('2023-01-14 00:00:00'), Timestamp('2023-06-26 00:00:00'), Timestamp('2023-10-10 00:00:00')], 'buyprices': [8825.3, 8830.52, 11047.58, 11501.1, 39846.78, 53814.99, 42867.9, 23917.2, 20472.1, 20962.8, 30260.1, 27381.2], 'selldates': [Timestamp('2020-01-28 00:00:00'), Timestamp('2020-05-07 00:00:00'), Timestamp('2020-08-01 00:00:00'), Timestamp('2020-10-21 00:00:00'), Timestamp('2021-08-06 00:00:00'), Timestamp('2021-10-11 00:00:00'), Timestamp('2022-03-27 00:00:00'), Timestamp('2022-08-19 00:00:00'), Timestamp('2022-11-08 00:00:00'), Timestamp('2023-01-20 00:00:00'), Timestamp('2023-08-17 00:00:00'), Timestamp('2023-10-16 00:00:00')], 'sellprices': [9409.639359503914, 9415.204985313418, 11779.060609301469, 12262.609003386908, 42485.10865777859, 57378.17955597085, 45706.26257456153, 22343.312130370552, 19124.91931598009, 22350.785578440238, 28268.813213763566, 29194.15965807945], 'profits': [0.06521184090103614, 0.06521184090103609, 0.06521184090103611, 0.06521184090103618, 0.0652118409010362, 0.06521184090103613, 0.06521184090103616, -0.06680569086805516, -0.06680569086805505, 0.06521184090103607, -0.06680569086805506, 0.0652118409010361]} could not be cast to float.\n",
      "[W 2023-10-27 02:48:33,421] Trial 91 failed with value ({'buydates': [Timestamp('2020-01-15 00:00:00'), Timestamp('2020-05-01 00:00:00'), Timestamp('2020-07-27 00:00:00'), Timestamp('2020-10-18 00:00:00'), Timestamp('2021-08-01 00:00:00'), Timestamp('2021-10-07 00:00:00'), Timestamp('2022-03-23 00:00:00'), Timestamp('2022-08-11 00:00:00'), Timestamp('2022-11-01 00:00:00'), Timestamp('2023-01-14 00:00:00'), Timestamp('2023-06-26 00:00:00'), Timestamp('2023-10-10 00:00:00')], 'buyprices': [8825.3, 8830.52, 11047.58, 11501.1, 39846.78, 53814.99, 42867.9, 23917.2, 20472.1, 20962.8, 30260.1, 27381.2], 'selldates': [Timestamp('2020-01-28 00:00:00'), Timestamp('2020-05-07 00:00:00'), Timestamp('2020-08-01 00:00:00'), Timestamp('2020-10-21 00:00:00'), Timestamp('2021-08-06 00:00:00'), Timestamp('2021-10-11 00:00:00'), Timestamp('2022-03-27 00:00:00'), Timestamp('2022-08-19 00:00:00'), Timestamp('2022-11-08 00:00:00'), Timestamp('2023-01-20 00:00:00'), Timestamp('2023-08-17 00:00:00'), Timestamp('2023-10-16 00:00:00')], 'sellprices': [9409.639359503914, 9415.204985313418, 11779.060609301469, 12262.609003386908, 42485.10865777859, 57378.17955597085, 45706.26257456153, 22343.312130370552, 19124.91931598009, 22350.785578440238, 28268.813213763566, 29194.15965807945], 'profits': [0.06521184090103614, 0.06521184090103609, 0.06521184090103611, 0.06521184090103618, 0.0652118409010362, 0.06521184090103613, 0.06521184090103616, -0.06680569086805516, -0.06680569086805505, 0.06521184090103607, -0.06680569086805506, 0.0652118409010361]},     ticker  returns  winrate  trades  buy&hold_ret%\n",
      "0  BTCUSDT     43.5     75.0      12          240.9).\n"
     ]
    },
    {
     "name": "stdout",
     "output_type": "stream",
     "text": [
      "BTCUSDT, winrate=75.0%, returns=43.5%, no. of trades = 12, buy&hold_ret = 240.89999999999998%\n"
     ]
    },
    {
     "name": "stderr",
     "output_type": "stream",
     "text": [
      "[W 2023-10-27 02:48:33,768] Trial 92 failed with parameters: {'fast_ma_period': 17, 'slow_ma_period': 51, 'rsi_period': 17, 'sl_perc': 5.435532714775552, 'tp_perc': 10.730150043608733} because of the following error: The value {'buydates': [Timestamp('2019-11-04 00:00:00'), Timestamp('2020-01-07 00:00:00'), Timestamp('2020-04-18 00:00:00'), Timestamp('2020-07-27 00:00:00'), Timestamp('2020-10-13 00:00:00'), Timestamp('2021-07-31 00:00:00'), Timestamp('2021-10-10 00:00:00'), Timestamp('2022-03-02 00:00:00'), Timestamp('2022-03-25 00:00:00'), Timestamp('2022-07-28 00:00:00'), Timestamp('2022-10-30 00:00:00'), Timestamp('2023-01-11 00:00:00'), Timestamp('2023-03-19 00:00:00'), Timestamp('2023-06-24 00:00:00'), Timestamp('2023-10-01 00:00:00')], 'buyprices': [9395.46, 8152.49, 7242.42, 11047.58, 11419.36, 41448.11, 54700.0, 43885.7, 44290.6, 23836.2, 20615.6, 17935.7, 27955.7, 30524.2, 27981.4], 'selldates': [Timestamp('2019-11-08 00:00:00'), Timestamp('2020-01-10 00:00:00'), Timestamp('2020-04-20 00:00:00'), Timestamp('2020-08-17 00:00:00'), Timestamp('2020-10-21 00:00:00'), Timestamp('2021-08-02 00:00:00'), Timestamp('2021-10-15 00:00:00'), Timestamp('2022-03-04 00:00:00'), Timestamp('2022-04-10 00:00:00'), Timestamp('2022-08-04 00:00:00'), Timestamp('2022-11-08 00:00:00'), Timestamp('2023-01-13 00:00:00'), Timestamp('2023-04-14 00:00:00'), Timestamp('2023-07-24 00:00:00'), Timestamp('2023-10-23 00:00:00')], 'sellprices': [8884.766697996349, 7709.358738981195, 6848.755891558553, 12233.00191018771, 12644.674462019839, 39195.184421293845, 60569.392073853975, 41500.27841939175, 41883.16994742962, 22540.57555104067, 19495.03231765273, 19860.227521371533, 30955.388555741127, 28865.04712307648, 30983.846204302336], 'profits': [-0.05535532714775545, -0.05535532714775549, -0.05535532714775542, 0.10630150043608734, 0.10630150043608733, -0.055355327147755484, 0.10630150043608728, -0.05535532714775543, -0.05535532714775551, -0.05535532714775552, -0.05535532714775548, 0.10630150043608737, 0.10630150043608731, -0.055355327147755526, 0.10630150043608733]} could not be cast to float.\n",
      "[W 2023-10-27 02:48:33,776] Trial 92 failed with value ({'buydates': [Timestamp('2019-11-04 00:00:00'), Timestamp('2020-01-07 00:00:00'), Timestamp('2020-04-18 00:00:00'), Timestamp('2020-07-27 00:00:00'), Timestamp('2020-10-13 00:00:00'), Timestamp('2021-07-31 00:00:00'), Timestamp('2021-10-10 00:00:00'), Timestamp('2022-03-02 00:00:00'), Timestamp('2022-03-25 00:00:00'), Timestamp('2022-07-28 00:00:00'), Timestamp('2022-10-30 00:00:00'), Timestamp('2023-01-11 00:00:00'), Timestamp('2023-03-19 00:00:00'), Timestamp('2023-06-24 00:00:00'), Timestamp('2023-10-01 00:00:00')], 'buyprices': [9395.46, 8152.49, 7242.42, 11047.58, 11419.36, 41448.11, 54700.0, 43885.7, 44290.6, 23836.2, 20615.6, 17935.7, 27955.7, 30524.2, 27981.4], 'selldates': [Timestamp('2019-11-08 00:00:00'), Timestamp('2020-01-10 00:00:00'), Timestamp('2020-04-20 00:00:00'), Timestamp('2020-08-17 00:00:00'), Timestamp('2020-10-21 00:00:00'), Timestamp('2021-08-02 00:00:00'), Timestamp('2021-10-15 00:00:00'), Timestamp('2022-03-04 00:00:00'), Timestamp('2022-04-10 00:00:00'), Timestamp('2022-08-04 00:00:00'), Timestamp('2022-11-08 00:00:00'), Timestamp('2023-01-13 00:00:00'), Timestamp('2023-04-14 00:00:00'), Timestamp('2023-07-24 00:00:00'), Timestamp('2023-10-23 00:00:00')], 'sellprices': [8884.766697996349, 7709.358738981195, 6848.755891558553, 12233.00191018771, 12644.674462019839, 39195.184421293845, 60569.392073853975, 41500.27841939175, 41883.16994742962, 22540.57555104067, 19495.03231765273, 19860.227521371533, 30955.388555741127, 28865.04712307648, 30983.846204302336], 'profits': [-0.05535532714775545, -0.05535532714775549, -0.05535532714775542, 0.10630150043608734, 0.10630150043608733, -0.055355327147755484, 0.10630150043608728, -0.05535532714775543, -0.05535532714775551, -0.05535532714775552, -0.05535532714775548, 0.10630150043608737, 0.10630150043608731, -0.055355327147755526, 0.10630150043608733]},     ticker  returns  winrate  trades  buy&hold_ret%\n",
      "0  BTCUSDT     9.81     40.0      15          240.9).\n"
     ]
    },
    {
     "name": "stdout",
     "output_type": "stream",
     "text": [
      "BTCUSDT, winrate=40.0%, returns=9.81%, no. of trades = 15, buy&hold_ret = 240.89999999999998%\n"
     ]
    },
    {
     "name": "stderr",
     "output_type": "stream",
     "text": [
      "[W 2023-10-27 02:48:34,153] Trial 93 failed with parameters: {'fast_ma_period': 18, 'slow_ma_period': 72, 'rsi_period': 20, 'sl_perc': 6.251394700433288, 'tp_perc': 7.249777494544844} because of the following error: The value {'buydates': [Timestamp('2020-01-15 00:00:00'), Timestamp('2020-05-01 00:00:00'), Timestamp('2020-07-27 00:00:00'), Timestamp('2020-10-19 00:00:00'), Timestamp('2021-08-02 00:00:00'), Timestamp('2021-10-08 00:00:00'), Timestamp('2022-03-24 00:00:00'), Timestamp('2022-08-11 00:00:00'), Timestamp('2022-11-02 00:00:00'), Timestamp('2023-01-14 00:00:00'), Timestamp('2023-06-27 00:00:00')], 'buyprices': [8825.3, 8830.52, 11047.58, 11745.0, 39147.48, 53975.0, 43973.4, 23917.2, 20140.1, 20962.8, 30683.2], 'selldates': [Timestamp('2020-01-24 00:00:00'), Timestamp('2020-05-07 00:00:00'), Timestamp('2020-08-01 00:00:00'), Timestamp('2020-10-21 00:00:00'), Timestamp('2021-08-06 00:00:00'), Timestamp('2021-10-14 00:00:00'), Timestamp('2022-03-28 00:00:00'), Timestamp('2022-08-19 00:00:00'), Timestamp('2022-11-08 00:00:00'), Timestamp('2023-01-20 00:00:00'), Timestamp('2023-08-01 00:00:00')], 'sellprices': [8273.59566350266, 9470.713051611283, 11848.504968531837, 12596.486366734292, 41985.58519472145, 57888.06740268059, 47161.373656786185, 22422.04142670797, 18881.062855938035, 22482.556356626446, 28765.072061276653], 'profits': [-0.06351394700433297, 0.07149777494544857, 0.07149777494544844, 0.07149777494544848, 0.07149777494544843, 0.07149777494544857, 0.07149777494544847, -0.06351394700433295, -0.06351394700433284, 0.07149777494544847, -0.06351394700433292]} could not be cast to float.\n",
      "[W 2023-10-27 02:48:34,164] Trial 93 failed with value ({'buydates': [Timestamp('2020-01-15 00:00:00'), Timestamp('2020-05-01 00:00:00'), Timestamp('2020-07-27 00:00:00'), Timestamp('2020-10-19 00:00:00'), Timestamp('2021-08-02 00:00:00'), Timestamp('2021-10-08 00:00:00'), Timestamp('2022-03-24 00:00:00'), Timestamp('2022-08-11 00:00:00'), Timestamp('2022-11-02 00:00:00'), Timestamp('2023-01-14 00:00:00'), Timestamp('2023-06-27 00:00:00')], 'buyprices': [8825.3, 8830.52, 11047.58, 11745.0, 39147.48, 53975.0, 43973.4, 23917.2, 20140.1, 20962.8, 30683.2], 'selldates': [Timestamp('2020-01-24 00:00:00'), Timestamp('2020-05-07 00:00:00'), Timestamp('2020-08-01 00:00:00'), Timestamp('2020-10-21 00:00:00'), Timestamp('2021-08-06 00:00:00'), Timestamp('2021-10-14 00:00:00'), Timestamp('2022-03-28 00:00:00'), Timestamp('2022-08-19 00:00:00'), Timestamp('2022-11-08 00:00:00'), Timestamp('2023-01-20 00:00:00'), Timestamp('2023-08-01 00:00:00')], 'sellprices': [8273.59566350266, 9470.713051611283, 11848.504968531837, 12596.486366734292, 41985.58519472145, 57888.06740268059, 47161.373656786185, 22422.04142670797, 18881.062855938035, 22482.556356626446, 28765.072061276653], 'profits': [-0.06351394700433297, 0.07149777494544857, 0.07149777494544844, 0.07149777494544848, 0.07149777494544843, 0.07149777494544857, 0.07149777494544847, -0.06351394700433295, -0.06351394700433284, 0.07149777494544847, -0.06351394700433292]},     ticker  returns  winrate  trades  buy&hold_ret%\n",
      "0  BTCUSDT    24.72    63.64      11          240.9).\n"
     ]
    },
    {
     "name": "stdout",
     "output_type": "stream",
     "text": [
      "BTCUSDT, winrate=63.64%, returns=24.72%, no. of trades = 11, buy&hold_ret = 240.89999999999998%\n"
     ]
    },
    {
     "name": "stderr",
     "output_type": "stream",
     "text": [
      "[W 2023-10-27 02:48:34,496] Trial 94 failed with parameters: {'fast_ma_period': 23, 'slow_ma_period': 60, 'rsi_period': 21, 'sl_perc': 4.635543724157813, 'tp_perc': 7.5492011752017865} because of the following error: The value {'buydates': [Timestamp('2020-01-12 00:00:00'), Timestamp('2020-04-25 00:00:00'), Timestamp('2020-07-28 00:00:00'), Timestamp('2020-10-17 00:00:00'), Timestamp('2021-08-03 00:00:00'), Timestamp('2021-10-12 00:00:00'), Timestamp('2022-02-28 00:00:00'), Timestamp('2022-03-18 00:00:00'), Timestamp('2022-11-03 00:00:00'), Timestamp('2023-01-10 00:00:00'), Timestamp('2023-03-17 00:00:00'), Timestamp('2023-06-27 00:00:00'), Timestamp('2023-10-06 00:00:00')], 'buyprices': [8186.7, 7534.01, 10919.94, 11356.25, 38203.26, 56011.84, 43155.0, 41751.5, 20199.7, 17428.8, 27384.0, 30683.2, 27916.3], 'selldates': [Timestamp('2020-01-14 00:00:00'), Timestamp('2020-04-29 00:00:00'), Timestamp('2020-08-01 00:00:00'), Timestamp('2020-10-21 00:00:00'), Timestamp('2021-08-05 00:00:00'), Timestamp('2021-10-15 00:00:00'), Timestamp('2022-03-04 00:00:00'), Timestamp('2022-03-25 00:00:00'), Timestamp('2022-11-08 00:00:00'), Timestamp('2023-01-12 00:00:00'), Timestamp('2023-04-10 00:00:00'), Timestamp('2023-07-24 00:00:00'), Timestamp('2023-10-11 00:00:00')], 'sellprices': [8804.730452610245, 8102.767571459821, 11744.30823881133, 12213.556158458854, 41087.3009528854, 60240.286483532145, 41154.5311058397, 44903.404728664376, 19263.334074351296, 18744.53517442357, 29451.27324981726, 29260.86684802921, 26622.22770733293], 'profits': [0.07449201175201796, 0.07449201175201793, 0.07449201175201789, 0.07449201175201797, 0.07449201175201801, 0.07449201175201794, -0.04735543724157807, 0.07449201175201792, -0.04735543724157806, 0.07449201175201799, 0.07449201175201793, -0.047355437241578126, -0.04735543724157814]} could not be cast to float.\n",
      "[W 2023-10-27 02:48:34,501] Trial 94 failed with value ({'buydates': [Timestamp('2020-01-12 00:00:00'), Timestamp('2020-04-25 00:00:00'), Timestamp('2020-07-28 00:00:00'), Timestamp('2020-10-17 00:00:00'), Timestamp('2021-08-03 00:00:00'), Timestamp('2021-10-12 00:00:00'), Timestamp('2022-02-28 00:00:00'), Timestamp('2022-03-18 00:00:00'), Timestamp('2022-11-03 00:00:00'), Timestamp('2023-01-10 00:00:00'), Timestamp('2023-03-17 00:00:00'), Timestamp('2023-06-27 00:00:00'), Timestamp('2023-10-06 00:00:00')], 'buyprices': [8186.7, 7534.01, 10919.94, 11356.25, 38203.26, 56011.84, 43155.0, 41751.5, 20199.7, 17428.8, 27384.0, 30683.2, 27916.3], 'selldates': [Timestamp('2020-01-14 00:00:00'), Timestamp('2020-04-29 00:00:00'), Timestamp('2020-08-01 00:00:00'), Timestamp('2020-10-21 00:00:00'), Timestamp('2021-08-05 00:00:00'), Timestamp('2021-10-15 00:00:00'), Timestamp('2022-03-04 00:00:00'), Timestamp('2022-03-25 00:00:00'), Timestamp('2022-11-08 00:00:00'), Timestamp('2023-01-12 00:00:00'), Timestamp('2023-04-10 00:00:00'), Timestamp('2023-07-24 00:00:00'), Timestamp('2023-10-11 00:00:00')], 'sellprices': [8804.730452610245, 8102.767571459821, 11744.30823881133, 12213.556158458854, 41087.3009528854, 60240.286483532145, 41154.5311058397, 44903.404728664376, 19263.334074351296, 18744.53517442357, 29451.27324981726, 29260.86684802921, 26622.22770733293], 'profits': [0.07449201175201796, 0.07449201175201793, 0.07449201175201789, 0.07449201175201797, 0.07449201175201801, 0.07449201175201794, -0.04735543724157807, 0.07449201175201792, -0.04735543724157806, 0.07449201175201799, 0.07449201175201793, -0.047355437241578126, -0.04735543724157814]},     ticker  returns  winrate  trades  buy&hold_ret%\n",
      "0  BTCUSDT    57.24    69.23      13          240.9).\n"
     ]
    },
    {
     "name": "stdout",
     "output_type": "stream",
     "text": [
      "BTCUSDT, winrate=69.23%, returns=57.24%, no. of trades = 13, buy&hold_ret = 240.89999999999998%\n"
     ]
    },
    {
     "name": "stderr",
     "output_type": "stream",
     "text": [
      "[W 2023-10-27 02:48:34,822] Trial 95 failed with parameters: {'fast_ma_period': 12, 'slow_ma_period': 55, 'rsi_period': 12, 'sl_perc': 3.624899181556885, 'tp_perc': 8.033243317240034} because of the following error: The value {'buydates': [Timestamp('2019-11-03 00:00:00'), Timestamp('2020-01-08 00:00:00'), Timestamp('2020-04-23 00:00:00'), Timestamp('2020-07-26 00:00:00'), Timestamp('2020-10-13 00:00:00'), Timestamp('2021-05-11 00:00:00'), Timestamp('2021-07-29 00:00:00'), Timestamp('2021-10-07 00:00:00'), Timestamp('2022-02-15 00:00:00'), Timestamp('2022-03-20 00:00:00'), Timestamp('2022-07-29 00:00:00'), Timestamp('2022-10-28 00:00:00'), Timestamp('2023-01-10 00:00:00'), Timestamp('2023-03-18 00:00:00'), Timestamp('2023-06-24 00:00:00'), Timestamp('2023-10-03 00:00:00')], 'buyprices': [9197.88, 8059.84, 7483.35, 9939.69, 11419.36, 56710.43, 40012.9, 53814.99, 44529.6, 41261.0, 23771.1, 20582.8, 17428.8, 26907.0, 30524.2, 27412.0], 'selldates': [Timestamp('2019-11-08 00:00:00'), Timestamp('2020-01-09 00:00:00'), Timestamp('2020-04-29 00:00:00'), Timestamp('2020-07-27 00:00:00'), Timestamp('2020-10-21 00:00:00'), Timestamp('2021-05-12 00:00:00'), Timestamp('2021-07-30 00:00:00'), Timestamp('2021-10-14 00:00:00'), Timestamp('2022-02-17 00:00:00'), Timestamp('2022-03-25 00:00:00'), Timestamp('2022-08-01 00:00:00'), Timestamp('2022-11-08 00:00:00'), Timestamp('2023-01-12 00:00:00'), Timestamp('2023-03-30 00:00:00'), Timestamp('2023-07-18 00:00:00'), Timestamp('2023-10-16 00:00:00')], 'sellprices': [8864.466123159415, 7767.678925805206, 8084.505713780682, 10738.169482679376, 12336.704974071581, 54654.73408707261, 38562.47271538283, 58138.07908784838, 42915.44689404944, 44575.596525126406, 22909.42159065293, 19836.69425125851, 18828.89791127513, 29068.504779369774, 29417.728524023216, 29614.072658121837], 'profits': [-0.03724899181556888, -0.03724899181556884, 0.07933243317240023, 0.07933243317240024, 0.07933243317240024, -0.03724899181556883, -0.037248991815568816, 0.07933243317240019, -0.03724899181556892, 0.07933243317240023, -0.03724899181556878, -0.03724899181556887, 0.0793324331724003, 0.07933243317240027, -0.03724899181556879, 0.0793324331724003]} could not be cast to float.\n",
      "[W 2023-10-27 02:48:34,830] Trial 95 failed with value ({'buydates': [Timestamp('2019-11-03 00:00:00'), Timestamp('2020-01-08 00:00:00'), Timestamp('2020-04-23 00:00:00'), Timestamp('2020-07-26 00:00:00'), Timestamp('2020-10-13 00:00:00'), Timestamp('2021-05-11 00:00:00'), Timestamp('2021-07-29 00:00:00'), Timestamp('2021-10-07 00:00:00'), Timestamp('2022-02-15 00:00:00'), Timestamp('2022-03-20 00:00:00'), Timestamp('2022-07-29 00:00:00'), Timestamp('2022-10-28 00:00:00'), Timestamp('2023-01-10 00:00:00'), Timestamp('2023-03-18 00:00:00'), Timestamp('2023-06-24 00:00:00'), Timestamp('2023-10-03 00:00:00')], 'buyprices': [9197.88, 8059.84, 7483.35, 9939.69, 11419.36, 56710.43, 40012.9, 53814.99, 44529.6, 41261.0, 23771.1, 20582.8, 17428.8, 26907.0, 30524.2, 27412.0], 'selldates': [Timestamp('2019-11-08 00:00:00'), Timestamp('2020-01-09 00:00:00'), Timestamp('2020-04-29 00:00:00'), Timestamp('2020-07-27 00:00:00'), Timestamp('2020-10-21 00:00:00'), Timestamp('2021-05-12 00:00:00'), Timestamp('2021-07-30 00:00:00'), Timestamp('2021-10-14 00:00:00'), Timestamp('2022-02-17 00:00:00'), Timestamp('2022-03-25 00:00:00'), Timestamp('2022-08-01 00:00:00'), Timestamp('2022-11-08 00:00:00'), Timestamp('2023-01-12 00:00:00'), Timestamp('2023-03-30 00:00:00'), Timestamp('2023-07-18 00:00:00'), Timestamp('2023-10-16 00:00:00')], 'sellprices': [8864.466123159415, 7767.678925805206, 8084.505713780682, 10738.169482679376, 12336.704974071581, 54654.73408707261, 38562.47271538283, 58138.07908784838, 42915.44689404944, 44575.596525126406, 22909.42159065293, 19836.69425125851, 18828.89791127513, 29068.504779369774, 29417.728524023216, 29614.072658121837], 'profits': [-0.03724899181556888, -0.03724899181556884, 0.07933243317240023, 0.07933243317240024, 0.07933243317240024, -0.03724899181556883, -0.037248991815568816, 0.07933243317240019, -0.03724899181556892, 0.07933243317240023, -0.03724899181556878, -0.03724899181556887, 0.0793324331724003, 0.07933243317240027, -0.03724899181556879, 0.0793324331724003]},     ticker  returns  winrate  trades  buy&hold_ret%\n",
      "0  BTCUSDT    35.94     50.0      16          240.9).\n"
     ]
    },
    {
     "name": "stdout",
     "output_type": "stream",
     "text": [
      "BTCUSDT, winrate=50.0%, returns=35.94%, no. of trades = 16, buy&hold_ret = 240.89999999999998%\n"
     ]
    },
    {
     "name": "stderr",
     "output_type": "stream",
     "text": [
      "[W 2023-10-27 02:48:35,344] Trial 96 failed with parameters: {'fast_ma_period': 17, 'slow_ma_period': 74, 'rsi_period': 15, 'sl_perc': 6.38722856968106, 'tp_perc': 10.98593685928041} because of the following error: The value {'buydates': [Timestamp('2020-01-15 00:00:00'), Timestamp('2020-05-01 00:00:00'), Timestamp('2020-07-27 00:00:00'), Timestamp('2020-10-19 00:00:00'), Timestamp('2021-05-11 00:00:00'), Timestamp('2021-08-02 00:00:00'), Timestamp('2021-10-07 00:00:00'), Timestamp('2022-03-24 00:00:00'), Timestamp('2022-08-12 00:00:00'), Timestamp('2022-11-02 00:00:00'), Timestamp('2023-01-14 00:00:00'), Timestamp('2023-06-27 00:00:00')], 'buyprices': [8825.3, 8830.52, 11047.58, 11745.0, 56710.43, 39147.48, 53814.99, 43973.4, 24387.5, 20140.1, 20962.8, 30683.2], 'selldates': [Timestamp('2020-01-24 00:00:00'), Timestamp('2020-05-07 00:00:00'), Timestamp('2020-08-17 00:00:00'), Timestamp('2020-10-21 00:00:00'), Timestamp('2021-05-12 00:00:00'), Timestamp('2021-08-07 00:00:00'), Timestamp('2021-10-15 00:00:00'), Timestamp('2022-04-11 00:00:00'), Timestamp('2022-08-19 00:00:00'), Timestamp('2022-11-08 00:00:00'), Timestamp('2023-01-21 00:00:00'), Timestamp('2023-08-01 00:00:00')], 'sellprices': [8261.607917039937, 9800.635351546129, 12261.26016327849, 13035.298284122482, 53088.20521305102, 43448.197434799426, 59727.07082222806, 41164.718432139874, 22829.814632569032, 18853.705778837662, 23265.75997193723, 28723.393883507622], 'profits': [-0.06487228569681056, 0.10885936859280408, 0.10885936859280404, 0.10885936859280392, -0.06487228569681062, 0.10885936859280398, 0.108859368592804, -0.0648722856968105, -0.06487228569681057, -0.06487228569681065, 0.10885936859280397, -0.06487228569681058]} could not be cast to float.\n",
      "[W 2023-10-27 02:48:35,352] Trial 96 failed with value ({'buydates': [Timestamp('2020-01-15 00:00:00'), Timestamp('2020-05-01 00:00:00'), Timestamp('2020-07-27 00:00:00'), Timestamp('2020-10-19 00:00:00'), Timestamp('2021-05-11 00:00:00'), Timestamp('2021-08-02 00:00:00'), Timestamp('2021-10-07 00:00:00'), Timestamp('2022-03-24 00:00:00'), Timestamp('2022-08-12 00:00:00'), Timestamp('2022-11-02 00:00:00'), Timestamp('2023-01-14 00:00:00'), Timestamp('2023-06-27 00:00:00')], 'buyprices': [8825.3, 8830.52, 11047.58, 11745.0, 56710.43, 39147.48, 53814.99, 43973.4, 24387.5, 20140.1, 20962.8, 30683.2], 'selldates': [Timestamp('2020-01-24 00:00:00'), Timestamp('2020-05-07 00:00:00'), Timestamp('2020-08-17 00:00:00'), Timestamp('2020-10-21 00:00:00'), Timestamp('2021-05-12 00:00:00'), Timestamp('2021-08-07 00:00:00'), Timestamp('2021-10-15 00:00:00'), Timestamp('2022-04-11 00:00:00'), Timestamp('2022-08-19 00:00:00'), Timestamp('2022-11-08 00:00:00'), Timestamp('2023-01-21 00:00:00'), Timestamp('2023-08-01 00:00:00')], 'sellprices': [8261.607917039937, 9800.635351546129, 12261.26016327849, 13035.298284122482, 53088.20521305102, 43448.197434799426, 59727.07082222806, 41164.718432139874, 22829.814632569032, 18853.705778837662, 23265.75997193723, 28723.393883507622], 'profits': [-0.06487228569681056, 0.10885936859280408, 0.10885936859280404, 0.10885936859280392, -0.06487228569681062, 0.10885936859280398, 0.108859368592804, -0.0648722856968105, -0.06487228569681057, -0.06487228569681065, 0.10885936859280397, -0.06487228569681058]},     ticker  returns  winrate  trades  buy&hold_ret%\n",
      "0  BTCUSDT     24.3     50.0      12          240.9).\n"
     ]
    },
    {
     "name": "stdout",
     "output_type": "stream",
     "text": [
      "BTCUSDT, winrate=50.0%, returns=24.3%, no. of trades = 12, buy&hold_ret = 240.89999999999998%\n"
     ]
    },
    {
     "name": "stderr",
     "output_type": "stream",
     "text": [
      "[W 2023-10-27 02:48:35,782] Trial 97 failed with parameters: {'fast_ma_period': 15, 'slow_ma_period': 73, 'rsi_period': 23, 'sl_perc': 7.697988046011535, 'tp_perc': 10.446768963462725} because of the following error: The value {'buydates': [Timestamp('2020-01-14 00:00:00'), Timestamp('2020-04-30 00:00:00'), Timestamp('2020-07-27 00:00:00'), Timestamp('2020-10-18 00:00:00'), Timestamp('2021-05-09 00:00:00'), Timestamp('2021-08-01 00:00:00'), Timestamp('2021-10-06 00:00:00'), Timestamp('2022-03-23 00:00:00'), Timestamp('2022-08-10 00:00:00'), Timestamp('2022-11-01 00:00:00'), Timestamp('2023-01-13 00:00:00'), Timestamp('2023-06-26 00:00:00'), Timestamp('2023-10-09 00:00:00')], 'buyprices': [8825.0, 8624.76, 11047.58, 11501.1, 58292.53, 39846.78, 55321.6, 42867.9, 23940.9, 20472.1, 19924.2, 30260.1, 27578.3], 'selldates': [Timestamp('2020-02-05 00:00:00'), Timestamp('2020-05-07 00:00:00'), Timestamp('2020-08-17 00:00:00'), Timestamp('2020-10-21 00:00:00'), Timestamp('2021-05-10 00:00:00'), Timestamp('2021-08-07 00:00:00'), Timestamp('2021-10-15 00:00:00'), Timestamp('2022-03-28 00:00:00'), Timestamp('2022-08-19 00:00:00'), Timestamp('2022-11-08 00:00:00'), Timestamp('2023-01-20 00:00:00'), Timestamp('2023-08-17 00:00:00'), Timestamp('2023-10-16 00:00:00')], 'sellprices': [9746.927361025586, 9525.768750853149, 12201.695158653716, 12702.593345256812, 53805.17800888231, 44009.48104597927, 61100.919738890996, 47346.21047248824, 22097.932379892423, 18896.16018923247, 22005.635141818242, 27930.68111928886, 30459.34128505064], 'profits': [0.1034676896346273, 0.10346768963462737, 0.10346768963462732, 0.10346768963462721, -0.07797988046011542, 0.10346768963462726, 0.1034676896346273, 0.10346768963462721, -0.07797988046011545, -0.07797988046011546, 0.1034676896346273, -0.07797988046011542, 0.10346768963462723]} could not be cast to float.\n",
      "[W 2023-10-27 02:48:35,791] Trial 97 failed with value ({'buydates': [Timestamp('2020-01-14 00:00:00'), Timestamp('2020-04-30 00:00:00'), Timestamp('2020-07-27 00:00:00'), Timestamp('2020-10-18 00:00:00'), Timestamp('2021-05-09 00:00:00'), Timestamp('2021-08-01 00:00:00'), Timestamp('2021-10-06 00:00:00'), Timestamp('2022-03-23 00:00:00'), Timestamp('2022-08-10 00:00:00'), Timestamp('2022-11-01 00:00:00'), Timestamp('2023-01-13 00:00:00'), Timestamp('2023-06-26 00:00:00'), Timestamp('2023-10-09 00:00:00')], 'buyprices': [8825.0, 8624.76, 11047.58, 11501.1, 58292.53, 39846.78, 55321.6, 42867.9, 23940.9, 20472.1, 19924.2, 30260.1, 27578.3], 'selldates': [Timestamp('2020-02-05 00:00:00'), Timestamp('2020-05-07 00:00:00'), Timestamp('2020-08-17 00:00:00'), Timestamp('2020-10-21 00:00:00'), Timestamp('2021-05-10 00:00:00'), Timestamp('2021-08-07 00:00:00'), Timestamp('2021-10-15 00:00:00'), Timestamp('2022-03-28 00:00:00'), Timestamp('2022-08-19 00:00:00'), Timestamp('2022-11-08 00:00:00'), Timestamp('2023-01-20 00:00:00'), Timestamp('2023-08-17 00:00:00'), Timestamp('2023-10-16 00:00:00')], 'sellprices': [9746.927361025586, 9525.768750853149, 12201.695158653716, 12702.593345256812, 53805.17800888231, 44009.48104597927, 61100.919738890996, 47346.21047248824, 22097.932379892423, 18896.16018923247, 22005.635141818242, 27930.68111928886, 30459.34128505064], 'profits': [0.1034676896346273, 0.10346768963462737, 0.10346768963462732, 0.10346768963462721, -0.07797988046011542, 0.10346768963462726, 0.1034676896346273, 0.10346768963462721, -0.07797988046011545, -0.07797988046011546, 0.1034676896346273, -0.07797988046011542, 0.10346768963462723]},     ticker  returns  winrate  trades  buy&hold_ret%\n",
      "0  BTCUSDT    75.31    69.23      13          240.9).\n"
     ]
    },
    {
     "name": "stdout",
     "output_type": "stream",
     "text": [
      "BTCUSDT, winrate=69.23%, returns=75.31%, no. of trades = 13, buy&hold_ret = 240.89999999999998%\n"
     ]
    },
    {
     "name": "stderr",
     "output_type": "stream",
     "text": [
      "[W 2023-10-27 02:48:36,137] Trial 98 failed with parameters: {'fast_ma_period': 21, 'slow_ma_period': 56, 'rsi_period': 14, 'sl_perc': 7.707958739042537, 'tp_perc': 11.831010583336502} because of the following error: The value {'buydates': [Timestamp('2020-01-10 00:00:00'), Timestamp('2020-04-23 00:00:00'), Timestamp('2020-07-27 00:00:00'), Timestamp('2020-10-15 00:00:00'), Timestamp('2021-08-02 00:00:00'), Timestamp('2021-10-12 00:00:00'), Timestamp('2022-03-16 00:00:00'), Timestamp('2022-08-01 00:00:00'), Timestamp('2022-11-01 00:00:00'), Timestamp('2023-01-10 00:00:00'), Timestamp('2023-03-19 00:00:00'), Timestamp('2023-06-26 00:00:00'), Timestamp('2023-10-04 00:00:00')], 'buyprices': [8207.09, 7483.35, 11047.58, 11502.0, 39147.48, 56011.84, 41105.8, 23257.6, 20472.1, 17428.8, 27955.7, 30260.1, 27759.8], 'selldates': [Timestamp('2020-01-19 00:00:00'), Timestamp('2020-04-29 00:00:00'), Timestamp('2020-08-17 00:00:00'), Timestamp('2020-10-21 00:00:00'), Timestamp('2021-08-07 00:00:00'), Timestamp('2021-10-15 00:00:00'), Timestamp('2022-03-27 00:00:00'), Timestamp('2022-08-19 00:00:00'), Timestamp('2022-11-08 00:00:00'), Timestamp('2023-01-13 00:00:00'), Timestamp('2023-05-12 00:00:00'), Timestamp('2023-08-17 00:00:00'), Timestamp('2023-10-23 00:00:00')], 'sellprices': [9178.071686483952, 8368.705930488113, 12354.620359002567, 12862.802837295365, 43779.022501909545, 62638.606718321505, 45969.03154836514, 21464.91378830844, 18894.118978984472, 19490.803172548553, 25800.886178789486, 27927.663977606986, 31044.06487591305], 'profits': [0.11731010583336508, 0.1173101058333651, 0.11731010583336506, 0.11731010583336506, 0.11731010583336504, 0.11731010583336504, 0.11731010583336511, -0.07807958739042542, -0.07807958739042534, 0.11731010583336508, -0.07807958739042539, -0.07807958739042543, 0.11731010583336515]} could not be cast to float.\n",
      "[W 2023-10-27 02:48:36,143] Trial 98 failed with value ({'buydates': [Timestamp('2020-01-10 00:00:00'), Timestamp('2020-04-23 00:00:00'), Timestamp('2020-07-27 00:00:00'), Timestamp('2020-10-15 00:00:00'), Timestamp('2021-08-02 00:00:00'), Timestamp('2021-10-12 00:00:00'), Timestamp('2022-03-16 00:00:00'), Timestamp('2022-08-01 00:00:00'), Timestamp('2022-11-01 00:00:00'), Timestamp('2023-01-10 00:00:00'), Timestamp('2023-03-19 00:00:00'), Timestamp('2023-06-26 00:00:00'), Timestamp('2023-10-04 00:00:00')], 'buyprices': [8207.09, 7483.35, 11047.58, 11502.0, 39147.48, 56011.84, 41105.8, 23257.6, 20472.1, 17428.8, 27955.7, 30260.1, 27759.8], 'selldates': [Timestamp('2020-01-19 00:00:00'), Timestamp('2020-04-29 00:00:00'), Timestamp('2020-08-17 00:00:00'), Timestamp('2020-10-21 00:00:00'), Timestamp('2021-08-07 00:00:00'), Timestamp('2021-10-15 00:00:00'), Timestamp('2022-03-27 00:00:00'), Timestamp('2022-08-19 00:00:00'), Timestamp('2022-11-08 00:00:00'), Timestamp('2023-01-13 00:00:00'), Timestamp('2023-05-12 00:00:00'), Timestamp('2023-08-17 00:00:00'), Timestamp('2023-10-23 00:00:00')], 'sellprices': [9178.071686483952, 8368.705930488113, 12354.620359002567, 12862.802837295365, 43779.022501909545, 62638.606718321505, 45969.03154836514, 21464.91378830844, 18894.118978984472, 19490.803172548553, 25800.886178789486, 27927.663977606986, 31044.06487591305], 'profits': [0.11731010583336508, 0.1173101058333651, 0.11731010583336506, 0.11731010583336506, 0.11731010583336504, 0.11731010583336504, 0.11731010583336511, -0.07807958739042542, -0.07807958739042534, 0.11731010583336508, -0.07807958739042539, -0.07807958739042543, 0.11731010583336515]},     ticker  returns  winrate  trades  buy&hold_ret%\n",
      "0  BTCUSDT    96.04    69.23      13          240.9).\n"
     ]
    },
    {
     "name": "stdout",
     "output_type": "stream",
     "text": [
      "BTCUSDT, winrate=69.23%, returns=96.04%, no. of trades = 13, buy&hold_ret = 240.89999999999998%\n"
     ]
    },
    {
     "name": "stderr",
     "output_type": "stream",
     "text": [
      "[W 2023-10-27 02:48:36,507] Trial 99 failed with parameters: {'fast_ma_period': 15, 'slow_ma_period': 51, 'rsi_period': 20, 'sl_perc': 4.679387626050277, 'tp_perc': 7.232402316767367} because of the following error: The value {'buydates': [Timestamp('2019-11-03 00:00:00'), Timestamp('2020-01-08 00:00:00'), Timestamp('2020-04-18 00:00:00'), Timestamp('2020-07-26 00:00:00'), Timestamp('2020-10-12 00:00:00'), Timestamp('2021-07-31 00:00:00'), Timestamp('2021-10-09 00:00:00'), Timestamp('2022-02-16 00:00:00'), Timestamp('2022-03-09 00:00:00'), Timestamp('2022-03-25 00:00:00'), Timestamp('2022-07-28 00:00:00'), Timestamp('2022-10-30 00:00:00'), Timestamp('2023-01-11 00:00:00'), Timestamp('2023-03-19 00:00:00'), Timestamp('2023-06-24 00:00:00'), Timestamp('2023-10-01 00:00:00')], 'buyprices': [9197.88, 8059.84, 7242.42, 9939.69, 11530.36, 41448.11, 54960.77, 43860.7, 41937.5, 44290.6, 23836.2, 20615.6, 17935.7, 27955.7, 30524.2, 27981.4], 'selldates': [Timestamp('2019-11-08 00:00:00'), Timestamp('2020-01-10 00:00:00'), Timestamp('2020-04-20 00:00:00'), Timestamp('2020-07-27 00:00:00'), Timestamp('2020-10-21 00:00:00'), Timestamp('2021-08-01 00:00:00'), Timestamp('2021-10-15 00:00:00'), Timestamp('2022-02-17 00:00:00'), Timestamp('2022-03-10 00:00:00'), Timestamp('2022-03-28 00:00:00'), Timestamp('2022-08-02 00:00:00'), Timestamp('2022-11-08 00:00:00'), Timestamp('2023-01-13 00:00:00'), Timestamp('2023-03-22 00:00:00'), Timestamp('2023-07-24 00:00:00'), Timestamp('2023-10-11 00:00:00')], 'sellprices': [8767.475541421045, 7682.688844360549, 6903.519094693409, 10658.568369839495, 12364.282023771617, 39508.59226942829, 58935.754002793175, 41808.287831500966, 39975.08181432517, 47493.87438051016, 22720.811806679405, 19650.916164563976, 19232.881982328443, 26647.544433424264, 29095.85436224916, 26672.04183080437], 'profits': [-0.04779387626050289, -0.04779387626050278, -0.047793876260502854, 0.0713240231676737, 0.07132402316767354, -0.047793876260502785, 0.07132402316767357, -0.047793876260502716, -0.04779387626050272, 0.07132402316767358, -0.04779387626050275, -0.047793876260502854, 0.07132402316767353, -0.04779387626050276, -0.04779387626050285, -0.04779387626050274]} could not be cast to float.\n",
      "[W 2023-10-27 02:48:36,535] Trial 99 failed with value ({'buydates': [Timestamp('2019-11-03 00:00:00'), Timestamp('2020-01-08 00:00:00'), Timestamp('2020-04-18 00:00:00'), Timestamp('2020-07-26 00:00:00'), Timestamp('2020-10-12 00:00:00'), Timestamp('2021-07-31 00:00:00'), Timestamp('2021-10-09 00:00:00'), Timestamp('2022-02-16 00:00:00'), Timestamp('2022-03-09 00:00:00'), Timestamp('2022-03-25 00:00:00'), Timestamp('2022-07-28 00:00:00'), Timestamp('2022-10-30 00:00:00'), Timestamp('2023-01-11 00:00:00'), Timestamp('2023-03-19 00:00:00'), Timestamp('2023-06-24 00:00:00'), Timestamp('2023-10-01 00:00:00')], 'buyprices': [9197.88, 8059.84, 7242.42, 9939.69, 11530.36, 41448.11, 54960.77, 43860.7, 41937.5, 44290.6, 23836.2, 20615.6, 17935.7, 27955.7, 30524.2, 27981.4], 'selldates': [Timestamp('2019-11-08 00:00:00'), Timestamp('2020-01-10 00:00:00'), Timestamp('2020-04-20 00:00:00'), Timestamp('2020-07-27 00:00:00'), Timestamp('2020-10-21 00:00:00'), Timestamp('2021-08-01 00:00:00'), Timestamp('2021-10-15 00:00:00'), Timestamp('2022-02-17 00:00:00'), Timestamp('2022-03-10 00:00:00'), Timestamp('2022-03-28 00:00:00'), Timestamp('2022-08-02 00:00:00'), Timestamp('2022-11-08 00:00:00'), Timestamp('2023-01-13 00:00:00'), Timestamp('2023-03-22 00:00:00'), Timestamp('2023-07-24 00:00:00'), Timestamp('2023-10-11 00:00:00')], 'sellprices': [8767.475541421045, 7682.688844360549, 6903.519094693409, 10658.568369839495, 12364.282023771617, 39508.59226942829, 58935.754002793175, 41808.287831500966, 39975.08181432517, 47493.87438051016, 22720.811806679405, 19650.916164563976, 19232.881982328443, 26647.544433424264, 29095.85436224916, 26672.04183080437], 'profits': [-0.04779387626050289, -0.04779387626050278, -0.047793876260502854, 0.0713240231676737, 0.07132402316767354, -0.047793876260502785, 0.07132402316767357, -0.047793876260502716, -0.04779387626050272, 0.07132402316767358, -0.04779387626050275, -0.047793876260502854, 0.07132402316767353, -0.04779387626050276, -0.04779387626050285, -0.04779387626050274]},     ticker  returns  winrate  trades  buy&hold_ret%\n",
      "0  BTCUSDT   -17.65    31.25      16          240.9).\n"
     ]
    },
    {
     "name": "stdout",
     "output_type": "stream",
     "text": [
      "BTCUSDT, winrate=31.25%, returns=-17.65%, no. of trades = 16, buy&hold_ret = 240.89999999999998%\n"
     ]
    },
    {
     "ename": "ValueError",
     "evalue": "No trials are completed yet.",
     "output_type": "error",
     "traceback": [
      "\u001b[1;31m---------------------------------------------------------------------------\u001b[0m",
      "\u001b[1;31mValueError\u001b[0m                                Traceback (most recent call last)",
      "\u001b[1;32mc:\\Users\\abbAxi\\kraken\\sma_rsi_proj\\smaRSI.ipynb Cell 21\u001b[0m line \u001b[0;36m2\n\u001b[0;32m     <a href='vscode-notebook-cell:/c%3A/Users/abbAxi/kraken/sma_rsi_proj/smaRSI.ipynb#X66sZmlsZQ%3D%3D?line=17'>18</a>\u001b[0m study\u001b[39m.\u001b[39moptimize(objective, n_trials\u001b[39m=\u001b[39m\u001b[39m100\u001b[39m)\n\u001b[0;32m     <a href='vscode-notebook-cell:/c%3A/Users/abbAxi/kraken/sma_rsi_proj/smaRSI.ipynb#X66sZmlsZQ%3D%3D?line=19'>20</a>\u001b[0m \u001b[39m# Retrieve the best parameters and score\u001b[39;00m\n\u001b[1;32m---> <a href='vscode-notebook-cell:/c%3A/Users/abbAxi/kraken/sma_rsi_proj/smaRSI.ipynb#X66sZmlsZQ%3D%3D?line=20'>21</a>\u001b[0m best_params \u001b[39m=\u001b[39m study\u001b[39m.\u001b[39;49mbest_params\n\u001b[0;32m     <a href='vscode-notebook-cell:/c%3A/Users/abbAxi/kraken/sma_rsi_proj/smaRSI.ipynb#X66sZmlsZQ%3D%3D?line=21'>22</a>\u001b[0m best_score \u001b[39m=\u001b[39m study\u001b[39m.\u001b[39mbest_value\n\u001b[0;32m     <a href='vscode-notebook-cell:/c%3A/Users/abbAxi/kraken/sma_rsi_proj/smaRSI.ipynb#X66sZmlsZQ%3D%3D?line=23'>24</a>\u001b[0m \u001b[39mprint\u001b[39m(\u001b[39m\"\u001b[39m\u001b[39mBest Parameters:\u001b[39m\u001b[39m\"\u001b[39m, best_params)\n",
      "File \u001b[1;32mc:\\Users\\abbAxi\\kraken\\k_env\\Lib\\site-packages\\optuna\\study\\study.py:114\u001b[0m, in \u001b[0;36mStudy.best_params\u001b[1;34m(self)\u001b[0m\n\u001b[0;32m    102\u001b[0m \u001b[39m@property\u001b[39m\n\u001b[0;32m    103\u001b[0m \u001b[39mdef\u001b[39;00m \u001b[39mbest_params\u001b[39m(\u001b[39mself\u001b[39m) \u001b[39m-\u001b[39m\u001b[39m>\u001b[39m \u001b[39mdict\u001b[39m[\u001b[39mstr\u001b[39m, Any]:\n\u001b[0;32m    104\u001b[0m \u001b[39m    \u001b[39m\u001b[39m\"\"\"Return parameters of the best trial in the study.\u001b[39;00m\n\u001b[0;32m    105\u001b[0m \n\u001b[0;32m    106\u001b[0m \u001b[39m    .. note::\u001b[39;00m\n\u001b[1;32m   (...)\u001b[0m\n\u001b[0;32m    111\u001b[0m \n\u001b[0;32m    112\u001b[0m \u001b[39m    \"\"\"\u001b[39;00m\n\u001b[1;32m--> 114\u001b[0m     \u001b[39mreturn\u001b[39;00m \u001b[39mself\u001b[39;49m\u001b[39m.\u001b[39;49mbest_trial\u001b[39m.\u001b[39mparams\n",
      "File \u001b[1;32mc:\\Users\\abbAxi\\kraken\\k_env\\Lib\\site-packages\\optuna\\study\\study.py:157\u001b[0m, in \u001b[0;36mStudy.best_trial\u001b[1;34m(self)\u001b[0m\n\u001b[0;32m    151\u001b[0m \u001b[39mif\u001b[39;00m \u001b[39mself\u001b[39m\u001b[39m.\u001b[39m_is_multi_objective():\n\u001b[0;32m    152\u001b[0m     \u001b[39mraise\u001b[39;00m \u001b[39mRuntimeError\u001b[39;00m(\n\u001b[0;32m    153\u001b[0m         \u001b[39m\"\u001b[39m\u001b[39mA single best trial cannot be retrieved from a multi-objective study. Consider \u001b[39m\u001b[39m\"\u001b[39m\n\u001b[0;32m    154\u001b[0m         \u001b[39m\"\u001b[39m\u001b[39musing Study.best_trials to retrieve a list containing the best trials.\u001b[39m\u001b[39m\"\u001b[39m\n\u001b[0;32m    155\u001b[0m     )\n\u001b[1;32m--> 157\u001b[0m \u001b[39mreturn\u001b[39;00m copy\u001b[39m.\u001b[39mdeepcopy(\u001b[39mself\u001b[39;49m\u001b[39m.\u001b[39;49m_storage\u001b[39m.\u001b[39;49mget_best_trial(\u001b[39mself\u001b[39;49m\u001b[39m.\u001b[39;49m_study_id))\n",
      "File \u001b[1;32mc:\\Users\\abbAxi\\kraken\\k_env\\Lib\\site-packages\\optuna\\storages\\_in_memory.py:234\u001b[0m, in \u001b[0;36mInMemoryStorage.get_best_trial\u001b[1;34m(self, study_id)\u001b[0m\n\u001b[0;32m    231\u001b[0m best_trial_id \u001b[39m=\u001b[39m \u001b[39mself\u001b[39m\u001b[39m.\u001b[39m_studies[study_id]\u001b[39m.\u001b[39mbest_trial_id\n\u001b[0;32m    233\u001b[0m \u001b[39mif\u001b[39;00m best_trial_id \u001b[39mis\u001b[39;00m \u001b[39mNone\u001b[39;00m:\n\u001b[1;32m--> 234\u001b[0m     \u001b[39mraise\u001b[39;00m \u001b[39mValueError\u001b[39;00m(\u001b[39m\"\u001b[39m\u001b[39mNo trials are completed yet.\u001b[39m\u001b[39m\"\u001b[39m)\n\u001b[0;32m    235\u001b[0m \u001b[39melif\u001b[39;00m \u001b[39mlen\u001b[39m(\u001b[39mself\u001b[39m\u001b[39m.\u001b[39m_studies[study_id]\u001b[39m.\u001b[39mdirections) \u001b[39m>\u001b[39m \u001b[39m1\u001b[39m:\n\u001b[0;32m    236\u001b[0m     \u001b[39mraise\u001b[39;00m \u001b[39mRuntimeError\u001b[39;00m(\n\u001b[0;32m    237\u001b[0m         \u001b[39m\"\u001b[39m\u001b[39mBest trial can be obtained only for single-objective optimization.\u001b[39m\u001b[39m\"\u001b[39m\n\u001b[0;32m    238\u001b[0m     )\n",
      "\u001b[1;31mValueError\u001b[0m: No trials are completed yet."
     ]
    }
   ],
   "source": [
    "import optuna # !pip install optuna\n",
    "\n",
    "# streamlit inputs should be mult,HL and risk upper and lower values also number of trials (default=100)\n",
    "\n",
    "def objective(trial):\n",
    "    fast_ma_period = trial.suggest_int(\"fast_ma_period\", 10, 25)\n",
    "    slow_ma_period = trial.suggest_int(\"slow_ma_period\", 50, 75)\n",
    "    rsi_period = trial.suggest_int(\"rsi_period\", 11, 24)\n",
    "    sl_perc = trial.suggest_float(\"sl_perc\", 3, 8)\n",
    "    tp_perc = trial.suggest_float(\"tp_perc\", 5, 12)\n",
    "    \n",
    "    # Run your strategy with the trial parameters and calculate a score\n",
    "    score = backtest(df, fast_ma_period, slow_ma_period, rsi_period, sl_perc=sl_perc*0.01, tp_perc=tp_perc*0.01)\n",
    "    return score\n",
    "\n",
    "# Create an Optuna study and run optimization\n",
    "study = optuna.create_study(direction=\"maximize\")  # You can also use \"minimize\" depending on your objective\n",
    "study.optimize(objective, n_trials=100)\n",
    "\n",
    "# Retrieve the best parameters and score\n",
    "best_params = study.best_params\n",
    "best_score = study.best_value\n",
    "\n",
    "print(\"Best Parameters:\", best_params)\n",
    "print(\"Best Score:\", best_score)\n"
   ]
  }
 ],
 "metadata": {
  "colab": {
   "provenance": []
  },
  "kernelspec": {
   "display_name": "Python 3 (ipykernel)",
   "language": "python",
   "name": "python3"
  },
  "language_info": {
   "codemirror_mode": {
    "name": "ipython",
    "version": 3
   },
   "file_extension": ".py",
   "mimetype": "text/x-python",
   "name": "python",
   "nbconvert_exporter": "python",
   "pygments_lexer": "ipython3",
   "version": "3.11.4"
  }
 },
 "nbformat": 4,
 "nbformat_minor": 5
}
