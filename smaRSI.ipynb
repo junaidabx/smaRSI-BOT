{
 "cells": [
  {
   "cell_type": "code",
   "execution_count": 118,
   "id": "b4c9246e",
   "metadata": {
    "id": "b4c9246e"
   },
   "outputs": [],
   "source": [
    "# import pandas_ta as ta\n",
    "import ta\n",
    "import pandas as pd\n",
    "import numpy as np\n",
    "from datetime import datetime\n",
    "import main_functions\n",
    "import plotly.graph_objects as go\n",
    "import warnings\n",
    "\n",
    "warnings.filterwarnings(\"ignore\", category=FutureWarning)"
   ]
  },
  {
   "cell_type": "code",
   "execution_count": 119,
   "id": "eecdfd20",
   "metadata": {},
   "outputs": [],
   "source": [
    "import importlib\n",
    "# If you want to update the module:\n",
    "importlib.reload(main_functions)\n",
    "from main_functions import *"
   ]
  },
  {
   "cell_type": "code",
   "execution_count": 120,
   "id": "d0aa1537",
   "metadata": {},
   "outputs": [],
   "source": [
    "pd.set_option('display.max_rows', 400)  # Set the maximum number of rows to display"
   ]
  },
  {
   "cell_type": "markdown",
   "id": "17ae3a14",
   "metadata": {},
   "source": [
    "# Defining the variables"
   ]
  },
  {
   "cell_type": "code",
   "execution_count": 200,
   "id": "4b64dea7",
   "metadata": {},
   "outputs": [],
   "source": [
    "ticker = \"BTCUSDT\"\n",
    "# timeframe = \"1h\"\n",
    "# start = \"2023-01-01\"\n",
    "timeframe = \"1d\"\n",
    "start = \"2019-09-08\"\n",
    "start_date = datetime.strptime(start, \"%Y-%m-%d\")\n",
    "end = str(datetime.now())\n",
    "# Calculate the difference in days\n",
    "day = (datetime.now() - start_date).days\n",
    "\n",
    "# OTHER PARAMETERS\n",
    "fast_ma_period=20\n",
    "slow_ma_period=50\n",
    "rsi_period=14\n",
    "rsi_value=50\n",
    "\n",
    "sl_perc= 5\n",
    "tp_perc= 10"
   ]
  },
  {
   "cell_type": "code",
   "execution_count": 189,
   "id": "5f33644c",
   "metadata": {},
   "outputs": [
    {
     "data": {
      "text/html": [
       "<div>\n",
       "<style scoped>\n",
       "    .dataframe tbody tr th:only-of-type {\n",
       "        vertical-align: middle;\n",
       "    }\n",
       "\n",
       "    .dataframe tbody tr th {\n",
       "        vertical-align: top;\n",
       "    }\n",
       "\n",
       "    .dataframe thead th {\n",
       "        text-align: right;\n",
       "    }\n",
       "</style>\n",
       "<table border=\"1\" class=\"dataframe\">\n",
       "  <thead>\n",
       "    <tr style=\"text-align: right;\">\n",
       "      <th></th>\n",
       "      <th>Open</th>\n",
       "      <th>High</th>\n",
       "      <th>Low</th>\n",
       "      <th>Close</th>\n",
       "      <th>Volume</th>\n",
       "    </tr>\n",
       "    <tr>\n",
       "      <th>timestamp</th>\n",
       "      <th></th>\n",
       "      <th></th>\n",
       "      <th></th>\n",
       "      <th></th>\n",
       "      <th></th>\n",
       "    </tr>\n",
       "  </thead>\n",
       "  <tbody>\n",
       "    <tr>\n",
       "      <th>2019-09-08</th>\n",
       "      <td>10000.00</td>\n",
       "      <td>10412.65</td>\n",
       "      <td>10000.00</td>\n",
       "      <td>10391.63</td>\n",
       "      <td>3096.291</td>\n",
       "    </tr>\n",
       "    <tr>\n",
       "      <th>2019-09-09</th>\n",
       "      <td>10316.62</td>\n",
       "      <td>10475.54</td>\n",
       "      <td>10077.22</td>\n",
       "      <td>10307.00</td>\n",
       "      <td>14824.373</td>\n",
       "    </tr>\n",
       "    <tr>\n",
       "      <th>2019-09-10</th>\n",
       "      <td>10307.00</td>\n",
       "      <td>10382.97</td>\n",
       "      <td>9940.87</td>\n",
       "      <td>10102.02</td>\n",
       "      <td>9068.955</td>\n",
       "    </tr>\n",
       "    <tr>\n",
       "      <th>2019-09-11</th>\n",
       "      <td>10094.27</td>\n",
       "      <td>10293.11</td>\n",
       "      <td>9884.31</td>\n",
       "      <td>10159.55</td>\n",
       "      <td>10897.922</td>\n",
       "    </tr>\n",
       "    <tr>\n",
       "      <th>2019-09-12</th>\n",
       "      <td>10163.06</td>\n",
       "      <td>10450.13</td>\n",
       "      <td>10042.12</td>\n",
       "      <td>10415.13</td>\n",
       "      <td>15609.634</td>\n",
       "    </tr>\n",
       "    <tr>\n",
       "      <th>...</th>\n",
       "      <td>...</td>\n",
       "      <td>...</td>\n",
       "      <td>...</td>\n",
       "      <td>...</td>\n",
       "      <td>...</td>\n",
       "    </tr>\n",
       "    <tr>\n",
       "      <th>2023-10-23</th>\n",
       "      <td>29981.40</td>\n",
       "      <td>35981.90</td>\n",
       "      <td>29869.40</td>\n",
       "      <td>33074.00</td>\n",
       "      <td>987741.536</td>\n",
       "    </tr>\n",
       "    <tr>\n",
       "      <th>2023-10-24</th>\n",
       "      <td>33074.00</td>\n",
       "      <td>35300.00</td>\n",
       "      <td>32833.50</td>\n",
       "      <td>33917.00</td>\n",
       "      <td>921993.063</td>\n",
       "    </tr>\n",
       "    <tr>\n",
       "      <th>2023-10-25</th>\n",
       "      <td>33917.00</td>\n",
       "      <td>35154.30</td>\n",
       "      <td>33660.60</td>\n",
       "      <td>34487.70</td>\n",
       "      <td>465367.144</td>\n",
       "    </tr>\n",
       "    <tr>\n",
       "      <th>2023-10-26</th>\n",
       "      <td>34487.80</td>\n",
       "      <td>34828.70</td>\n",
       "      <td>33750.00</td>\n",
       "      <td>34154.00</td>\n",
       "      <td>339552.964</td>\n",
       "    </tr>\n",
       "    <tr>\n",
       "      <th>2023-10-27</th>\n",
       "      <td>34154.00</td>\n",
       "      <td>34253.30</td>\n",
       "      <td>33350.00</td>\n",
       "      <td>33657.50</td>\n",
       "      <td>248223.595</td>\n",
       "    </tr>\n",
       "  </tbody>\n",
       "</table>\n",
       "<p>1511 rows × 5 columns</p>\n",
       "</div>"
      ],
      "text/plain": [
       "                Open      High       Low     Close      Volume\n",
       "timestamp                                                     \n",
       "2019-09-08  10000.00  10412.65  10000.00  10391.63    3096.291\n",
       "2019-09-09  10316.62  10475.54  10077.22  10307.00   14824.373\n",
       "2019-09-10  10307.00  10382.97   9940.87  10102.02    9068.955\n",
       "2019-09-11  10094.27  10293.11   9884.31  10159.55   10897.922\n",
       "2019-09-12  10163.06  10450.13  10042.12  10415.13   15609.634\n",
       "...              ...       ...       ...       ...         ...\n",
       "2023-10-23  29981.40  35981.90  29869.40  33074.00  987741.536\n",
       "2023-10-24  33074.00  35300.00  32833.50  33917.00  921993.063\n",
       "2023-10-25  33917.00  35154.30  33660.60  34487.70  465367.144\n",
       "2023-10-26  34487.80  34828.70  33750.00  34154.00  339552.964\n",
       "2023-10-27  34154.00  34253.30  33350.00  33657.50  248223.595\n",
       "\n",
       "[1511 rows x 5 columns]"
      ]
     },
     "execution_count": 189,
     "metadata": {},
     "output_type": "execute_result"
    }
   ],
   "source": [
    "df = getdata(ticker, timeframe, day)\n",
    "df"
   ]
  },
  {
   "cell_type": "code",
   "execution_count": 193,
   "id": "a1ff197e",
   "metadata": {},
   "outputs": [],
   "source": [
    "# Define the function for the trading strategy\n",
    "def getSignals(df, fast_ma_period=20, slow_ma_period=50, rsi_period=14, rsi_value=50):\n",
    "    # df = getdata(ticker, timeframe)  # Assuming you have a getdata function that fetches the data\n",
    "\n",
    "    # Calculate the moving averages\n",
    "    df['shifted_open'] = df.Open.shift(-1)\n",
    "    df['Fast_MA'] = ta.trend.sma_indicator(df['Close'], window=fast_ma_period)\n",
    "    df['Slow_MA'] = ta.trend.sma_indicator(df['Close'], window=slow_ma_period)\n",
    "    # Calculate the RSI\n",
    "    rsi = ta.momentum.RSIIndicator(df['Close'], window=rsi_period)\n",
    "    df['RSI'] = rsi.rsi()\n",
    "\n",
    "    df['buySignal'] = np.where(\n",
    "        (df['Fast_MA'] > df['Slow_MA']) &\n",
    "        (df['Fast_MA'].shift(1) <= df['Slow_MA'].shift(1)) &\n",
    "        (df['RSI'] > rsi_value),\n",
    "        1,\n",
    "        0\n",
    "    )\n",
    "    \n",
    "    return df"
   ]
  },
  {
   "cell_type": "code",
   "execution_count": 167,
   "id": "c4e3c62c",
   "metadata": {},
   "outputs": [
    {
     "data": {
      "text/html": [
       "<div>\n",
       "<style scoped>\n",
       "    .dataframe tbody tr th:only-of-type {\n",
       "        vertical-align: middle;\n",
       "    }\n",
       "\n",
       "    .dataframe tbody tr th {\n",
       "        vertical-align: top;\n",
       "    }\n",
       "\n",
       "    .dataframe thead th {\n",
       "        text-align: right;\n",
       "    }\n",
       "</style>\n",
       "<table border=\"1\" class=\"dataframe\">\n",
       "  <thead>\n",
       "    <tr style=\"text-align: right;\">\n",
       "      <th></th>\n",
       "      <th>Open</th>\n",
       "      <th>High</th>\n",
       "      <th>Low</th>\n",
       "      <th>Close</th>\n",
       "      <th>Volume</th>\n",
       "      <th>shifted_open</th>\n",
       "      <th>Fast_MA</th>\n",
       "      <th>Slow_MA</th>\n",
       "      <th>RSI</th>\n",
       "      <th>buySignal</th>\n",
       "    </tr>\n",
       "    <tr>\n",
       "      <th>timestamp</th>\n",
       "      <th></th>\n",
       "      <th></th>\n",
       "      <th></th>\n",
       "      <th></th>\n",
       "      <th></th>\n",
       "      <th></th>\n",
       "      <th></th>\n",
       "      <th></th>\n",
       "      <th></th>\n",
       "      <th></th>\n",
       "    </tr>\n",
       "  </thead>\n",
       "  <tbody>\n",
       "    <tr>\n",
       "      <th>2019-09-08</th>\n",
       "      <td>10000.00</td>\n",
       "      <td>10412.65</td>\n",
       "      <td>10000.00</td>\n",
       "      <td>10391.63</td>\n",
       "      <td>3096.291</td>\n",
       "      <td>10316.62</td>\n",
       "      <td>NaN</td>\n",
       "      <td>NaN</td>\n",
       "      <td>NaN</td>\n",
       "      <td>0</td>\n",
       "    </tr>\n",
       "    <tr>\n",
       "      <th>2019-09-09</th>\n",
       "      <td>10316.62</td>\n",
       "      <td>10475.54</td>\n",
       "      <td>10077.22</td>\n",
       "      <td>10307.00</td>\n",
       "      <td>14824.373</td>\n",
       "      <td>10307.00</td>\n",
       "      <td>NaN</td>\n",
       "      <td>NaN</td>\n",
       "      <td>NaN</td>\n",
       "      <td>0</td>\n",
       "    </tr>\n",
       "    <tr>\n",
       "      <th>2019-09-10</th>\n",
       "      <td>10307.00</td>\n",
       "      <td>10382.97</td>\n",
       "      <td>9940.87</td>\n",
       "      <td>10102.02</td>\n",
       "      <td>9068.955</td>\n",
       "      <td>10094.27</td>\n",
       "      <td>NaN</td>\n",
       "      <td>NaN</td>\n",
       "      <td>NaN</td>\n",
       "      <td>0</td>\n",
       "    </tr>\n",
       "    <tr>\n",
       "      <th>2019-09-11</th>\n",
       "      <td>10094.27</td>\n",
       "      <td>10293.11</td>\n",
       "      <td>9884.31</td>\n",
       "      <td>10159.55</td>\n",
       "      <td>10897.922</td>\n",
       "      <td>10163.06</td>\n",
       "      <td>NaN</td>\n",
       "      <td>NaN</td>\n",
       "      <td>NaN</td>\n",
       "      <td>0</td>\n",
       "    </tr>\n",
       "    <tr>\n",
       "      <th>2019-09-12</th>\n",
       "      <td>10163.06</td>\n",
       "      <td>10450.13</td>\n",
       "      <td>10042.12</td>\n",
       "      <td>10415.13</td>\n",
       "      <td>15609.634</td>\n",
       "      <td>10414.96</td>\n",
       "      <td>NaN</td>\n",
       "      <td>NaN</td>\n",
       "      <td>NaN</td>\n",
       "      <td>0</td>\n",
       "    </tr>\n",
       "    <tr>\n",
       "      <th>...</th>\n",
       "      <td>...</td>\n",
       "      <td>...</td>\n",
       "      <td>...</td>\n",
       "      <td>...</td>\n",
       "      <td>...</td>\n",
       "      <td>...</td>\n",
       "      <td>...</td>\n",
       "      <td>...</td>\n",
       "      <td>...</td>\n",
       "      <td>...</td>\n",
       "    </tr>\n",
       "    <tr>\n",
       "      <th>2023-10-23</th>\n",
       "      <td>29981.40</td>\n",
       "      <td>35981.90</td>\n",
       "      <td>29869.40</td>\n",
       "      <td>33074.00</td>\n",
       "      <td>987741.536</td>\n",
       "      <td>33074.00</td>\n",
       "      <td>28239.435</td>\n",
       "      <td>27177.836</td>\n",
       "      <td>85.330772</td>\n",
       "      <td>0</td>\n",
       "    </tr>\n",
       "    <tr>\n",
       "      <th>2023-10-24</th>\n",
       "      <td>33074.00</td>\n",
       "      <td>35300.00</td>\n",
       "      <td>32833.50</td>\n",
       "      <td>33917.00</td>\n",
       "      <td>921993.063</td>\n",
       "      <td>33917.00</td>\n",
       "      <td>28547.295</td>\n",
       "      <td>27339.896</td>\n",
       "      <td>86.952942</td>\n",
       "      <td>0</td>\n",
       "    </tr>\n",
       "    <tr>\n",
       "      <th>2023-10-25</th>\n",
       "      <td>33917.00</td>\n",
       "      <td>35154.30</td>\n",
       "      <td>33660.60</td>\n",
       "      <td>34487.70</td>\n",
       "      <td>465367.144</td>\n",
       "      <td>34487.80</td>\n",
       "      <td>28901.760</td>\n",
       "      <td>27514.056</td>\n",
       "      <td>87.926345</td>\n",
       "      <td>0</td>\n",
       "    </tr>\n",
       "    <tr>\n",
       "      <th>2023-10-26</th>\n",
       "      <td>34487.80</td>\n",
       "      <td>34828.70</td>\n",
       "      <td>33750.00</td>\n",
       "      <td>34154.00</td>\n",
       "      <td>339552.964</td>\n",
       "      <td>34154.00</td>\n",
       "      <td>29213.645</td>\n",
       "      <td>27682.188</td>\n",
       "      <td>83.980920</td>\n",
       "      <td>0</td>\n",
       "    </tr>\n",
       "    <tr>\n",
       "      <th>2023-10-27</th>\n",
       "      <td>34154.00</td>\n",
       "      <td>34253.30</td>\n",
       "      <td>33350.00</td>\n",
       "      <td>33457.30</td>\n",
       "      <td>235348.668</td>\n",
       "      <td>NaN</td>\n",
       "      <td>29489.360</td>\n",
       "      <td>27826.520</td>\n",
       "      <td>76.284556</td>\n",
       "      <td>0</td>\n",
       "    </tr>\n",
       "  </tbody>\n",
       "</table>\n",
       "<p>1511 rows × 10 columns</p>\n",
       "</div>"
      ],
      "text/plain": [
       "                Open      High       Low     Close      Volume  shifted_open  \\\n",
       "timestamp                                                                      \n",
       "2019-09-08  10000.00  10412.65  10000.00  10391.63    3096.291      10316.62   \n",
       "2019-09-09  10316.62  10475.54  10077.22  10307.00   14824.373      10307.00   \n",
       "2019-09-10  10307.00  10382.97   9940.87  10102.02    9068.955      10094.27   \n",
       "2019-09-11  10094.27  10293.11   9884.31  10159.55   10897.922      10163.06   \n",
       "2019-09-12  10163.06  10450.13  10042.12  10415.13   15609.634      10414.96   \n",
       "...              ...       ...       ...       ...         ...           ...   \n",
       "2023-10-23  29981.40  35981.90  29869.40  33074.00  987741.536      33074.00   \n",
       "2023-10-24  33074.00  35300.00  32833.50  33917.00  921993.063      33917.00   \n",
       "2023-10-25  33917.00  35154.30  33660.60  34487.70  465367.144      34487.80   \n",
       "2023-10-26  34487.80  34828.70  33750.00  34154.00  339552.964      34154.00   \n",
       "2023-10-27  34154.00  34253.30  33350.00  33457.30  235348.668           NaN   \n",
       "\n",
       "              Fast_MA    Slow_MA        RSI  buySignal  \n",
       "timestamp                                               \n",
       "2019-09-08        NaN        NaN        NaN          0  \n",
       "2019-09-09        NaN        NaN        NaN          0  \n",
       "2019-09-10        NaN        NaN        NaN          0  \n",
       "2019-09-11        NaN        NaN        NaN          0  \n",
       "2019-09-12        NaN        NaN        NaN          0  \n",
       "...               ...        ...        ...        ...  \n",
       "2023-10-23  28239.435  27177.836  85.330772          0  \n",
       "2023-10-24  28547.295  27339.896  86.952942          0  \n",
       "2023-10-25  28901.760  27514.056  87.926345          0  \n",
       "2023-10-26  29213.645  27682.188  83.980920          0  \n",
       "2023-10-27  29489.360  27826.520  76.284556          0  \n",
       "\n",
       "[1511 rows x 10 columns]"
      ]
     },
     "execution_count": 167,
     "metadata": {},
     "output_type": "execute_result"
    }
   ],
   "source": [
    "df = getSignals(df, fast_ma_period=fast_ma_period, slow_ma_period=slow_ma_period, rsi_period=rsi_period, rsi_value=rsi_value)\n",
    "df"
   ]
  },
  {
   "cell_type": "code",
   "execution_count": 168,
   "id": "77b79cae",
   "metadata": {},
   "outputs": [
    {
     "data": {
      "text/html": [
       "<div>\n",
       "<style scoped>\n",
       "    .dataframe tbody tr th:only-of-type {\n",
       "        vertical-align: middle;\n",
       "    }\n",
       "\n",
       "    .dataframe tbody tr th {\n",
       "        vertical-align: top;\n",
       "    }\n",
       "\n",
       "    .dataframe thead th {\n",
       "        text-align: right;\n",
       "    }\n",
       "</style>\n",
       "<table border=\"1\" class=\"dataframe\">\n",
       "  <thead>\n",
       "    <tr style=\"text-align: right;\">\n",
       "      <th></th>\n",
       "      <th>Open</th>\n",
       "      <th>High</th>\n",
       "      <th>Low</th>\n",
       "      <th>Close</th>\n",
       "      <th>Volume</th>\n",
       "      <th>shifted_open</th>\n",
       "      <th>Fast_MA</th>\n",
       "      <th>Slow_MA</th>\n",
       "      <th>RSI</th>\n",
       "      <th>buySignal</th>\n",
       "    </tr>\n",
       "    <tr>\n",
       "      <th>timestamp</th>\n",
       "      <th></th>\n",
       "      <th></th>\n",
       "      <th></th>\n",
       "      <th></th>\n",
       "      <th></th>\n",
       "      <th></th>\n",
       "      <th></th>\n",
       "      <th></th>\n",
       "      <th></th>\n",
       "      <th></th>\n",
       "    </tr>\n",
       "  </thead>\n",
       "  <tbody>\n",
       "    <tr>\n",
       "      <th>2019-11-05</th>\n",
       "      <td>9395.47</td>\n",
       "      <td>9457.13</td>\n",
       "      <td>9164.33</td>\n",
       "      <td>9313.20</td>\n",
       "      <td>113738.226</td>\n",
       "      <td>9313.10</td>\n",
       "      <td>8703.3025</td>\n",
       "      <td>8682.6032</td>\n",
       "      <td>58.971389</td>\n",
       "      <td>1</td>\n",
       "    </tr>\n",
       "    <tr>\n",
       "      <th>2020-01-08</th>\n",
       "      <td>8150.90</td>\n",
       "      <td>8468.42</td>\n",
       "      <td>7870.11</td>\n",
       "      <td>8059.84</td>\n",
       "      <td>321225.114</td>\n",
       "      <td>8059.77</td>\n",
       "      <td>7366.6190</td>\n",
       "      <td>7327.0674</td>\n",
       "      <td>65.355463</td>\n",
       "      <td>1</td>\n",
       "    </tr>\n",
       "    <tr>\n",
       "      <th>2020-04-19</th>\n",
       "      <td>7242.49</td>\n",
       "      <td>7258.42</td>\n",
       "      <td>7055.00</td>\n",
       "      <td>7118.03</td>\n",
       "      <td>216975.114</td>\n",
       "      <td>7118.04</td>\n",
       "      <td>6938.6770</td>\n",
       "      <td>6901.2634</td>\n",
       "      <td>53.523251</td>\n",
       "      <td>1</td>\n",
       "    </tr>\n",
       "    <tr>\n",
       "      <th>2020-07-27</th>\n",
       "      <td>9939.68</td>\n",
       "      <td>11488.00</td>\n",
       "      <td>9928.61</td>\n",
       "      <td>11047.58</td>\n",
       "      <td>744752.400</td>\n",
       "      <td>11047.58</td>\n",
       "      <td>9437.6935</td>\n",
       "      <td>9382.6004</td>\n",
       "      <td>82.893621</td>\n",
       "      <td>1</td>\n",
       "    </tr>\n",
       "    <tr>\n",
       "      <th>2020-10-13</th>\n",
       "      <td>11530.37</td>\n",
       "      <td>11562.00</td>\n",
       "      <td>11308.00</td>\n",
       "      <td>11419.36</td>\n",
       "      <td>199115.115</td>\n",
       "      <td>11419.36</td>\n",
       "      <td>10860.0840</td>\n",
       "      <td>10833.4172</td>\n",
       "      <td>63.064975</td>\n",
       "      <td>1</td>\n",
       "    </tr>\n",
       "    <tr>\n",
       "      <th>2021-08-01</th>\n",
       "      <td>41448.10</td>\n",
       "      <td>42614.98</td>\n",
       "      <td>39350.40</td>\n",
       "      <td>39846.78</td>\n",
       "      <td>487529.044</td>\n",
       "      <td>39846.78</td>\n",
       "      <td>35021.1210</td>\n",
       "      <td>34921.0338</td>\n",
       "      <td>63.349047</td>\n",
       "      <td>1</td>\n",
       "    </tr>\n",
       "    <tr>\n",
       "      <th>2021-10-11</th>\n",
       "      <td>54700.00</td>\n",
       "      <td>57880.00</td>\n",
       "      <td>54458.00</td>\n",
       "      <td>57500.01</td>\n",
       "      <td>314868.050</td>\n",
       "      <td>57500.01</td>\n",
       "      <td>48011.8605</td>\n",
       "      <td>47737.2122</td>\n",
       "      <td>71.347360</td>\n",
       "      <td>1</td>\n",
       "    </tr>\n",
       "    <tr>\n",
       "      <th>2022-03-19</th>\n",
       "      <td>41751.60</td>\n",
       "      <td>42446.60</td>\n",
       "      <td>41500.00</td>\n",
       "      <td>42188.20</td>\n",
       "      <td>186459.954</td>\n",
       "      <td>42188.20</td>\n",
       "      <td>40446.2150</td>\n",
       "      <td>40406.6474</td>\n",
       "      <td>56.516074</td>\n",
       "      <td>1</td>\n",
       "    </tr>\n",
       "    <tr>\n",
       "      <th>2022-03-27</th>\n",
       "      <td>44489.30</td>\n",
       "      <td>47047.00</td>\n",
       "      <td>44416.00</td>\n",
       "      <td>46820.80</td>\n",
       "      <td>269280.228</td>\n",
       "      <td>46820.90</td>\n",
       "      <td>41360.3500</td>\n",
       "      <td>41142.4184</td>\n",
       "      <td>68.662433</td>\n",
       "      <td>1</td>\n",
       "    </tr>\n",
       "    <tr>\n",
       "      <th>2022-07-28</th>\n",
       "      <td>22941.10</td>\n",
       "      <td>24194.60</td>\n",
       "      <td>22583.10</td>\n",
       "      <td>23836.20</td>\n",
       "      <td>756741.836</td>\n",
       "      <td>23836.20</td>\n",
       "      <td>21724.5350</td>\n",
       "      <td>21705.5120</td>\n",
       "      <td>61.053179</td>\n",
       "      <td>1</td>\n",
       "    </tr>\n",
       "    <tr>\n",
       "      <th>2022-10-31</th>\n",
       "      <td>20615.50</td>\n",
       "      <td>20838.70</td>\n",
       "      <td>20225.40</td>\n",
       "      <td>20482.00</td>\n",
       "      <td>478797.266</td>\n",
       "      <td>20482.10</td>\n",
       "      <td>19690.8650</td>\n",
       "      <td>19608.7160</td>\n",
       "      <td>58.452615</td>\n",
       "      <td>1</td>\n",
       "    </tr>\n",
       "    <tr>\n",
       "      <th>2023-01-12</th>\n",
       "      <td>17935.60</td>\n",
       "      <td>19120.00</td>\n",
       "      <td>17902.40</td>\n",
       "      <td>18838.00</td>\n",
       "      <td>1040334.760</td>\n",
       "      <td>18838.10</td>\n",
       "      <td>16977.9550</td>\n",
       "      <td>16934.9240</td>\n",
       "      <td>80.981626</td>\n",
       "      <td>1</td>\n",
       "    </tr>\n",
       "    <tr>\n",
       "      <th>2023-03-19</th>\n",
       "      <td>26907.00</td>\n",
       "      <td>28397.00</td>\n",
       "      <td>26815.90</td>\n",
       "      <td>27955.70</td>\n",
       "      <td>759367.078</td>\n",
       "      <td>27955.80</td>\n",
       "      <td>23341.6600</td>\n",
       "      <td>23308.6420</td>\n",
       "      <td>71.823684</td>\n",
       "      <td>1</td>\n",
       "    </tr>\n",
       "    <tr>\n",
       "      <th>2023-06-25</th>\n",
       "      <td>30524.20</td>\n",
       "      <td>31053.20</td>\n",
       "      <td>30252.60</td>\n",
       "      <td>30458.00</td>\n",
       "      <td>301533.154</td>\n",
       "      <td>30458.00</td>\n",
       "      <td>27328.2750</td>\n",
       "      <td>27184.7980</td>\n",
       "      <td>70.503642</td>\n",
       "      <td>1</td>\n",
       "    </tr>\n",
       "    <tr>\n",
       "      <th>2023-10-01</th>\n",
       "      <td>26951.00</td>\n",
       "      <td>28365.20</td>\n",
       "      <td>26939.00</td>\n",
       "      <td>27981.40</td>\n",
       "      <td>240382.946</td>\n",
       "      <td>27981.40</td>\n",
       "      <td>26643.0250</td>\n",
       "      <td>26565.4260</td>\n",
       "      <td>67.238045</td>\n",
       "      <td>1</td>\n",
       "    </tr>\n",
       "  </tbody>\n",
       "</table>\n",
       "</div>"
      ],
      "text/plain": [
       "                Open      High       Low     Close       Volume  shifted_open  \\\n",
       "timestamp                                                                       \n",
       "2019-11-05   9395.47   9457.13   9164.33   9313.20   113738.226       9313.10   \n",
       "2020-01-08   8150.90   8468.42   7870.11   8059.84   321225.114       8059.77   \n",
       "2020-04-19   7242.49   7258.42   7055.00   7118.03   216975.114       7118.04   \n",
       "2020-07-27   9939.68  11488.00   9928.61  11047.58   744752.400      11047.58   \n",
       "2020-10-13  11530.37  11562.00  11308.00  11419.36   199115.115      11419.36   \n",
       "2021-08-01  41448.10  42614.98  39350.40  39846.78   487529.044      39846.78   \n",
       "2021-10-11  54700.00  57880.00  54458.00  57500.01   314868.050      57500.01   \n",
       "2022-03-19  41751.60  42446.60  41500.00  42188.20   186459.954      42188.20   \n",
       "2022-03-27  44489.30  47047.00  44416.00  46820.80   269280.228      46820.90   \n",
       "2022-07-28  22941.10  24194.60  22583.10  23836.20   756741.836      23836.20   \n",
       "2022-10-31  20615.50  20838.70  20225.40  20482.00   478797.266      20482.10   \n",
       "2023-01-12  17935.60  19120.00  17902.40  18838.00  1040334.760      18838.10   \n",
       "2023-03-19  26907.00  28397.00  26815.90  27955.70   759367.078      27955.80   \n",
       "2023-06-25  30524.20  31053.20  30252.60  30458.00   301533.154      30458.00   \n",
       "2023-10-01  26951.00  28365.20  26939.00  27981.40   240382.946      27981.40   \n",
       "\n",
       "               Fast_MA     Slow_MA        RSI  buySignal  \n",
       "timestamp                                                 \n",
       "2019-11-05   8703.3025   8682.6032  58.971389          1  \n",
       "2020-01-08   7366.6190   7327.0674  65.355463          1  \n",
       "2020-04-19   6938.6770   6901.2634  53.523251          1  \n",
       "2020-07-27   9437.6935   9382.6004  82.893621          1  \n",
       "2020-10-13  10860.0840  10833.4172  63.064975          1  \n",
       "2021-08-01  35021.1210  34921.0338  63.349047          1  \n",
       "2021-10-11  48011.8605  47737.2122  71.347360          1  \n",
       "2022-03-19  40446.2150  40406.6474  56.516074          1  \n",
       "2022-03-27  41360.3500  41142.4184  68.662433          1  \n",
       "2022-07-28  21724.5350  21705.5120  61.053179          1  \n",
       "2022-10-31  19690.8650  19608.7160  58.452615          1  \n",
       "2023-01-12  16977.9550  16934.9240  80.981626          1  \n",
       "2023-03-19  23341.6600  23308.6420  71.823684          1  \n",
       "2023-06-25  27328.2750  27184.7980  70.503642          1  \n",
       "2023-10-01  26643.0250  26565.4260  67.238045          1  "
      ]
     },
     "execution_count": 168,
     "metadata": {},
     "output_type": "execute_result"
    }
   ],
   "source": [
    "# Assuming you have a DataFrame 'df' and want to find rows where 'buySignal' is equal to 1\n",
    "buy_signal_rows = df[df['buySignal'] == 1]\n",
    "buy_signal_rows"
   ]
  },
  {
   "cell_type": "markdown",
   "id": "ef57dd85",
   "metadata": {},
   "source": [
    "# Backtest"
   ]
  },
  {
   "cell_type": "code",
   "execution_count": 194,
   "id": "1ec692db",
   "metadata": {},
   "outputs": [],
   "source": [
    "def backtest(df_s, fast_ma_period=20, slow_ma_period=50, rsi_period=14, rsi_value=50, sl_perc=(5*0.01), tp_perc=(10*0.01)):\n",
    "    print(\"fast_ma_period\", fast_ma_period)\n",
    "    print(\"slow_ma_period\", slow_ma_period)\n",
    "    print(\"rsi_period\", rsi_period)\n",
    "    print(\"sl_perc\", sl_perc)\n",
    "    print(\"tp_perc\", tp_perc)\n",
    "    print(\"rsi_value\", rsi_value)\n",
    "    df = getSignals(df_s, fast_ma_period=fast_ma_period, slow_ma_period=slow_ma_period, rsi_period=rsi_period, rsi_value=rsi_value)  # Use the trading_strategy function to get signals\n",
    "\n",
    "    in_position = False\n",
    "    buy_pos = False\n",
    "    sell_pos = False\n",
    "\n",
    "    results_df = pd.DataFrame(columns=['ticker', 'returns', 'winrate', 'trades', 'buy&hold_ret%'])\n",
    "    buydates, buyprices = [], []\n",
    "    selldates, sellprices = [], []\n",
    "    profits = []\n",
    "\n",
    "    for index, row in df.iterrows():\n",
    "        # long position block\n",
    "        if not in_position and row['buySignal'] == 1:\n",
    "            buyprice = row['Close']\n",
    "            buydates.append(index)\n",
    "            buyprices.append(buyprice)\n",
    "            in_position = True\n",
    "            buy_pos = True\n",
    "            stop_loss = buyprice * (1 - sl_perc)\n",
    "            target_price = buyprice * (1 + tp_perc)\n",
    "\n",
    "        elif in_position and buy_pos:\n",
    "            if row['Low'] <= stop_loss:\n",
    "                selldates.append(index)\n",
    "                sellprice = stop_loss\n",
    "                sellprices.append(sellprice)\n",
    "                in_position = False\n",
    "                buy_pos = False\n",
    "                profits.append((sellprice - buyprice) / buyprice - 0.001)  # Account for a small commission fee (0.1%)\n",
    "\n",
    "            elif row['High'] >= target_price:\n",
    "                selldates.append(index)\n",
    "                sellprice = target_price\n",
    "                sellprices.append(sellprice)\n",
    "                in_position = False\n",
    "                buy_pos = False\n",
    "                profits.append((sellprice - buyprice) / buyprice - 0.001)  # Account for a small commission fee (0.1%)\n",
    "\n",
    "    try:\n",
    "        if len(buydates) == 0:\n",
    "            print(\"No trades were made.\")\n",
    "        else:\n",
    "            returns = (pd.Series(profits, dtype=float) + 1).prod() - 1\n",
    "            returns = round(returns * 100, 2)\n",
    "\n",
    "            wins = sum(1 for i in profits if i > 0)\n",
    "            winrate = round((wins / len(buydates)) * 100, 2)\n",
    "            ct = min(len(buydates), len(selldates))\n",
    "            buy_hold_ret = (df['Close'][-1] - df['Open'][0]) / df['Open'][0] * 100\n",
    "            # Calculate your custom score here (e.g., a weighted combination of returns and win rate)\n",
    "            custom_score = returns * (winrate / 100)\n",
    "            \n",
    "            results_df.loc[len(results_df)] = [ticker, returns, winrate, ct, buy_hold_ret]\n",
    "            print(f'{ticker}, winrate={winrate}%, returns={returns}%, no. of trades = {ct}, buy&hold_ret = {buy_hold_ret}%')\n",
    "    except:\n",
    "        print('Invalid input')\n",
    "\n",
    "    return {\n",
    "        'buydates': buydates,\n",
    "        'buyprices': buyprices,\n",
    "        'selldates': selldates,\n",
    "        'sellprices': sellprices,\n",
    "        'profits': profits,\n",
    "        # Other results...\n",
    "    }, results_df, custom_score\n",
    "\n",
    "def displayTrades(**kwargs):\n",
    "    # Access the trade data and other results from kwargs\n",
    "    buydates = kwargs['buydates']\n",
    "    buyprices = kwargs['buyprices']\n",
    "    selldates = kwargs['selldates']\n",
    "    sellprices = kwargs['sellprices']\n",
    "    profits = kwargs['profits']\n",
    "    \n",
    "    ct = min(len(buydates),len(selldates))\n",
    "    dfr =pd.DataFrame()\n",
    "    dfr['buydates']= buydates[:ct]\n",
    "    dfr['buyprice']= buyprices[:ct]\n",
    "    dfr['selldates'] = selldates[:ct]\n",
    "    dfr['sellprice'] = sellprices[:ct]\n",
    "    dfr['profits'] = (profits[:ct])\n",
    "    dfr['commulative_returns'] = ((pd.Series(profits) + 1).cumprod())\n",
    "    dfr['tradeSide'] = np.where(dfr['buydates'] < dfr['selldates'], 'Long', 'Short')\n",
    "    return dfr"
   ]
  },
  {
   "cell_type": "code",
   "execution_count": 201,
   "id": "0a71d857",
   "metadata": {},
   "outputs": [
    {
     "name": "stdout",
     "output_type": "stream",
     "text": [
      "fast_ma_period 20\n",
      "slow_ma_period 50\n",
      "rsi_period 14\n",
      "sl_perc 0.05\n",
      "tp_perc 0.1\n",
      "rsi_value 50\n",
      "BTCUSDT, winrate=28.57%, returns=-13.57%, no. of trades = 14, buy&hold_ret = 236.575%\n"
     ]
    }
   ],
   "source": [
    "results_data, results_df, score = backtest(df, fast_ma_period, slow_ma_period, rsi_period, rsi_value, sl_perc*0.01, tp_perc*0.01)"
   ]
  },
  {
   "cell_type": "code",
   "execution_count": 202,
   "id": "3e70ef8c",
   "metadata": {},
   "outputs": [
    {
     "data": {
      "text/html": [
       "<div>\n",
       "<style scoped>\n",
       "    .dataframe tbody tr th:only-of-type {\n",
       "        vertical-align: middle;\n",
       "    }\n",
       "\n",
       "    .dataframe tbody tr th {\n",
       "        vertical-align: top;\n",
       "    }\n",
       "\n",
       "    .dataframe thead th {\n",
       "        text-align: right;\n",
       "    }\n",
       "</style>\n",
       "<table border=\"1\" class=\"dataframe\">\n",
       "  <thead>\n",
       "    <tr style=\"text-align: right;\">\n",
       "      <th></th>\n",
       "      <th>ticker</th>\n",
       "      <th>returns</th>\n",
       "      <th>winrate</th>\n",
       "      <th>trades</th>\n",
       "      <th>buy&amp;hold_ret%</th>\n",
       "    </tr>\n",
       "  </thead>\n",
       "  <tbody>\n",
       "    <tr>\n",
       "      <th>0</th>\n",
       "      <td>BTCUSDT</td>\n",
       "      <td>-13.57</td>\n",
       "      <td>28.57</td>\n",
       "      <td>14</td>\n",
       "      <td>236.575</td>\n",
       "    </tr>\n",
       "  </tbody>\n",
       "</table>\n",
       "</div>"
      ],
      "text/plain": [
       "    ticker  returns  winrate  trades  buy&hold_ret%\n",
       "0  BTCUSDT   -13.57    28.57      14        236.575"
      ]
     },
     "execution_count": 202,
     "metadata": {},
     "output_type": "execute_result"
    }
   ],
   "source": [
    "results_df"
   ]
  },
  {
   "cell_type": "code",
   "execution_count": 197,
   "id": "f163c162",
   "metadata": {},
   "outputs": [
    {
     "data": {
      "text/plain": [
       "-3.876949"
      ]
     },
     "execution_count": 197,
     "metadata": {},
     "output_type": "execute_result"
    }
   ],
   "source": [
    "score"
   ]
  },
  {
   "cell_type": "code",
   "execution_count": 198,
   "id": "9647e0e4",
   "metadata": {},
   "outputs": [
    {
     "data": {
      "text/html": [
       "<div>\n",
       "<style scoped>\n",
       "    .dataframe tbody tr th:only-of-type {\n",
       "        vertical-align: middle;\n",
       "    }\n",
       "\n",
       "    .dataframe tbody tr th {\n",
       "        vertical-align: top;\n",
       "    }\n",
       "\n",
       "    .dataframe thead th {\n",
       "        text-align: right;\n",
       "    }\n",
       "</style>\n",
       "<table border=\"1\" class=\"dataframe\">\n",
       "  <thead>\n",
       "    <tr style=\"text-align: right;\">\n",
       "      <th></th>\n",
       "      <th>buydates</th>\n",
       "      <th>buyprice</th>\n",
       "      <th>selldates</th>\n",
       "      <th>sellprice</th>\n",
       "      <th>profits</th>\n",
       "      <th>commulative_returns</th>\n",
       "      <th>tradeSide</th>\n",
       "    </tr>\n",
       "  </thead>\n",
       "  <tbody>\n",
       "    <tr>\n",
       "      <th>0</th>\n",
       "      <td>2019-11-05</td>\n",
       "      <td>9313.20</td>\n",
       "      <td>2019-11-08</td>\n",
       "      <td>8847.5400</td>\n",
       "      <td>-0.051</td>\n",
       "      <td>0.949000</td>\n",
       "      <td>Long</td>\n",
       "    </tr>\n",
       "    <tr>\n",
       "      <th>1</th>\n",
       "      <td>2020-01-08</td>\n",
       "      <td>8059.84</td>\n",
       "      <td>2020-01-14</td>\n",
       "      <td>8865.8240</td>\n",
       "      <td>0.099</td>\n",
       "      <td>1.042951</td>\n",
       "      <td>Long</td>\n",
       "    </tr>\n",
       "    <tr>\n",
       "      <th>2</th>\n",
       "      <td>2020-04-19</td>\n",
       "      <td>7118.03</td>\n",
       "      <td>2020-04-20</td>\n",
       "      <td>6762.1285</td>\n",
       "      <td>-0.051</td>\n",
       "      <td>0.989760</td>\n",
       "      <td>Long</td>\n",
       "    </tr>\n",
       "    <tr>\n",
       "      <th>3</th>\n",
       "      <td>2020-07-27</td>\n",
       "      <td>11047.58</td>\n",
       "      <td>2020-08-02</td>\n",
       "      <td>10495.2010</td>\n",
       "      <td>-0.051</td>\n",
       "      <td>0.939283</td>\n",
       "      <td>Long</td>\n",
       "    </tr>\n",
       "    <tr>\n",
       "      <th>4</th>\n",
       "      <td>2020-10-13</td>\n",
       "      <td>11419.36</td>\n",
       "      <td>2020-10-21</td>\n",
       "      <td>12561.2960</td>\n",
       "      <td>0.099</td>\n",
       "      <td>1.032272</td>\n",
       "      <td>Long</td>\n",
       "    </tr>\n",
       "    <tr>\n",
       "      <th>5</th>\n",
       "      <td>2021-08-01</td>\n",
       "      <td>39846.78</td>\n",
       "      <td>2021-08-03</td>\n",
       "      <td>37854.4410</td>\n",
       "      <td>-0.051</td>\n",
       "      <td>0.979626</td>\n",
       "      <td>Long</td>\n",
       "    </tr>\n",
       "    <tr>\n",
       "      <th>6</th>\n",
       "      <td>2021-10-11</td>\n",
       "      <td>57500.01</td>\n",
       "      <td>2021-10-12</td>\n",
       "      <td>54625.0095</td>\n",
       "      <td>-0.051</td>\n",
       "      <td>0.929665</td>\n",
       "      <td>Long</td>\n",
       "    </tr>\n",
       "    <tr>\n",
       "      <th>7</th>\n",
       "      <td>2022-03-19</td>\n",
       "      <td>42188.20</td>\n",
       "      <td>2022-03-27</td>\n",
       "      <td>46407.0200</td>\n",
       "      <td>0.099</td>\n",
       "      <td>1.021702</td>\n",
       "      <td>Long</td>\n",
       "    </tr>\n",
       "    <tr>\n",
       "      <th>8</th>\n",
       "      <td>2022-07-28</td>\n",
       "      <td>23836.20</td>\n",
       "      <td>2022-08-02</td>\n",
       "      <td>22644.3900</td>\n",
       "      <td>-0.051</td>\n",
       "      <td>0.969595</td>\n",
       "      <td>Long</td>\n",
       "    </tr>\n",
       "    <tr>\n",
       "      <th>9</th>\n",
       "      <td>2022-10-31</td>\n",
       "      <td>20482.00</td>\n",
       "      <td>2022-11-08</td>\n",
       "      <td>19457.9000</td>\n",
       "      <td>-0.051</td>\n",
       "      <td>0.920146</td>\n",
       "      <td>Long</td>\n",
       "    </tr>\n",
       "    <tr>\n",
       "      <th>10</th>\n",
       "      <td>2023-01-12</td>\n",
       "      <td>18838.00</td>\n",
       "      <td>2023-01-14</td>\n",
       "      <td>20721.8000</td>\n",
       "      <td>0.099</td>\n",
       "      <td>1.011240</td>\n",
       "      <td>Long</td>\n",
       "    </tr>\n",
       "    <tr>\n",
       "      <th>11</th>\n",
       "      <td>2023-03-19</td>\n",
       "      <td>27955.70</td>\n",
       "      <td>2023-03-27</td>\n",
       "      <td>26557.9150</td>\n",
       "      <td>-0.051</td>\n",
       "      <td>0.959667</td>\n",
       "      <td>Long</td>\n",
       "    </tr>\n",
       "    <tr>\n",
       "      <th>12</th>\n",
       "      <td>2023-06-25</td>\n",
       "      <td>30458.00</td>\n",
       "      <td>2023-07-24</td>\n",
       "      <td>28935.1000</td>\n",
       "      <td>-0.051</td>\n",
       "      <td>0.910724</td>\n",
       "      <td>Long</td>\n",
       "    </tr>\n",
       "    <tr>\n",
       "      <th>13</th>\n",
       "      <td>2023-10-01</td>\n",
       "      <td>27981.40</td>\n",
       "      <td>2023-10-11</td>\n",
       "      <td>26582.3300</td>\n",
       "      <td>-0.051</td>\n",
       "      <td>0.864277</td>\n",
       "      <td>Long</td>\n",
       "    </tr>\n",
       "  </tbody>\n",
       "</table>\n",
       "</div>"
      ],
      "text/plain": [
       "     buydates  buyprice  selldates   sellprice  profits  commulative_returns  \\\n",
       "0  2019-11-05   9313.20 2019-11-08   8847.5400   -0.051             0.949000   \n",
       "1  2020-01-08   8059.84 2020-01-14   8865.8240    0.099             1.042951   \n",
       "2  2020-04-19   7118.03 2020-04-20   6762.1285   -0.051             0.989760   \n",
       "3  2020-07-27  11047.58 2020-08-02  10495.2010   -0.051             0.939283   \n",
       "4  2020-10-13  11419.36 2020-10-21  12561.2960    0.099             1.032272   \n",
       "5  2021-08-01  39846.78 2021-08-03  37854.4410   -0.051             0.979626   \n",
       "6  2021-10-11  57500.01 2021-10-12  54625.0095   -0.051             0.929665   \n",
       "7  2022-03-19  42188.20 2022-03-27  46407.0200    0.099             1.021702   \n",
       "8  2022-07-28  23836.20 2022-08-02  22644.3900   -0.051             0.969595   \n",
       "9  2022-10-31  20482.00 2022-11-08  19457.9000   -0.051             0.920146   \n",
       "10 2023-01-12  18838.00 2023-01-14  20721.8000    0.099             1.011240   \n",
       "11 2023-03-19  27955.70 2023-03-27  26557.9150   -0.051             0.959667   \n",
       "12 2023-06-25  30458.00 2023-07-24  28935.1000   -0.051             0.910724   \n",
       "13 2023-10-01  27981.40 2023-10-11  26582.3300   -0.051             0.864277   \n",
       "\n",
       "   tradeSide  \n",
       "0       Long  \n",
       "1       Long  \n",
       "2       Long  \n",
       "3       Long  \n",
       "4       Long  \n",
       "5       Long  \n",
       "6       Long  \n",
       "7       Long  \n",
       "8       Long  \n",
       "9       Long  \n",
       "10      Long  \n",
       "11      Long  \n",
       "12      Long  \n",
       "13      Long  "
      ]
     },
     "execution_count": 198,
     "metadata": {},
     "output_type": "execute_result"
    }
   ],
   "source": [
    "dfr = displayTrades(**results_data)\n",
    "dfr"
   ]
  },
  {
   "cell_type": "code",
   "execution_count": 130,
   "id": "d690dcc2",
   "metadata": {
    "colab": {
     "base_uri": "https://localhost:8080/",
     "height": 564
    },
    "id": "d690dcc2",
    "outputId": "f100cb67-6646-42b1-d571-e7c3bca2251b",
    "scrolled": true
   },
   "outputs": [
    {
     "data": {
      "image/png": "[encoded data removed]",
      "text/plain": [
       "<Figure size 1000x600 with 1 Axes>"
      ]
     },
     "metadata": {},
     "output_type": "display_data"
    }
   ],
   "source": [
    "import matplotlib.pyplot as plt\n",
    "\n",
    "# Set the plot size\n",
    "plt.figure(figsize=(10,6))\n",
    "\n",
    "# Plot the account balance column\n",
    "plt.plot(dfr.buydates, dfr.commulative_returns)\n",
    "\n",
    "# Add labels to the plot\n",
    "plt.title('Account Returns Over Time')\n",
    "plt.xlabel('Time')\n",
    "plt.ylabel('Returns')\n",
    "\n",
    "# Display the plot\n",
    "plt.show()"
   ]
  },
  {
   "cell_type": "markdown",
   "id": "5d4f86cd",
   "metadata": {},
   "source": [
    "# Set Final Bot Parameters"
   ]
  },
  {
   "cell_type": "code",
   "execution_count": 131,
   "id": "9502b0ca",
   "metadata": {},
   "outputs": [],
   "source": [
    "ticker = \"BTCUSDT\"\n",
    "timeframe = \"1d\"        # ----> TO BE OPTIMIZED\n",
    "usdt_amount = 15\n",
    "\n",
    "\n",
    "fast_ma_period=18           # ----> TO BE OPTIMIZED\n",
    "slow_ma_period=75           # ----> TO BE OPTIMIZED\n",
    "rsi_period=14               # ----> TO BE OPTIMIZED\n",
    "rsi_value=50                # ----> TO BE OPTIMIZED\n",
    "sl_perc=5                   # ----> TO BE OPTIMIZED\n",
    "tp_perc=10                  # ----> TO BE OPTIMIZED"
   ]
  },
  {
   "cell_type": "markdown",
   "id": "cde93448",
   "metadata": {},
   "source": [
    "# Optuna Hyperparameter Optimization"
   ]
  },
  {
   "cell_type": "code",
   "execution_count": 203,
   "id": "8c14d663",
   "metadata": {},
   "outputs": [
    {
     "name": "stderr",
     "output_type": "stream",
     "text": [
      "[I 2023-10-28 00:23:23,053] A new study created in memory with name: no-name-edee72eb-08b8-44c8-ae2e-cdb936398171\n",
      "[I 2023-10-28 00:23:23,240] Trial 0 finished with value: 18.53 and parameters: {'fast_ma_period': 15, 'slow_ma_period': 71, 'rsi_period': 19, 'rsi_value': 55, 'sl_perc': 4, 'tp_perc': 10}. Best is trial 0 with value: 18.53.\n"
     ]
    },
    {
     "name": "stdout",
     "output_type": "stream",
     "text": [
      "fast_ma_period 15\n",
      "slow_ma_period 71\n",
      "rsi_period 19\n",
      "sl_perc 0.04\n",
      "tp_perc 0.1\n",
      "rsi_value 50\n",
      "BTCUSDT, winrate=50.0%, returns=37.06%, no. of trades = 12, buy&hold_ret = 236.575%\n",
      "fast_ma_period 25\n",
      "slow_ma_period 56\n",
      "rsi_period 20\n",
      "sl_perc 0.08\n",
      "tp_perc 0.08\n",
      "rsi_value 50\n"
     ]
    },
    {
     "name": "stderr",
     "output_type": "stream",
     "text": [
      "[I 2023-10-28 00:23:23,660] Trial 1 finished with value: 62.18029799999999 and parameters: {'fast_ma_period': 25, 'slow_ma_period': 56, 'rsi_period': 20, 'rsi_value': 50, 'sl_perc': 8, 'tp_perc': 8}. Best is trial 1 with value: 62.18029799999999.\n"
     ]
    },
    {
     "name": "stdout",
     "output_type": "stream",
     "text": [
      "BTCUSDT, winrate=78.57%, returns=79.14%, no. of trades = 14, buy&hold_ret = 236.575%\n",
      "fast_ma_period 23\n",
      "slow_ma_period 68\n",
      "rsi_period 23\n",
      "sl_perc 0.05\n",
      "tp_perc 0.05\n",
      "rsi_value 50\n"
     ]
    },
    {
     "name": "stderr",
     "output_type": "stream",
     "text": [
      "[I 2023-10-28 00:23:24,072] Trial 2 finished with value: 23.595 and parameters: {'fast_ma_period': 23, 'slow_ma_period': 68, 'rsi_period': 23, 'rsi_value': 49, 'sl_perc': 5, 'tp_perc': 5}. Best is trial 1 with value: 62.18029799999999.\n"
     ]
    },
    {
     "name": "stdout",
     "output_type": "stream",
     "text": [
      "BTCUSDT, winrate=75.0%, returns=31.46%, no. of trades = 12, buy&hold_ret = 236.575%\n",
      "fast_ma_period 26\n",
      "slow_ma_period 61\n",
      "rsi_period 11\n",
      "sl_perc 0.07\n",
      "tp_perc 0.1\n",
      "rsi_value 50\n"
     ]
    },
    {
     "name": "stderr",
     "output_type": "stream",
     "text": [
      "[I 2023-10-28 00:23:24,404] Trial 3 finished with value: 51.368660000000006 and parameters: {'fast_ma_period': 26, 'slow_ma_period': 61, 'rsi_period': 11, 'rsi_value': 54, 'sl_perc': 7, 'tp_perc': 10}. Best is trial 1 with value: 62.18029799999999.\n"
     ]
    },
    {
     "name": "stdout",
     "output_type": "stream",
     "text": [
      "BTCUSDT, winrate=69.23%, returns=74.2%, no. of trades = 13, buy&hold_ret = 236.575%\n",
      "fast_ma_period 20\n",
      "slow_ma_period 51\n",
      "rsi_period 20\n",
      "sl_perc 0.03\n",
      "tp_perc 0.12\n",
      "rsi_value 50\n"
     ]
    },
    {
     "name": "stderr",
     "output_type": "stream",
     "text": [
      "[I 2023-10-28 00:23:24,687] Trial 4 finished with value: -2.246105 and parameters: {'fast_ma_period': 20, 'slow_ma_period': 51, 'rsi_period': 20, 'rsi_value': 53, 'sl_perc': 3, 'tp_perc': 12}. Best is trial 1 with value: 62.18029799999999.\n"
     ]
    },
    {
     "name": "stdout",
     "output_type": "stream",
     "text": [
      "BTCUSDT, winrate=13.33%, returns=-16.85%, no. of trades = 15, buy&hold_ret = 236.575%\n",
      "fast_ma_period 19\n",
      "slow_ma_period 70\n",
      "rsi_period 16\n",
      "sl_perc 0.07\n",
      "tp_perc 0.12\n",
      "rsi_value 50\n"
     ]
    },
    {
     "name": "stderr",
     "output_type": "stream",
     "text": [
      "[I 2023-10-28 00:23:24,917] Trial 5 finished with value: 90.42 and parameters: {'fast_ma_period': 19, 'slow_ma_period': 70, 'rsi_period': 16, 'rsi_value': 60, 'sl_perc': 7, 'tp_perc': 12}. Best is trial 5 with value: 90.42.\n"
     ]
    },
    {
     "name": "stdout",
     "output_type": "stream",
     "text": [
      "BTCUSDT, winrate=75.0%, returns=120.56%, no. of trades = 12, buy&hold_ret = 236.575%\n",
      "fast_ma_period 27\n",
      "slow_ma_period 58\n",
      "rsi_period 15\n",
      "sl_perc 0.03\n",
      "tp_perc 0.07\n",
      "rsi_value 50\n",
      "BTCUSDT, winrate=50.0%, returns=23.54%, no. of trades = 12, buy&hold_ret = 236.575%\n"
     ]
    },
    {
     "name": "stderr",
     "output_type": "stream",
     "text": [
      "[I 2023-10-28 00:23:25,140] Trial 6 finished with value: 11.77 and parameters: {'fast_ma_period': 27, 'slow_ma_period': 58, 'rsi_period': 15, 'rsi_value': 57, 'sl_perc': 3, 'tp_perc': 7}. Best is trial 5 with value: 90.42.\n"
     ]
    },
    {
     "name": "stdout",
     "output_type": "stream",
     "text": [
      "fast_ma_period 22\n",
      "slow_ma_period 54\n",
      "rsi_period 14\n",
      "sl_perc 0.04\n",
      "tp_perc 0.12\n",
      "rsi_value 50\n"
     ]
    },
    {
     "name": "stderr",
     "output_type": "stream",
     "text": [
      "[I 2023-10-28 00:23:25,475] Trial 7 finished with value: 38.174265 and parameters: {'fast_ma_period': 22, 'slow_ma_period': 54, 'rsi_period': 14, 'rsi_value': 45, 'sl_perc': 4, 'tp_perc': 12}. Best is trial 5 with value: 90.42.\n"
     ]
    },
    {
     "name": "stdout",
     "output_type": "stream",
     "text": [
      "BTCUSDT, winrate=53.85%, returns=70.89%, no. of trades = 13, buy&hold_ret = 236.575%\n",
      "fast_ma_period 21\n",
      "slow_ma_period 53\n",
      "rsi_period 20\n",
      "sl_perc 0.08\n",
      "tp_perc 0.08\n",
      "rsi_value 50\n"
     ]
    },
    {
     "name": "stderr",
     "output_type": "stream",
     "text": [
      "[I 2023-10-28 00:23:25,742] Trial 8 finished with value: 37.550751000000005 and parameters: {'fast_ma_period': 21, 'slow_ma_period': 53, 'rsi_period': 20, 'rsi_value': 49, 'sl_perc': 8, 'tp_perc': 8}. Best is trial 5 with value: 90.42.\n"
     ]
    },
    {
     "name": "stdout",
     "output_type": "stream",
     "text": [
      "BTCUSDT, winrate=71.43%, returns=52.57%, no. of trades = 14, buy&hold_ret = 236.575%\n",
      "fast_ma_period 19\n",
      "slow_ma_period 65\n",
      "rsi_period 14\n",
      "sl_perc 0.08\n",
      "tp_perc 0.07\n",
      "rsi_value 50\n"
     ]
    },
    {
     "name": "stderr",
     "output_type": "stream",
     "text": [
      "[I 2023-10-28 00:23:25,999] Trial 9 finished with value: 53.822846999999996 and parameters: {'fast_ma_period': 19, 'slow_ma_period': 65, 'rsi_period': 14, 'rsi_value': 54, 'sl_perc': 8, 'tp_perc': 7}. Best is trial 5 with value: 90.42.\n"
     ]
    },
    {
     "name": "stdout",
     "output_type": "stream",
     "text": [
      "BTCUSDT, winrate=83.33%, returns=64.59%, no. of trades = 12, buy&hold_ret = 236.575%\n",
      "fast_ma_period 30\n",
      "slow_ma_period 75\n",
      "rsi_period 24\n",
      "sl_perc 0.06\n",
      "tp_perc 0.1\n",
      "rsi_value 50\n"
     ]
    },
    {
     "name": "stderr",
     "output_type": "stream",
     "text": [
      "[I 2023-10-28 00:23:26,266] Trial 10 finished with value: 32.163655999999996 and parameters: {'fast_ma_period': 30, 'slow_ma_period': 75, 'rsi_period': 24, 'rsi_value': 60, 'sl_perc': 6, 'tp_perc': 10}. Best is trial 5 with value: 90.42.\n"
     ]
    },
    {
     "name": "stdout",
     "output_type": "stream",
     "text": [
      "BTCUSDT, winrate=63.64%, returns=50.54%, no. of trades = 11, buy&hold_ret = 236.575%\n",
      "fast_ma_period 16\n",
      "slow_ma_period 59\n",
      "rsi_period 17\n",
      "sl_perc 0.09\n",
      "tp_perc 0.09\n",
      "rsi_value 50\n"
     ]
    },
    {
     "name": "stderr",
     "output_type": "stream",
     "text": [
      "[I 2023-10-28 00:23:26,589] Trial 11 finished with value: 21.652872000000002 and parameters: {'fast_ma_period': 16, 'slow_ma_period': 59, 'rsi_period': 17, 'rsi_value': 50, 'sl_perc': 9, 'tp_perc': 9}. Best is trial 5 with value: 90.42.\n"
     ]
    },
    {
     "name": "stdout",
     "output_type": "stream",
     "text": [
      "BTCUSDT, winrate=64.29%, returns=33.68%, no. of trades = 14, buy&hold_ret = 236.575%\n",
      "fast_ma_period 25\n",
      "slow_ma_period 64\n",
      "rsi_period 17\n",
      "sl_perc 0.07\n",
      "tp_perc 0.05\n",
      "rsi_value 50\n"
     ]
    },
    {
     "name": "stderr",
     "output_type": "stream",
     "text": [
      "[I 2023-10-28 00:23:26,908] Trial 12 finished with value: 22.583712 and parameters: {'fast_ma_period': 25, 'slow_ma_period': 64, 'rsi_period': 17, 'rsi_value': 60, 'sl_perc': 7, 'tp_perc': 5}. Best is trial 5 with value: 90.42.\n"
     ]
    },
    {
     "name": "stdout",
     "output_type": "stream",
     "text": [
      "BTCUSDT, winrate=76.92%, returns=29.36%, no. of trades = 13, buy&hold_ret = 236.575%\n",
      "fast_ma_period 18\n",
      "slow_ma_period 56\n",
      "rsi_period 22\n",
      "sl_perc 0.09\n",
      "tp_perc 0.07\n",
      "rsi_value 50\n"
     ]
    },
    {
     "name": "stderr",
     "output_type": "stream",
     "text": [
      "[I 2023-10-28 00:23:27,205] Trial 13 finished with value: 30.974591999999998 and parameters: {'fast_ma_period': 18, 'slow_ma_period': 56, 'rsi_period': 22, 'rsi_value': 46, 'sl_perc': 9, 'tp_perc': 7}. Best is trial 5 with value: 90.42.\n"
     ]
    },
    {
     "name": "stdout",
     "output_type": "stream",
     "text": [
      "BTCUSDT, winrate=73.33%, returns=42.24%, no. of trades = 15, buy&hold_ret = 236.575%\n",
      "fast_ma_period 29\n",
      "slow_ma_period 72\n",
      "rsi_period 11\n",
      "sl_perc 0.07\n",
      "tp_perc 0.11\n",
      "rsi_value 50\n"
     ]
    },
    {
     "name": "stderr",
     "output_type": "stream",
     "text": [
      "[I 2023-10-28 00:23:27,625] Trial 14 finished with value: 24.941907999999994 and parameters: {'fast_ma_period': 29, 'slow_ma_period': 72, 'rsi_period': 11, 'rsi_value': 51, 'sl_perc': 7, 'tp_perc': 11}. Best is trial 5 with value: 90.42.\n"
     ]
    },
    {
     "name": "stdout",
     "output_type": "stream",
     "text": [
      "BTCUSDT, winrate=58.33%, returns=42.76%, no. of trades = 12, buy&hold_ret = 236.575%\n",
      "fast_ma_period 24\n",
      "slow_ma_period 67\n",
      "rsi_period 18\n",
      "sl_perc 0.06\n",
      "tp_perc 0.08\n",
      "rsi_value 50\n"
     ]
    },
    {
     "name": "stderr",
     "output_type": "stream",
     "text": [
      "[I 2023-10-28 00:23:27,993] Trial 15 finished with value: 4.085 and parameters: {'fast_ma_period': 24, 'slow_ma_period': 67, 'rsi_period': 18, 'rsi_value': 57, 'sl_perc': 6, 'tp_perc': 8}. Best is trial 5 with value: 90.42.\n"
     ]
    },
    {
     "name": "stdout",
     "output_type": "stream",
     "text": [
      "BTCUSDT, winrate=50.0%, returns=8.17%, no. of trades = 12, buy&hold_ret = 236.575%\n",
      "fast_ma_period 18\n",
      "slow_ma_period 61\n",
      "rsi_period 21\n",
      "sl_perc 0.08\n",
      "tp_perc 0.09\n",
      "rsi_value 50\n"
     ]
    },
    {
     "name": "stderr",
     "output_type": "stream",
     "text": [
      "[I 2023-10-28 00:23:28,593] Trial 16 finished with value: 97.939188 and parameters: {'fast_ma_period': 18, 'slow_ma_period': 61, 'rsi_period': 21, 'rsi_value': 47, 'sl_perc': 8, 'tp_perc': 9}. Best is trial 16 with value: 97.939188.\n"
     ]
    },
    {
     "name": "stdout",
     "output_type": "stream",
     "text": [
      "BTCUSDT, winrate=84.62%, returns=115.74%, no. of trades = 13, buy&hold_ret = 236.575%\n",
      "fast_ma_period 17\n",
      "slow_ma_period 62\n",
      "rsi_period 22\n",
      "sl_perc 0.07\n",
      "tp_perc 0.11\n",
      "rsi_value 50\n"
     ]
    },
    {
     "name": "stderr",
     "output_type": "stream",
     "text": [
      "[I 2023-10-28 00:23:29,015] Trial 17 finished with value: 119.03690499999999 and parameters: {'fast_ma_period': 17, 'slow_ma_period': 62, 'rsi_period': 22, 'rsi_value': 47, 'sl_perc': 7, 'tp_perc': 11}. Best is trial 17 with value: 119.03690499999999.\n"
     ]
    },
    {
     "name": "stdout",
     "output_type": "stream",
     "text": [
      "BTCUSDT, winrate=83.33%, returns=142.85%, no. of trades = 12, buy&hold_ret = 236.575%\n",
      "fast_ma_period 17\n",
      "slow_ma_period 62\n",
      "rsi_period 22\n",
      "sl_perc 0.09\n",
      "tp_perc 0.11\n",
      "rsi_value 50\n"
     ]
    },
    {
     "name": "stderr",
     "output_type": "stream",
     "text": [
      "[I 2023-10-28 00:23:29,364] Trial 18 finished with value: 110.42058299999998 and parameters: {'fast_ma_period': 17, 'slow_ma_period': 62, 'rsi_period': 22, 'rsi_value': 47, 'sl_perc': 9, 'tp_perc': 11}. Best is trial 17 with value: 119.03690499999999.\n"
     ]
    },
    {
     "name": "stdout",
     "output_type": "stream",
     "text": [
      "BTCUSDT, winrate=83.33%, returns=132.51%, no. of trades = 12, buy&hold_ret = 236.575%\n",
      "fast_ma_period 16\n",
      "slow_ma_period 63\n",
      "rsi_period 24\n",
      "sl_perc 0.09\n",
      "tp_perc 0.11\n",
      "rsi_value 50\n",
      "BTCUSDT, winrate=75.0%, returns=90.58%, no. of trades = 12, buy&hold_ret = 236.575%\n"
     ]
    },
    {
     "name": "stderr",
     "output_type": "stream",
     "text": [
      "[I 2023-10-28 00:23:29,799] Trial 19 finished with value: 67.935 and parameters: {'fast_ma_period': 16, 'slow_ma_period': 63, 'rsi_period': 24, 'rsi_value': 47, 'sl_perc': 9, 'tp_perc': 11}. Best is trial 17 with value: 119.03690499999999.\n",
      "[I 2023-10-28 00:23:30,181] Trial 20 finished with value: 34.29803999999999 and parameters: {'fast_ma_period': 17, 'slow_ma_period': 67, 'rsi_period': 22, 'rsi_value': 48, 'sl_perc': 5, 'tp_perc': 11}. Best is trial 17 with value: 119.03690499999999.\n"
     ]
    },
    {
     "name": "stdout",
     "output_type": "stream",
     "text": [
      "fast_ma_period 17\n",
      "slow_ma_period 67\n",
      "rsi_period 22\n",
      "sl_perc 0.05\n",
      "tp_perc 0.11\n",
      "rsi_value 50\n",
      "BTCUSDT, winrate=58.33%, returns=58.8%, no. of trades = 12, buy&hold_ret = 236.575%\n"
     ]
    },
    {
     "name": "stderr",
     "output_type": "stream",
     "text": [
      "[I 2023-10-28 00:23:30,521] Trial 21 finished with value: 81.75506299999999 and parameters: {'fast_ma_period': 18, 'slow_ma_period': 61, 'rsi_period': 22, 'rsi_value': 45, 'sl_perc': 8, 'tp_perc': 9}. Best is trial 17 with value: 119.03690499999999.\n"
     ]
    },
    {
     "name": "stdout",
     "output_type": "stream",
     "text": [
      "fast_ma_period 18\n",
      "slow_ma_period 61\n",
      "rsi_period 22\n",
      "sl_perc 0.08\n",
      "tp_perc 0.09\n",
      "rsi_value 50\n",
      "BTCUSDT, winrate=83.33%, returns=98.11%, no. of trades = 12, buy&hold_ret = 236.575%\n"
     ]
    },
    {
     "name": "stderr",
     "output_type": "stream",
     "text": [
      "[I 2023-10-28 00:23:30,823] Trial 22 finished with value: 50.704052 and parameters: {'fast_ma_period': 15, 'slow_ma_period': 61, 'rsi_period': 21, 'rsi_value': 47, 'sl_perc': 9, 'tp_perc': 11}. Best is trial 17 with value: 119.03690499999999.\n"
     ]
    },
    {
     "name": "stdout",
     "output_type": "stream",
     "text": [
      "fast_ma_period 15\n",
      "slow_ma_period 61\n",
      "rsi_period 21\n",
      "sl_perc 0.09\n",
      "tp_perc 0.11\n",
      "rsi_value 50\n",
      "BTCUSDT, winrate=69.23%, returns=73.24%, no. of trades = 13, buy&hold_ret = 236.575%\n"
     ]
    },
    {
     "name": "stderr",
     "output_type": "stream",
     "text": [
      "[I 2023-10-28 00:23:31,175] Trial 23 finished with value: 59.522619000000006 and parameters: {'fast_ma_period': 20, 'slow_ma_period': 59, 'rsi_period': 23, 'rsi_value': 47, 'sl_perc': 8, 'tp_perc': 10}. Best is trial 17 with value: 119.03690499999999.\n"
     ]
    },
    {
     "name": "stdout",
     "output_type": "stream",
     "text": [
      "fast_ma_period 20\n",
      "slow_ma_period 59\n",
      "rsi_period 23\n",
      "sl_perc 0.08\n",
      "tp_perc 0.1\n",
      "rsi_value 50\n",
      "BTCUSDT, winrate=71.43%, returns=83.33%, no. of trades = 14, buy&hold_ret = 236.575%\n"
     ]
    },
    {
     "name": "stderr",
     "output_type": "stream",
     "text": [
      "[I 2023-10-28 00:23:31,581] Trial 24 finished with value: 67.743444 and parameters: {'fast_ma_period': 17, 'slow_ma_period': 65, 'rsi_period': 21, 'rsi_value': 51, 'sl_perc': 7, 'tp_perc': 9}. Best is trial 17 with value: 119.03690499999999.\n"
     ]
    },
    {
     "name": "stdout",
     "output_type": "stream",
     "text": [
      "fast_ma_period 17\n",
      "slow_ma_period 65\n",
      "rsi_period 21\n",
      "sl_perc 0.07\n",
      "tp_perc 0.09\n",
      "rsi_value 50\n",
      "BTCUSDT, winrate=76.92%, returns=88.07%, no. of trades = 13, buy&hold_ret = 236.575%\n"
     ]
    },
    {
     "name": "stderr",
     "output_type": "stream",
     "text": [
      "[I 2023-10-28 00:23:31,908] Trial 25 finished with value: 85.65042 and parameters: {'fast_ma_period': 17, 'slow_ma_period': 62, 'rsi_period': 19, 'rsi_value': 48, 'sl_perc': 9, 'tp_perc': 11}. Best is trial 17 with value: 119.03690499999999.\n"
     ]
    },
    {
     "name": "stdout",
     "output_type": "stream",
     "text": [
      "fast_ma_period 17\n",
      "slow_ma_period 62\n",
      "rsi_period 19\n",
      "sl_perc 0.09\n",
      "tp_perc 0.11\n",
      "rsi_value 50\n",
      "BTCUSDT, winrate=76.92%, returns=111.35%, no. of trades = 13, buy&hold_ret = 236.575%\n"
     ]
    },
    {
     "name": "stderr",
     "output_type": "stream",
     "text": [
      "[I 2023-10-28 00:23:32,266] Trial 26 finished with value: 58.308513 and parameters: {'fast_ma_period': 21, 'slow_ma_period': 58, 'rsi_period': 23, 'rsi_value': 46, 'sl_perc': 8, 'tp_perc': 6}. Best is trial 17 with value: 119.03690499999999.\n"
     ]
    },
    {
     "name": "stdout",
     "output_type": "stream",
     "text": [
      "fast_ma_period 21\n",
      "slow_ma_period 58\n",
      "rsi_period 23\n",
      "sl_perc 0.08\n",
      "tp_perc 0.06\n",
      "rsi_value 50\n",
      "BTCUSDT, winrate=85.71%, returns=68.03%, no. of trades = 14, buy&hold_ret = 236.575%\n",
      "fast_ma_period 19\n",
      "slow_ma_period 63\n",
      "rsi_period 21\n",
      "sl_perc 0.06\n",
      "tp_perc 0.1\n",
      "rsi_value 50\n"
     ]
    },
    {
     "name": "stderr",
     "output_type": "stream",
     "text": [
      "[I 2023-10-28 00:23:32,781] Trial 27 finished with value: 105.52077899999999 and parameters: {'fast_ma_period': 19, 'slow_ma_period': 63, 'rsi_period': 21, 'rsi_value': 45, 'sl_perc': 6, 'tp_perc': 10}. Best is trial 17 with value: 119.03690499999999.\n"
     ]
    },
    {
     "name": "stdout",
     "output_type": "stream",
     "text": [
      "BTCUSDT, winrate=83.33%, returns=126.63%, no. of trades = 12, buy&hold_ret = 236.575%\n",
      "fast_ma_period 19\n",
      "slow_ma_period 65\n",
      "rsi_period 19\n",
      "sl_perc 0.05\n",
      "tp_perc 0.1\n",
      "rsi_value 50\n"
     ]
    },
    {
     "name": "stderr",
     "output_type": "stream",
     "text": [
      "[I 2023-10-28 00:23:33,245] Trial 28 finished with value: 48.40242 and parameters: {'fast_ma_period': 19, 'slow_ma_period': 65, 'rsi_period': 19, 'rsi_value': 45, 'sl_perc': 5, 'tp_perc': 10}. Best is trial 17 with value: 119.03690499999999.\n"
     ]
    },
    {
     "name": "stdout",
     "output_type": "stream",
     "text": [
      "BTCUSDT, winrate=66.67%, returns=72.6%, no. of trades = 12, buy&hold_ret = 236.575%\n",
      "fast_ma_period 15\n",
      "slow_ma_period 69\n",
      "rsi_period 24\n",
      "sl_perc 0.06\n",
      "tp_perc 0.1\n",
      "rsi_value 50\n"
     ]
    },
    {
     "name": "stderr",
     "output_type": "stream",
     "text": [
      "[I 2023-10-28 00:23:33,806] Trial 29 finished with value: 34.06239 and parameters: {'fast_ma_period': 15, 'slow_ma_period': 69, 'rsi_period': 24, 'rsi_value': 46, 'sl_perc': 6, 'tp_perc': 10}. Best is trial 17 with value: 119.03690499999999.\n"
     ]
    },
    {
     "name": "stdout",
     "output_type": "stream",
     "text": [
      "BTCUSDT, winrate=61.54%, returns=55.35%, no. of trades = 13, buy&hold_ret = 236.575%\n",
      "fast_ma_period 16\n",
      "slow_ma_period 63\n",
      "rsi_period 18\n",
      "sl_perc 0.04\n",
      "tp_perc 0.12\n",
      "rsi_value 50\n"
     ]
    },
    {
     "name": "stderr",
     "output_type": "stream",
     "text": [
      "[I 2023-10-28 00:23:34,252] Trial 30 finished with value: 38.174265 and parameters: {'fast_ma_period': 16, 'slow_ma_period': 63, 'rsi_period': 18, 'rsi_value': 52, 'sl_perc': 4, 'tp_perc': 12}. Best is trial 17 with value: 119.03690499999999.\n"
     ]
    },
    {
     "name": "stdout",
     "output_type": "stream",
     "text": [
      "BTCUSDT, winrate=53.85%, returns=70.89%, no. of trades = 13, buy&hold_ret = 236.575%\n",
      "fast_ma_period 18\n",
      "slow_ma_period 60\n",
      "rsi_period 21\n",
      "sl_perc 0.06\n",
      "tp_perc 0.09\n",
      "rsi_value 50\n"
     ]
    },
    {
     "name": "stderr",
     "output_type": "stream",
     "text": [
      "[I 2023-10-28 00:23:34,627] Trial 31 finished with value: 72.466332 and parameters: {'fast_ma_period': 18, 'slow_ma_period': 60, 'rsi_period': 21, 'rsi_value': 48, 'sl_perc': 6, 'tp_perc': 9}. Best is trial 17 with value: 119.03690499999999.\n"
     ]
    },
    {
     "name": "stdout",
     "output_type": "stream",
     "text": [
      "BTCUSDT, winrate=76.92%, returns=94.21%, no. of trades = 13, buy&hold_ret = 236.575%\n",
      "fast_ma_period 20\n",
      "slow_ma_period 57\n",
      "rsi_period 21\n",
      "sl_perc 0.08\n",
      "tp_perc 0.1\n",
      "rsi_value 50\n"
     ]
    },
    {
     "name": "stderr",
     "output_type": "stream",
     "text": [
      "[I 2023-10-28 00:23:34,952] Trial 32 finished with value: 46.259485999999995 and parameters: {'fast_ma_period': 20, 'slow_ma_period': 57, 'rsi_period': 21, 'rsi_value': 49, 'sl_perc': 8, 'tp_perc': 10}. Best is trial 17 with value: 119.03690499999999.\n"
     ]
    },
    {
     "name": "stdout",
     "output_type": "stream",
     "text": [
      "BTCUSDT, winrate=69.23%, returns=66.82%, no. of trades = 13, buy&hold_ret = 236.575%\n",
      "fast_ma_period 17\n",
      "slow_ma_period 66\n",
      "rsi_period 22\n",
      "sl_perc 0.07\n",
      "tp_perc 0.11\n",
      "rsi_value 50\n"
     ]
    },
    {
     "name": "stderr",
     "output_type": "stream",
     "text": [
      "[I 2023-10-28 00:23:35,291] Trial 33 finished with value: 77.58 and parameters: {'fast_ma_period': 17, 'slow_ma_period': 66, 'rsi_period': 22, 'rsi_value': 46, 'sl_perc': 7, 'tp_perc': 11}. Best is trial 17 with value: 119.03690499999999.\n"
     ]
    },
    {
     "name": "stdout",
     "output_type": "stream",
     "text": [
      "BTCUSDT, winrate=75.0%, returns=103.44%, no. of trades = 12, buy&hold_ret = 236.575%\n",
      "fast_ma_period 15\n",
      "slow_ma_period 62\n",
      "rsi_period 20\n",
      "sl_perc 0.06\n",
      "tp_perc 0.09\n",
      "rsi_value 50\n",
      "BTCUSDT, winrate=76.92%, returns=94.21%, no. of trades = 13, buy&hold_ret = 236.575%\n"
     ]
    },
    {
     "name": "stderr",
     "output_type": "stream",
     "text": [
      "[I 2023-10-28 00:23:35,751] Trial 34 finished with value: 72.466332 and parameters: {'fast_ma_period': 15, 'slow_ma_period': 62, 'rsi_period': 20, 'rsi_value': 47, 'sl_perc': 6, 'tp_perc': 9}. Best is trial 17 with value: 119.03690499999999.\n"
     ]
    },
    {
     "name": "stdout",
     "output_type": "stream",
     "text": [
      "fast_ma_period 21\n",
      "slow_ma_period 60\n",
      "rsi_period 23\n",
      "sl_perc 0.07\n",
      "tp_perc 0.08\n",
      "rsi_value 50\n",
      "BTCUSDT, winrate=83.33%, returns=84.61%, no. of trades = 12, buy&hold_ret = 236.575%\n"
     ]
    },
    {
     "name": "stderr",
     "output_type": "stream",
     "text": [
      "[I 2023-10-28 00:23:36,119] Trial 35 finished with value: 70.505513 and parameters: {'fast_ma_period': 21, 'slow_ma_period': 60, 'rsi_period': 23, 'rsi_value': 50, 'sl_perc': 7, 'tp_perc': 8}. Best is trial 17 with value: 119.03690499999999.\n",
      "[I 2023-10-28 00:23:36,465] Trial 36 finished with value: 93.64625399999998 and parameters: {'fast_ma_period': 18, 'slow_ma_period': 63, 'rsi_period': 19, 'rsi_value': 45, 'sl_perc': 9, 'tp_perc': 10}. Best is trial 17 with value: 119.03690499999999.\n"
     ]
    },
    {
     "name": "stdout",
     "output_type": "stream",
     "text": [
      "fast_ma_period 18\n",
      "slow_ma_period 63\n",
      "rsi_period 19\n",
      "sl_perc 0.09\n",
      "tp_perc 0.1\n",
      "rsi_value 50\n",
      "BTCUSDT, winrate=83.33%, returns=112.38%, no. of trades = 12, buy&hold_ret = 236.575%\n"
     ]
    },
    {
     "name": "stderr",
     "output_type": "stream",
     "text": [
      "[I 2023-10-28 00:23:36,780] Trial 37 finished with value: 85.13250000000001 and parameters: {'fast_ma_period': 23, 'slow_ma_period': 64, 'rsi_period': 20, 'rsi_value': 48, 'sl_perc': 8, 'tp_perc': 12}. Best is trial 17 with value: 119.03690499999999.\n"
     ]
    },
    {
     "name": "stdout",
     "output_type": "stream",
     "text": [
      "fast_ma_period 23\n",
      "slow_ma_period 64\n",
      "rsi_period 20\n",
      "sl_perc 0.08\n",
      "tp_perc 0.12\n",
      "rsi_value 50\n",
      "BTCUSDT, winrate=75.0%, returns=113.51%, no. of trades = 12, buy&hold_ret = 236.575%\n"
     ]
    },
    {
     "name": "stderr",
     "output_type": "stream",
     "text": [
      "[I 2023-10-28 00:23:37,087] Trial 38 finished with value: 9.592068 and parameters: {'fast_ma_period': 19, 'slow_ma_period': 55, 'rsi_period': 22, 'rsi_value': 49, 'sl_perc': 5, 'tp_perc': 11}. Best is trial 17 with value: 119.03690499999999.\n"
     ]
    },
    {
     "name": "stdout",
     "output_type": "stream",
     "text": [
      "fast_ma_period 19\n",
      "slow_ma_period 55\n",
      "rsi_period 22\n",
      "sl_perc 0.05\n",
      "tp_perc 0.11\n",
      "rsi_value 50\n",
      "BTCUSDT, winrate=42.86%, returns=22.38%, no. of trades = 14, buy&hold_ret = 236.575%\n",
      "fast_ma_period 16\n",
      "slow_ma_period 51\n",
      "rsi_period 21\n",
      "sl_perc 0.07\n",
      "tp_perc 0.1\n",
      "rsi_value 50\n"
     ]
    },
    {
     "name": "stderr",
     "output_type": "stream",
     "text": [
      "[I 2023-10-28 00:23:37,708] Trial 39 finished with value: 14.441764 and parameters: {'fast_ma_period': 16, 'slow_ma_period': 51, 'rsi_period': 21, 'rsi_value': 46, 'sl_perc': 7, 'tp_perc': 10}. Best is trial 17 with value: 119.03690499999999.\n"
     ]
    },
    {
     "name": "stdout",
     "output_type": "stream",
     "text": [
      "BTCUSDT, winrate=53.33%, returns=27.08%, no. of trades = 15, buy&hold_ret = 236.575%\n",
      "fast_ma_period 22\n",
      "slow_ma_period 61\n",
      "rsi_period 23\n",
      "sl_perc 0.06\n",
      "tp_perc 0.12\n",
      "rsi_value 50\n"
     ]
    },
    {
     "name": "stderr",
     "output_type": "stream",
     "text": [
      "[I 2023-10-28 00:23:38,031] Trial 40 finished with value: 99.509133 and parameters: {'fast_ma_period': 22, 'slow_ma_period': 61, 'rsi_period': 23, 'rsi_value': 56, 'sl_perc': 6, 'tp_perc': 12}. Best is trial 17 with value: 119.03690499999999.\n"
     ]
    },
    {
     "name": "stdout",
     "output_type": "stream",
     "text": [
      "BTCUSDT, winrate=71.43%, returns=139.31%, no. of trades = 14, buy&hold_ret = 236.575%\n",
      "fast_ma_period 22\n",
      "slow_ma_period 61\n",
      "rsi_period 23\n",
      "sl_perc 0.06\n",
      "tp_perc 0.12\n",
      "rsi_value 50\n"
     ]
    },
    {
     "name": "stderr",
     "output_type": "stream",
     "text": [
      "[I 2023-10-28 00:23:38,307] Trial 41 finished with value: 99.509133 and parameters: {'fast_ma_period': 22, 'slow_ma_period': 61, 'rsi_period': 23, 'rsi_value': 57, 'sl_perc': 6, 'tp_perc': 12}. Best is trial 17 with value: 119.03690499999999.\n"
     ]
    },
    {
     "name": "stdout",
     "output_type": "stream",
     "text": [
      "BTCUSDT, winrate=71.43%, returns=139.31%, no. of trades = 14, buy&hold_ret = 236.575%\n",
      "fast_ma_period 22\n",
      "slow_ma_period 59\n",
      "rsi_period 23\n",
      "sl_perc 0.05\n",
      "tp_perc 0.12\n",
      "rsi_value 50\n"
     ]
    },
    {
     "name": "stderr",
     "output_type": "stream",
     "text": [
      "[I 2023-10-28 00:23:38,586] Trial 42 finished with value: 125.448828 and parameters: {'fast_ma_period': 22, 'slow_ma_period': 59, 'rsi_period': 23, 'rsi_value': 57, 'sl_perc': 5, 'tp_perc': 12}. Best is trial 42 with value: 125.448828.\n"
     ]
    },
    {
     "name": "stdout",
     "output_type": "stream",
     "text": [
      "BTCUSDT, winrate=76.92%, returns=163.09%, no. of trades = 13, buy&hold_ret = 236.575%\n",
      "fast_ma_period 24\n",
      "slow_ma_period 58\n",
      "rsi_period 24\n",
      "sl_perc 0.05\n",
      "tp_perc 0.12\n",
      "rsi_value 50\n",
      "BTCUSDT, winrate=76.92%, returns=163.09%, no. of trades = 13, buy&hold_ret = 236.575%\n"
     ]
    },
    {
     "name": "stderr",
     "output_type": "stream",
     "text": [
      "[I 2023-10-28 00:23:39,046] Trial 43 finished with value: 125.448828 and parameters: {'fast_ma_period': 24, 'slow_ma_period': 58, 'rsi_period': 24, 'rsi_value': 58, 'sl_perc': 5, 'tp_perc': 12}. Best is trial 42 with value: 125.448828.\n",
      "[I 2023-10-28 00:23:39,442] Trial 44 finished with value: 26.36 and parameters: {'fast_ma_period': 26, 'slow_ma_period': 57, 'rsi_period': 24, 'rsi_value': 59, 'sl_perc': 4, 'tp_perc': 12}. Best is trial 42 with value: 125.448828.\n"
     ]
    },
    {
     "name": "stdout",
     "output_type": "stream",
     "text": [
      "fast_ma_period 26\n",
      "slow_ma_period 57\n",
      "rsi_period 24\n",
      "sl_perc 0.04\n",
      "tp_perc 0.12\n",
      "rsi_value 50\n",
      "BTCUSDT, winrate=50.0%, returns=52.72%, no. of trades = 12, buy&hold_ret = 236.575%\n"
     ]
    },
    {
     "name": "stderr",
     "output_type": "stream",
     "text": [
      "[I 2023-10-28 00:23:39,765] Trial 45 finished with value: 120.88086799999999 and parameters: {'fast_ma_period': 24, 'slow_ma_period': 59, 'rsi_period': 24, 'rsi_value': 58, 'sl_perc': 5, 'tp_perc': 12}. Best is trial 42 with value: 125.448828.\n"
     ]
    },
    {
     "name": "stdout",
     "output_type": "stream",
     "text": [
      "fast_ma_period 24\n",
      "slow_ma_period 59\n",
      "rsi_period 24\n",
      "sl_perc 0.05\n",
      "tp_perc 0.12\n",
      "rsi_value 50\n",
      "BTCUSDT, winrate=81.82%, returns=147.74%, no. of trades = 11, buy&hold_ret = 236.575%\n"
     ]
    },
    {
     "name": "stderr",
     "output_type": "stream",
     "text": [
      "[I 2023-10-28 00:23:40,113] Trial 46 finished with value: 71.837646 and parameters: {'fast_ma_period': 24, 'slow_ma_period': 53, 'rsi_period': 24, 'rsi_value': 58, 'sl_perc': 5, 'tp_perc': 12}. Best is trial 42 with value: 125.448828.\n"
     ]
    },
    {
     "name": "stdout",
     "output_type": "stream",
     "text": [
      "fast_ma_period 24\n",
      "slow_ma_period 53\n",
      "rsi_period 24\n",
      "sl_perc 0.05\n",
      "tp_perc 0.12\n",
      "rsi_value 50\n",
      "BTCUSDT, winrate=64.29%, returns=111.74%, no. of trades = 14, buy&hold_ret = 236.575%\n"
     ]
    },
    {
     "name": "stderr",
     "output_type": "stream",
     "text": [
      "[I 2023-10-28 00:23:40,478] Trial 47 finished with value: 7.289271 and parameters: {'fast_ma_period': 27, 'slow_ma_period': 59, 'rsi_period': 24, 'rsi_value': 55, 'sl_perc': 3, 'tp_perc': 12}. Best is trial 42 with value: 125.448828.\n"
     ]
    },
    {
     "name": "stdout",
     "output_type": "stream",
     "text": [
      "fast_ma_period 27\n",
      "slow_ma_period 59\n",
      "rsi_period 24\n",
      "sl_perc 0.03\n",
      "tp_perc 0.12\n",
      "rsi_value 50\n",
      "BTCUSDT, winrate=33.33%, returns=21.87%, no. of trades = 12, buy&hold_ret = 236.575%\n",
      "fast_ma_period 24\n",
      "slow_ma_period 56\n",
      "rsi_period 23\n",
      "sl_perc 0.05\n",
      "tp_perc 0.11\n",
      "rsi_value 50\n",
      "BTCUSDT, winrate=60.0%, returns=85.35%, no. of trades = 15, buy&hold_ret = 236.575%\n"
     ]
    },
    {
     "name": "stderr",
     "output_type": "stream",
     "text": [
      "[I 2023-10-28 00:23:40,834] Trial 48 finished with value: 51.209999999999994 and parameters: {'fast_ma_period': 24, 'slow_ma_period': 56, 'rsi_period': 23, 'rsi_value': 59, 'sl_perc': 5, 'tp_perc': 11}. Best is trial 42 with value: 125.448828.\n",
      "[I 2023-10-28 00:23:41,180] Trial 49 finished with value: 45.614059999999995 and parameters: {'fast_ma_period': 25, 'slow_ma_period': 57, 'rsi_period': 22, 'rsi_value': 54, 'sl_perc': 4, 'tp_perc': 12}. Best is trial 42 with value: 125.448828.\n"
     ]
    },
    {
     "name": "stdout",
     "output_type": "stream",
     "text": [
      "fast_ma_period 25\n",
      "slow_ma_period 57\n",
      "rsi_period 22\n",
      "sl_perc 0.04\n",
      "tp_perc 0.12\n",
      "rsi_value 50\n",
      "BTCUSDT, winrate=58.33%, returns=78.2%, no. of trades = 12, buy&hold_ret = 236.575%\n",
      "fast_ma_period 23\n",
      "slow_ma_period 54\n",
      "rsi_period 13\n",
      "sl_perc 0.04\n",
      "tp_perc 0.11\n",
      "rsi_value 50\n",
      "BTCUSDT, winrate=42.86%, returns=33.09%, no. of trades = 14, buy&hold_ret = 236.575%\n"
     ]
    },
    {
     "name": "stderr",
     "output_type": "stream",
     "text": [
      "[I 2023-10-28 00:23:41,563] Trial 50 finished with value: 14.182374000000001 and parameters: {'fast_ma_period': 23, 'slow_ma_period': 54, 'rsi_period': 13, 'rsi_value': 58, 'sl_perc': 4, 'tp_perc': 11}. Best is trial 42 with value: 125.448828.\n",
      "[I 2023-10-28 00:23:41,896] Trial 51 finished with value: 108.0726 and parameters: {'fast_ma_period': 24, 'slow_ma_period': 58, 'rsi_period': 24, 'rsi_value': 56, 'sl_perc': 5, 'tp_perc': 11}. Best is trial 42 with value: 125.448828.\n"
     ]
    },
    {
     "name": "stdout",
     "output_type": "stream",
     "text": [
      "fast_ma_period 24\n",
      "slow_ma_period 58\n",
      "rsi_period 24\n",
      "sl_perc 0.05\n",
      "tp_perc 0.11\n",
      "rsi_value 50\n",
      "BTCUSDT, winrate=76.92%, returns=140.5%, no. of trades = 13, buy&hold_ret = 236.575%\n"
     ]
    },
    {
     "name": "stderr",
     "output_type": "stream",
     "text": [
      "[I 2023-10-28 00:23:42,230] Trial 52 finished with value: 17.945 and parameters: {'fast_ma_period': 26, 'slow_ma_period': 58, 'rsi_period': 24, 'rsi_value': 56, 'sl_perc': 5, 'tp_perc': 11}. Best is trial 42 with value: 125.448828.\n"
     ]
    },
    {
     "name": "stdout",
     "output_type": "stream",
     "text": [
      "fast_ma_period 26\n",
      "slow_ma_period 58\n",
      "rsi_period 24\n",
      "sl_perc 0.05\n",
      "tp_perc 0.11\n",
      "rsi_value 50\n",
      "BTCUSDT, winrate=50.0%, returns=35.89%, no. of trades = 12, buy&hold_ret = 236.575%\n",
      "fast_ma_period 27\n",
      "slow_ma_period 59\n",
      "rsi_period 23\n",
      "sl_perc 0.05\n",
      "tp_perc 0.12\n",
      "rsi_value 50\n"
     ]
    },
    {
     "name": "stderr",
     "output_type": "stream",
     "text": [
      "[I 2023-10-28 00:23:42,747] Trial 53 finished with value: 21.705 and parameters: {'fast_ma_period': 27, 'slow_ma_period': 59, 'rsi_period': 23, 'rsi_value': 58, 'sl_perc': 5, 'tp_perc': 12}. Best is trial 42 with value: 125.448828.\n"
     ]
    },
    {
     "name": "stdout",
     "output_type": "stream",
     "text": [
      "BTCUSDT, winrate=50.0%, returns=43.41%, no. of trades = 12, buy&hold_ret = 236.575%\n",
      "fast_ma_period 24\n",
      "slow_ma_period 58\n",
      "rsi_period 24\n",
      "sl_perc 0.05\n",
      "tp_perc 0.11\n",
      "rsi_value 50\n"
     ]
    },
    {
     "name": "stderr",
     "output_type": "stream",
     "text": [
      "[I 2023-10-28 00:23:43,253] Trial 54 finished with value: 108.0726 and parameters: {'fast_ma_period': 24, 'slow_ma_period': 58, 'rsi_period': 24, 'rsi_value': 57, 'sl_perc': 5, 'tp_perc': 11}. Best is trial 42 with value: 125.448828.\n"
     ]
    },
    {
     "name": "stdout",
     "output_type": "stream",
     "text": [
      "BTCUSDT, winrate=76.92%, returns=140.5%, no. of trades = 13, buy&hold_ret = 236.575%\n",
      "fast_ma_period 25\n",
      "slow_ma_period 60\n",
      "rsi_period 23\n",
      "sl_perc 0.05\n",
      "tp_perc 0.12\n",
      "rsi_value 50\n"
     ]
    },
    {
     "name": "stderr",
     "output_type": "stream",
     "text": [
      "[I 2023-10-28 00:23:43,830] Trial 55 finished with value: 54.905987999999994 and parameters: {'fast_ma_period': 25, 'slow_ma_period': 60, 'rsi_period': 23, 'rsi_value': 59, 'sl_perc': 5, 'tp_perc': 12}. Best is trial 42 with value: 125.448828.\n"
     ]
    },
    {
     "name": "stdout",
     "output_type": "stream",
     "text": [
      "BTCUSDT, winrate=61.54%, returns=89.22%, no. of trades = 13, buy&hold_ret = 236.575%\n",
      "fast_ma_period 28\n",
      "slow_ma_period 55\n",
      "rsi_period 22\n",
      "sl_perc 0.04\n",
      "tp_perc 0.11\n",
      "rsi_value 50\n"
     ]
    },
    {
     "name": "stderr",
     "output_type": "stream",
     "text": [
      "[I 2023-10-28 00:23:44,201] Trial 56 finished with value: 13.857705 and parameters: {'fast_ma_period': 28, 'slow_ma_period': 55, 'rsi_period': 22, 'rsi_value': 55, 'sl_perc': 4, 'tp_perc': 11}. Best is trial 42 with value: 125.448828.\n"
     ]
    },
    {
     "name": "stdout",
     "output_type": "stream",
     "text": [
      "BTCUSDT, winrate=45.45%, returns=30.49%, no. of trades = 11, buy&hold_ret = 236.575%\n",
      "fast_ma_period 23\n",
      "slow_ma_period 60\n",
      "rsi_period 24\n",
      "sl_perc 0.05\n",
      "tp_perc 0.12\n",
      "rsi_value 50\n"
     ]
    },
    {
     "name": "stderr",
     "output_type": "stream",
     "text": [
      "[I 2023-10-28 00:23:44,663] Trial 57 finished with value: 125.448828 and parameters: {'fast_ma_period': 23, 'slow_ma_period': 60, 'rsi_period': 24, 'rsi_value': 56, 'sl_perc': 5, 'tp_perc': 12}. Best is trial 42 with value: 125.448828.\n"
     ]
    },
    {
     "name": "stdout",
     "output_type": "stream",
     "text": [
      "BTCUSDT, winrate=76.92%, returns=163.09%, no. of trades = 13, buy&hold_ret = 236.575%\n",
      "fast_ma_period 21\n",
      "slow_ma_period 62\n",
      "rsi_period 16\n",
      "sl_perc 0.03\n",
      "tp_perc 0.12\n",
      "rsi_value 50\n"
     ]
    },
    {
     "name": "stderr",
     "output_type": "stream",
     "text": [
      "[I 2023-10-28 00:23:45,132] Trial 58 finished with value: 22.548645999999998 and parameters: {'fast_ma_period': 21, 'slow_ma_period': 62, 'rsi_period': 16, 'rsi_value': 58, 'sl_perc': 3, 'tp_perc': 12}. Best is trial 42 with value: 125.448828.\n"
     ]
    },
    {
     "name": "stdout",
     "output_type": "stream",
     "text": [
      "BTCUSDT, winrate=42.86%, returns=52.61%, no. of trades = 14, buy&hold_ret = 236.575%\n",
      "fast_ma_period 23\n",
      "slow_ma_period 60\n",
      "rsi_period 22\n",
      "sl_perc 0.04\n",
      "tp_perc 0.12\n",
      "rsi_value 50\n"
     ]
    },
    {
     "name": "stderr",
     "output_type": "stream",
     "text": [
      "[I 2023-10-28 00:23:45,772] Trial 59 finished with value: 91.84744099999999 and parameters: {'fast_ma_period': 23, 'slow_ma_period': 60, 'rsi_period': 22, 'rsi_value': 53, 'sl_perc': 4, 'tp_perc': 12}. Best is trial 42 with value: 125.448828.\n"
     ]
    },
    {
     "name": "stdout",
     "output_type": "stream",
     "text": [
      "BTCUSDT, winrate=69.23%, returns=132.67%, no. of trades = 13, buy&hold_ret = 236.575%\n",
      "fast_ma_period 26\n",
      "slow_ma_period 64\n",
      "rsi_period 23\n",
      "sl_perc 0.05\n",
      "tp_perc 0.12\n",
      "rsi_value 50\n"
     ]
    },
    {
     "name": "stderr",
     "output_type": "stream",
     "text": [
      "[I 2023-10-28 00:23:46,420] Trial 60 finished with value: 32.568479999999994 and parameters: {'fast_ma_period': 26, 'slow_ma_period': 64, 'rsi_period': 23, 'rsi_value': 60, 'sl_perc': 5, 'tp_perc': 12}. Best is trial 42 with value: 125.448828.\n"
     ]
    },
    {
     "name": "stdout",
     "output_type": "stream",
     "text": [
      "BTCUSDT, winrate=53.85%, returns=60.48%, no. of trades = 13, buy&hold_ret = 236.575%\n",
      "fast_ma_period 23\n",
      "slow_ma_period 58\n",
      "rsi_period 24\n",
      "sl_perc 0.05\n",
      "tp_perc 0.11\n",
      "rsi_value 50\n"
     ]
    },
    {
     "name": "stderr",
     "output_type": "stream",
     "text": [
      "[I 2023-10-28 00:23:46,898] Trial 61 finished with value: 73.24534 and parameters: {'fast_ma_period': 23, 'slow_ma_period': 58, 'rsi_period': 24, 'rsi_value': 56, 'sl_perc': 5, 'tp_perc': 11}. Best is trial 42 with value: 125.448828.\n"
     ]
    },
    {
     "name": "stdout",
     "output_type": "stream",
     "text": [
      "BTCUSDT, winrate=69.23%, returns=105.8%, no. of trades = 13, buy&hold_ret = 236.575%\n",
      "fast_ma_period 22\n",
      "slow_ma_period 59\n",
      "rsi_period 24\n",
      "sl_perc 0.05\n",
      "tp_perc 0.11\n",
      "rsi_value 50\n",
      "BTCUSDT, winrate=76.92%, returns=140.5%, no. of trades = 13, buy&hold_ret = 236.575%\n"
     ]
    },
    {
     "name": "stderr",
     "output_type": "stream",
     "text": [
      "[I 2023-10-28 00:23:47,335] Trial 62 finished with value: 108.0726 and parameters: {'fast_ma_period': 22, 'slow_ma_period': 59, 'rsi_period': 24, 'rsi_value': 56, 'sl_perc': 5, 'tp_perc': 11}. Best is trial 42 with value: 125.448828.\n",
      "[I 2023-10-28 00:23:47,793] Trial 63 finished with value: 85.23597600000001 and parameters: {'fast_ma_period': 25, 'slow_ma_period': 56, 'rsi_period': 24, 'rsi_value': 57, 'sl_perc': 5, 'tp_perc': 12}. Best is trial 42 with value: 125.448828.\n"
     ]
    },
    {
     "name": "stdout",
     "output_type": "stream",
     "text": [
      "fast_ma_period 25\n",
      "slow_ma_period 56\n",
      "rsi_period 24\n",
      "sl_perc 0.05\n",
      "tp_perc 0.12\n",
      "rsi_value 50\n",
      "BTCUSDT, winrate=69.23%, returns=123.12%, no. of trades = 13, buy&hold_ret = 236.575%\n",
      "fast_ma_period 24\n",
      "slow_ma_period 60\n",
      "rsi_period 23\n",
      "sl_perc 0.06\n",
      "tp_perc 0.12\n",
      "rsi_value 50\n"
     ]
    },
    {
     "name": "stderr",
     "output_type": "stream",
     "text": [
      "[I 2023-10-28 00:23:48,357] Trial 64 finished with value: 78.825278 and parameters: {'fast_ma_period': 24, 'slow_ma_period': 60, 'rsi_period': 23, 'rsi_value': 54, 'sl_perc': 6, 'tp_perc': 12}. Best is trial 42 with value: 125.448828.\n"
     ]
    },
    {
     "name": "stdout",
     "output_type": "stream",
     "text": [
      "BTCUSDT, winrate=69.23%, returns=113.86%, no. of trades = 13, buy&hold_ret = 236.575%\n",
      "fast_ma_period 24\n",
      "slow_ma_period 57\n",
      "rsi_period 24\n",
      "sl_perc 0.06\n",
      "tp_perc 0.11\n",
      "rsi_value 50\n"
     ]
    },
    {
     "name": "stderr",
     "output_type": "stream",
     "text": [
      "[I 2023-10-28 00:23:48,858] Trial 65 finished with value: 102.28821599999999 and parameters: {'fast_ma_period': 24, 'slow_ma_period': 57, 'rsi_period': 24, 'rsi_value': 59, 'sl_perc': 6, 'tp_perc': 11}. Best is trial 42 with value: 125.448828.\n"
     ]
    },
    {
     "name": "stdout",
     "output_type": "stream",
     "text": [
      "BTCUSDT, winrate=76.92%, returns=132.98%, no. of trades = 13, buy&hold_ret = 236.575%\n",
      "fast_ma_period 25\n",
      "slow_ma_period 62\n",
      "rsi_period 22\n",
      "sl_perc 0.04\n",
      "tp_perc 0.11\n",
      "rsi_value 50\n"
     ]
    },
    {
     "name": "stderr",
     "output_type": "stream",
     "text": [
      "[I 2023-10-28 00:23:49,354] Trial 66 finished with value: 7.695846 and parameters: {'fast_ma_period': 25, 'slow_ma_period': 62, 'rsi_period': 22, 'rsi_value': 55, 'sl_perc': 4, 'tp_perc': 11}. Best is trial 42 with value: 125.448828.\n"
     ]
    },
    {
     "name": "stdout",
     "output_type": "stream",
     "text": [
      "BTCUSDT, winrate=38.46%, returns=20.01%, no. of trades = 13, buy&hold_ret = 236.575%\n",
      "fast_ma_period 23\n",
      "slow_ma_period 58\n",
      "rsi_period 23\n",
      "sl_perc 0.05\n",
      "tp_perc 0.05\n",
      "rsi_value 50\n"
     ]
    },
    {
     "name": "stderr",
     "output_type": "stream",
     "text": [
      "[I 2023-10-28 00:23:49,800] Trial 67 finished with value: 29.15268 and parameters: {'fast_ma_period': 23, 'slow_ma_period': 58, 'rsi_period': 23, 'rsi_value': 58, 'sl_perc': 5, 'tp_perc': 5}. Best is trial 42 with value: 125.448828.\n"
     ]
    },
    {
     "name": "stdout",
     "output_type": "stream",
     "text": [
      "BTCUSDT, winrate=76.92%, returns=37.9%, no. of trades = 13, buy&hold_ret = 236.575%\n",
      "fast_ma_period 22\n",
      "slow_ma_period 59\n",
      "rsi_period 22\n",
      "sl_perc 0.06\n",
      "tp_perc 0.06\n",
      "rsi_value 50\n"
     ]
    },
    {
     "name": "stderr",
     "output_type": "stream",
     "text": [
      "[I 2023-10-28 00:23:50,314] Trial 68 finished with value: 55.55303000000001 and parameters: {'fast_ma_period': 22, 'slow_ma_period': 59, 'rsi_period': 22, 'rsi_value': 57, 'sl_perc': 6, 'tp_perc': 6}. Best is trial 42 with value: 125.448828.\n"
     ]
    },
    {
     "name": "stdout",
     "output_type": "stream",
     "text": [
      "BTCUSDT, winrate=84.62%, returns=65.65%, no. of trades = 13, buy&hold_ret = 236.575%\n",
      "fast_ma_period 20\n",
      "slow_ma_period 61\n",
      "rsi_period 24\n",
      "sl_perc 0.05\n",
      "tp_perc 0.12\n",
      "rsi_value 50\n"
     ]
    },
    {
     "name": "stderr",
     "output_type": "stream",
     "text": [
      "[I 2023-10-28 00:23:50,870] Trial 69 finished with value: 66.26331300000001 and parameters: {'fast_ma_period': 20, 'slow_ma_period': 61, 'rsi_period': 24, 'rsi_value': 53, 'sl_perc': 5, 'tp_perc': 12}. Best is trial 42 with value: 125.448828.\n"
     ]
    },
    {
     "name": "stdout",
     "output_type": "stream",
     "text": [
      "BTCUSDT, winrate=66.67%, returns=99.39%, no. of trades = 12, buy&hold_ret = 236.575%\n",
      "fast_ma_period 24\n",
      "slow_ma_period 55\n",
      "rsi_period 20\n",
      "sl_perc 0.06\n",
      "tp_perc 0.12\n",
      "rsi_value 50\n"
     ]
    },
    {
     "name": "stderr",
     "output_type": "stream",
     "text": [
      "[I 2023-10-28 00:23:51,463] Trial 70 finished with value: 78.825278 and parameters: {'fast_ma_period': 24, 'slow_ma_period': 55, 'rsi_period': 20, 'rsi_value': 56, 'sl_perc': 6, 'tp_perc': 12}. Best is trial 42 with value: 125.448828.\n"
     ]
    },
    {
     "name": "stdout",
     "output_type": "stream",
     "text": [
      "BTCUSDT, winrate=69.23%, returns=113.86%, no. of trades = 13, buy&hold_ret = 236.575%\n",
      "fast_ma_period 24\n",
      "slow_ma_period 75\n",
      "rsi_period 24\n",
      "sl_perc 0.05\n",
      "tp_perc 0.11\n",
      "rsi_value 50\n",
      "BTCUSDT, winrate=63.64%, returns=67.33%, no. of trades = 11, buy&hold_ret = 236.575%\n"
     ]
    },
    {
     "name": "stderr",
     "output_type": "stream",
     "text": [
      "[I 2023-10-28 00:23:51,906] Trial 71 finished with value: 42.848811999999995 and parameters: {'fast_ma_period': 24, 'slow_ma_period': 75, 'rsi_period': 24, 'rsi_value': 57, 'sl_perc': 5, 'tp_perc': 11}. Best is trial 42 with value: 125.448828.\n",
      "[I 2023-10-28 00:23:52,282] Trial 72 finished with value: 87.645 and parameters: {'fast_ma_period': 25, 'slow_ma_period': 58, 'rsi_period': 23, 'rsi_value': 57, 'sl_perc': 5, 'tp_perc': 11}. Best is trial 42 with value: 125.448828.\n"
     ]
    },
    {
     "name": "stdout",
     "output_type": "stream",
     "text": [
      "fast_ma_period 25\n",
      "slow_ma_period 58\n",
      "rsi_period 23\n",
      "sl_perc 0.05\n",
      "tp_perc 0.11\n",
      "rsi_value 50\n",
      "BTCUSDT, winrate=75.0%, returns=116.86%, no. of trades = 12, buy&hold_ret = 236.575%\n"
     ]
    },
    {
     "name": "stderr",
     "output_type": "stream",
     "text": [
      "[I 2023-10-28 00:23:52,679] Trial 73 finished with value: 92.050164 and parameters: {'fast_ma_period': 23, 'slow_ma_period': 60, 'rsi_period': 24, 'rsi_value': 58, 'sl_perc': 5, 'tp_perc': 10}. Best is trial 42 with value: 125.448828.\n"
     ]
    },
    {
     "name": "stdout",
     "output_type": "stream",
     "text": [
      "fast_ma_period 23\n",
      "slow_ma_period 60\n",
      "rsi_period 24\n",
      "sl_perc 0.05\n",
      "tp_perc 0.1\n",
      "rsi_value 50\n",
      "BTCUSDT, winrate=76.92%, returns=119.67%, no. of trades = 13, buy&hold_ret = 236.575%\n",
      "fast_ma_period 24\n",
      "slow_ma_period 57\n",
      "rsi_period 24\n",
      "sl_perc 0.04\n",
      "tp_perc 0.11\n",
      "rsi_value 50\n",
      "BTCUSDT, winrate=76.92%, returns=148.18%, no. of trades = 13, buy&hold_ret = 236.575%\n"
     ]
    },
    {
     "name": "stderr",
     "output_type": "stream",
     "text": [
      "[I 2023-10-28 00:23:53,106] Trial 74 finished with value: 113.980056 and parameters: {'fast_ma_period': 24, 'slow_ma_period': 57, 'rsi_period': 24, 'rsi_value': 55, 'sl_perc': 4, 'tp_perc': 11}. Best is trial 42 with value: 125.448828.\n",
      "[I 2023-10-28 00:23:53,438] Trial 75 finished with value: 13.857705 and parameters: {'fast_ma_period': 30, 'slow_ma_period': 57, 'rsi_period': 23, 'rsi_value': 55, 'sl_perc': 4, 'tp_perc': 11}. Best is trial 42 with value: 125.448828.\n"
     ]
    },
    {
     "name": "stdout",
     "output_type": "stream",
     "text": [
      "fast_ma_period 30\n",
      "slow_ma_period 57\n",
      "rsi_period 23\n",
      "sl_perc 0.04\n",
      "tp_perc 0.11\n",
      "rsi_value 50\n",
      "BTCUSDT, winrate=45.45%, returns=30.49%, no. of trades = 11, buy&hold_ret = 236.575%\n",
      "fast_ma_period 26\n",
      "slow_ma_period 64\n",
      "rsi_period 23\n",
      "sl_perc 0.03\n",
      "tp_perc 0.1\n",
      "rsi_value 50\n"
     ]
    },
    {
     "name": "stderr",
     "output_type": "stream",
     "text": [
      "[I 2023-10-28 00:23:54,118] Trial 76 finished with value: 9.468852 and parameters: {'fast_ma_period': 26, 'slow_ma_period': 64, 'rsi_period': 23, 'rsi_value': 56, 'sl_perc': 3, 'tp_perc': 10}. Best is trial 42 with value: 125.448828.\n"
     ]
    },
    {
     "name": "stdout",
     "output_type": "stream",
     "text": [
      "BTCUSDT, winrate=38.46%, returns=24.62%, no. of trades = 13, buy&hold_ret = 236.575%\n",
      "fast_ma_period 17\n",
      "slow_ma_period 72\n",
      "rsi_period 24\n",
      "sl_perc 0.04\n",
      "tp_perc 0.12\n",
      "rsi_value 50\n"
     ]
    },
    {
     "name": "stderr",
     "output_type": "stream",
     "text": [
      "[I 2023-10-28 00:23:54,423] Trial 77 finished with value: 12.867696 and parameters: {'fast_ma_period': 17, 'slow_ma_period': 72, 'rsi_period': 24, 'rsi_value': 52, 'sl_perc': 4, 'tp_perc': 12}. Best is trial 42 with value: 125.448828.\n"
     ]
    },
    {
     "name": "stdout",
     "output_type": "stream",
     "text": [
      "BTCUSDT, winrate=41.67%, returns=30.88%, no. of trades = 12, buy&hold_ret = 236.575%\n",
      "fast_ma_period 21\n",
      "slow_ma_period 62\n",
      "rsi_period 22\n",
      "sl_perc 0.09\n",
      "tp_perc 0.12\n",
      "rsi_value 50\n"
     ]
    },
    {
     "name": "stderr",
     "output_type": "stream",
     "text": [
      "[I 2023-10-28 00:23:54,831] Trial 78 finished with value: 100.91904 and parameters: {'fast_ma_period': 21, 'slow_ma_period': 62, 'rsi_period': 22, 'rsi_value': 54, 'sl_perc': 9, 'tp_perc': 12}. Best is trial 42 with value: 125.448828.\n"
     ]
    },
    {
     "name": "stdout",
     "output_type": "stream",
     "text": [
      "BTCUSDT, winrate=76.92%, returns=131.2%, no. of trades = 13, buy&hold_ret = 236.575%\n",
      "fast_ma_period 22\n",
      "slow_ma_period 56\n",
      "rsi_period 23\n",
      "sl_perc 0.07\n",
      "tp_perc 0.11\n",
      "rsi_value 50\n"
     ]
    },
    {
     "name": "stderr",
     "output_type": "stream",
     "text": [
      "[I 2023-10-28 00:23:55,148] Trial 79 finished with value: 96.619212 and parameters: {'fast_ma_period': 22, 'slow_ma_period': 56, 'rsi_period': 23, 'rsi_value': 51, 'sl_perc': 7, 'tp_perc': 11}. Best is trial 42 with value: 125.448828.\n"
     ]
    },
    {
     "name": "stdout",
     "output_type": "stream",
     "text": [
      "BTCUSDT, winrate=76.92%, returns=125.61%, no. of trades = 13, buy&hold_ret = 236.575%\n",
      "fast_ma_period 16\n",
      "slow_ma_period 59\n",
      "rsi_period 12\n",
      "sl_perc 0.03\n",
      "tp_perc 0.1\n",
      "rsi_value 50\n"
     ]
    },
    {
     "name": "stderr",
     "output_type": "stream",
     "text": [
      "[I 2023-10-28 00:23:55,613] Trial 80 finished with value: 7.4098250000000005 and parameters: {'fast_ma_period': 16, 'slow_ma_period': 59, 'rsi_period': 12, 'rsi_value': 49, 'sl_perc': 3, 'tp_perc': 10}. Best is trial 42 with value: 125.448828.\n"
     ]
    },
    {
     "name": "stdout",
     "output_type": "stream",
     "text": [
      "BTCUSDT, winrate=35.71%, returns=20.75%, no. of trades = 14, buy&hold_ret = 236.575%\n",
      "fast_ma_period 24\n",
      "slow_ma_period 58\n",
      "rsi_period 24\n",
      "sl_perc 0.05\n",
      "tp_perc 0.11\n",
      "rsi_value 50\n"
     ]
    },
    {
     "name": "stderr",
     "output_type": "stream",
     "text": [
      "[I 2023-10-28 00:23:55,925] Trial 81 finished with value: 108.0726 and parameters: {'fast_ma_period': 24, 'slow_ma_period': 58, 'rsi_period': 24, 'rsi_value': 57, 'sl_perc': 5, 'tp_perc': 11}. Best is trial 42 with value: 125.448828.\n"
     ]
    },
    {
     "name": "stdout",
     "output_type": "stream",
     "text": [
      "BTCUSDT, winrate=76.92%, returns=140.5%, no. of trades = 13, buy&hold_ret = 236.575%\n",
      "fast_ma_period 23\n",
      "slow_ma_period 60\n",
      "rsi_period 24\n",
      "sl_perc 0.04\n",
      "tp_perc 0.11\n",
      "rsi_value 50\n"
     ]
    },
    {
     "name": "stderr",
     "output_type": "stream",
     "text": [
      "[I 2023-10-28 00:23:56,373] Trial 82 finished with value: 79.344503 and parameters: {'fast_ma_period': 23, 'slow_ma_period': 60, 'rsi_period': 24, 'rsi_value': 57, 'sl_perc': 4, 'tp_perc': 11}. Best is trial 42 with value: 125.448828.\n"
     ]
    },
    {
     "name": "stdout",
     "output_type": "stream",
     "text": [
      "BTCUSDT, winrate=69.23%, returns=114.61%, no. of trades = 13, buy&hold_ret = 236.575%\n",
      "fast_ma_period 25\n",
      "slow_ma_period 57\n",
      "rsi_period 24\n",
      "sl_perc 0.05\n",
      "tp_perc 0.12\n",
      "rsi_value 50\n"
     ]
    },
    {
     "name": "stderr",
     "output_type": "stream",
     "text": [
      "[I 2023-10-28 00:23:56,714] Trial 83 finished with value: 66.26331300000001 and parameters: {'fast_ma_period': 25, 'slow_ma_period': 57, 'rsi_period': 24, 'rsi_value': 56, 'sl_perc': 5, 'tp_perc': 12}. Best is trial 42 with value: 125.448828.\n"
     ]
    },
    {
     "name": "stdout",
     "output_type": "stream",
     "text": [
      "BTCUSDT, winrate=66.67%, returns=99.39%, no. of trades = 12, buy&hold_ret = 236.575%\n",
      "fast_ma_period 24\n",
      "slow_ma_period 61\n",
      "rsi_period 23\n",
      "sl_perc 0.06\n",
      "tp_perc 0.11\n",
      "rsi_value 50\n"
     ]
    },
    {
     "name": "stderr",
     "output_type": "stream",
     "text": [
      "[I 2023-10-28 00:23:57,169] Trial 84 finished with value: 67.333098 and parameters: {'fast_ma_period': 24, 'slow_ma_period': 61, 'rsi_period': 23, 'rsi_value': 59, 'sl_perc': 6, 'tp_perc': 11}. Best is trial 42 with value: 125.448828.\n"
     ]
    },
    {
     "name": "stdout",
     "output_type": "stream",
     "text": [
      "BTCUSDT, winrate=69.23%, returns=97.26%, no. of trades = 13, buy&hold_ret = 236.575%\n",
      "fast_ma_period 23\n",
      "slow_ma_period 58\n",
      "rsi_period 24\n",
      "sl_perc 0.05\n",
      "tp_perc 0.11\n",
      "rsi_value 50\n"
     ]
    },
    {
     "name": "stderr",
     "output_type": "stream",
     "text": [
      "[I 2023-10-28 00:23:57,619] Trial 85 finished with value: 73.24534 and parameters: {'fast_ma_period': 23, 'slow_ma_period': 58, 'rsi_period': 24, 'rsi_value': 55, 'sl_perc': 5, 'tp_perc': 11}. Best is trial 42 with value: 125.448828.\n"
     ]
    },
    {
     "name": "stdout",
     "output_type": "stream",
     "text": [
      "BTCUSDT, winrate=69.23%, returns=105.8%, no. of trades = 13, buy&hold_ret = 236.575%\n",
      "fast_ma_period 24\n",
      "slow_ma_period 59\n",
      "rsi_period 23\n",
      "sl_perc 0.06\n",
      "tp_perc 0.12\n",
      "rsi_value 50\n",
      "BTCUSDT, winrate=81.82%, returns=142.55%, no. of trades = 11, buy&hold_ret = 236.575%\n"
     ]
    },
    {
     "name": "stderr",
     "output_type": "stream",
     "text": [
      "[I 2023-10-28 00:23:58,033] Trial 86 finished with value: 116.63441 and parameters: {'fast_ma_period': 24, 'slow_ma_period': 59, 'rsi_period': 23, 'rsi_value': 50, 'sl_perc': 6, 'tp_perc': 12}. Best is trial 42 with value: 125.448828.\n"
     ]
    },
    {
     "name": "stdout",
     "output_type": "stream",
     "text": [
      "fast_ma_period 25\n",
      "slow_ma_period 63\n",
      "rsi_period 22\n",
      "sl_perc 0.06\n",
      "tp_perc 0.12\n",
      "rsi_value 50\n"
     ]
    },
    {
     "name": "stderr",
     "output_type": "stream",
     "text": [
      "[I 2023-10-28 00:23:58,657] Trial 87 finished with value: 27.242715 and parameters: {'fast_ma_period': 25, 'slow_ma_period': 63, 'rsi_period': 22, 'rsi_value': 48, 'sl_perc': 6, 'tp_perc': 12}. Best is trial 42 with value: 125.448828.\n"
     ]
    },
    {
     "name": "stdout",
     "output_type": "stream",
     "text": [
      "BTCUSDT, winrate=53.85%, returns=50.59%, no. of trades = 13, buy&hold_ret = 236.575%\n",
      "fast_ma_period 20\n",
      "slow_ma_period 56\n",
      "rsi_period 21\n",
      "sl_perc 0.07\n",
      "tp_perc 0.12\n",
      "rsi_value 50\n"
     ]
    },
    {
     "name": "stderr",
     "output_type": "stream",
     "text": [
      "[I 2023-10-28 00:23:59,156] Trial 88 finished with value: 33.158342000000005 and parameters: {'fast_ma_period': 20, 'slow_ma_period': 56, 'rsi_period': 21, 'rsi_value': 47, 'sl_perc': 7, 'tp_perc': 12}. Best is trial 42 with value: 125.448828.\n"
     ]
    },
    {
     "name": "stdout",
     "output_type": "stream",
     "text": [
      "BTCUSDT, winrate=57.14%, returns=58.03%, no. of trades = 14, buy&hold_ret = 236.575%\n",
      "fast_ma_period 26\n",
      "slow_ma_period 59\n",
      "rsi_period 23\n",
      "sl_perc 0.06\n",
      "tp_perc 0.12\n",
      "rsi_value 50\n"
     ]
    },
    {
     "name": "stderr",
     "output_type": "stream",
     "text": [
      "[I 2023-10-28 00:23:59,781] Trial 89 finished with value: 48.89968399999999 and parameters: {'fast_ma_period': 26, 'slow_ma_period': 59, 'rsi_period': 23, 'rsi_value': 50, 'sl_perc': 6, 'tp_perc': 12}. Best is trial 42 with value: 125.448828.\n"
     ]
    },
    {
     "name": "stdout",
     "output_type": "stream",
     "text": [
      "BTCUSDT, winrate=61.54%, returns=79.46%, no. of trades = 13, buy&hold_ret = 236.575%\n",
      "fast_ma_period 22\n",
      "slow_ma_period 61\n",
      "rsi_period 22\n",
      "sl_perc 0.08\n",
      "tp_perc 0.12\n",
      "rsi_value 50\n",
      "BTCUSDT, winrate=71.43%, returns=119.56%, no. of trades = 14, buy&hold_ret = 236.575%\n"
     ]
    },
    {
     "name": "stderr",
     "output_type": "stream",
     "text": [
      "[I 2023-10-28 00:24:00,225] Trial 90 finished with value: 85.40170800000001 and parameters: {'fast_ma_period': 22, 'slow_ma_period': 61, 'rsi_period': 22, 'rsi_value': 47, 'sl_perc': 8, 'tp_perc': 12}. Best is trial 42 with value: 125.448828.\n",
      "[I 2023-10-28 00:24:00,567] Trial 91 finished with value: 46.838094 and parameters: {'fast_ma_period': 25, 'slow_ma_period': 60, 'rsi_period': 23, 'rsi_value': 58, 'sl_perc': 5, 'tp_perc': 11}. Best is trial 42 with value: 125.448828.\n"
     ]
    },
    {
     "name": "stdout",
     "output_type": "stream",
     "text": [
      "fast_ma_period 25\n",
      "slow_ma_period 60\n",
      "rsi_period 23\n",
      "sl_perc 0.05\n",
      "tp_perc 0.11\n",
      "rsi_value 50\n",
      "BTCUSDT, winrate=61.54%, returns=76.11%, no. of trades = 13, buy&hold_ret = 236.575%\n",
      "fast_ma_period 24\n",
      "slow_ma_period 50\n",
      "rsi_period 24\n",
      "sl_perc 0.05\n",
      "tp_perc 0.12\n",
      "rsi_value 50\n",
      "BTCUSDT, winrate=46.15%, returns=36.1%, no. of trades = 13, buy&hold_ret = 236.575%\n"
     ]
    },
    {
     "name": "stderr",
     "output_type": "stream",
     "text": [
      "[I 2023-10-28 00:24:00,972] Trial 92 finished with value: 16.660149999999998 and parameters: {'fast_ma_period': 24, 'slow_ma_period': 50, 'rsi_period': 24, 'rsi_value': 57, 'sl_perc': 5, 'tp_perc': 12}. Best is trial 42 with value: 125.448828.\n",
      "[I 2023-10-28 00:24:01,280] Trial 93 finished with value: 125.448828 and parameters: {'fast_ma_period': 24, 'slow_ma_period': 57, 'rsi_period': 24, 'rsi_value': 56, 'sl_perc': 5, 'tp_perc': 12}. Best is trial 42 with value: 125.448828.\n"
     ]
    },
    {
     "name": "stdout",
     "output_type": "stream",
     "text": [
      "fast_ma_period 24\n",
      "slow_ma_period 57\n",
      "rsi_period 24\n",
      "sl_perc 0.05\n",
      "tp_perc 0.12\n",
      "rsi_value 50\n",
      "BTCUSDT, winrate=76.92%, returns=163.09%, no. of trades = 13, buy&hold_ret = 236.575%\n",
      "fast_ma_period 23\n",
      "slow_ma_period 54\n",
      "rsi_period 15\n",
      "sl_perc 0.04\n",
      "tp_perc 0.12\n",
      "rsi_value 50\n",
      "BTCUSDT, winrate=42.86%, returns=40.45%, no. of trades = 14, buy&hold_ret = 236.575%\n"
     ]
    },
    {
     "name": "stderr",
     "output_type": "stream",
     "text": [
      "[I 2023-10-28 00:24:01,700] Trial 94 finished with value: 17.33687 and parameters: {'fast_ma_period': 23, 'slow_ma_period': 54, 'rsi_period': 15, 'rsi_value': 56, 'sl_perc': 4, 'tp_perc': 12}. Best is trial 42 with value: 125.448828.\n",
      "[I 2023-10-28 00:24:02,053] Trial 95 finished with value: 20.705 and parameters: {'fast_ma_period': 18, 'slow_ma_period': 57, 'rsi_period': 23, 'rsi_value': 55, 'sl_perc': 6, 'tp_perc': 12}. Best is trial 42 with value: 125.448828.\n"
     ]
    },
    {
     "name": "stdout",
     "output_type": "stream",
     "text": [
      "fast_ma_period 18\n",
      "slow_ma_period 57\n",
      "rsi_period 23\n",
      "sl_perc 0.06\n",
      "tp_perc 0.12\n",
      "rsi_value 50\n",
      "BTCUSDT, winrate=50.0%, returns=41.41%, no. of trades = 14, buy&hold_ret = 236.575%\n"
     ]
    },
    {
     "name": "stderr",
     "output_type": "stream",
     "text": [
      "[I 2023-10-28 00:24:02,441] Trial 96 finished with value: 120.88086799999999 and parameters: {'fast_ma_period': 24, 'slow_ma_period': 59, 'rsi_period': 24, 'rsi_value': 56, 'sl_perc': 5, 'tp_perc': 12}. Best is trial 42 with value: 125.448828.\n"
     ]
    },
    {
     "name": "stdout",
     "output_type": "stream",
     "text": [
      "fast_ma_period 24\n",
      "slow_ma_period 59\n",
      "rsi_period 24\n",
      "sl_perc 0.05\n",
      "tp_perc 0.12\n",
      "rsi_value 50\n",
      "BTCUSDT, winrate=81.82%, returns=147.74%, no. of trades = 11, buy&hold_ret = 236.575%\n"
     ]
    },
    {
     "name": "stderr",
     "output_type": "stream",
     "text": [
      "[I 2023-10-28 00:24:02,817] Trial 97 finished with value: 125.448828 and parameters: {'fast_ma_period': 23, 'slow_ma_period': 59, 'rsi_period': 23, 'rsi_value': 58, 'sl_perc': 5, 'tp_perc': 12}. Best is trial 42 with value: 125.448828.\n"
     ]
    },
    {
     "name": "stdout",
     "output_type": "stream",
     "text": [
      "fast_ma_period 23\n",
      "slow_ma_period 59\n",
      "rsi_period 23\n",
      "sl_perc 0.05\n",
      "tp_perc 0.12\n",
      "rsi_value 50\n",
      "BTCUSDT, winrate=76.92%, returns=163.09%, no. of trades = 13, buy&hold_ret = 236.575%\n"
     ]
    },
    {
     "name": "stderr",
     "output_type": "stream",
     "text": [
      "[I 2023-10-28 00:24:03,236] Trial 98 finished with value: 125.448828 and parameters: {'fast_ma_period': 23, 'slow_ma_period': 59, 'rsi_period': 23, 'rsi_value': 58, 'sl_perc': 5, 'tp_perc': 12}. Best is trial 42 with value: 125.448828.\n"
     ]
    },
    {
     "name": "stdout",
     "output_type": "stream",
     "text": [
      "fast_ma_period 23\n",
      "slow_ma_period 59\n",
      "rsi_period 23\n",
      "sl_perc 0.05\n",
      "tp_perc 0.12\n",
      "rsi_value 50\n",
      "BTCUSDT, winrate=76.92%, returns=163.09%, no. of trades = 13, buy&hold_ret = 236.575%\n",
      "fast_ma_period 22\n",
      "slow_ma_period 59\n",
      "rsi_period 23\n",
      "sl_perc 0.05\n",
      "tp_perc 0.12\n",
      "rsi_value 50\n",
      "BTCUSDT, winrate=76.92%, returns=163.09%, no. of trades = 13, buy&hold_ret = 236.575%\n"
     ]
    },
    {
     "name": "stderr",
     "output_type": "stream",
     "text": [
      "[I 2023-10-28 00:24:03,703] Trial 99 finished with value: 125.448828 and parameters: {'fast_ma_period': 22, 'slow_ma_period': 59, 'rsi_period': 23, 'rsi_value': 60, 'sl_perc': 5, 'tp_perc': 12}. Best is trial 42 with value: 125.448828.\n"
     ]
    },
    {
     "name": "stdout",
     "output_type": "stream",
     "text": [
      "Best Parameters: {'fast_ma_period': 22, 'slow_ma_period': 59, 'rsi_period': 23, 'rsi_value': 57, 'sl_perc': 5, 'tp_perc': 12}\n",
      "Best Score: 125.448828\n"
     ]
    }
   ],
   "source": [
    "import optuna # !pip install optuna\n",
    "\n",
    "# streamlit inputs should be mult,HL and risk upper and lower values also number of trials (default=100)\n",
    "\n",
    "def objective(trial):\n",
    "    fast_ma_period = trial.suggest_int(\"fast_ma_period\", 15, 30)\n",
    "    slow_ma_period = trial.suggest_int(\"slow_ma_period\", 50, 75)\n",
    "    rsi_period = trial.suggest_int(\"rsi_period\", 11, 24)\n",
    "    rsi_value = trial.suggest_int(\"rsi_value\", 45, 60)\n",
    "    sl_perc = trial.suggest_int(\"sl_perc\", 3, 9)\n",
    "    tp_perc = trial.suggest_int(\"tp_perc\", 5, 12)\n",
    "    \n",
    "    # Run your strategy with the trial parameters and calculate a score\n",
    "    x, y, score = backtest(df, fast_ma_period, slow_ma_period, rsi_period, sl_perc=sl_perc*0.01, tp_perc=tp_perc*0.01)\n",
    "    return score\n",
    "\n",
    "# Create an Optuna study and run optimization\n",
    "study = optuna.create_study(direction=\"maximize\")  # You can also use \"minimize\" depending on your objective\n",
    "study.optimize(objective, n_trials=100)\n",
    "\n",
    "# Retrieve the best parameters and score\n",
    "best_params = study.best_params\n",
    "best_score = study.best_value\n",
    "\n",
    "print(\"Best Parameters:\", best_params)\n",
    "print(\"Best Score:\", best_score)\n"
   ]
  }
 ],
 "metadata": {
  "colab": {
   "provenance": []
  },
  "kernelspec": {
   "display_name": "Python 3 (ipykernel)",
   "language": "python",
   "name": "python3"
  },
  "language_info": {
   "codemirror_mode": {
    "name": "ipython",
    "version": 3
   },
   "file_extension": ".py",
   "mimetype": "text/x-python",
   "name": "python",
   "nbconvert_exporter": "python",
   "pygments_lexer": "ipython3",
   "version": "3.11.4"
  }
 },
 "nbformat": 4,
 "nbformat_minor": 5
}
